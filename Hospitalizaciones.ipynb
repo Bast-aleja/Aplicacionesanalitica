{
  "nbformat": 4,
  "nbformat_minor": 0,
  "metadata": {
    "colab": {
      "provenance": [],
      "include_colab_link": true
    },
    "kernelspec": {
      "name": "python3",
      "display_name": "Python 3"
    },
    "language_info": {
      "name": "python"
    }
  },
  "cells": [
    {
      "cell_type": "markdown",
      "metadata": {
        "id": "view-in-github",
        "colab_type": "text"
      },
      "source": [
        "<a href=\"https://colab.research.google.com/github/Bast-aleja/Aplicacionesanalitica/blob/main/Hospitalizaciones.ipynb\" target=\"_parent\"><img src=\"https://colab.research.google.com/assets/colab-badge.svg\" alt=\"Open In Colab\"/></a>"
      ]
    },
    {
      "cell_type": "code",
      "execution_count": 1,
      "metadata": {
        "id": "DAcZxWJCsdaR"
      },
      "outputs": [],
      "source": [
        "##importar paquetes\n",
        "import pandas as pd\n",
        "import numpy as np\n",
        "import random"
      ]
    },
    {
      "cell_type": "code",
      "source": [
        "#importar datos \n",
        "from google.colab import drive\n",
        "drive.mount('/content/drive')"
      ],
      "metadata": {
        "id": "Y6FyadkVsis5",
        "colab": {
          "base_uri": "https://localhost:8080/"
        },
        "outputId": "5a973b30-332d-4337-ee84-19a1a8e953ae"
      },
      "execution_count": 2,
      "outputs": [
        {
          "output_type": "stream",
          "name": "stdout",
          "text": [
            "Mounted at /content/drive\n"
          ]
        }
      ]
    },
    {
      "cell_type": "code",
      "source": [
        "# cargar bases\n",
        "cronicos= pd.read_csv('/content/drive/MyDrive/ANALITICA3/RETO_df_cronicos.csv', sep=\",\")\n",
        "egresos= pd.read_csv('/content/drive/MyDrive/ANALITICA3/RETO_df_egresos.csv', sep=\",\")\n",
        "usuarios= pd.read_csv('/content/drive/MyDrive/ANALITICA3/RETO_df_usuarios.csv', sep=\",\")"
      ],
      "metadata": {
        "id": "jSSJyLALskew",
        "colab": {
          "base_uri": "https://localhost:8080/"
        },
        "outputId": "a13a8b7e-6ba2-4e27-a811-1aead1aea637"
      },
      "execution_count": null,
      "outputs": [
        {
          "output_type": "stream",
          "name": "stderr",
          "text": [
            "/usr/local/lib/python3.7/dist-packages/IPython/core/interactiveshell.py:3326: DtypeWarning: Columns (34,36,39,40,50,52,55,56,58,62,64,65,66,75,107,108,111,122,123,124,125,126,127,128,129,130,131,132,133,134,135,136,137,138,139,140,141,142,143,144,145,146,147,148,149,150,151,152,153,154,155,156,157,158,159,160,161,162,163,164,165,166,167,168,169,170,171,172,173,174,175,176,177,178,179,180,181,182,183,184,185,186,187,188,189,190,191,192,193,194,195,196,197,198,199,200,201,202,203,204,205,206,207,208,209,210,211,212,213,214,215,216,217,218,219,220,221,222,223,224,225,226,227,228,229,230,231,232,233,234,235,236,237,238,239,240,241,242,243,244,245,246,247,248,249,250,251,252,253,254,255,256,257,258,259,260,261,262,263,264,265,266,267,268,269,270,271,272,273,274,275,276,277,278,279,280,281,282,283,284,285,286,287,288,289) have mixed types.Specify dtype option on import or set low_memory=False.\n",
            "  exec(code_obj, self.user_global_ns, self.user_ns)\n",
            "/usr/local/lib/python3.7/dist-packages/IPython/core/interactiveshell.py:3326: DtypeWarning: Columns (4,6,7,9,10,11,12) have mixed types.Specify dtype option on import or set low_memory=False.\n",
            "  exec(code_obj, self.user_global_ns, self.user_ns)\n"
          ]
        }
      ]
    },
    {
      "cell_type": "code",
      "source": [
        "cronicos.info()"
      ],
      "metadata": {
        "id": "OPGokBMQsmn_",
        "colab": {
          "base_uri": "https://localhost:8080/"
        },
        "outputId": "159ba46a-2299-412b-9c3d-3d216df2d5a9"
      },
      "execution_count": null,
      "outputs": [
        {
          "output_type": "stream",
          "name": "stdout",
          "text": [
            "<class 'pandas.core.frame.DataFrame'>\n",
            "RangeIndex: 38736 entries, 0 to 38735\n",
            "Columns: 290 entries, YEAR to NombreDiagnostico83\n",
            "dtypes: float64(39), int64(10), object(241)\n",
            "memory usage: 85.7+ MB\n"
          ]
        }
      ]
    },
    {
      "cell_type": "code",
      "source": [
        "egresos.info()"
      ],
      "metadata": {
        "id": "CpzkKkcPswS-",
        "colab": {
          "base_uri": "https://localhost:8080/"
        },
        "outputId": "0ded05f3-29ee-44f7-899d-5965638af303"
      },
      "execution_count": null,
      "outputs": [
        {
          "output_type": "stream",
          "name": "stdout",
          "text": [
            "<class 'pandas.core.frame.DataFrame'>\n",
            "RangeIndex: 6376 entries, 0 to 6375\n",
            "Data columns (total 66 columns):\n",
            " #   Column                             Non-Null Count  Dtype  \n",
            "---  ------                             --------------  -----  \n",
            " 0   YEAR                               6376 non-null   int64  \n",
            " 1   MES                                6376 non-null   object \n",
            " 2   NRO ATENCION                       6376 non-null   int64  \n",
            " 3   NRO INGRESO                        6376 non-null   int64  \n",
            " 4   SERVICIO HABILITADO COD            6376 non-null   float64\n",
            " 5   SERVICIO HABILITADO                6376 non-null   object \n",
            " 6   TIPO IDENTIFICACION                6376 non-null   object \n",
            " 7   NRODOC                             6376 non-null   int64  \n",
            " 8   FECHA NACIMIENTO                   6376 non-null   object \n",
            " 9   REGIMEN AFILIACION                 6376 non-null   object \n",
            " 10  EPS VALIDADA                       4103 non-null   object \n",
            " 11  MODALIDAD CONTRATO                 6376 non-null   object \n",
            " 12  FUENTE FINANCIACION1               6376 non-null   object \n",
            " 13  FUENTE FINANCIACION2               6376 non-null   object \n",
            " 14  SERVICIO ADMITE                    6376 non-null   object \n",
            " 15  BLOQUE ANTERIOR                    6376 non-null   object \n",
            " 16  PISO ANTERIOR                      6376 non-null   object \n",
            " 17  SERVICIO ANTERIOR                  6376 non-null   object \n",
            " 18  NRO CAMA ANTERIOR                  6376 non-null   object \n",
            " 19  VIA INGRESO                        6376 non-null   object \n",
            " 20  BLOQUE                             6376 non-null   object \n",
            " 21  UNIDAD ESTRATEGICA                 6376 non-null   object \n",
            " 22  PISO                               6376 non-null   object \n",
            " 23  NRO CAMA                           6376 non-null   object \n",
            " 24  SERVICIO EGRESO                    6376 non-null   object \n",
            " 25  TIPO EGRESO                        6376 non-null   object \n",
            " 26  FECHA INGRESO CLINICA              4105 non-null   object \n",
            " 27  FECHA INGRESO SERVICIO             4104 non-null   object \n",
            " 28  FECHA POSIBLE ALTA                 153 non-null    object \n",
            " 29  FECHA ALTA MEDICA                  6376 non-null   object \n",
            " 30  FECHA RECAUDO                      1599 non-null   object \n",
            " 31  FECHA CAMILLERO                    1836 non-null   object \n",
            " 32  FECHA ENFERMERIA                   1453 non-null   object \n",
            " 33  FECHA FACTURACION AUDIFARMA        2080 non-null   object \n",
            " 34  FECHA FARMACIA                     2061 non-null   object \n",
            " 35  FECHA SALIDA                       6376 non-null   object \n",
            " 36  FECHA ASEO                         1981 non-null   object \n",
            " 37  DEMORA ASIGNACION CAMA             6376 non-null   object \n",
            " 38  DEMORA APLICACION MEDICAMENTO      6376 non-null   object \n",
            " 39  DEMORA SALIDA CLINICA (DIAS)       6376 non-null   float64\n",
            " 40  TRANSFUSION SANGRE                 6376 non-null   object \n",
            " 41  ANTIBIOTICO                        6376 non-null   object \n",
            " 42  ALTA MEDICA                        6376 non-null   object \n",
            " 43  POSIBLE ALTA                       6376 non-null   object \n",
            " 44  DXPRINCIPAL EGRESO COD             6376 non-null   object \n",
            " 45  DXPRINCIPAL EGRESO                 6376 non-null   object \n",
            " 46  DX RELACIONADO1 COD                6357 non-null   object \n",
            " 47  DX RELACIONADO1                    6376 non-null   object \n",
            " 48  DX RELACIONADO2 COD                6309 non-null   object \n",
            " 49  DX RELACIONADO2                    6376 non-null   object \n",
            " 50  DX RELACIONADO3 COD                6195 non-null   object \n",
            " 51  DX RELACIONADO3                    6376 non-null   object \n",
            " 52  TIPO DIAGNOSTICO PRINCIPAL         6376 non-null   object \n",
            " 53  PERTINENCIA DIAGNOSTICA            1184 non-null   object \n",
            " 54  DX PRINCIPAL EGRESO CATEGORIA COD  6304 non-null   object \n",
            " 55  DX PRINCIPAL EGRESO CATEGORIA      6376 non-null   object \n",
            " 56  DX PRINCIPAL EGRESO CAPITULO COD   6304 non-null   object \n",
            " 57  DX PRINCIPAL EGRESO CAPITULO       6376 non-null   object \n",
            " 58  CAUSA BASICA MUERTE COD            566 non-null    object \n",
            " 59  CAUSA BASICA MUERTE                6376 non-null   object \n",
            " 60  CAUSA BASICA CATEGORIA COD         564 non-null    object \n",
            " 61  CAUSA BASICA CATEGORIA             6376 non-null   object \n",
            " 62  CAUSA BASICA CAPITULO COD          564 non-null    object \n",
            " 63  CAUSA BASICA CAPITULO              6376 non-null   object \n",
            " 64  PROFESIONAL ESPECIALIDAD           6376 non-null   object \n",
            " 65  PROFESIONAL ESPECIALIDAD GRD       6376 non-null   object \n",
            "dtypes: float64(2), int64(4), object(60)\n",
            "memory usage: 3.2+ MB\n"
          ]
        }
      ]
    },
    {
      "cell_type": "code",
      "source": [
        "usuarios.info()"
      ],
      "metadata": {
        "id": "I_colPvrsxnP",
        "colab": {
          "base_uri": "https://localhost:8080/"
        },
        "outputId": "3758cc67-5155-4cf4-fbae-bd0f0cd09bde"
      },
      "execution_count": null,
      "outputs": [
        {
          "output_type": "stream",
          "name": "stdout",
          "text": [
            "<class 'pandas.core.frame.DataFrame'>\n",
            "RangeIndex: 183911 entries, 0 to 183910\n",
            "Data columns (total 16 columns):\n",
            " #   Column                         Non-Null Count   Dtype  \n",
            "---  ------                         --------------   -----  \n",
            " 0   MES                            183911 non-null  object \n",
            " 1   YEAR                           183911 non-null  int64  \n",
            " 2   NRODOC                         183911 non-null  int64  \n",
            " 3   SEXO                           183901 non-null  object \n",
            " 4   FECHA NACIMIENTO               111831 non-null  object \n",
            " 5   EDAD                           149755 non-null  float64\n",
            " 6   DEPARTAMENTO                   82284 non-null   object \n",
            " 7   MUNICIPIO                      81397 non-null   object \n",
            " 8   BARRIO                         115344 non-null  object \n",
            " 9   FECHA INICIO AL PGP            125658 non-null  object \n",
            " 10  FECHA PRIMERA CLASE FUNCIONAL  87961 non-null   object \n",
            " 11  PRIMERA CLASE FUNCIONAL        89641 non-null   object \n",
            " 12  FECHA ÚLTIMA CLASE FUNCIONAL   87985 non-null   object \n",
            " 13  ÚLTIMA CLASE FUNCIONAL         128109 non-null  object \n",
            " 14  CICLO_VITAL                    149755 non-null  object \n",
            " 15  QUINQUENIO                     149755 non-null  object \n",
            "dtypes: float64(1), int64(2), object(13)\n",
            "memory usage: 22.5+ MB\n"
          ]
        }
      ]
    },
    {
      "cell_type": "code",
      "source": [
        "#se separan las bases de datos según los años antes y despues de la pandemia\n",
        "cronicospos = cronicos[(cronicos['YEAR']> 2018)]\n",
        "cronicospre = cronicos[(cronicos['YEAR']<= 2018)]\n",
        "egresospos=egresos[(egresos['YEAR']> 2018)]\n",
        "egresospre=egresos[(egresos['YEAR']<= 2018)]\n",
        "usuariospos=usuarios[(usuarios['YEAR']> 2018)]\n",
        "usuariospre=usuarios[(usuarios['YEAR']<= 2018)]"
      ],
      "metadata": {
        "id": "6jWIaUrlufy1"
      },
      "execution_count": null,
      "outputs": []
    },
    {
      "cell_type": "markdown",
      "source": [
        "**TRATAMIENTO DE BASES DESPUÉS DE PANDEMIA**"
      ],
      "metadata": {
        "id": "DFw2h3w0x4KY"
      }
    },
    {
      "cell_type": "markdown",
      "source": [
        "BASE CRONICOSPOS"
      ],
      "metadata": {
        "id": "a_L8NqZDGPnM"
      }
    },
    {
      "cell_type": "code",
      "source": [
        "cronicospos.info()"
      ],
      "metadata": {
        "id": "p1LCYHRxxqyI",
        "colab": {
          "base_uri": "https://localhost:8080/"
        },
        "outputId": "8cffc0f0-4770-4279-d798-506ae79b16da"
      },
      "execution_count": null,
      "outputs": [
        {
          "output_type": "stream",
          "name": "stdout",
          "text": [
            "<class 'pandas.core.frame.DataFrame'>\n",
            "Int64Index: 25909 entries, 12827 to 38735\n",
            "Columns: 290 entries, YEAR to NombreDiagnostico83\n",
            "dtypes: float64(39), int64(10), object(241)\n",
            "memory usage: 57.5+ MB\n"
          ]
        }
      ]
    },
    {
      "cell_type": "code",
      "source": [
        "cronicospos.columns"
      ],
      "metadata": {
        "id": "ucptUC0KzB4Q",
        "colab": {
          "base_uri": "https://localhost:8080/"
        },
        "outputId": "cf4fea4d-fc2b-4b6a-dcac-0f6bb1d24338"
      },
      "execution_count": null,
      "outputs": [
        {
          "output_type": "execute_result",
          "data": {
            "text/plain": [
              "Index(['YEAR', 'MES', 'Fecha diligenciamiento', 'Hora', 'Atención', 'Ingreso',\n",
              "       'Tipo', 'NRODOC', 'Peso', 'Talla',\n",
              "       ...\n",
              "       'Diagnostico79', 'NombreDiagnostico79', 'Diagnostico80',\n",
              "       'NombreDiagnostico80', 'Diagnostico81', 'NombreDiagnostico81',\n",
              "       'Diagnostico82', 'NombreDiagnostico82', 'Diagnostico83',\n",
              "       'NombreDiagnostico83'],\n",
              "      dtype='object', length=290)"
            ]
          },
          "metadata": {},
          "execution_count": 66
        }
      ]
    },
    {
      "cell_type": "code",
      "source": [
        "#Se pasan todas las columnas a minusculas para ser tratadas más facil\n",
        "cronicospos.columns = cronicospos.columns.str.lower()"
      ],
      "metadata": {
        "id": "hALa1Glnydd0"
      },
      "execution_count": null,
      "outputs": []
    },
    {
      "cell_type": "code",
      "source": [
        "#Porcentaje de representación de datos nulos en la base cronicospos\n",
        "print(round(cronicospos.isnull().sum().sum()/cronicospos.size, 2)*100, \"%\")"
      ],
      "metadata": {
        "colab": {
          "base_uri": "https://localhost:8080/"
        },
        "id": "myWb7BHXz6xR",
        "outputId": "299787d7-0bd4-4fe8-cac9-9d081dd02c09"
      },
      "execution_count": null,
      "outputs": [
        {
          "output_type": "stream",
          "name": "stdout",
          "text": [
            "68.0 %\n"
          ]
        }
      ]
    },
    {
      "cell_type": "code",
      "source": [
        "#Se evalua el porcentaje de nulos por columna\n",
        "((cronicospos.isnull().sum() / len(cronicospos))*100).sort_values(ascending = False)"
      ],
      "metadata": {
        "id": "HmPwDHRj6wBc",
        "colab": {
          "base_uri": "https://localhost:8080/"
        },
        "outputId": "996c3eaa-2878-49ec-c9d5-4ec981921094"
      },
      "execution_count": null,
      "outputs": [
        {
          "output_type": "execute_result",
          "data": {
            "text/plain": [
              "otras morbilidades                        100.0\n",
              "espirometria                              100.0\n",
              "gravedad                                  100.0\n",
              "diagnóstico epoc                          100.0\n",
              "clasificación                             100.0\n",
              "                                          ...  \n",
              "tiempo en segundos (recorrer 5 metros)      0.0\n",
              "velocidad (m/s)                             0.0\n",
              "calificación velocidad                      0.0\n",
              "ambito según el médico                      0.0\n",
              "year                                        0.0\n",
              "Length: 290, dtype: float64"
            ]
          },
          "metadata": {},
          "execution_count": 69
        }
      ]
    },
    {
      "cell_type": "code",
      "source": [
        "#Se eliminan aquellas columnas en las que el porcentaje de nulos sea mayor al 60%\n",
        "lista=cronicospos.columns"
      ],
      "metadata": {
        "id": "g0d3RVoezTpQ"
      },
      "execution_count": null,
      "outputs": []
    },
    {
      "cell_type": "code",
      "source": [
        "for i in lista:\n",
        "  if (cronicospos[i].isnull().sum() / len(cronicospos))*100> 60 :\n",
        "    cronicospos=cronicospos.drop([i], axis=1)\n"
      ],
      "metadata": {
        "id": "ccYhPT4c0pT-"
      },
      "execution_count": null,
      "outputs": []
    },
    {
      "cell_type": "code",
      "source": [
        "#La base queda con 97 columnas de 290\n",
        "cronicospos.info()"
      ],
      "metadata": {
        "id": "g-YP9aUO9QB6"
      },
      "execution_count": null,
      "outputs": []
    },
    {
      "cell_type": "code",
      "source": [
        "#Variables sin nulos\n",
        "lista=cronicospos.columns\n",
        "cont=0\n",
        "for i in lista:\n",
        "  if cronicospos[i].isnull().sum()<=0:\n",
        "    print(i)\n",
        "    (\"--------------------------------------\")\n"
      ],
      "metadata": {
        "id": "HDQXtHA9IPEY",
        "colab": {
          "base_uri": "https://localhost:8080/"
        },
        "outputId": "96ca599e-19cb-433f-f6c3-d4aa84f28506"
      },
      "execution_count": null,
      "outputs": [
        {
          "output_type": "stream",
          "name": "stdout",
          "text": [
            "year\n",
            "mes\n",
            "fecha diligenciamiento\n",
            "hora\n",
            "atención\n",
            "ingreso\n",
            "tipo\n",
            "nrodoc\n",
            "peso\n",
            "talla\n",
            "imc\n",
            "clasificación imc\n",
            "perímetro muslo\n",
            "perímetro cintura\n",
            "pliegue triceps\n",
            "pliegue abdomen\n",
            "pliegue muslo\n",
            "sumatoria pliegues\n",
            "presión arterial sistólica\n",
            "presión arterial diastólica\n",
            "frecuencia cardíaca en reposo\n",
            "auto-calificacion nivel de ejercicio\n",
            "constantes\n",
            "mets -índice metabólico\n",
            "vo2 - máxima cantidad de oxígeno\n",
            "calificación (índice de fragilidad)\n",
            "tiempo en segundos (apoyo monopodal)\n",
            "calificación (apoyo monopodal)\n",
            "tiempo en segundos (recorrer 5 metros)\n",
            "velocidad (m/s)\n",
            "calificación velocidad\n",
            "ambito según el médico\n"
          ]
        }
      ]
    },
    {
      "cell_type": "code",
      "source": [
        "#Se eliminan aquellas que no aportan al modelo o que otra columna contenga el mismo dato pero en un tipo diferente\n",
        "lista= (['fecha diligenciamiento', 'hora', 'atención', 'ingreso', 'tipo', 'imc', 'perímetro muslo', 'perímetro cintura',\n",
        "       'pliegue triceps', 'pliegue abdomen', 'pliegue muslo', 'constantes', 'tiempo en segundos (apoyo monopodal)', 'tiempo en segundos (recorrer 5 metros)', 'velocidad (m/s)' ])"
      ],
      "metadata": {
        "id": "cgDTncUdIhid"
      },
      "execution_count": null,
      "outputs": []
    },
    {
      "cell_type": "code",
      "source": [
        "for i in lista:\n",
        "  cronicospos=cronicospos.drop([i], axis=1)"
      ],
      "metadata": {
        "id": "aJ7ZQFUlKCru"
      },
      "execution_count": null,
      "outputs": []
    },
    {
      "cell_type": "code",
      "source": [
        "#Variables con nulos\n",
        "lista=cronicospos.columns\n",
        "cont=0\n",
        "for i in lista:\n",
        "  if cronicospos[i].isnull().sum()>0:\n",
        "    print(i)\n",
        "    cont=cont+1\n",
        "    (\"--------------------------------------\")\n",
        "print(cont)"
      ],
      "metadata": {
        "id": "NiQeG9aT9pU_",
        "colab": {
          "base_uri": "https://localhost:8080/"
        },
        "outputId": "a2912b23-14ce-4e24-c744-5eeffd1dbba6"
      },
      "execution_count": null,
      "outputs": [
        {
          "output_type": "stream",
          "name": "stdout",
          "text": [
            "saturación de oxígeno (%)\n",
            "índice de fragilidad groningen\n",
            "test findrisc\n",
            "índice tobillo/brazo\n",
            "observaciones\n",
            "presión arterial registro medico\n",
            "diabetes mellitus\n",
            "tipo diabetes mellitus\n",
            "tiempo con el diagnóstico\n",
            "glicemia\n",
            "fecha glicemia\n",
            "hemoglobina glicada\n",
            "fecha hemoglobina glicosilada\n",
            "control diabetes\n",
            "tiene hta\n",
            "control hta\n",
            "tiene riesgo de tener hta\n",
            "tiempo con el diagnóstico1\n",
            "tiene epoc\n",
            "enfermedad coronaria (en el último año)\n",
            "insuficiencia cardíaca\n",
            "valvulopatía\n",
            "arritmia o paciente con dispositivo\n",
            "sufre de alguna enfermedad cardiovascular\n",
            "¿cuál?\n",
            "tabaquismo\n",
            "cuantos cigarrillos día\n",
            "años de consumo\n",
            "lipoproteina\n",
            "fecha ldl\n",
            "hdl\n",
            "fecha hdl\n",
            "colesterol total\n",
            "fecha colesterol total\n",
            "trigliceridos\n",
            "fecha trigliceridos\n",
            "clasificación de framinghan\n",
            "creatinina 1 consulta\n",
            "fecha creatinina1\n",
            "tasa de filtración glomerular tfg\n",
            "estadio de la enfermedad renal\n",
            "microalbuminuria\n",
            "fecha microalbuminuria\n",
            "hormona estimulante de la tiroides (tsh)\n",
            "clase funcional\n",
            "creatinina 2 consulta\n",
            "fecha creatinina2\n",
            "tasa de filtración glomerular tfg2\n",
            "meses de diferencia entre tfg\n",
            "cambio de tfg\n",
            "basciloscopia\n",
            "úlcera de pie diabético\n",
            "remisión\n",
            "diagnóstico principal\n",
            "análisis y conducta a seguir\n",
            "tiene próximo control\n",
            "fecha próximo control\n",
            "tipo control\n",
            "requiere cita de morbilidad\n",
            "diagnostico1\n",
            "nombrediagnostico1\n",
            "diagnostico2\n",
            "nombrediagnostico2\n",
            "diagnostico3\n",
            "nombrediagnostico3\n",
            "65\n"
          ]
        }
      ]
    },
    {
      "cell_type": "code",
      "source": [
        "# Se dividen estas variables con nulos en 3 grupos, las que no aportan al modelo, las que su cantidad de nulos es dificil de reemplazar, aquellas que pueden hacer parte del modelo\n",
        "# Se evalua cada columna\n",
        "cronicospos.columns\n"
      ],
      "metadata": {
        "id": "J3dI_HjeGk0g",
        "colab": {
          "base_uri": "https://localhost:8080/"
        },
        "outputId": "90d73a5c-1dc6-48e3-bd90-7d9eec23f760"
      },
      "execution_count": null,
      "outputs": [
        {
          "output_type": "execute_result",
          "data": {
            "text/plain": [
              "Index(['year', 'mes', 'nrodoc', 'peso', 'talla', 'clasificación imc',\n",
              "       'saturación de oxígeno (%)', 'sumatoria pliegues',\n",
              "       'presión arterial sistólica', 'presión arterial diastólica',\n",
              "       'frecuencia cardíaca en reposo', 'auto-calificacion nivel de ejercicio',\n",
              "       'mets -índice metabólico', 'vo2 - máxima cantidad de oxígeno',\n",
              "       'índice de fragilidad groningen', 'calificación (índice de fragilidad)',\n",
              "       'calificación (apoyo monopodal)', 'calificación velocidad',\n",
              "       'test findrisc', 'índice tobillo/brazo', 'observaciones',\n",
              "       'presión arterial registro medico', 'diabetes mellitus',\n",
              "       'tipo diabetes mellitus', 'tiempo con el diagnóstico', 'glicemia',\n",
              "       'fecha glicemia', 'hemoglobina glicada',\n",
              "       'fecha hemoglobina glicosilada', 'control diabetes', 'tiene hta',\n",
              "       'control hta', 'tiene riesgo de tener hta',\n",
              "       'tiempo con el diagnóstico1', 'tiene epoc',\n",
              "       'enfermedad coronaria (en el último año)', 'insuficiencia cardíaca',\n",
              "       'valvulopatía', 'arritmia o paciente con dispositivo',\n",
              "       'sufre de alguna enfermedad cardiovascular', '¿cuál?', 'tabaquismo',\n",
              "       'cuantos cigarrillos día', 'años de consumo', 'lipoproteina',\n",
              "       'fecha ldl', 'hdl', 'fecha hdl', 'colesterol total',\n",
              "       'fecha colesterol total', 'trigliceridos', 'fecha trigliceridos',\n",
              "       'clasificación de framinghan', 'creatinina 1 consulta',\n",
              "       'fecha creatinina1', 'tasa de filtración glomerular tfg',\n",
              "       'estadio de la enfermedad renal', 'microalbuminuria',\n",
              "       'fecha microalbuminuria', 'hormona estimulante de la tiroides (tsh)',\n",
              "       'clase funcional', 'creatinina 2 consulta', 'fecha creatinina2',\n",
              "       'tasa de filtración glomerular tfg2', 'meses de diferencia entre tfg',\n",
              "       'cambio de tfg', 'basciloscopia', 'úlcera de pie diabético', 'remisión',\n",
              "       'diagnóstico principal', 'análisis y conducta a seguir',\n",
              "       'tiene próximo control', 'fecha próximo control', 'tipo control',\n",
              "       'requiere cita de morbilidad', 'ambito según el médico', 'diagnostico1',\n",
              "       'nombrediagnostico1', 'diagnostico2', 'nombrediagnostico2',\n",
              "       'diagnostico3', 'nombrediagnostico3'],\n",
              "      dtype='object')"
            ]
          },
          "metadata": {},
          "execution_count": 77
        }
      ]
    },
    {
      "cell_type": "code",
      "source": [
        "#revisiòn de variables\n",
        "cronicospos['tiene próximo control'].unique()"
      ],
      "metadata": {
        "id": "4N29F0m0F3Ou",
        "colab": {
          "base_uri": "https://localhost:8080/"
        },
        "outputId": "247babb3-20a9-407c-bb91-aa0e81969d3f"
      },
      "execution_count": null,
      "outputs": [
        {
          "output_type": "execute_result",
          "data": {
            "text/plain": [
              "array(['Si', nan, 'No'], dtype=object)"
            ]
          },
          "metadata": {},
          "execution_count": 78
        }
      ]
    },
    {
      "cell_type": "code",
      "source": [
        "#se borran las columnas que no tengan valor agregado o que otra columna contenga el mismo dato pero en un tipo diferente\n",
        "listacr= ([ 'índice de fragilidad groningen', 'fecha glicemia', 'tiempo con el diagnóstico1', 'fecha hemoglobina glicosilada', 'tipo control',\n",
        "       'cuantos cigarrillos día', 'estadio de la enfermedad renal', 'creatinina 2 consulta', 'tiene riesgo de tener hta', \n",
        "       'tasa de filtración glomerular tfg', 'meses de diferencia entre tfg', 'cambio de tfg', 'análisis y conducta a seguir'])"
      ],
      "metadata": {
        "id": "X0KMV744FLlB"
      },
      "execution_count": null,
      "outputs": []
    },
    {
      "cell_type": "code",
      "source": [
        "for i in listacr:\n",
        "  cronicospos=cronicospos.drop([i], axis=1)"
      ],
      "metadata": {
        "id": "793Q3bLsNFOC"
      },
      "execution_count": null,
      "outputs": []
    },
    {
      "cell_type": "code",
      "source": [
        "#se borran las columnas que es dificil de reemplazar sus nulos por la cantidad o el tipo de dato que tienen\n",
        "lista2=cronicospos.columns"
      ],
      "metadata": {
        "id": "OUnZC_XVNJWw"
      },
      "execution_count": null,
      "outputs": []
    },
    {
      "cell_type": "code",
      "source": [
        "#se revisa cada variable\n",
        "for i in lista2:\n",
        "  print(i)\n",
        "  print(cronicospos[i].isnull().sum())\n",
        "  print('------------------------------------------------')"
      ],
      "metadata": {
        "id": "-8_fhPAgNVv5",
        "colab": {
          "base_uri": "https://localhost:8080/"
        },
        "outputId": "b95e555f-b696-4301-9e49-d8169273ea48"
      },
      "execution_count": null,
      "outputs": [
        {
          "output_type": "stream",
          "name": "stdout",
          "text": [
            "year\n",
            "0\n",
            "------------------------------------------------\n",
            "mes\n",
            "0\n",
            "------------------------------------------------\n",
            "nrodoc\n",
            "0\n",
            "------------------------------------------------\n",
            "peso\n",
            "0\n",
            "------------------------------------------------\n",
            "talla\n",
            "0\n",
            "------------------------------------------------\n",
            "clasificación imc\n",
            "0\n",
            "------------------------------------------------\n",
            "saturación de oxígeno (%)\n",
            "117\n",
            "------------------------------------------------\n",
            "sumatoria pliegues\n",
            "0\n",
            "------------------------------------------------\n",
            "presión arterial sistólica\n",
            "0\n",
            "------------------------------------------------\n",
            "presión arterial diastólica\n",
            "0\n",
            "------------------------------------------------\n",
            "frecuencia cardíaca en reposo\n",
            "0\n",
            "------------------------------------------------\n",
            "auto-calificacion nivel de ejercicio\n",
            "0\n",
            "------------------------------------------------\n",
            "mets -índice metabólico\n",
            "0\n",
            "------------------------------------------------\n",
            "vo2 - máxima cantidad de oxígeno\n",
            "0\n",
            "------------------------------------------------\n",
            "calificación (índice de fragilidad)\n",
            "0\n",
            "------------------------------------------------\n",
            "calificación (apoyo monopodal)\n",
            "0\n",
            "------------------------------------------------\n",
            "calificación velocidad\n",
            "0\n",
            "------------------------------------------------\n",
            "test findrisc\n",
            "12677\n",
            "------------------------------------------------\n",
            "índice tobillo/brazo\n",
            "6316\n",
            "------------------------------------------------\n",
            "observaciones\n",
            "15108\n",
            "------------------------------------------------\n",
            "presión arterial registro medico\n",
            "10004\n",
            "------------------------------------------------\n",
            "diabetes mellitus\n",
            "504\n",
            "------------------------------------------------\n",
            "tipo diabetes mellitus\n",
            "13647\n",
            "------------------------------------------------\n",
            "tiempo con el diagnóstico\n",
            "14627\n",
            "------------------------------------------------\n",
            "glicemia\n",
            "504\n",
            "------------------------------------------------\n",
            "hemoglobina glicada\n",
            "504\n",
            "------------------------------------------------\n",
            "control diabetes\n",
            "504\n",
            "------------------------------------------------\n",
            "tiene hta\n",
            "504\n",
            "------------------------------------------------\n",
            "control hta\n",
            "504\n",
            "------------------------------------------------\n",
            "tiene epoc\n",
            "504\n",
            "------------------------------------------------\n",
            "enfermedad coronaria (en el último año)\n",
            "504\n",
            "------------------------------------------------\n",
            "insuficiencia cardíaca\n",
            "504\n",
            "------------------------------------------------\n",
            "valvulopatía\n",
            "504\n",
            "------------------------------------------------\n",
            "arritmia o paciente con dispositivo\n",
            "504\n",
            "------------------------------------------------\n",
            "sufre de alguna enfermedad cardiovascular\n",
            "504\n",
            "------------------------------------------------\n",
            "¿cuál?\n",
            "14681\n",
            "------------------------------------------------\n",
            "tabaquismo\n",
            "504\n",
            "------------------------------------------------\n",
            "años de consumo\n",
            "57\n",
            "------------------------------------------------\n",
            "lipoproteina\n",
            "504\n",
            "------------------------------------------------\n",
            "fecha ldl\n",
            "11892\n",
            "------------------------------------------------\n",
            "hdl\n",
            "504\n",
            "------------------------------------------------\n",
            "fecha hdl\n",
            "1980\n",
            "------------------------------------------------\n",
            "colesterol total\n",
            "504\n",
            "------------------------------------------------\n",
            "fecha colesterol total\n",
            "2005\n",
            "------------------------------------------------\n",
            "trigliceridos\n",
            "504\n",
            "------------------------------------------------\n",
            "fecha trigliceridos\n",
            "2054\n",
            "------------------------------------------------\n",
            "clasificación de framinghan\n",
            "504\n",
            "------------------------------------------------\n",
            "creatinina 1 consulta\n",
            "504\n",
            "------------------------------------------------\n",
            "fecha creatinina1\n",
            "1521\n",
            "------------------------------------------------\n",
            "microalbuminuria\n",
            "504\n",
            "------------------------------------------------\n",
            "fecha microalbuminuria\n",
            "4572\n",
            "------------------------------------------------\n",
            "hormona estimulante de la tiroides (tsh)\n",
            "504\n",
            "------------------------------------------------\n",
            "clase funcional\n",
            "504\n",
            "------------------------------------------------\n",
            "fecha creatinina2\n",
            "9729\n",
            "------------------------------------------------\n",
            "tasa de filtración glomerular tfg2\n",
            "504\n",
            "------------------------------------------------\n",
            "basciloscopia\n",
            "7321\n",
            "------------------------------------------------\n",
            "úlcera de pie diabético\n",
            "2966\n",
            "------------------------------------------------\n",
            "remisión\n",
            "504\n",
            "------------------------------------------------\n",
            "diagnóstico principal\n",
            "505\n",
            "------------------------------------------------\n",
            "tiene próximo control\n",
            "505\n",
            "------------------------------------------------\n",
            "fecha próximo control\n",
            "1322\n",
            "------------------------------------------------\n",
            "requiere cita de morbilidad\n",
            "505\n",
            "------------------------------------------------\n",
            "ambito según el médico\n",
            "0\n",
            "------------------------------------------------\n",
            "diagnostico1\n",
            "7385\n",
            "------------------------------------------------\n",
            "nombrediagnostico1\n",
            "7385\n",
            "------------------------------------------------\n",
            "diagnostico2\n",
            "11404\n",
            "------------------------------------------------\n",
            "nombrediagnostico2\n",
            "11404\n",
            "------------------------------------------------\n",
            "diagnostico3\n",
            "14068\n",
            "------------------------------------------------\n",
            "nombrediagnostico3\n",
            "14068\n",
            "------------------------------------------------\n"
          ]
        }
      ]
    },
    {
      "cell_type": "code",
      "source": [
        "#revisión\n",
        "cronicospos['diagnostico1'].unique()"
      ],
      "metadata": {
        "id": "2D1xFJhaN4aY",
        "colab": {
          "base_uri": "https://localhost:8080/"
        },
        "outputId": "0daaa4a4-46b7-4a13-e8ce-c95337430676"
      },
      "execution_count": null,
      "outputs": [
        {
          "output_type": "execute_result",
          "data": {
            "text/plain": [
              "array([nan, 'N390', 'I671', 'I10X', 'R522', 'Z933', 'I255', 'E106',\n",
              "       'G20X', 'N189', 'M170', 'F319', 'R520', 'I698', 'E039', 'M800',\n",
              "       'J449', 'L892', 'I500', 'E119', 'K590', 'N319', 'K295', 'M809',\n",
              "       'E059', 'K291', 'K703', 'Z921', 'N183', 'I872', 'G825', 'N182',\n",
              "       'G809', 'M819', 'R32X', 'N40X', 'M060', 'J440', 'M150', 'U072',\n",
              "       'M500', 'J441', 'I509', 'I694', 'R53X', 'R104', 'F412', 'G408',\n",
              "       'G309', 'F510', 'N185', 'J459', 'G409', 'I499', 'T652', 'R568',\n",
              "       'M810', 'N422', 'E784', 'I519', 'I845', 'F700', 'G470', 'I489',\n",
              "       'N184', 'E785', 'H103', 'R51X', 'F314', 'G632', 'Y841', 'F317',\n",
              "       'I771', 'F018', 'I250', 'F21X', 'F418', 'K746', 'M159', 'A630',\n",
              "       'M45X', 'F413', 'K296', 'H902', 'I490', 'Z111', 'G459', 'I482',\n",
              "       'Z822', 'N418', 'M545', 'Z123', 'E782', 'Z720', 'M179', 'R54X',\n",
              "       'E108', 'F311', 'M751', 'I828', 'Z950', 'R521', 'J304', 'G700',\n",
              "       'F411', 'H259', 'F721', 'M792', 'I219', 'I209', 'N484', 'Z954',\n",
              "       'I679', 'C509', 'N939', 'S065', 'I714', 'I739', 'L88X', 'R001',\n",
              "       'K297', 'G629', 'F03X', 'S008', 'F023', 'E669', 'N180', 'L023',\n",
              "       'E660', 'R15X', 'Q603', 'L299', 'Z940', 'I829', 'Q850', 'G433',\n",
              "       'H408', 'G911', 'L301', 'N181', 'E109', 'F191', 'M353', 'M328',\n",
              "       'L298', 'S241', 'M350', 'I110', 'G474', 'G402', 'I702', 'K573',\n",
              "       'K264', 'G473', 'N393', 'Z966', 'R55X', 'G250', 'K579', 'M321',\n",
              "       'K429', 'Z124', 'M808', 'M658', 'I890', 'M629', 'M059', 'R13X',\n",
              "       'E559', 'F701', 'L570', 'N429', 'R42X', 'I778', 'R268', 'M869',\n",
              "       'M158', 'C819', 'I471', 'F322', 'F009', 'I64X', 'G308', 'M214',\n",
              "       'K294', 'H409', 'Z982', 'I258', 'H919', 'R619', 'N870', 'I269',\n",
              "       'M348', 'Z968', 'Z974', 'N142', 'L80X', 'F323', 'R490', 'N428',\n",
              "       'I259', 'D688', 'J041', 'L239', 'L891', 'M069', 'I678', 'I481',\n",
              "       'S202', 'G718', 'M866', 'I709', 'M940', 'S881', 'M542', 'J448',\n",
              "       'Z630', 'I420', 'R160', 'G821', 'D329', 'K589', 'M791', 'E118',\n",
              "       'J410', 'Q211', 'Z600', 'Z033', 'G479', 'H931', 'L405', 'M183',\n",
              "       'N209', 'Q909', 'S626', 'Q253', 'M201', 'N841', 'M329', 'Z944',\n",
              "       'M818', 'R066', 'N19X', 'Z300', 'R011', 'N310', 'M153', 'L22X',\n",
              "       'L039', 'R101', 'Z601', 'J22X', 'Z952', 'L711', 'G819', 'G439',\n",
              "       'K219', 'K838', 'Z978', 'I516', 'M543', 'I251', 'R730', 'R251',\n",
              "       'M255', 'I270', 'K519', 'R030', 'N318', 'N819', 'N200', 'Z810',\n",
              "       'R411', 'I351', 'K904', 'S422', 'F419', 'R418', 'L930', 'K210',\n",
              "       'K710', 'M181', 'T784', 'N328', 'K252', 'E780', 'M180', 'M859',\n",
              "       'L719', 'Q612', 'K591', 'M130', 'M238', 'I716', 'I498', 'J848',\n",
              "       'G560', 'M541', 'M479', 'M770', 'E107', 'M154', 'I652', 'N394',\n",
              "       'R478', 'M796', 'I442', 'U071', 'Z008', 'M894', 'I719', 'R620',\n",
              "       'Y919', 'R634', 'E116', 'Z659', 'L031', 'Z711', 'I120', 'F209',\n",
              "       'R074', 'J450', 'N358', 'M189', 'E789', 'R222', 'I728', 'S460',\n",
              "       'F711', 'M200', 'M738', 'M340', 'N941', 'K403', 'I48X', 'L400',\n",
              "       'K861', 'J028', 'M169', 'M068', 'J40X', 'T905', 'N359', 'N760',\n",
              "       'I151', 'Q401', 'H813', 'F328', 'M161', 'I480', 'M761', 'H352',\n",
              "       'I080', 'L240', 'H360', 'J310', 'L649', 'M549', 'R34X', 'N814',\n",
              "       'F791', 'F321', 'M058', 'R190', 'M799', 'N411', 'M511', 'R739',\n",
              "       'K501', 'E117', 'J330', 'F318', 'G579', 'S720', 'L408', 'I743',\n",
              "       'Y835', 'Z958', 'N312', 'F069', 'R071', 'K432', 'M331', 'L430',\n",
              "       'M174', 'D649', 'L409', 'N818', 'F001', 'K700', 'I730', 'M501',\n",
              "       'H900', 'R64X', 'I361', 'I715', 'E038', 'E748', 'Q627', 'Z433',\n",
              "       'M906', '104', '81', 'Y471', 'I252', '94', 'S328', '92', '130',\n",
              "       '97', '89', '100', '93', '80', '90', '91', 'G710', '87', '102',\n",
              "       '101', '115', '98', '105', '88', '106', 90.0, 88.0, 106.0, 115.0,\n",
              "       107.0, 87.0, 101.0, 85.0, 89.0, 104.0, 105.0, 114.0, 128.0, 119.0,\n",
              "       91.0, 103.0, 92.0, 102.0, 110.0, 83.0, 100.0, 82.0, 109.0, 81.0,\n",
              "       99.0, 108.0, 98.0, 97.0, 117.0, 95.0, 94.0, 93.0, 84.0, 125.0,\n",
              "       96.0, 124.0, 123.0, 86.0, 134.0, 116.0, 122.0, 113.0, 121.0, 120.0,\n",
              "       112.0, 137.0, 130.0, 80.0, 173.0, 136.0, 133.0, 132.0, 0.0, 129.0,\n",
              "       127.0, 131.0, 158.0, 126.0, 118.0, 135.0, 145.0, 150.0, 152.0,\n",
              "       144.0, 138.0, 143.0, 181.0, 177.0, 148.0, 147.0, 140.0, 111.0,\n",
              "       156.0, 155.0, 162.0, 141.0, 159.0, 157.0, 154.0, 164.0, 153.0,\n",
              "       151.0, 149.0, 142.0, 175.0, 163.0, 161.0, 146.0, 139.0, 176.0,\n",
              "       185.0, 183.0], dtype=object)"
            ]
          },
          "metadata": {},
          "execution_count": 83
        }
      ]
    },
    {
      "cell_type": "code",
      "source": [
        "listaf= (['test findrisc','índice tobillo/brazo', 'observaciones', 'presión arterial registro medico', 'tipo diabetes mellitus','tiempo con el diagnóstico',\n",
        "'¿cuál?', 'fecha ldl', 'fecha colesterol total', 'fecha trigliceridos', 'fecha creatinina1', 'fecha microalbuminuria',\n",
        "'fecha creatinina2', 'basciloscopia', 'úlcera de pie diabético', 'fecha próximo control', 'diagnostico1', 'nombrediagnostico1', 'diagnostico2',\n",
        " 'nombrediagnostico2', 'diagnostico3', 'nombrediagnostico3', 'fecha hdl'])"
      ],
      "metadata": {
        "id": "DEhN3RfZOG44"
      },
      "execution_count": null,
      "outputs": []
    },
    {
      "cell_type": "code",
      "source": [
        "for i in listaf:\n",
        "  cronicospos=cronicospos.drop([i], axis=1)"
      ],
      "metadata": {
        "id": "5imloWZdRDvl"
      },
      "execution_count": null,
      "outputs": []
    },
    {
      "cell_type": "markdown",
      "source": [
        "Al hacer la revisión de cada columna se nota que la mayoria tienen 504 nulos, por lo que se obtara por borrar esas filas y no las columnas debido a que estas no estan aportando al modelo pues todas sus columnas tienen Nulos"
      ],
      "metadata": {
        "id": "JvqZ7zV2SUK8"
      }
    },
    {
      "cell_type": "code",
      "source": [
        "#Se reemplazan los nulos y luego se borran las columnas \n",
        "cronicospos['tiene próximo control']=cronicospos['tiene próximo control'].fillna(0)"
      ],
      "metadata": {
        "id": "Iyu2Se3R5o6o"
      },
      "execution_count": null,
      "outputs": []
    },
    {
      "cell_type": "code",
      "source": [
        "cronicospos = cronicospos.drop(cronicospos[cronicospos['tiene próximo control']==0].index)\n",
        "cronicospos.isnull().sum()"
      ],
      "metadata": {
        "id": "dxw605Xa08qN",
        "colab": {
          "base_uri": "https://localhost:8080/"
        },
        "outputId": "ebd50e8f-c11a-4bf4-f88c-8ce5cbfb711f"
      },
      "execution_count": null,
      "outputs": [
        {
          "output_type": "execute_result",
          "data": {
            "text/plain": [
              "year                                           0\n",
              "mes                                            0\n",
              "nrodoc                                         0\n",
              "peso                                           0\n",
              "talla                                          0\n",
              "clasificación imc                              0\n",
              "saturación de oxígeno (%)                    113\n",
              "sumatoria pliegues                             0\n",
              "presión arterial sistólica                     0\n",
              "presión arterial diastólica                    0\n",
              "frecuencia cardíaca en reposo                  0\n",
              "auto-calificacion nivel de ejercicio           0\n",
              "mets -índice metabólico                        0\n",
              "vo2 - máxima cantidad de oxígeno               0\n",
              "calificación (índice de fragilidad)            0\n",
              "calificación (apoyo monopodal)                 0\n",
              "calificación velocidad                         0\n",
              "diabetes mellitus                              0\n",
              "glicemia                                       0\n",
              "hemoglobina glicada                            0\n",
              "control diabetes                               0\n",
              "tiene hta                                      0\n",
              "control hta                                    0\n",
              "tiene epoc                                     0\n",
              "enfermedad coronaria (en el último año)        0\n",
              "insuficiencia cardíaca                         0\n",
              "valvulopatía                                   0\n",
              "arritmia o paciente con dispositivo            0\n",
              "sufre de alguna enfermedad cardiovascular      0\n",
              "tabaquismo                                     0\n",
              "años de consumo                                0\n",
              "lipoproteina                                   0\n",
              "hdl                                            0\n",
              "colesterol total                               0\n",
              "trigliceridos                                  0\n",
              "clasificación de framinghan                    0\n",
              "creatinina 1 consulta                          0\n",
              "microalbuminuria                               0\n",
              "hormona estimulante de la tiroides (tsh)       0\n",
              "clase funcional                                0\n",
              "tasa de filtración glomerular tfg2             0\n",
              "remisión                                       0\n",
              "diagnóstico principal                          0\n",
              "tiene próximo control                          0\n",
              "requiere cita de morbilidad                    0\n",
              "ambito según el médico                         0\n",
              "dtype: int64"
            ]
          },
          "metadata": {},
          "execution_count": 87
        }
      ]
    },
    {
      "cell_type": "code",
      "source": [
        "#debido al tipo de dato que representa la saturación de oxigeno de la persona, se decide eliminar esta columna pues sus nulos no pueden ser reemplazados\n",
        "cronicospos=cronicospos.drop(['saturación de oxígeno (%)'], axis=1)"
      ],
      "metadata": {
        "id": "dGFFAnUh871d"
      },
      "execution_count": null,
      "outputs": []
    },
    {
      "cell_type": "code",
      "source": [
        "#Se miran si existen varios diagnosticos para una persona\n",
        "df=pd.DataFrame()\n",
        "df['numero_de_diagnosticos']= cronicospos['nrodoc'].value_counts()\n",
        "df['nrodoc']= cronicospos['nrodoc'].value_counts().index\n",
        "df=df.reset_index().drop('index', axis=1)\n",
        "df"
      ],
      "metadata": {
        "id": "_4zSVZuXHynA",
        "colab": {
          "base_uri": "https://localhost:8080/",
          "height": 424
        },
        "outputId": "d95eda98-f0be-4851-d214-05c84902cb90"
      },
      "execution_count": null,
      "outputs": [
        {
          "output_type": "execute_result",
          "data": {
            "text/plain": [
              "      numero_de_diagnosticos  nrodoc\n",
              "0                         17  312214\n",
              "1                         16  311465\n",
              "2                         15  308752\n",
              "3                         15  308578\n",
              "4                         15  313574\n",
              "...                      ...     ...\n",
              "5014                       1  313530\n",
              "5015                       1  313637\n",
              "5016                       1  312525\n",
              "5017                       1  308288\n",
              "5018                       1  314135\n",
              "\n",
              "[5019 rows x 2 columns]"
            ],
            "text/html": [
              "\n",
              "  <div id=\"df-de5bef37-9142-4f3c-8882-51dd9b970733\">\n",
              "    <div class=\"colab-df-container\">\n",
              "      <div>\n",
              "<style scoped>\n",
              "    .dataframe tbody tr th:only-of-type {\n",
              "        vertical-align: middle;\n",
              "    }\n",
              "\n",
              "    .dataframe tbody tr th {\n",
              "        vertical-align: top;\n",
              "    }\n",
              "\n",
              "    .dataframe thead th {\n",
              "        text-align: right;\n",
              "    }\n",
              "</style>\n",
              "<table border=\"1\" class=\"dataframe\">\n",
              "  <thead>\n",
              "    <tr style=\"text-align: right;\">\n",
              "      <th></th>\n",
              "      <th>numero_de_diagnosticos</th>\n",
              "      <th>nrodoc</th>\n",
              "    </tr>\n",
              "  </thead>\n",
              "  <tbody>\n",
              "    <tr>\n",
              "      <th>0</th>\n",
              "      <td>17</td>\n",
              "      <td>312214</td>\n",
              "    </tr>\n",
              "    <tr>\n",
              "      <th>1</th>\n",
              "      <td>16</td>\n",
              "      <td>311465</td>\n",
              "    </tr>\n",
              "    <tr>\n",
              "      <th>2</th>\n",
              "      <td>15</td>\n",
              "      <td>308752</td>\n",
              "    </tr>\n",
              "    <tr>\n",
              "      <th>3</th>\n",
              "      <td>15</td>\n",
              "      <td>308578</td>\n",
              "    </tr>\n",
              "    <tr>\n",
              "      <th>4</th>\n",
              "      <td>15</td>\n",
              "      <td>313574</td>\n",
              "    </tr>\n",
              "    <tr>\n",
              "      <th>...</th>\n",
              "      <td>...</td>\n",
              "      <td>...</td>\n",
              "    </tr>\n",
              "    <tr>\n",
              "      <th>5014</th>\n",
              "      <td>1</td>\n",
              "      <td>313530</td>\n",
              "    </tr>\n",
              "    <tr>\n",
              "      <th>5015</th>\n",
              "      <td>1</td>\n",
              "      <td>313637</td>\n",
              "    </tr>\n",
              "    <tr>\n",
              "      <th>5016</th>\n",
              "      <td>1</td>\n",
              "      <td>312525</td>\n",
              "    </tr>\n",
              "    <tr>\n",
              "      <th>5017</th>\n",
              "      <td>1</td>\n",
              "      <td>308288</td>\n",
              "    </tr>\n",
              "    <tr>\n",
              "      <th>5018</th>\n",
              "      <td>1</td>\n",
              "      <td>314135</td>\n",
              "    </tr>\n",
              "  </tbody>\n",
              "</table>\n",
              "<p>5019 rows × 2 columns</p>\n",
              "</div>\n",
              "      <button class=\"colab-df-convert\" onclick=\"convertToInteractive('df-de5bef37-9142-4f3c-8882-51dd9b970733')\"\n",
              "              title=\"Convert this dataframe to an interactive table.\"\n",
              "              style=\"display:none;\">\n",
              "        \n",
              "  <svg xmlns=\"http://www.w3.org/2000/svg\" height=\"24px\"viewBox=\"0 0 24 24\"\n",
              "       width=\"24px\">\n",
              "    <path d=\"M0 0h24v24H0V0z\" fill=\"none\"/>\n",
              "    <path d=\"M18.56 5.44l.94 2.06.94-2.06 2.06-.94-2.06-.94-.94-2.06-.94 2.06-2.06.94zm-11 1L8.5 8.5l.94-2.06 2.06-.94-2.06-.94L8.5 2.5l-.94 2.06-2.06.94zm10 10l.94 2.06.94-2.06 2.06-.94-2.06-.94-.94-2.06-.94 2.06-2.06.94z\"/><path d=\"M17.41 7.96l-1.37-1.37c-.4-.4-.92-.59-1.43-.59-.52 0-1.04.2-1.43.59L10.3 9.45l-7.72 7.72c-.78.78-.78 2.05 0 2.83L4 21.41c.39.39.9.59 1.41.59.51 0 1.02-.2 1.41-.59l7.78-7.78 2.81-2.81c.8-.78.8-2.07 0-2.86zM5.41 20L4 18.59l7.72-7.72 1.47 1.35L5.41 20z\"/>\n",
              "  </svg>\n",
              "      </button>\n",
              "      \n",
              "  <style>\n",
              "    .colab-df-container {\n",
              "      display:flex;\n",
              "      flex-wrap:wrap;\n",
              "      gap: 12px;\n",
              "    }\n",
              "\n",
              "    .colab-df-convert {\n",
              "      background-color: #E8F0FE;\n",
              "      border: none;\n",
              "      border-radius: 50%;\n",
              "      cursor: pointer;\n",
              "      display: none;\n",
              "      fill: #1967D2;\n",
              "      height: 32px;\n",
              "      padding: 0 0 0 0;\n",
              "      width: 32px;\n",
              "    }\n",
              "\n",
              "    .colab-df-convert:hover {\n",
              "      background-color: #E2EBFA;\n",
              "      box-shadow: 0px 1px 2px rgba(60, 64, 67, 0.3), 0px 1px 3px 1px rgba(60, 64, 67, 0.15);\n",
              "      fill: #174EA6;\n",
              "    }\n",
              "\n",
              "    [theme=dark] .colab-df-convert {\n",
              "      background-color: #3B4455;\n",
              "      fill: #D2E3FC;\n",
              "    }\n",
              "\n",
              "    [theme=dark] .colab-df-convert:hover {\n",
              "      background-color: #434B5C;\n",
              "      box-shadow: 0px 1px 3px 1px rgba(0, 0, 0, 0.15);\n",
              "      filter: drop-shadow(0px 1px 2px rgba(0, 0, 0, 0.3));\n",
              "      fill: #FFFFFF;\n",
              "    }\n",
              "  </style>\n",
              "\n",
              "      <script>\n",
              "        const buttonEl =\n",
              "          document.querySelector('#df-de5bef37-9142-4f3c-8882-51dd9b970733 button.colab-df-convert');\n",
              "        buttonEl.style.display =\n",
              "          google.colab.kernel.accessAllowed ? 'block' : 'none';\n",
              "\n",
              "        async function convertToInteractive(key) {\n",
              "          const element = document.querySelector('#df-de5bef37-9142-4f3c-8882-51dd9b970733');\n",
              "          const dataTable =\n",
              "            await google.colab.kernel.invokeFunction('convertToInteractive',\n",
              "                                                     [key], {});\n",
              "          if (!dataTable) return;\n",
              "\n",
              "          const docLinkHtml = 'Like what you see? Visit the ' +\n",
              "            '<a target=\"_blank\" href=https://colab.research.google.com/notebooks/data_table.ipynb>data table notebook</a>'\n",
              "            + ' to learn more about interactive tables.';\n",
              "          element.innerHTML = '';\n",
              "          dataTable['output_type'] = 'display_data';\n",
              "          await google.colab.output.renderOutput(dataTable, element);\n",
              "          const docLink = document.createElement('div');\n",
              "          docLink.innerHTML = docLinkHtml;\n",
              "          element.appendChild(docLink);\n",
              "        }\n",
              "      </script>\n",
              "    </div>\n",
              "  </div>\n",
              "  "
            ]
          },
          "metadata": {},
          "execution_count": 89
        }
      ]
    },
    {
      "cell_type": "code",
      "source": [
        "#Se eliminan los diagnosticos más antiguos y se deja el más reciente unicamente\n",
        "def funcion_1(base):\n",
        "  dft = base.copy(deep=True)\n",
        "  lista= list(df['nrodoc'])\n",
        "  len(lista)\n",
        "  dft2=pd.DataFrame()\n",
        "  for i in lista:\n",
        "    dft3=dft[dft['nrodoc']==i].reset_index()\n",
        "    if dft3.shape[0] > 1 :\n",
        "      for j in range(0, dft3.shape[0] -1):\n",
        "        dft3.drop(j, axis=0, inplace= True)\n",
        "      dft2= dft2.append(dft3, ignore_index=True)\n",
        "    else:\n",
        "      dft2=dft2.append(dft3, ignore_index=True)\n",
        "  return dft2"
      ],
      "metadata": {
        "id": "lLDj2ErnPawx"
      },
      "execution_count": null,
      "outputs": []
    },
    {
      "cell_type": "code",
      "source": [
        "cronicosposf= funcion_1(cronicospos)"
      ],
      "metadata": {
        "id": "QCQ9Fi5CUFKa"
      },
      "execution_count": null,
      "outputs": []
    },
    {
      "cell_type": "code",
      "source": [
        "#Se rectifica que haya quedado una columna por id\n",
        "df=pd.DataFrame()\n",
        "df['numero_de_diagnosticos']= cronicosposf['nrodoc'].value_counts()\n",
        "df['nrodoc']= cronicosposf['nrodoc'].value_counts().index\n",
        "df=df.reset_index().drop('index', axis=1)\n",
        "df"
      ],
      "metadata": {
        "id": "BRmwHsI7EEY6",
        "colab": {
          "base_uri": "https://localhost:8080/",
          "height": 424
        },
        "outputId": "9906562d-0001-4d73-fc29-b4db99555446"
      },
      "execution_count": null,
      "outputs": [
        {
          "output_type": "execute_result",
          "data": {
            "text/plain": [
              "      numero_de_diagnosticos  nrodoc\n",
              "0                          1  312214\n",
              "1                          1  313888\n",
              "2                          1  313732\n",
              "3                          1  310810\n",
              "4                          1  311170\n",
              "...                      ...     ...\n",
              "5014                       1  307159\n",
              "5015                       1  312147\n",
              "5016                       1  310672\n",
              "5017                       1  308168\n",
              "5018                       1  314135\n",
              "\n",
              "[5019 rows x 2 columns]"
            ],
            "text/html": [
              "\n",
              "  <div id=\"df-8b25c685-b48d-4aa9-8b37-1fa699341d2c\">\n",
              "    <div class=\"colab-df-container\">\n",
              "      <div>\n",
              "<style scoped>\n",
              "    .dataframe tbody tr th:only-of-type {\n",
              "        vertical-align: middle;\n",
              "    }\n",
              "\n",
              "    .dataframe tbody tr th {\n",
              "        vertical-align: top;\n",
              "    }\n",
              "\n",
              "    .dataframe thead th {\n",
              "        text-align: right;\n",
              "    }\n",
              "</style>\n",
              "<table border=\"1\" class=\"dataframe\">\n",
              "  <thead>\n",
              "    <tr style=\"text-align: right;\">\n",
              "      <th></th>\n",
              "      <th>numero_de_diagnosticos</th>\n",
              "      <th>nrodoc</th>\n",
              "    </tr>\n",
              "  </thead>\n",
              "  <tbody>\n",
              "    <tr>\n",
              "      <th>0</th>\n",
              "      <td>1</td>\n",
              "      <td>312214</td>\n",
              "    </tr>\n",
              "    <tr>\n",
              "      <th>1</th>\n",
              "      <td>1</td>\n",
              "      <td>313888</td>\n",
              "    </tr>\n",
              "    <tr>\n",
              "      <th>2</th>\n",
              "      <td>1</td>\n",
              "      <td>313732</td>\n",
              "    </tr>\n",
              "    <tr>\n",
              "      <th>3</th>\n",
              "      <td>1</td>\n",
              "      <td>310810</td>\n",
              "    </tr>\n",
              "    <tr>\n",
              "      <th>4</th>\n",
              "      <td>1</td>\n",
              "      <td>311170</td>\n",
              "    </tr>\n",
              "    <tr>\n",
              "      <th>...</th>\n",
              "      <td>...</td>\n",
              "      <td>...</td>\n",
              "    </tr>\n",
              "    <tr>\n",
              "      <th>5014</th>\n",
              "      <td>1</td>\n",
              "      <td>307159</td>\n",
              "    </tr>\n",
              "    <tr>\n",
              "      <th>5015</th>\n",
              "      <td>1</td>\n",
              "      <td>312147</td>\n",
              "    </tr>\n",
              "    <tr>\n",
              "      <th>5016</th>\n",
              "      <td>1</td>\n",
              "      <td>310672</td>\n",
              "    </tr>\n",
              "    <tr>\n",
              "      <th>5017</th>\n",
              "      <td>1</td>\n",
              "      <td>308168</td>\n",
              "    </tr>\n",
              "    <tr>\n",
              "      <th>5018</th>\n",
              "      <td>1</td>\n",
              "      <td>314135</td>\n",
              "    </tr>\n",
              "  </tbody>\n",
              "</table>\n",
              "<p>5019 rows × 2 columns</p>\n",
              "</div>\n",
              "      <button class=\"colab-df-convert\" onclick=\"convertToInteractive('df-8b25c685-b48d-4aa9-8b37-1fa699341d2c')\"\n",
              "              title=\"Convert this dataframe to an interactive table.\"\n",
              "              style=\"display:none;\">\n",
              "        \n",
              "  <svg xmlns=\"http://www.w3.org/2000/svg\" height=\"24px\"viewBox=\"0 0 24 24\"\n",
              "       width=\"24px\">\n",
              "    <path d=\"M0 0h24v24H0V0z\" fill=\"none\"/>\n",
              "    <path d=\"M18.56 5.44l.94 2.06.94-2.06 2.06-.94-2.06-.94-.94-2.06-.94 2.06-2.06.94zm-11 1L8.5 8.5l.94-2.06 2.06-.94-2.06-.94L8.5 2.5l-.94 2.06-2.06.94zm10 10l.94 2.06.94-2.06 2.06-.94-2.06-.94-.94-2.06-.94 2.06-2.06.94z\"/><path d=\"M17.41 7.96l-1.37-1.37c-.4-.4-.92-.59-1.43-.59-.52 0-1.04.2-1.43.59L10.3 9.45l-7.72 7.72c-.78.78-.78 2.05 0 2.83L4 21.41c.39.39.9.59 1.41.59.51 0 1.02-.2 1.41-.59l7.78-7.78 2.81-2.81c.8-.78.8-2.07 0-2.86zM5.41 20L4 18.59l7.72-7.72 1.47 1.35L5.41 20z\"/>\n",
              "  </svg>\n",
              "      </button>\n",
              "      \n",
              "  <style>\n",
              "    .colab-df-container {\n",
              "      display:flex;\n",
              "      flex-wrap:wrap;\n",
              "      gap: 12px;\n",
              "    }\n",
              "\n",
              "    .colab-df-convert {\n",
              "      background-color: #E8F0FE;\n",
              "      border: none;\n",
              "      border-radius: 50%;\n",
              "      cursor: pointer;\n",
              "      display: none;\n",
              "      fill: #1967D2;\n",
              "      height: 32px;\n",
              "      padding: 0 0 0 0;\n",
              "      width: 32px;\n",
              "    }\n",
              "\n",
              "    .colab-df-convert:hover {\n",
              "      background-color: #E2EBFA;\n",
              "      box-shadow: 0px 1px 2px rgba(60, 64, 67, 0.3), 0px 1px 3px 1px rgba(60, 64, 67, 0.15);\n",
              "      fill: #174EA6;\n",
              "    }\n",
              "\n",
              "    [theme=dark] .colab-df-convert {\n",
              "      background-color: #3B4455;\n",
              "      fill: #D2E3FC;\n",
              "    }\n",
              "\n",
              "    [theme=dark] .colab-df-convert:hover {\n",
              "      background-color: #434B5C;\n",
              "      box-shadow: 0px 1px 3px 1px rgba(0, 0, 0, 0.15);\n",
              "      filter: drop-shadow(0px 1px 2px rgba(0, 0, 0, 0.3));\n",
              "      fill: #FFFFFF;\n",
              "    }\n",
              "  </style>\n",
              "\n",
              "      <script>\n",
              "        const buttonEl =\n",
              "          document.querySelector('#df-8b25c685-b48d-4aa9-8b37-1fa699341d2c button.colab-df-convert');\n",
              "        buttonEl.style.display =\n",
              "          google.colab.kernel.accessAllowed ? 'block' : 'none';\n",
              "\n",
              "        async function convertToInteractive(key) {\n",
              "          const element = document.querySelector('#df-8b25c685-b48d-4aa9-8b37-1fa699341d2c');\n",
              "          const dataTable =\n",
              "            await google.colab.kernel.invokeFunction('convertToInteractive',\n",
              "                                                     [key], {});\n",
              "          if (!dataTable) return;\n",
              "\n",
              "          const docLinkHtml = 'Like what you see? Visit the ' +\n",
              "            '<a target=\"_blank\" href=https://colab.research.google.com/notebooks/data_table.ipynb>data table notebook</a>'\n",
              "            + ' to learn more about interactive tables.';\n",
              "          element.innerHTML = '';\n",
              "          dataTable['output_type'] = 'display_data';\n",
              "          await google.colab.output.renderOutput(dataTable, element);\n",
              "          const docLink = document.createElement('div');\n",
              "          docLink.innerHTML = docLinkHtml;\n",
              "          element.appendChild(docLink);\n",
              "        }\n",
              "      </script>\n",
              "    </div>\n",
              "  </div>\n",
              "  "
            ]
          },
          "metadata": {},
          "execution_count": 92
        }
      ]
    },
    {
      "cell_type": "code",
      "source": [
        "cronicosposf.head(2)"
      ],
      "metadata": {
        "id": "GwXmnUGNZfGn",
        "colab": {
          "base_uri": "https://localhost:8080/",
          "height": 431
        },
        "outputId": "4c01e6cd-b06e-4b38-d539-95c608dcd40e"
      },
      "execution_count": null,
      "outputs": [
        {
          "output_type": "execute_result",
          "data": {
            "text/plain": [
              "   index  year   mes  nrodoc  peso  talla clasificación imc  \\\n",
              "0  37327  2022  MAYO  312214  39.0  155.0              Bajo   \n",
              "1  36974  2022  MAYO  311465  54.0  155.0            Normal   \n",
              "\n",
              "   sumatoria pliegues  presión arterial sistólica  \\\n",
              "0                15.0                          80   \n",
              "1                32.0                          95   \n",
              "\n",
              "   presión arterial diastólica  ...  creatinina 1 consulta  microalbuminuria  \\\n",
              "0                           60  ...                   0.57              0.43   \n",
              "1                           55  ...                   0.79              0.00   \n",
              "\n",
              "   hormona estimulante de la tiroides (tsh)    clase funcional  \\\n",
              "0                                      1.84  Clase funcional 3   \n",
              "1                                      2.41  Clase funcional 4   \n",
              "\n",
              "  tasa de filtración glomerular tfg2  remisión  \\\n",
              "0                             118.24  Grupal 4   \n",
              "1                               0.00  Grupal 4   \n",
              "\n",
              "                               diagnóstico principal tiene próximo control  \\\n",
              "0  R104 - OTROS DOLORES ABDOMINALES Y LOS NO ESPE...                    Si   \n",
              "1  F009 - DEMENCIA EN LA ENFERMEDAD DE ALZHEIMER ...                    Si   \n",
              "\n",
              "   requiere cita de morbilidad  ambito según el médico  \n",
              "0                           No            Domiciliario  \n",
              "1                           No            Domiciliario  \n",
              "\n",
              "[2 rows x 46 columns]"
            ],
            "text/html": [
              "\n",
              "  <div id=\"df-12485738-f2e9-4802-b060-60e830388961\">\n",
              "    <div class=\"colab-df-container\">\n",
              "      <div>\n",
              "<style scoped>\n",
              "    .dataframe tbody tr th:only-of-type {\n",
              "        vertical-align: middle;\n",
              "    }\n",
              "\n",
              "    .dataframe tbody tr th {\n",
              "        vertical-align: top;\n",
              "    }\n",
              "\n",
              "    .dataframe thead th {\n",
              "        text-align: right;\n",
              "    }\n",
              "</style>\n",
              "<table border=\"1\" class=\"dataframe\">\n",
              "  <thead>\n",
              "    <tr style=\"text-align: right;\">\n",
              "      <th></th>\n",
              "      <th>index</th>\n",
              "      <th>year</th>\n",
              "      <th>mes</th>\n",
              "      <th>nrodoc</th>\n",
              "      <th>peso</th>\n",
              "      <th>talla</th>\n",
              "      <th>clasificación imc</th>\n",
              "      <th>sumatoria pliegues</th>\n",
              "      <th>presión arterial sistólica</th>\n",
              "      <th>presión arterial diastólica</th>\n",
              "      <th>...</th>\n",
              "      <th>creatinina 1 consulta</th>\n",
              "      <th>microalbuminuria</th>\n",
              "      <th>hormona estimulante de la tiroides (tsh)</th>\n",
              "      <th>clase funcional</th>\n",
              "      <th>tasa de filtración glomerular tfg2</th>\n",
              "      <th>remisión</th>\n",
              "      <th>diagnóstico principal</th>\n",
              "      <th>tiene próximo control</th>\n",
              "      <th>requiere cita de morbilidad</th>\n",
              "      <th>ambito según el médico</th>\n",
              "    </tr>\n",
              "  </thead>\n",
              "  <tbody>\n",
              "    <tr>\n",
              "      <th>0</th>\n",
              "      <td>37327</td>\n",
              "      <td>2022</td>\n",
              "      <td>MAYO</td>\n",
              "      <td>312214</td>\n",
              "      <td>39.0</td>\n",
              "      <td>155.0</td>\n",
              "      <td>Bajo</td>\n",
              "      <td>15.0</td>\n",
              "      <td>80</td>\n",
              "      <td>60</td>\n",
              "      <td>...</td>\n",
              "      <td>0.57</td>\n",
              "      <td>0.43</td>\n",
              "      <td>1.84</td>\n",
              "      <td>Clase funcional 3</td>\n",
              "      <td>118.24</td>\n",
              "      <td>Grupal 4</td>\n",
              "      <td>R104 - OTROS DOLORES ABDOMINALES Y LOS NO ESPE...</td>\n",
              "      <td>Si</td>\n",
              "      <td>No</td>\n",
              "      <td>Domiciliario</td>\n",
              "    </tr>\n",
              "    <tr>\n",
              "      <th>1</th>\n",
              "      <td>36974</td>\n",
              "      <td>2022</td>\n",
              "      <td>MAYO</td>\n",
              "      <td>311465</td>\n",
              "      <td>54.0</td>\n",
              "      <td>155.0</td>\n",
              "      <td>Normal</td>\n",
              "      <td>32.0</td>\n",
              "      <td>95</td>\n",
              "      <td>55</td>\n",
              "      <td>...</td>\n",
              "      <td>0.79</td>\n",
              "      <td>0.00</td>\n",
              "      <td>2.41</td>\n",
              "      <td>Clase funcional 4</td>\n",
              "      <td>0.00</td>\n",
              "      <td>Grupal 4</td>\n",
              "      <td>F009 - DEMENCIA EN LA ENFERMEDAD DE ALZHEIMER ...</td>\n",
              "      <td>Si</td>\n",
              "      <td>No</td>\n",
              "      <td>Domiciliario</td>\n",
              "    </tr>\n",
              "  </tbody>\n",
              "</table>\n",
              "<p>2 rows × 46 columns</p>\n",
              "</div>\n",
              "      <button class=\"colab-df-convert\" onclick=\"convertToInteractive('df-12485738-f2e9-4802-b060-60e830388961')\"\n",
              "              title=\"Convert this dataframe to an interactive table.\"\n",
              "              style=\"display:none;\">\n",
              "        \n",
              "  <svg xmlns=\"http://www.w3.org/2000/svg\" height=\"24px\"viewBox=\"0 0 24 24\"\n",
              "       width=\"24px\">\n",
              "    <path d=\"M0 0h24v24H0V0z\" fill=\"none\"/>\n",
              "    <path d=\"M18.56 5.44l.94 2.06.94-2.06 2.06-.94-2.06-.94-.94-2.06-.94 2.06-2.06.94zm-11 1L8.5 8.5l.94-2.06 2.06-.94-2.06-.94L8.5 2.5l-.94 2.06-2.06.94zm10 10l.94 2.06.94-2.06 2.06-.94-2.06-.94-.94-2.06-.94 2.06-2.06.94z\"/><path d=\"M17.41 7.96l-1.37-1.37c-.4-.4-.92-.59-1.43-.59-.52 0-1.04.2-1.43.59L10.3 9.45l-7.72 7.72c-.78.78-.78 2.05 0 2.83L4 21.41c.39.39.9.59 1.41.59.51 0 1.02-.2 1.41-.59l7.78-7.78 2.81-2.81c.8-.78.8-2.07 0-2.86zM5.41 20L4 18.59l7.72-7.72 1.47 1.35L5.41 20z\"/>\n",
              "  </svg>\n",
              "      </button>\n",
              "      \n",
              "  <style>\n",
              "    .colab-df-container {\n",
              "      display:flex;\n",
              "      flex-wrap:wrap;\n",
              "      gap: 12px;\n",
              "    }\n",
              "\n",
              "    .colab-df-convert {\n",
              "      background-color: #E8F0FE;\n",
              "      border: none;\n",
              "      border-radius: 50%;\n",
              "      cursor: pointer;\n",
              "      display: none;\n",
              "      fill: #1967D2;\n",
              "      height: 32px;\n",
              "      padding: 0 0 0 0;\n",
              "      width: 32px;\n",
              "    }\n",
              "\n",
              "    .colab-df-convert:hover {\n",
              "      background-color: #E2EBFA;\n",
              "      box-shadow: 0px 1px 2px rgba(60, 64, 67, 0.3), 0px 1px 3px 1px rgba(60, 64, 67, 0.15);\n",
              "      fill: #174EA6;\n",
              "    }\n",
              "\n",
              "    [theme=dark] .colab-df-convert {\n",
              "      background-color: #3B4455;\n",
              "      fill: #D2E3FC;\n",
              "    }\n",
              "\n",
              "    [theme=dark] .colab-df-convert:hover {\n",
              "      background-color: #434B5C;\n",
              "      box-shadow: 0px 1px 3px 1px rgba(0, 0, 0, 0.15);\n",
              "      filter: drop-shadow(0px 1px 2px rgba(0, 0, 0, 0.3));\n",
              "      fill: #FFFFFF;\n",
              "    }\n",
              "  </style>\n",
              "\n",
              "      <script>\n",
              "        const buttonEl =\n",
              "          document.querySelector('#df-12485738-f2e9-4802-b060-60e830388961 button.colab-df-convert');\n",
              "        buttonEl.style.display =\n",
              "          google.colab.kernel.accessAllowed ? 'block' : 'none';\n",
              "\n",
              "        async function convertToInteractive(key) {\n",
              "          const element = document.querySelector('#df-12485738-f2e9-4802-b060-60e830388961');\n",
              "          const dataTable =\n",
              "            await google.colab.kernel.invokeFunction('convertToInteractive',\n",
              "                                                     [key], {});\n",
              "          if (!dataTable) return;\n",
              "\n",
              "          const docLinkHtml = 'Like what you see? Visit the ' +\n",
              "            '<a target=\"_blank\" href=https://colab.research.google.com/notebooks/data_table.ipynb>data table notebook</a>'\n",
              "            + ' to learn more about interactive tables.';\n",
              "          element.innerHTML = '';\n",
              "          dataTable['output_type'] = 'display_data';\n",
              "          await google.colab.output.renderOutput(dataTable, element);\n",
              "          const docLink = document.createElement('div');\n",
              "          docLink.innerHTML = docLinkHtml;\n",
              "          element.appendChild(docLink);\n",
              "        }\n",
              "      </script>\n",
              "    </div>\n",
              "  </div>\n",
              "  "
            ]
          },
          "metadata": {},
          "execution_count": 93
        }
      ]
    },
    {
      "cell_type": "code",
      "source": [
        "#se elimina columna adicional\n",
        "cronicosposf=cronicosposf.drop(['index'], axis=1)"
      ],
      "metadata": {
        "id": "BdaBqXpEFIjq"
      },
      "execution_count": null,
      "outputs": []
    },
    {
      "cell_type": "code",
      "source": [
        "#Se pone los datos en un mejor tipo\n",
        "cronicosposf.convert_dtypes().dtypes"
      ],
      "metadata": {
        "id": "l9TkvqZyG10r",
        "colab": {
          "base_uri": "https://localhost:8080/"
        },
        "outputId": "45435f01-83be-4833-a0ee-2d62bc96da15"
      },
      "execution_count": null,
      "outputs": [
        {
          "output_type": "execute_result",
          "data": {
            "text/plain": [
              "year                                           Int64\n",
              "mes                                           string\n",
              "nrodoc                                         Int64\n",
              "peso                                         Float64\n",
              "talla                                          Int64\n",
              "clasificación imc                             string\n",
              "sumatoria pliegues                           Float64\n",
              "presión arterial sistólica                     Int64\n",
              "presión arterial diastólica                    Int64\n",
              "frecuencia cardíaca en reposo                  Int64\n",
              "auto-calificacion nivel de ejercicio           Int64\n",
              "mets -índice metabólico                      Float64\n",
              "vo2 - máxima cantidad de oxígeno             Float64\n",
              "calificación (índice de fragilidad)           string\n",
              "calificación (apoyo monopodal)                string\n",
              "calificación velocidad                        string\n",
              "diabetes mellitus                             string\n",
              "glicemia                                       Int64\n",
              "hemoglobina glicada                          Float64\n",
              "control diabetes                              string\n",
              "tiene hta                                     string\n",
              "control hta                                   string\n",
              "tiene epoc                                    string\n",
              "enfermedad coronaria (en el último año)       string\n",
              "insuficiencia cardíaca                        string\n",
              "valvulopatía                                  string\n",
              "arritmia o paciente con dispositivo           string\n",
              "sufre de alguna enfermedad cardiovascular     string\n",
              "tabaquismo                                    string\n",
              "años de consumo                                Int64\n",
              "lipoproteina                                 Float64\n",
              "hdl                                          Float64\n",
              "colesterol total                             Float64\n",
              "trigliceridos                                Float64\n",
              "clasificación de framinghan                   string\n",
              "creatinina 1 consulta                        Float64\n",
              "microalbuminuria                             Float64\n",
              "hormona estimulante de la tiroides (tsh)     Float64\n",
              "clase funcional                               string\n",
              "tasa de filtración glomerular tfg2           Float64\n",
              "remisión                                      string\n",
              "diagnóstico principal                         string\n",
              "tiene próximo control                         string\n",
              "requiere cita de morbilidad                   string\n",
              "ambito según el médico                        string\n",
              "dtype: object"
            ]
          },
          "metadata": {},
          "execution_count": 95
        }
      ]
    },
    {
      "cell_type": "code",
      "source": [
        "#Se eliminan las columnas que tengan muchos datos string unicos debido a que son dificiles de tratar para modelos de regresión\n",
        "lista=cronicosposf.columns"
      ],
      "metadata": {
        "id": "LfRIMl-yHsJM"
      },
      "execution_count": null,
      "outputs": []
    },
    {
      "cell_type": "code",
      "source": [
        "for i in lista:\n",
        "  print(i)\n",
        "  print(cronicosposf[i].unique())\n",
        "  ('----------------------------------------')"
      ],
      "metadata": {
        "id": "sfmHpnRlI2zx"
      },
      "execution_count": null,
      "outputs": []
    },
    {
      "cell_type": "markdown",
      "source": [
        "EGRESOSPOS"
      ],
      "metadata": {
        "id": "gmhdP16rqIwe"
      }
    },
    {
      "cell_type": "code",
      "source": [
        "egresospos.columns"
      ],
      "metadata": {
        "id": "9GQQP06Qc5ey"
      },
      "execution_count": null,
      "outputs": []
    },
    {
      "cell_type": "code",
      "source": [
        "egresospos.info()"
      ],
      "metadata": {
        "id": "JbjPM7o4LRLd"
      },
      "execution_count": null,
      "outputs": []
    },
    {
      "cell_type": "code",
      "source": [
        "#Porcentaje de representación de datos nulos en la base cronicospos\n",
        "print(round(egresospos.isnull().sum().sum()/egresospos.size, 2)*100, \"%\")"
      ],
      "metadata": {
        "colab": {
          "base_uri": "https://localhost:8080/"
        },
        "id": "8F3Lfqd2Kol8",
        "outputId": "6dc696dc-ebfa-49db-8eea-161b31e11945"
      },
      "execution_count": null,
      "outputs": [
        {
          "output_type": "stream",
          "name": "stdout",
          "text": [
            "7.000000000000001 %\n"
          ]
        }
      ]
    },
    {
      "cell_type": "code",
      "source": [
        "#Se evalua el porcentaje de nulos por columna\n",
        "((egresospos.isnull().sum() / len(egresospos))*100).sort_values(ascending = False)"
      ],
      "metadata": {
        "id": "yWm6jZUpK1h-"
      },
      "execution_count": null,
      "outputs": []
    },
    {
      "cell_type": "code",
      "source": [
        "#se eliminan aquellas columnas que tengan más de 60% de sus datos nulos\n",
        "lista=egresospos.columns"
      ],
      "metadata": {
        "id": "pttkYV8TLGxr"
      },
      "execution_count": null,
      "outputs": []
    },
    {
      "cell_type": "code",
      "source": [
        "for i in lista:\n",
        "  if (egresospos[i].isnull().sum() / len(egresospos))*100> 60 :\n",
        "    egresospos=egresospos.drop([i], axis=1)\n"
      ],
      "metadata": {
        "id": "-Os8MpRiLCNb"
      },
      "execution_count": null,
      "outputs": []
    },
    {
      "cell_type": "code",
      "source": [
        "#Variables con nulos\n",
        "lista=egresospos.columns\n",
        "cont=0\n",
        "for i in lista:\n",
        "  if egresospos[i].isnull().sum()>0:\n",
        "    print(i)\n",
        "    (\"--------------------------------------\")"
      ],
      "metadata": {
        "id": "VJ8_kucxbgJp"
      },
      "execution_count": null,
      "outputs": []
    },
    {
      "cell_type": "code",
      "source": [
        "#validación de valor agregado de los datos\n",
        "egresospos['CAUSA BASICA MUERTE'].unique()"
      ],
      "metadata": {
        "id": "2zAM2XjJc69A"
      },
      "execution_count": null,
      "outputs": []
    },
    {
      "cell_type": "code",
      "source": [
        "lista = (['FECHA RECAUDO', 'FECHA CAMILLERO', 'FECHA ENFERMERIA', 'FECHA FACTURACION AUDIFARMA', 'FECHA FARMACIA', 'FECHA ASEO',\n",
        "'DX RELACIONADO1 COD', 'DX RELACIONADO2 COD', 'DX RELACIONADO3 COD', 'DX PRINCIPAL EGRESO CATEGORIA COD', 'DX PRINCIPAL EGRESO CAPITULO COD'])"
      ],
      "metadata": {
        "id": "ylwdwnt8dy4J"
      },
      "execution_count": null,
      "outputs": []
    },
    {
      "cell_type": "code",
      "source": [
        "for i in lista:\n",
        "\n",
        "  egresospos=egresospos.drop([i], axis=1)"
      ],
      "metadata": {
        "id": "OnAHyefnhV0G"
      },
      "execution_count": null,
      "outputs": []
    },
    {
      "cell_type": "code",
      "source": [
        "egresospos.isnull().sum()"
      ],
      "metadata": {
        "id": "tgeGRnS7irEJ"
      },
      "execution_count": null,
      "outputs": []
    },
    {
      "cell_type": "code",
      "source": [
        "#Se eliminan aquellos que no agregan valor\n",
        "lista =(['NRO ATENCION', 'NRO INGRESO', 'SERVICIO HABILITADO COD',\n",
        "       'SERVICIO HABILITADO', 'TIPO IDENTIFICACION','FECHA NACIMIENTO','REGIMEN AFILIACION', 'MODALIDAD CONTRATO', 'FUENTE FINANCIACION1', 'FUENTE FINANCIACION2',\n",
        "       'SERVICIO ANTERIOR', 'NRO CAMA ANTERIOR', 'VIA INGRESO', 'BLOQUE','UNIDAD ESTRATEGICA', 'PISO', 'NRO CAMA', 'SERVICIO EGRESO', 'FECHA INGRESO SERVICIO',\n",
        "       'FECHA ALTA MEDICA',  'FECHA SALIDA','DEMORA ASIGNACION CAMA', 'DEMORA APLICACION MEDICAMENTO', 'TRANSFUSION SANGRE', 'ANTIBIOTICO','ALTA MEDICA', 'POSIBLE ALTA', 'DXPRINCIPAL EGRESO COD',\n",
        "       'DXPRINCIPAL EGRESO', 'DX RELACIONADO1', 'DX RELACIONADO2', 'TIPO DIAGNOSTICO PRINCIPAL',\n",
        "       'DX PRINCIPAL EGRESO CATEGORIA', 'DX PRINCIPAL EGRESO CAPITULO',\n",
        "       'CAUSA BASICA CATEGORIA',\n",
        "       'CAUSA BASICA CAPITULO','DEMORA SALIDA CLINICA (DIAS)', 'YEAR', 'MES', 'BLOQUE ANTERIOR', 'PISO ANTERIOR', 'PROFESIONAL ESPECIALIDAD', 'FECHA INGRESO CLINICA'])"
      ],
      "metadata": {
        "id": "rM6ceAuzeSfU"
      },
      "execution_count": null,
      "outputs": []
    },
    {
      "cell_type": "code",
      "source": [
        "for i in lista:\n",
        "  egresospos=egresospos.drop([i], axis=1)"
      ],
      "metadata": {
        "id": "XN3Gs6zAdhqD"
      },
      "execution_count": null,
      "outputs": []
    },
    {
      "cell_type": "code",
      "source": [
        "#se ponen todas las columnas en minusculas\n",
        "egresospos.columns = egresospos.columns.str.lower()"
      ],
      "metadata": {
        "id": "ObeqnIpTzO-2"
      },
      "execution_count": null,
      "outputs": []
    },
    {
      "cell_type": "code",
      "source": [
        "df=pd.DataFrame()\n",
        "df['numero_de_hospitalizaciones']= egresospos['nrodoc'].value_counts()\n",
        "df['nrodoc']= egresospos['nrodoc'].value_counts().index\n",
        "df=df.reset_index().drop('index', axis=1)\n",
        "df"
      ],
      "metadata": {
        "id": "oPvhyymavI80"
      },
      "execution_count": null,
      "outputs": []
    },
    {
      "cell_type": "code",
      "source": [
        "egresosposf= funcion_1(egresospos)"
      ],
      "metadata": {
        "id": "vzXU4QVkytV0"
      },
      "execution_count": null,
      "outputs": []
    },
    {
      "cell_type": "code",
      "source": [
        "egresosposf"
      ],
      "metadata": {
        "id": "K2dl7L4oznVD"
      },
      "execution_count": null,
      "outputs": []
    },
    {
      "cell_type": "code",
      "source": [
        "#se une la base de datos egresosposf y el numero de hospitalizaciones\n",
        "egresosposf1=pd.merge(df, egresosposf, on='nrodoc', how='left')"
      ],
      "metadata": {
        "id": "FIuhtVzqzrLZ"
      },
      "execution_count": null,
      "outputs": []
    },
    {
      "cell_type": "code",
      "source": [
        "egresosposf1"
      ],
      "metadata": {
        "id": "15vhrHX1e3XA"
      },
      "execution_count": null,
      "outputs": []
    },
    {
      "cell_type": "code",
      "source": [
        "#Se elimina fila extra\n",
        "egresosposf1=egresosposf1.drop(['index'], axis=1)"
      ],
      "metadata": {
        "id": "4sQ_QsD3fU7m"
      },
      "execution_count": null,
      "outputs": []
    },
    {
      "cell_type": "code",
      "source": [
        "#Se arregla el tipo de datos (#aqui se cambia el tipo de dato pero no se guarda el cambio solo lo muestra)\n",
        "egresosposf1.convert_dtypes().dtypes"
      ],
      "metadata": {
        "colab": {
          "base_uri": "https://localhost:8080/"
        },
        "id": "vHt4xPg7xJQn",
        "outputId": "7430f1eb-a0b0-4cb0-c9df-a9e0588ebdf9"
      },
      "execution_count": null,
      "outputs": [
        {
          "output_type": "execute_result",
          "data": {
            "text/plain": [
              "numero_de_diagnosticos           Int64\n",
              "nrodoc                           Int64\n",
              "eps validada                    string\n",
              "servicio admite                 string\n",
              "tipo egreso                     string\n",
              "dx relacionado3                 string\n",
              "causa basica muerte             string\n",
              "profesional especialidad grd    string\n",
              "dtype: object"
            ]
          },
          "metadata": {},
          "execution_count": 26
        }
      ]
    },
    {
      "cell_type": "code",
      "source": [
        "egresosposf1.columns"
      ],
      "metadata": {
        "colab": {
          "base_uri": "https://localhost:8080/"
        },
        "id": "6ixmlvRBfPaP",
        "outputId": "6fe9090b-b93a-4132-d7d8-400c083e2b4a"
      },
      "execution_count": null,
      "outputs": [
        {
          "output_type": "execute_result",
          "data": {
            "text/plain": [
              "Index(['numero_de_diagnosticos', 'nrodoc', 'eps validada', 'servicio admite',\n",
              "       'tipo egreso', 'dx relacionado3', 'causa basica muerte',\n",
              "       'profesional especialidad grd'],\n",
              "      dtype='object')"
            ]
          },
          "metadata": {},
          "execution_count": 28
        }
      ]
    },
    {
      "cell_type": "code",
      "source": [
        "#Se mira que cada columna tenga sus datos escritos correctamente\n",
        "listae=(['eps validada', 'servicio admite',\n",
        "       'tipo egreso', 'dx relacionado3', 'causa basica muerte',\n",
        "       'profesional especialidad grd'])"
      ],
      "metadata": {
        "id": "KBXcHjB_r3CU"
      },
      "execution_count": null,
      "outputs": []
    },
    {
      "cell_type": "code",
      "source": [
        "for i in listae:\n",
        "    print(i)\n",
        "    print(egresosposf1[i].unique())\n",
        "    ('----------------------------------------------')"
      ],
      "metadata": {
        "id": "hAUQiE-YsGPh"
      },
      "execution_count": null,
      "outputs": []
    },
    {
      "cell_type": "code",
      "source": [
        "#base de datos final\n",
        "egresosposf1=egresosposf1.copy(deep = True)"
      ],
      "metadata": {
        "id": "T7B5IiWRqcKF"
      },
      "execution_count": null,
      "outputs": []
    },
    {
      "cell_type": "markdown",
      "source": [
        "Depuración base de datos usuariospos"
      ],
      "metadata": {
        "id": "00iNUQnwuVfV"
      }
    },
    {
      "cell_type": "code",
      "source": [
        "usuariospos.columns"
      ],
      "metadata": {
        "id": "tEDrLTGZudj7"
      },
      "execution_count": null,
      "outputs": []
    },
    {
      "cell_type": "code",
      "source": [
        "#se mira el porcentaje de nulos\n",
        "print(round(usuariospos.isnull().sum().sum()/usuariospos.size, 2)*100, \"%\")"
      ],
      "metadata": {
        "colab": {
          "base_uri": "https://localhost:8080/"
        },
        "id": "W-DkIV0OgDGb",
        "outputId": "ce74202c-cadd-457e-c81b-2c63ff3c7eb3"
      },
      "execution_count": null,
      "outputs": [
        {
          "output_type": "stream",
          "name": "stdout",
          "text": [
            "3.0 %\n"
          ]
        }
      ]
    },
    {
      "cell_type": "code",
      "source": [
        "#se eliminan aquellas columnas que tengan más de 60% de sus datos nulos\n",
        "lista=usuariospos.columns"
      ],
      "metadata": {
        "id": "Lerm7uJJgGZd"
      },
      "execution_count": null,
      "outputs": []
    },
    {
      "cell_type": "code",
      "source": [
        "for i in lista:\n",
        "  if (usuariospos[i].isnull().sum() / len(usuariospos))*100> 60 :\n",
        "    usuariospos=usuariospos.drop([i], axis=1)\n"
      ],
      "metadata": {
        "id": "PZCQn0TqghsH"
      },
      "execution_count": null,
      "outputs": []
    },
    {
      "cell_type": "code",
      "source": [
        "usuariospos.info()"
      ],
      "metadata": {
        "id": "uEVv_fDTgvC9"
      },
      "execution_count": null,
      "outputs": []
    },
    {
      "cell_type": "code",
      "source": [
        "# se miran los datos sin nulos que no tengan valor y se los elimina\n",
        "lista=usuariospos.columns\n",
        "cont=0\n",
        "for i in lista:\n",
        "  if usuariospos[i].isnull().sum()<=0:\n",
        "    print(i)\n",
        "    (\"--------------------------------------\")"
      ],
      "metadata": {
        "colab": {
          "base_uri": "https://localhost:8080/"
        },
        "id": "ini6GVI8g1br",
        "outputId": "25b199b0-171a-4043-dcf0-9a3462e22730"
      },
      "execution_count": null,
      "outputs": [
        {
          "output_type": "stream",
          "name": "stdout",
          "text": [
            "MES\n",
            "YEAR\n",
            "NRODOC\n",
            "SEXO\n",
            "FECHA NACIMIENTO\n",
            "EDAD\n",
            "FECHA INICIO AL PGP\n",
            "CICLO_VITAL\n",
            "QUINQUENIO\n"
          ]
        }
      ]
    },
    {
      "cell_type": "code",
      "source": [
        "#se evaluan cual puede servir en el modelo o ya exista otra columna con la misma información\n",
        "usuariospos['QUINQUENIO'].unique()"
      ],
      "metadata": {
        "id": "Zcz86tnlvJ97"
      },
      "execution_count": null,
      "outputs": []
    },
    {
      "cell_type": "code",
      "source": [
        "#se elimina las columnas\n",
        "usuariospos=usuariospos.drop(['MES'], axis=1)\n",
        "usuariospos=usuariospos.drop(['YEAR'], axis=1)\n",
        "usuariospos=usuariospos.drop(['FECHA NACIMIENTO'], axis=1)\n",
        "usuariospos=usuariospos.drop(['FECHA INICIO AL PGP'], axis=1)\n",
        "usuariospos=usuariospos.drop(['QUINQUENIO'], axis=1)"
      ],
      "metadata": {
        "id": "qVsuTo_HhpMi"
      },
      "execution_count": null,
      "outputs": []
    },
    {
      "cell_type": "code",
      "source": [
        "#se miran las variables con nulos\n",
        "lista= usuariospos.columns"
      ],
      "metadata": {
        "id": "1Cb0sY60iRmt"
      },
      "execution_count": null,
      "outputs": []
    },
    {
      "cell_type": "code",
      "source": [
        "for i in lista:\n",
        "  print(i)\n",
        "  print(usuariospos[i].isnull().sum())\n",
        "  print('------------------------------------------------')"
      ],
      "metadata": {
        "id": "6qlBjbOah-QU"
      },
      "execution_count": null,
      "outputs": []
    },
    {
      "cell_type": "code",
      "source": [
        "usuariospos['PRIMERA CLASE FUNCIONAL'].unique()"
      ],
      "metadata": {
        "id": "VBnO6OhsjR8n"
      },
      "execution_count": null,
      "outputs": []
    },
    {
      "cell_type": "code",
      "source": [
        "#se miran las variables repetidas, que no tengan valor o que sus nulos no puedan ser reemplazados por algun valor logico\n",
        "lista3=(['BARRIO','FECHA PRIMERA CLASE FUNCIONAL', 'FECHA ÚLTIMA CLASE FUNCIONAL', 'ÚLTIMA CLASE FUNCIONAL', \n",
        "         'PRIMERA CLASE FUNCIONAL', 'MUNICIPIO'])"
      ],
      "metadata": {
        "id": "UY1lr9WhumeH"
      },
      "execution_count": null,
      "outputs": []
    },
    {
      "cell_type": "code",
      "source": [
        "for i in lista3:\n",
        "\n",
        "  usuariospos=usuariospos.drop([i], axis=1)"
      ],
      "metadata": {
        "id": "2vCfi5QLv01U"
      },
      "execution_count": null,
      "outputs": []
    },
    {
      "cell_type": "code",
      "source": [
        "usuariospos.head(3)"
      ],
      "metadata": {
        "id": "dzazFQ8-wVGz",
        "colab": {
          "base_uri": "https://localhost:8080/",
          "height": 143
        },
        "outputId": "cb70d68e-77b0-433d-ae6c-045bc757cd6f"
      },
      "execution_count": null,
      "outputs": [
        {
          "output_type": "execute_result",
          "data": {
            "text/plain": [
              "        NRODOC SEXO  EDAD DEPARTAMENTO CICLO_VITAL\n",
              "101490  311028    M  69.0    ANTIOQUIA       Vejez\n",
              "101491  310961    M  75.0    ANTIOQUIA       Vejez\n",
              "101492  311235    F  85.0    ANTIOQUIA       Vejez"
            ],
            "text/html": [
              "\n",
              "  <div id=\"df-e144710f-b856-4288-91e2-ad34af924cab\">\n",
              "    <div class=\"colab-df-container\">\n",
              "      <div>\n",
              "<style scoped>\n",
              "    .dataframe tbody tr th:only-of-type {\n",
              "        vertical-align: middle;\n",
              "    }\n",
              "\n",
              "    .dataframe tbody tr th {\n",
              "        vertical-align: top;\n",
              "    }\n",
              "\n",
              "    .dataframe thead th {\n",
              "        text-align: right;\n",
              "    }\n",
              "</style>\n",
              "<table border=\"1\" class=\"dataframe\">\n",
              "  <thead>\n",
              "    <tr style=\"text-align: right;\">\n",
              "      <th></th>\n",
              "      <th>NRODOC</th>\n",
              "      <th>SEXO</th>\n",
              "      <th>EDAD</th>\n",
              "      <th>DEPARTAMENTO</th>\n",
              "      <th>CICLO_VITAL</th>\n",
              "    </tr>\n",
              "  </thead>\n",
              "  <tbody>\n",
              "    <tr>\n",
              "      <th>101490</th>\n",
              "      <td>311028</td>\n",
              "      <td>M</td>\n",
              "      <td>69.0</td>\n",
              "      <td>ANTIOQUIA</td>\n",
              "      <td>Vejez</td>\n",
              "    </tr>\n",
              "    <tr>\n",
              "      <th>101491</th>\n",
              "      <td>310961</td>\n",
              "      <td>M</td>\n",
              "      <td>75.0</td>\n",
              "      <td>ANTIOQUIA</td>\n",
              "      <td>Vejez</td>\n",
              "    </tr>\n",
              "    <tr>\n",
              "      <th>101492</th>\n",
              "      <td>311235</td>\n",
              "      <td>F</td>\n",
              "      <td>85.0</td>\n",
              "      <td>ANTIOQUIA</td>\n",
              "      <td>Vejez</td>\n",
              "    </tr>\n",
              "  </tbody>\n",
              "</table>\n",
              "</div>\n",
              "      <button class=\"colab-df-convert\" onclick=\"convertToInteractive('df-e144710f-b856-4288-91e2-ad34af924cab')\"\n",
              "              title=\"Convert this dataframe to an interactive table.\"\n",
              "              style=\"display:none;\">\n",
              "        \n",
              "  <svg xmlns=\"http://www.w3.org/2000/svg\" height=\"24px\"viewBox=\"0 0 24 24\"\n",
              "       width=\"24px\">\n",
              "    <path d=\"M0 0h24v24H0V0z\" fill=\"none\"/>\n",
              "    <path d=\"M18.56 5.44l.94 2.06.94-2.06 2.06-.94-2.06-.94-.94-2.06-.94 2.06-2.06.94zm-11 1L8.5 8.5l.94-2.06 2.06-.94-2.06-.94L8.5 2.5l-.94 2.06-2.06.94zm10 10l.94 2.06.94-2.06 2.06-.94-2.06-.94-.94-2.06-.94 2.06-2.06.94z\"/><path d=\"M17.41 7.96l-1.37-1.37c-.4-.4-.92-.59-1.43-.59-.52 0-1.04.2-1.43.59L10.3 9.45l-7.72 7.72c-.78.78-.78 2.05 0 2.83L4 21.41c.39.39.9.59 1.41.59.51 0 1.02-.2 1.41-.59l7.78-7.78 2.81-2.81c.8-.78.8-2.07 0-2.86zM5.41 20L4 18.59l7.72-7.72 1.47 1.35L5.41 20z\"/>\n",
              "  </svg>\n",
              "      </button>\n",
              "      \n",
              "  <style>\n",
              "    .colab-df-container {\n",
              "      display:flex;\n",
              "      flex-wrap:wrap;\n",
              "      gap: 12px;\n",
              "    }\n",
              "\n",
              "    .colab-df-convert {\n",
              "      background-color: #E8F0FE;\n",
              "      border: none;\n",
              "      border-radius: 50%;\n",
              "      cursor: pointer;\n",
              "      display: none;\n",
              "      fill: #1967D2;\n",
              "      height: 32px;\n",
              "      padding: 0 0 0 0;\n",
              "      width: 32px;\n",
              "    }\n",
              "\n",
              "    .colab-df-convert:hover {\n",
              "      background-color: #E2EBFA;\n",
              "      box-shadow: 0px 1px 2px rgba(60, 64, 67, 0.3), 0px 1px 3px 1px rgba(60, 64, 67, 0.15);\n",
              "      fill: #174EA6;\n",
              "    }\n",
              "\n",
              "    [theme=dark] .colab-df-convert {\n",
              "      background-color: #3B4455;\n",
              "      fill: #D2E3FC;\n",
              "    }\n",
              "\n",
              "    [theme=dark] .colab-df-convert:hover {\n",
              "      background-color: #434B5C;\n",
              "      box-shadow: 0px 1px 3px 1px rgba(0, 0, 0, 0.15);\n",
              "      filter: drop-shadow(0px 1px 2px rgba(0, 0, 0, 0.3));\n",
              "      fill: #FFFFFF;\n",
              "    }\n",
              "  </style>\n",
              "\n",
              "      <script>\n",
              "        const buttonEl =\n",
              "          document.querySelector('#df-e144710f-b856-4288-91e2-ad34af924cab button.colab-df-convert');\n",
              "        buttonEl.style.display =\n",
              "          google.colab.kernel.accessAllowed ? 'block' : 'none';\n",
              "\n",
              "        async function convertToInteractive(key) {\n",
              "          const element = document.querySelector('#df-e144710f-b856-4288-91e2-ad34af924cab');\n",
              "          const dataTable =\n",
              "            await google.colab.kernel.invokeFunction('convertToInteractive',\n",
              "                                                     [key], {});\n",
              "          if (!dataTable) return;\n",
              "\n",
              "          const docLinkHtml = 'Like what you see? Visit the ' +\n",
              "            '<a target=\"_blank\" href=https://colab.research.google.com/notebooks/data_table.ipynb>data table notebook</a>'\n",
              "            + ' to learn more about interactive tables.';\n",
              "          element.innerHTML = '';\n",
              "          dataTable['output_type'] = 'display_data';\n",
              "          await google.colab.output.renderOutput(dataTable, element);\n",
              "          const docLink = document.createElement('div');\n",
              "          docLink.innerHTML = docLinkHtml;\n",
              "          element.appendChild(docLink);\n",
              "        }\n",
              "      </script>\n",
              "    </div>\n",
              "  </div>\n",
              "  "
            ]
          },
          "metadata": {},
          "execution_count": 92
        }
      ]
    },
    {
      "cell_type": "code",
      "source": [
        "#Se miran los errores en las variables que quedaron\n",
        "usuariospos.columns"
      ],
      "metadata": {
        "id": "TBxAy4NKygy6",
        "colab": {
          "base_uri": "https://localhost:8080/"
        },
        "outputId": "51d0ca82-6e49-4d63-a786-f853ca21d169"
      },
      "execution_count": null,
      "outputs": [
        {
          "output_type": "execute_result",
          "data": {
            "text/plain": [
              "Index(['NRODOC', 'SEXO', 'EDAD', 'DEPARTAMENTO', 'CICLO_VITAL'], dtype='object')"
            ]
          },
          "metadata": {},
          "execution_count": 93
        }
      ]
    },
    {
      "cell_type": "code",
      "source": [
        "lista=usuariospos.columns"
      ],
      "metadata": {
        "id": "_juWvEyrk2kz"
      },
      "execution_count": null,
      "outputs": []
    },
    {
      "cell_type": "code",
      "source": [
        "for i in lista:\n",
        "  print(i)\n",
        "  print(usuariospos[i].unique())\n",
        "  ('---------------------------------------')"
      ],
      "metadata": {
        "id": "PFzlVykak5zP"
      },
      "execution_count": null,
      "outputs": []
    },
    {
      "cell_type": "code",
      "source": [
        "#se decide eliminar departamento debido a que solo tiene 1 dato que es Antioquia\n",
        "usuariospos=usuariospos.drop(['DEPARTAMENTO'], axis=1)"
      ],
      "metadata": {
        "id": "rXKNUGSSlUCP"
      },
      "execution_count": null,
      "outputs": []
    },
    {
      "cell_type": "code",
      "source": [
        "usuariospos.head(2)"
      ],
      "metadata": {
        "id": "Nw_HTsutON9-"
      },
      "execution_count": null,
      "outputs": []
    },
    {
      "cell_type": "code",
      "source": [
        "#se arregla el tipo de dato\n",
        "usuariospos.convert_dtypes().dtypes"
      ],
      "metadata": {
        "id": "fn-vJemTymdu",
        "colab": {
          "base_uri": "https://localhost:8080/"
        },
        "outputId": "34b993da-38a6-474e-a4f5-b41b6a238d38"
      },
      "execution_count": null,
      "outputs": [
        {
          "output_type": "execute_result",
          "data": {
            "text/plain": [
              "NRODOC          Int64\n",
              "SEXO           string\n",
              "EDAD            Int64\n",
              "CICLO_VITAL    string\n",
              "dtype: object"
            ]
          },
          "metadata": {},
          "execution_count": 98
        }
      ]
    },
    {
      "cell_type": "code",
      "source": [
        "#se ponene las variables en minusculas\n",
        "usuariospos.columns = usuariospos.columns.str.lower()"
      ],
      "metadata": {
        "id": "9q-uTeYgl_M_"
      },
      "execution_count": null,
      "outputs": []
    },
    {
      "cell_type": "code",
      "source": [
        "#se miran los registros repetidos\n",
        "df=pd.DataFrame()\n",
        "df['numero_de_usuarios']= usuariospos['nrodoc'].value_counts()\n",
        "df['nrodoc']= usuariospos['nrodoc'].value_counts().index\n",
        "df=df.reset_index().drop('index', axis=1)\n",
        "df"
      ],
      "metadata": {
        "id": "EAQh3QogsIGI"
      },
      "execution_count": null,
      "outputs": []
    },
    {
      "cell_type": "code",
      "source": [
        "#se eliminan los registros repetidos\n",
        "usuariosposf= funcion_1(usuariospos)"
      ],
      "metadata": {
        "id": "0iD9hPP9r1c0"
      },
      "execution_count": null,
      "outputs": []
    },
    {
      "cell_type": "code",
      "source": [
        "#se elimina columna extra\n",
        "usuariosposf=usuariosposf.drop(['index'], axis=1)"
      ],
      "metadata": {
        "id": "je6Befmbsic1"
      },
      "execution_count": null,
      "outputs": []
    },
    {
      "cell_type": "code",
      "source": [
        "usuariosposf"
      ],
      "metadata": {
        "id": "WnjEZ8iZtpTo"
      },
      "execution_count": null,
      "outputs": []
    },
    {
      "cell_type": "code",
      "source": [
        "usuariosposf1=usuariospos.copy(deep = True)"
      ],
      "metadata": {
        "id": "4eU-iEglWT4k"
      },
      "execution_count": null,
      "outputs": []
    },
    {
      "cell_type": "markdown",
      "source": [
        "BD GENERAL"
      ],
      "metadata": {
        "id": "TlR_ppLJqmjw"
      }
    },
    {
      "cell_type": "code",
      "source": [
        "#hacer que el cambio de tipo de dato se guarde en la base\n",
        "#unir bases de datos sin borrar aquellos id(nrod) que no encuentre\n",
        "#en la columna numero de hospitalizaciones se debe poner el dato nulo en 0 que son todos los que no entraron\n",
        "#corr() se hace el corr y se miran aquellas variables que tengan relacion con la variable target(numero de hospitalizaciones) y las 20 que mas se relacionen hacer graficos\n",
        "#se miran las variables de string que tengan muchos datos distintos y se las saca del modelo, luego se redimensionan aquellas que si se puedan por ejemplo sexo, etc, y finalmente vuelves a ahcer el de correlaciones y dejas 20 para luego que el modelo escoja 10 \n",
        "#hacer lasso, elasticnet y red neuronal cambiando 3 veces sus hiperparametros (hay mas datos sin hospitacion que con hospitalicion, se debe jugar con los pesos)\n",
        "#escoges el que de mejor en las metricas y evaluacion de desempeño "
      ],
      "metadata": {
        "id": "ga4tCavcolp2"
      },
      "execution_count": null,
      "outputs": []
    },
    {
      "cell_type": "code",
      "source": [],
      "metadata": {
        "id": "V5LtJP_o0iDe"
      },
      "execution_count": null,
      "outputs": []
    }
  ]
}