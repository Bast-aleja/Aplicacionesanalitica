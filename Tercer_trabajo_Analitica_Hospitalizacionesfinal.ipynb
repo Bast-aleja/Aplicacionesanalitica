{
  "nbformat": 4,
  "nbformat_minor": 0,
  "metadata": {
    "colab": {
      "provenance": [],
      "collapsed_sections": [],
      "include_colab_link": true
    },
    "kernelspec": {
      "name": "python3",
      "display_name": "Python 3"
    },
    "language_info": {
      "name": "python"
    }
  },
  "cells": [
    {
      "cell_type": "markdown",
      "metadata": {
        "id": "view-in-github",
        "colab_type": "text"
      },
      "source": [
        "<a href=\"https://colab.research.google.com/github/Bast-aleja/Aplicacionesanalitica/blob/main/Tercer_trabajo_Analitica_Hospitalizacionesfinal.ipynb\" target=\"_parent\"><img src=\"https://colab.research.google.com/assets/colab-badge.svg\" alt=\"Open In Colab\"/></a>"
      ]
    },
    {
      "cell_type": "code",
      "execution_count": null,
      "metadata": {
        "id": "DAcZxWJCsdaR"
      },
      "outputs": [],
      "source": [
        "##importar paquetes\n",
        "import pandas as pd\n",
        "import numpy as np\n",
        "import random"
      ]
    },
    {
      "cell_type": "code",
      "source": [
        "#importar datos \n",
        "from google.colab import drive\n",
        "drive.mount('/content/drive')"
      ],
      "metadata": {
        "id": "Y6FyadkVsis5",
        "colab": {
          "base_uri": "https://localhost:8080/"
        },
        "outputId": "300e8f8c-4ea2-48e1-8f13-3bec749ffd4d"
      },
      "execution_count": null,
      "outputs": [
        {
          "output_type": "stream",
          "name": "stdout",
          "text": [
            "Drive already mounted at /content/drive; to attempt to forcibly remount, call drive.mount(\"/content/drive\", force_remount=True).\n"
          ]
        }
      ]
    },
    {
      "cell_type": "code",
      "source": [
        "# cargar bases\n",
        "cronicos= pd.read_csv('/content/drive/MyDrive/analiticatres/RETO_df_cronicos.csv', sep=\",\")\n",
        "egresos= pd.read_csv('/content/drive/MyDrive/analiticatres/RETO_df_egresos.csv', sep=\",\")\n",
        "usuarios= pd.read_csv('/content/drive/MyDrive/analiticatres/RETO_df_usuarios.csv', sep=\",\")"
      ],
      "metadata": {
        "id": "jSSJyLALskew",
        "colab": {
          "base_uri": "https://localhost:8080/"
        },
        "outputId": "09d1dffa-244e-4ffe-b5af-241cad6eddaf"
      },
      "execution_count": null,
      "outputs": [
        {
          "output_type": "stream",
          "name": "stderr",
          "text": [
            "/usr/local/lib/python3.7/dist-packages/IPython/core/interactiveshell.py:3326: DtypeWarning:\n",
            "\n",
            "Columns (34,36,39,40,50,52,55,56,58,62,64,65,66,75,107,108,111,122,123,124,125,126,127,128,129,130,131,132,133,134,135,136,137,138,139,140,141,142,143,144,145,146,147,148,149,150,151,152,153,154,155,156,157,158,159,160,161,162,163,164,165,166,167,168,169,170,171,172,173,174,175,176,177,178,179,180,181,182,183,184,185,186,187,188,189,190,191,192,193,194,195,196,197,198,199,200,201,202,203,204,205,206,207,208,209,210,211,212,213,214,215,216,217,218,219,220,221,222,223,224,225,226,227,228,229,230,231,232,233,234,235,236,237,238,239,240,241,242,243,244,245,246,247,248,249,250,251,252,253,254,255,256,257,258,259,260,261,262,263,264,265,266,267,268,269,270,271,272,273,274,275,276,277,278,279,280,281,282,283,284,285,286,287,288,289) have mixed types.Specify dtype option on import or set low_memory=False.\n",
            "\n",
            "/usr/local/lib/python3.7/dist-packages/IPython/core/interactiveshell.py:3326: DtypeWarning:\n",
            "\n",
            "Columns (4,6,7,9,10,11,12) have mixed types.Specify dtype option on import or set low_memory=False.\n",
            "\n"
          ]
        }
      ]
    },
    {
      "cell_type": "code",
      "source": [
        "cronicos.info()"
      ],
      "metadata": {
        "id": "OPGokBMQsmn_",
        "colab": {
          "base_uri": "https://localhost:8080/"
        },
        "outputId": "4f7e5b49-dd77-451e-a673-a5d77ea2d824"
      },
      "execution_count": null,
      "outputs": [
        {
          "output_type": "stream",
          "name": "stdout",
          "text": [
            "<class 'pandas.core.frame.DataFrame'>\n",
            "RangeIndex: 38736 entries, 0 to 38735\n",
            "Columns: 290 entries, YEAR to NombreDiagnostico83\n",
            "dtypes: float64(39), int64(10), object(241)\n",
            "memory usage: 85.7+ MB\n"
          ]
        }
      ]
    },
    {
      "cell_type": "code",
      "source": [
        "egresos.info()"
      ],
      "metadata": {
        "id": "CpzkKkcPswS-",
        "colab": {
          "base_uri": "https://localhost:8080/"
        },
        "outputId": "34e4a677-61a9-41a9-f6d1-176184c080b6"
      },
      "execution_count": null,
      "outputs": [
        {
          "output_type": "stream",
          "name": "stdout",
          "text": [
            "<class 'pandas.core.frame.DataFrame'>\n",
            "RangeIndex: 6376 entries, 0 to 6375\n",
            "Data columns (total 66 columns):\n",
            " #   Column                             Non-Null Count  Dtype  \n",
            "---  ------                             --------------  -----  \n",
            " 0   YEAR                               6376 non-null   int64  \n",
            " 1   MES                                6376 non-null   object \n",
            " 2   NRO ATENCION                       6376 non-null   int64  \n",
            " 3   NRO INGRESO                        6376 non-null   int64  \n",
            " 4   SERVICIO HABILITADO COD            6376 non-null   float64\n",
            " 5   SERVICIO HABILITADO                6376 non-null   object \n",
            " 6   TIPO IDENTIFICACION                6376 non-null   object \n",
            " 7   NRODOC                             6376 non-null   int64  \n",
            " 8   FECHA NACIMIENTO                   6376 non-null   object \n",
            " 9   REGIMEN AFILIACION                 6376 non-null   object \n",
            " 10  EPS VALIDADA                       4103 non-null   object \n",
            " 11  MODALIDAD CONTRATO                 6376 non-null   object \n",
            " 12  FUENTE FINANCIACION1               6376 non-null   object \n",
            " 13  FUENTE FINANCIACION2               6376 non-null   object \n",
            " 14  SERVICIO ADMITE                    6376 non-null   object \n",
            " 15  BLOQUE ANTERIOR                    6376 non-null   object \n",
            " 16  PISO ANTERIOR                      6376 non-null   object \n",
            " 17  SERVICIO ANTERIOR                  6376 non-null   object \n",
            " 18  NRO CAMA ANTERIOR                  6376 non-null   object \n",
            " 19  VIA INGRESO                        6376 non-null   object \n",
            " 20  BLOQUE                             6376 non-null   object \n",
            " 21  UNIDAD ESTRATEGICA                 6376 non-null   object \n",
            " 22  PISO                               6376 non-null   object \n",
            " 23  NRO CAMA                           6376 non-null   object \n",
            " 24  SERVICIO EGRESO                    6376 non-null   object \n",
            " 25  TIPO EGRESO                        6376 non-null   object \n",
            " 26  FECHA INGRESO CLINICA              4105 non-null   object \n",
            " 27  FECHA INGRESO SERVICIO             4104 non-null   object \n",
            " 28  FECHA POSIBLE ALTA                 153 non-null    object \n",
            " 29  FECHA ALTA MEDICA                  6376 non-null   object \n",
            " 30  FECHA RECAUDO                      1599 non-null   object \n",
            " 31  FECHA CAMILLERO                    1836 non-null   object \n",
            " 32  FECHA ENFERMERIA                   1453 non-null   object \n",
            " 33  FECHA FACTURACION AUDIFARMA        2080 non-null   object \n",
            " 34  FECHA FARMACIA                     2061 non-null   object \n",
            " 35  FECHA SALIDA                       6376 non-null   object \n",
            " 36  FECHA ASEO                         1981 non-null   object \n",
            " 37  DEMORA ASIGNACION CAMA             6376 non-null   object \n",
            " 38  DEMORA APLICACION MEDICAMENTO      6376 non-null   object \n",
            " 39  DEMORA SALIDA CLINICA (DIAS)       6376 non-null   float64\n",
            " 40  TRANSFUSION SANGRE                 6376 non-null   object \n",
            " 41  ANTIBIOTICO                        6376 non-null   object \n",
            " 42  ALTA MEDICA                        6376 non-null   object \n",
            " 43  POSIBLE ALTA                       6376 non-null   object \n",
            " 44  DXPRINCIPAL EGRESO COD             6376 non-null   object \n",
            " 45  DXPRINCIPAL EGRESO                 6376 non-null   object \n",
            " 46  DX RELACIONADO1 COD                6357 non-null   object \n",
            " 47  DX RELACIONADO1                    6376 non-null   object \n",
            " 48  DX RELACIONADO2 COD                6309 non-null   object \n",
            " 49  DX RELACIONADO2                    6376 non-null   object \n",
            " 50  DX RELACIONADO3 COD                6195 non-null   object \n",
            " 51  DX RELACIONADO3                    6376 non-null   object \n",
            " 52  TIPO DIAGNOSTICO PRINCIPAL         6376 non-null   object \n",
            " 53  PERTINENCIA DIAGNOSTICA            1184 non-null   object \n",
            " 54  DX PRINCIPAL EGRESO CATEGORIA COD  6304 non-null   object \n",
            " 55  DX PRINCIPAL EGRESO CATEGORIA      6376 non-null   object \n",
            " 56  DX PRINCIPAL EGRESO CAPITULO COD   6304 non-null   object \n",
            " 57  DX PRINCIPAL EGRESO CAPITULO       6376 non-null   object \n",
            " 58  CAUSA BASICA MUERTE COD            566 non-null    object \n",
            " 59  CAUSA BASICA MUERTE                6376 non-null   object \n",
            " 60  CAUSA BASICA CATEGORIA COD         564 non-null    object \n",
            " 61  CAUSA BASICA CATEGORIA             6376 non-null   object \n",
            " 62  CAUSA BASICA CAPITULO COD          564 non-null    object \n",
            " 63  CAUSA BASICA CAPITULO              6376 non-null   object \n",
            " 64  PROFESIONAL ESPECIALIDAD           6376 non-null   object \n",
            " 65  PROFESIONAL ESPECIALIDAD GRD       6376 non-null   object \n",
            "dtypes: float64(2), int64(4), object(60)\n",
            "memory usage: 3.2+ MB\n"
          ]
        }
      ]
    },
    {
      "cell_type": "code",
      "source": [
        "usuarios.info()"
      ],
      "metadata": {
        "id": "I_colPvrsxnP",
        "colab": {
          "base_uri": "https://localhost:8080/"
        },
        "outputId": "abfebbf4-c56b-4523-ea45-0dbb0b66616d"
      },
      "execution_count": null,
      "outputs": [
        {
          "output_type": "stream",
          "name": "stdout",
          "text": [
            "<class 'pandas.core.frame.DataFrame'>\n",
            "RangeIndex: 183911 entries, 0 to 183910\n",
            "Data columns (total 16 columns):\n",
            " #   Column                         Non-Null Count   Dtype  \n",
            "---  ------                         --------------   -----  \n",
            " 0   MES                            183911 non-null  object \n",
            " 1   YEAR                           183911 non-null  int64  \n",
            " 2   NRODOC                         183911 non-null  int64  \n",
            " 3   SEXO                           183901 non-null  object \n",
            " 4   FECHA NACIMIENTO               111831 non-null  object \n",
            " 5   EDAD                           149755 non-null  float64\n",
            " 6   DEPARTAMENTO                   82284 non-null   object \n",
            " 7   MUNICIPIO                      81397 non-null   object \n",
            " 8   BARRIO                         115344 non-null  object \n",
            " 9   FECHA INICIO AL PGP            125658 non-null  object \n",
            " 10  FECHA PRIMERA CLASE FUNCIONAL  87961 non-null   object \n",
            " 11  PRIMERA CLASE FUNCIONAL        89641 non-null   object \n",
            " 12  FECHA ÚLTIMA CLASE FUNCIONAL   87985 non-null   object \n",
            " 13  ÚLTIMA CLASE FUNCIONAL         128109 non-null  object \n",
            " 14  CICLO_VITAL                    149755 non-null  object \n",
            " 15  QUINQUENIO                     149755 non-null  object \n",
            "dtypes: float64(1), int64(2), object(13)\n",
            "memory usage: 22.5+ MB\n"
          ]
        }
      ]
    },
    {
      "cell_type": "code",
      "source": [
        "#se separan las bases de datos según los años antes y despues de la pandemia\n",
        "cronicospos = cronicos[(cronicos['YEAR']> 2018)]\n",
        "cronicospre = cronicos[(cronicos['YEAR']<= 2018)]\n",
        "egresospos=egresos[(egresos['YEAR']> 2018)]\n",
        "egresospre=egresos[(egresos['YEAR']<= 2018)]\n",
        "usuariospos=usuarios[(usuarios['YEAR']> 2018)]\n",
        "usuariospre=usuarios[(usuarios['YEAR']<= 2018)]"
      ],
      "metadata": {
        "id": "6jWIaUrlufy1"
      },
      "execution_count": null,
      "outputs": []
    },
    {
      "cell_type": "markdown",
      "source": [
        "**TRATAMIENTO DE BASES DESPUÉS DE PANDEMIA**"
      ],
      "metadata": {
        "id": "DFw2h3w0x4KY"
      }
    },
    {
      "cell_type": "markdown",
      "source": [
        "BASE CRONICOSPOS"
      ],
      "metadata": {
        "id": "a_L8NqZDGPnM"
      }
    },
    {
      "cell_type": "code",
      "source": [
        "cronicospos.info()"
      ],
      "metadata": {
        "id": "p1LCYHRxxqyI",
        "colab": {
          "base_uri": "https://localhost:8080/"
        },
        "outputId": "265f1b59-700c-43e6-a6d1-fe84e20231e7"
      },
      "execution_count": null,
      "outputs": [
        {
          "output_type": "stream",
          "name": "stdout",
          "text": [
            "<class 'pandas.core.frame.DataFrame'>\n",
            "Int64Index: 25909 entries, 12827 to 38735\n",
            "Columns: 290 entries, YEAR to NombreDiagnostico83\n",
            "dtypes: float64(39), int64(10), object(241)\n",
            "memory usage: 57.5+ MB\n"
          ]
        }
      ]
    },
    {
      "cell_type": "code",
      "source": [
        "cronicospos.columns"
      ],
      "metadata": {
        "id": "ucptUC0KzB4Q",
        "colab": {
          "base_uri": "https://localhost:8080/"
        },
        "outputId": "9a2f6825-4efe-4c60-b85f-c4d2732aa336"
      },
      "execution_count": null,
      "outputs": [
        {
          "output_type": "execute_result",
          "data": {
            "text/plain": [
              "Index(['YEAR', 'MES', 'Fecha diligenciamiento', 'Hora', 'Atención', 'Ingreso',\n",
              "       'Tipo', 'NRODOC', 'Peso', 'Talla',\n",
              "       ...\n",
              "       'Diagnostico79', 'NombreDiagnostico79', 'Diagnostico80',\n",
              "       'NombreDiagnostico80', 'Diagnostico81', 'NombreDiagnostico81',\n",
              "       'Diagnostico82', 'NombreDiagnostico82', 'Diagnostico83',\n",
              "       'NombreDiagnostico83'],\n",
              "      dtype='object', length=290)"
            ]
          },
          "metadata": {},
          "execution_count": 203
        }
      ]
    },
    {
      "cell_type": "code",
      "source": [
        "#Se pasan todas las columnas a minusculas para ser tratadas más facil\n",
        "cronicospos.columns = cronicospos.columns.str.lower()"
      ],
      "metadata": {
        "id": "hALa1Glnydd0"
      },
      "execution_count": null,
      "outputs": []
    },
    {
      "cell_type": "code",
      "source": [
        "#Porcentaje de representación de datos nulos en la base cronicospos\n",
        "print(round(cronicospos.isnull().sum().sum()/cronicospos.size, 2)*100, \"%\")"
      ],
      "metadata": {
        "colab": {
          "base_uri": "https://localhost:8080/"
        },
        "id": "myWb7BHXz6xR",
        "outputId": "61cceec8-a14c-47b4-c266-a66108f595bf"
      },
      "execution_count": null,
      "outputs": [
        {
          "output_type": "stream",
          "name": "stdout",
          "text": [
            "68.0 %\n"
          ]
        }
      ]
    },
    {
      "cell_type": "code",
      "source": [
        "#Se evalua el porcentaje de nulos por columna\n",
        "((cronicospos.isnull().sum() / len(cronicospos))*100).sort_values(ascending = False)"
      ],
      "metadata": {
        "id": "HmPwDHRj6wBc",
        "colab": {
          "base_uri": "https://localhost:8080/"
        },
        "outputId": "1c07ced9-321f-4260-a4ef-5b7ae6896b14"
      },
      "execution_count": null,
      "outputs": [
        {
          "output_type": "execute_result",
          "data": {
            "text/plain": [
              "otras morbilidades                        100.0\n",
              "espirometria                              100.0\n",
              "gravedad                                  100.0\n",
              "diagnóstico epoc                          100.0\n",
              "clasificación                             100.0\n",
              "                                          ...  \n",
              "tiempo en segundos (recorrer 5 metros)      0.0\n",
              "velocidad (m/s)                             0.0\n",
              "calificación velocidad                      0.0\n",
              "ambito según el médico                      0.0\n",
              "year                                        0.0\n",
              "Length: 290, dtype: float64"
            ]
          },
          "metadata": {},
          "execution_count": 206
        }
      ]
    },
    {
      "cell_type": "code",
      "source": [
        "#Se eliminan aquellas columnas en las que el porcentaje de nulos sea mayor al 60%\n",
        "lista=cronicospos.columns"
      ],
      "metadata": {
        "id": "g0d3RVoezTpQ"
      },
      "execution_count": null,
      "outputs": []
    },
    {
      "cell_type": "code",
      "source": [
        "for i in lista:\n",
        "  if (cronicospos[i].isnull().sum() / len(cronicospos))*100> 60 :\n",
        "    cronicospos=cronicospos.drop([i], axis=1)\n"
      ],
      "metadata": {
        "id": "ccYhPT4c0pT-"
      },
      "execution_count": null,
      "outputs": []
    },
    {
      "cell_type": "code",
      "source": [
        "#La base queda con 97 columnas de 290\n",
        "cronicospos.info()"
      ],
      "metadata": {
        "id": "g-YP9aUO9QB6",
        "colab": {
          "base_uri": "https://localhost:8080/"
        },
        "outputId": "dd266e17-939e-4df9-b46e-fbe7da122dfc"
      },
      "execution_count": null,
      "outputs": [
        {
          "output_type": "stream",
          "name": "stdout",
          "text": [
            "<class 'pandas.core.frame.DataFrame'>\n",
            "Int64Index: 25909 entries, 12827 to 38735\n",
            "Data columns (total 97 columns):\n",
            " #   Column                                     Non-Null Count  Dtype  \n",
            "---  ------                                     --------------  -----  \n",
            " 0   year                                       25909 non-null  int64  \n",
            " 1   mes                                        25909 non-null  object \n",
            " 2   fecha diligenciamiento                     25909 non-null  object \n",
            " 3   hora                                       25909 non-null  object \n",
            " 4   atención                                   25909 non-null  int64  \n",
            " 5   ingreso                                    25909 non-null  int64  \n",
            " 6   tipo                                       25909 non-null  object \n",
            " 7   nrodoc                                     25909 non-null  int64  \n",
            " 8   peso                                       25909 non-null  float64\n",
            " 9   talla                                      25909 non-null  float64\n",
            " 10  imc                                        25909 non-null  float64\n",
            " 11  clasificación imc                          25909 non-null  object \n",
            " 12  saturación de oxígeno (%)                  25792 non-null  float64\n",
            " 13  perímetro muslo                            25909 non-null  float64\n",
            " 14  perímetro cintura                          25909 non-null  float64\n",
            " 15  pliegue triceps                            25909 non-null  float64\n",
            " 16  pliegue abdomen                            25909 non-null  float64\n",
            " 17  pliegue muslo                              25909 non-null  float64\n",
            " 18  sumatoria pliegues                         25909 non-null  float64\n",
            " 19  presión arterial sistólica                 25909 non-null  int64  \n",
            " 20  presión arterial diastólica                25909 non-null  int64  \n",
            " 21  frecuencia cardíaca en reposo              25909 non-null  int64  \n",
            " 22  auto-calificacion nivel de ejercicio       25909 non-null  int64  \n",
            " 23  constantes                                 25909 non-null  float64\n",
            " 24  mets -índice metabólico                    25909 non-null  float64\n",
            " 25  vo2 - máxima cantidad de oxígeno           25909 non-null  float64\n",
            " 26  índice de fragilidad groningen             25907 non-null  float64\n",
            " 27  calificación (índice de fragilidad)        25909 non-null  object \n",
            " 28  tiempo en segundos (apoyo monopodal)       25909 non-null  int64  \n",
            " 29  calificación (apoyo monopodal)             25909 non-null  object \n",
            " 30  tiempo en segundos (recorrer 5 metros)     25909 non-null  int64  \n",
            " 31  velocidad (m/s)                            25909 non-null  float64\n",
            " 32  calificación velocidad                     25909 non-null  object \n",
            " 33  test findrisc                              13232 non-null  object \n",
            " 34  índice tobillo/brazo                       19593 non-null  object \n",
            " 35  observaciones                              10801 non-null  object \n",
            " 36  presión arterial registro medico           15905 non-null  object \n",
            " 37  diabetes mellitus                          25405 non-null  object \n",
            " 38  tipo diabetes mellitus                     12262 non-null  object \n",
            " 39  tiempo con el diagnóstico                  11282 non-null  object \n",
            " 40  glicemia                                   25405 non-null  float64\n",
            " 41  fecha glicemia                             23537 non-null  object \n",
            " 42  hemoglobina glicada                        25405 non-null  float64\n",
            " 43  fecha hemoglobina glicosilada              22373 non-null  object \n",
            " 44  control diabetes                           25405 non-null  object \n",
            " 45  tiene hta                                  25405 non-null  object \n",
            " 46  control hta                                25405 non-null  object \n",
            " 47  tiene riesgo de tener hta                  25405 non-null  object \n",
            " 48  tiempo con el diagnóstico1                 18981 non-null  object \n",
            " 49  tiene epoc                                 25405 non-null  object \n",
            " 50  enfermedad coronaria (en el último año)    25405 non-null  object \n",
            " 51  insuficiencia cardíaca                     25405 non-null  object \n",
            " 52  valvulopatía                               25405 non-null  object \n",
            " 53  arritmia o paciente con dispositivo        25405 non-null  object \n",
            " 54  sufre de alguna enfermedad cardiovascular  25405 non-null  object \n",
            " 55  ¿cuál?                                     11228 non-null  object \n",
            " 56  tabaquismo                                 25405 non-null  object \n",
            " 57  cuantos cigarrillos día                    25405 non-null  object \n",
            " 58  años de consumo                            25852 non-null  float64\n",
            " 59  lipoproteina                               25405 non-null  float64\n",
            " 60  fecha ldl                                  14017 non-null  object \n",
            " 61  hdl                                        25405 non-null  float64\n",
            " 62  fecha hdl                                  23929 non-null  object \n",
            " 63  colesterol total                           25405 non-null  float64\n",
            " 64  fecha colesterol total                     23904 non-null  object \n",
            " 65  trigliceridos                              25405 non-null  float64\n",
            " 66  fecha trigliceridos                        23855 non-null  object \n",
            " 67  clasificación de framinghan                25405 non-null  object \n",
            " 68  creatinina 1 consulta                      25405 non-null  float64\n",
            " 69  fecha creatinina1                          24388 non-null  object \n",
            " 70  tasa de filtración glomerular tfg          25405 non-null  float64\n",
            " 71  estadio de la enfermedad renal             24388 non-null  object \n",
            " 72  microalbuminuria                           25405 non-null  float64\n",
            " 73  fecha microalbuminuria                     21337 non-null  object \n",
            " 74  hormona estimulante de la tiroides (tsh)   25405 non-null  float64\n",
            " 75  clase funcional                            25405 non-null  object \n",
            " 76  creatinina 2 consulta                      25405 non-null  float64\n",
            " 77  fecha creatinina2                          16180 non-null  object \n",
            " 78  tasa de filtración glomerular tfg2         25405 non-null  float64\n",
            " 79  meses de diferencia entre tfg              25405 non-null  float64\n",
            " 80  cambio de tfg                              25405 non-null  float64\n",
            " 81  basciloscopia                              18588 non-null  object \n",
            " 82  úlcera de pie diabético                    22943 non-null  object \n",
            " 83  remisión                                   25405 non-null  object \n",
            " 84  diagnóstico principal                      25404 non-null  object \n",
            " 85  análisis y conducta a seguir               25404 non-null  object \n",
            " 86  tiene próximo control                      25404 non-null  object \n",
            " 87  fecha próximo control                      24587 non-null  object \n",
            " 88  tipo control                               24587 non-null  object \n",
            " 89  requiere cita de morbilidad                25404 non-null  object \n",
            " 90  ambito según el médico                     25909 non-null  object \n",
            " 91  diagnostico1                               18524 non-null  object \n",
            " 92  nombrediagnostico1                         18524 non-null  object \n",
            " 93  diagnostico2                               14505 non-null  object \n",
            " 94  nombrediagnostico2                         14505 non-null  object \n",
            " 95  diagnostico3                               11841 non-null  object \n",
            " 96  nombrediagnostico3                         11841 non-null  object \n",
            "dtypes: float64(30), int64(10), object(57)\n",
            "memory usage: 19.4+ MB\n"
          ]
        }
      ]
    },
    {
      "cell_type": "code",
      "source": [
        "#Variables sin nulos\n",
        "lista=cronicospos.columns\n",
        "cont=0\n",
        "for i in lista:\n",
        "  if cronicospos[i].isnull().sum()<=0:\n",
        "    print(i)\n",
        "    (\"--------------------------------------\")\n"
      ],
      "metadata": {
        "id": "HDQXtHA9IPEY",
        "colab": {
          "base_uri": "https://localhost:8080/"
        },
        "outputId": "a7c45027-7b35-4b46-8915-6281ec207905"
      },
      "execution_count": null,
      "outputs": [
        {
          "output_type": "stream",
          "name": "stdout",
          "text": [
            "year\n",
            "mes\n",
            "fecha diligenciamiento\n",
            "hora\n",
            "atención\n",
            "ingreso\n",
            "tipo\n",
            "nrodoc\n",
            "peso\n",
            "talla\n",
            "imc\n",
            "clasificación imc\n",
            "perímetro muslo\n",
            "perímetro cintura\n",
            "pliegue triceps\n",
            "pliegue abdomen\n",
            "pliegue muslo\n",
            "sumatoria pliegues\n",
            "presión arterial sistólica\n",
            "presión arterial diastólica\n",
            "frecuencia cardíaca en reposo\n",
            "auto-calificacion nivel de ejercicio\n",
            "constantes\n",
            "mets -índice metabólico\n",
            "vo2 - máxima cantidad de oxígeno\n",
            "calificación (índice de fragilidad)\n",
            "tiempo en segundos (apoyo monopodal)\n",
            "calificación (apoyo monopodal)\n",
            "tiempo en segundos (recorrer 5 metros)\n",
            "velocidad (m/s)\n",
            "calificación velocidad\n",
            "ambito según el médico\n"
          ]
        }
      ]
    },
    {
      "cell_type": "code",
      "source": [
        "#Se eliminan aquellas que no aportan al modelo o que otra columna contenga el mismo dato pero en un tipo diferente\n",
        "lista= (['fecha diligenciamiento', 'hora', 'atención', 'ingreso', 'tipo', 'imc', 'perímetro muslo', 'perímetro cintura',\n",
        "       'pliegue triceps', 'pliegue abdomen', 'pliegue muslo', 'constantes', 'tiempo en segundos (apoyo monopodal)', 'tiempo en segundos (recorrer 5 metros)', 'velocidad (m/s)' ])"
      ],
      "metadata": {
        "id": "cgDTncUdIhid"
      },
      "execution_count": null,
      "outputs": []
    },
    {
      "cell_type": "code",
      "source": [
        "for i in lista:\n",
        "  cronicospos=cronicospos.drop([i], axis=1)"
      ],
      "metadata": {
        "id": "aJ7ZQFUlKCru"
      },
      "execution_count": null,
      "outputs": []
    },
    {
      "cell_type": "code",
      "source": [
        "#Variables con nulos\n",
        "lista=cronicospos.columns\n",
        "cont=0\n",
        "for i in lista:\n",
        "  if cronicospos[i].isnull().sum()>0:\n",
        "    print(i)\n",
        "    cont=cont+1\n",
        "    (\"--------------------------------------\")\n",
        "print(cont)"
      ],
      "metadata": {
        "id": "NiQeG9aT9pU_",
        "colab": {
          "base_uri": "https://localhost:8080/"
        },
        "outputId": "70a62e62-e8d7-44c1-bdbd-cba3d9ae7e39"
      },
      "execution_count": null,
      "outputs": [
        {
          "output_type": "stream",
          "name": "stdout",
          "text": [
            "saturación de oxígeno (%)\n",
            "índice de fragilidad groningen\n",
            "test findrisc\n",
            "índice tobillo/brazo\n",
            "observaciones\n",
            "presión arterial registro medico\n",
            "diabetes mellitus\n",
            "tipo diabetes mellitus\n",
            "tiempo con el diagnóstico\n",
            "glicemia\n",
            "fecha glicemia\n",
            "hemoglobina glicada\n",
            "fecha hemoglobina glicosilada\n",
            "control diabetes\n",
            "tiene hta\n",
            "control hta\n",
            "tiene riesgo de tener hta\n",
            "tiempo con el diagnóstico1\n",
            "tiene epoc\n",
            "enfermedad coronaria (en el último año)\n",
            "insuficiencia cardíaca\n",
            "valvulopatía\n",
            "arritmia o paciente con dispositivo\n",
            "sufre de alguna enfermedad cardiovascular\n",
            "¿cuál?\n",
            "tabaquismo\n",
            "cuantos cigarrillos día\n",
            "años de consumo\n",
            "lipoproteina\n",
            "fecha ldl\n",
            "hdl\n",
            "fecha hdl\n",
            "colesterol total\n",
            "fecha colesterol total\n",
            "trigliceridos\n",
            "fecha trigliceridos\n",
            "clasificación de framinghan\n",
            "creatinina 1 consulta\n",
            "fecha creatinina1\n",
            "tasa de filtración glomerular tfg\n",
            "estadio de la enfermedad renal\n",
            "microalbuminuria\n",
            "fecha microalbuminuria\n",
            "hormona estimulante de la tiroides (tsh)\n",
            "clase funcional\n",
            "creatinina 2 consulta\n",
            "fecha creatinina2\n",
            "tasa de filtración glomerular tfg2\n",
            "meses de diferencia entre tfg\n",
            "cambio de tfg\n",
            "basciloscopia\n",
            "úlcera de pie diabético\n",
            "remisión\n",
            "diagnóstico principal\n",
            "análisis y conducta a seguir\n",
            "tiene próximo control\n",
            "fecha próximo control\n",
            "tipo control\n",
            "requiere cita de morbilidad\n",
            "diagnostico1\n",
            "nombrediagnostico1\n",
            "diagnostico2\n",
            "nombrediagnostico2\n",
            "diagnostico3\n",
            "nombrediagnostico3\n",
            "65\n"
          ]
        }
      ]
    },
    {
      "cell_type": "code",
      "source": [
        "# Se dividen estas variables con nulos en 3 grupos, las que no aportan al modelo, las que su cantidad de nulos es dificil de reemplazar, aquellas que pueden hacer parte del modelo\n",
        "# Se evalua cada columna\n",
        "cronicospos.columns\n"
      ],
      "metadata": {
        "id": "J3dI_HjeGk0g",
        "colab": {
          "base_uri": "https://localhost:8080/"
        },
        "outputId": "2ff2a45d-6666-48f9-b906-54cec5fca2bf"
      },
      "execution_count": null,
      "outputs": [
        {
          "output_type": "execute_result",
          "data": {
            "text/plain": [
              "Index(['year', 'mes', 'nrodoc', 'peso', 'talla', 'clasificación imc',\n",
              "       'saturación de oxígeno (%)', 'sumatoria pliegues',\n",
              "       'presión arterial sistólica', 'presión arterial diastólica',\n",
              "       'frecuencia cardíaca en reposo', 'auto-calificacion nivel de ejercicio',\n",
              "       'mets -índice metabólico', 'vo2 - máxima cantidad de oxígeno',\n",
              "       'índice de fragilidad groningen', 'calificación (índice de fragilidad)',\n",
              "       'calificación (apoyo monopodal)', 'calificación velocidad',\n",
              "       'test findrisc', 'índice tobillo/brazo', 'observaciones',\n",
              "       'presión arterial registro medico', 'diabetes mellitus',\n",
              "       'tipo diabetes mellitus', 'tiempo con el diagnóstico', 'glicemia',\n",
              "       'fecha glicemia', 'hemoglobina glicada',\n",
              "       'fecha hemoglobina glicosilada', 'control diabetes', 'tiene hta',\n",
              "       'control hta', 'tiene riesgo de tener hta',\n",
              "       'tiempo con el diagnóstico1', 'tiene epoc',\n",
              "       'enfermedad coronaria (en el último año)', 'insuficiencia cardíaca',\n",
              "       'valvulopatía', 'arritmia o paciente con dispositivo',\n",
              "       'sufre de alguna enfermedad cardiovascular', '¿cuál?', 'tabaquismo',\n",
              "       'cuantos cigarrillos día', 'años de consumo', 'lipoproteina',\n",
              "       'fecha ldl', 'hdl', 'fecha hdl', 'colesterol total',\n",
              "       'fecha colesterol total', 'trigliceridos', 'fecha trigliceridos',\n",
              "       'clasificación de framinghan', 'creatinina 1 consulta',\n",
              "       'fecha creatinina1', 'tasa de filtración glomerular tfg',\n",
              "       'estadio de la enfermedad renal', 'microalbuminuria',\n",
              "       'fecha microalbuminuria', 'hormona estimulante de la tiroides (tsh)',\n",
              "       'clase funcional', 'creatinina 2 consulta', 'fecha creatinina2',\n",
              "       'tasa de filtración glomerular tfg2', 'meses de diferencia entre tfg',\n",
              "       'cambio de tfg', 'basciloscopia', 'úlcera de pie diabético', 'remisión',\n",
              "       'diagnóstico principal', 'análisis y conducta a seguir',\n",
              "       'tiene próximo control', 'fecha próximo control', 'tipo control',\n",
              "       'requiere cita de morbilidad', 'ambito según el médico', 'diagnostico1',\n",
              "       'nombrediagnostico1', 'diagnostico2', 'nombrediagnostico2',\n",
              "       'diagnostico3', 'nombrediagnostico3'],\n",
              "      dtype='object')"
            ]
          },
          "metadata": {},
          "execution_count": 214
        }
      ]
    },
    {
      "cell_type": "code",
      "source": [
        "#revisiòn de variables\n",
        "cronicospos['tiene próximo control'].unique()"
      ],
      "metadata": {
        "id": "4N29F0m0F3Ou",
        "colab": {
          "base_uri": "https://localhost:8080/"
        },
        "outputId": "007f4a5d-826a-4270-e9c3-0805d226afe0"
      },
      "execution_count": null,
      "outputs": [
        {
          "output_type": "execute_result",
          "data": {
            "text/plain": [
              "array(['Si', nan, 'No'], dtype=object)"
            ]
          },
          "metadata": {},
          "execution_count": 215
        }
      ]
    },
    {
      "cell_type": "code",
      "source": [
        "#se borran las columnas que no tengan valor agregado o que otra columna contenga el mismo dato pero en un tipo diferente\n",
        "listacr= ([ 'índice de fragilidad groningen', 'fecha glicemia', 'tiempo con el diagnóstico1', 'fecha hemoglobina glicosilada', 'tipo control',\n",
        "       'cuantos cigarrillos día', 'estadio de la enfermedad renal', 'creatinina 2 consulta', 'tiene riesgo de tener hta', \n",
        "       'tasa de filtración glomerular tfg', 'meses de diferencia entre tfg', 'cambio de tfg', 'análisis y conducta a seguir'])"
      ],
      "metadata": {
        "id": "X0KMV744FLlB"
      },
      "execution_count": null,
      "outputs": []
    },
    {
      "cell_type": "code",
      "source": [
        "for i in listacr:\n",
        "  cronicospos=cronicospos.drop([i], axis=1)"
      ],
      "metadata": {
        "id": "793Q3bLsNFOC"
      },
      "execution_count": null,
      "outputs": []
    },
    {
      "cell_type": "code",
      "source": [
        "#se borran las columnas que es dificil de reemplazar sus nulos por la cantidad o el tipo de dato que tienen\n",
        "lista2=cronicospos.columns"
      ],
      "metadata": {
        "id": "OUnZC_XVNJWw"
      },
      "execution_count": null,
      "outputs": []
    },
    {
      "cell_type": "code",
      "source": [
        "#se revisa cada variable\n",
        "for i in lista2:\n",
        "  print(i)\n",
        "  print(cronicospos[i].isnull().sum())\n",
        "  print('------------------------------------------------')"
      ],
      "metadata": {
        "id": "-8_fhPAgNVv5",
        "colab": {
          "base_uri": "https://localhost:8080/"
        },
        "outputId": "0c27c2a0-7fd6-49f5-c1c9-ee912ff3d524"
      },
      "execution_count": null,
      "outputs": [
        {
          "output_type": "stream",
          "name": "stdout",
          "text": [
            "year\n",
            "0\n",
            "------------------------------------------------\n",
            "mes\n",
            "0\n",
            "------------------------------------------------\n",
            "nrodoc\n",
            "0\n",
            "------------------------------------------------\n",
            "peso\n",
            "0\n",
            "------------------------------------------------\n",
            "talla\n",
            "0\n",
            "------------------------------------------------\n",
            "clasificación imc\n",
            "0\n",
            "------------------------------------------------\n",
            "saturación de oxígeno (%)\n",
            "117\n",
            "------------------------------------------------\n",
            "sumatoria pliegues\n",
            "0\n",
            "------------------------------------------------\n",
            "presión arterial sistólica\n",
            "0\n",
            "------------------------------------------------\n",
            "presión arterial diastólica\n",
            "0\n",
            "------------------------------------------------\n",
            "frecuencia cardíaca en reposo\n",
            "0\n",
            "------------------------------------------------\n",
            "auto-calificacion nivel de ejercicio\n",
            "0\n",
            "------------------------------------------------\n",
            "mets -índice metabólico\n",
            "0\n",
            "------------------------------------------------\n",
            "vo2 - máxima cantidad de oxígeno\n",
            "0\n",
            "------------------------------------------------\n",
            "calificación (índice de fragilidad)\n",
            "0\n",
            "------------------------------------------------\n",
            "calificación (apoyo monopodal)\n",
            "0\n",
            "------------------------------------------------\n",
            "calificación velocidad\n",
            "0\n",
            "------------------------------------------------\n",
            "test findrisc\n",
            "12677\n",
            "------------------------------------------------\n",
            "índice tobillo/brazo\n",
            "6316\n",
            "------------------------------------------------\n",
            "observaciones\n",
            "15108\n",
            "------------------------------------------------\n",
            "presión arterial registro medico\n",
            "10004\n",
            "------------------------------------------------\n",
            "diabetes mellitus\n",
            "504\n",
            "------------------------------------------------\n",
            "tipo diabetes mellitus\n",
            "13647\n",
            "------------------------------------------------\n",
            "tiempo con el diagnóstico\n",
            "14627\n",
            "------------------------------------------------\n",
            "glicemia\n",
            "504\n",
            "------------------------------------------------\n",
            "hemoglobina glicada\n",
            "504\n",
            "------------------------------------------------\n",
            "control diabetes\n",
            "504\n",
            "------------------------------------------------\n",
            "tiene hta\n",
            "504\n",
            "------------------------------------------------\n",
            "control hta\n",
            "504\n",
            "------------------------------------------------\n",
            "tiene epoc\n",
            "504\n",
            "------------------------------------------------\n",
            "enfermedad coronaria (en el último año)\n",
            "504\n",
            "------------------------------------------------\n",
            "insuficiencia cardíaca\n",
            "504\n",
            "------------------------------------------------\n",
            "valvulopatía\n",
            "504\n",
            "------------------------------------------------\n",
            "arritmia o paciente con dispositivo\n",
            "504\n",
            "------------------------------------------------\n",
            "sufre de alguna enfermedad cardiovascular\n",
            "504\n",
            "------------------------------------------------\n",
            "¿cuál?\n",
            "14681\n",
            "------------------------------------------------\n",
            "tabaquismo\n",
            "504\n",
            "------------------------------------------------\n",
            "años de consumo\n",
            "57\n",
            "------------------------------------------------\n",
            "lipoproteina\n",
            "504\n",
            "------------------------------------------------\n",
            "fecha ldl\n",
            "11892\n",
            "------------------------------------------------\n",
            "hdl\n",
            "504\n",
            "------------------------------------------------\n",
            "fecha hdl\n",
            "1980\n",
            "------------------------------------------------\n",
            "colesterol total\n",
            "504\n",
            "------------------------------------------------\n",
            "fecha colesterol total\n",
            "2005\n",
            "------------------------------------------------\n",
            "trigliceridos\n",
            "504\n",
            "------------------------------------------------\n",
            "fecha trigliceridos\n",
            "2054\n",
            "------------------------------------------------\n",
            "clasificación de framinghan\n",
            "504\n",
            "------------------------------------------------\n",
            "creatinina 1 consulta\n",
            "504\n",
            "------------------------------------------------\n",
            "fecha creatinina1\n",
            "1521\n",
            "------------------------------------------------\n",
            "microalbuminuria\n",
            "504\n",
            "------------------------------------------------\n",
            "fecha microalbuminuria\n",
            "4572\n",
            "------------------------------------------------\n",
            "hormona estimulante de la tiroides (tsh)\n",
            "504\n",
            "------------------------------------------------\n",
            "clase funcional\n",
            "504\n",
            "------------------------------------------------\n",
            "fecha creatinina2\n",
            "9729\n",
            "------------------------------------------------\n",
            "tasa de filtración glomerular tfg2\n",
            "504\n",
            "------------------------------------------------\n",
            "basciloscopia\n",
            "7321\n",
            "------------------------------------------------\n",
            "úlcera de pie diabético\n",
            "2966\n",
            "------------------------------------------------\n",
            "remisión\n",
            "504\n",
            "------------------------------------------------\n",
            "diagnóstico principal\n",
            "505\n",
            "------------------------------------------------\n",
            "tiene próximo control\n",
            "505\n",
            "------------------------------------------------\n",
            "fecha próximo control\n",
            "1322\n",
            "------------------------------------------------\n",
            "requiere cita de morbilidad\n",
            "505\n",
            "------------------------------------------------\n",
            "ambito según el médico\n",
            "0\n",
            "------------------------------------------------\n",
            "diagnostico1\n",
            "7385\n",
            "------------------------------------------------\n",
            "nombrediagnostico1\n",
            "7385\n",
            "------------------------------------------------\n",
            "diagnostico2\n",
            "11404\n",
            "------------------------------------------------\n",
            "nombrediagnostico2\n",
            "11404\n",
            "------------------------------------------------\n",
            "diagnostico3\n",
            "14068\n",
            "------------------------------------------------\n",
            "nombrediagnostico3\n",
            "14068\n",
            "------------------------------------------------\n"
          ]
        }
      ]
    },
    {
      "cell_type": "code",
      "source": [
        "#revisión\n",
        "cronicospos['diagnostico1'].unique()"
      ],
      "metadata": {
        "id": "2D1xFJhaN4aY",
        "colab": {
          "base_uri": "https://localhost:8080/"
        },
        "outputId": "cdd27e55-2837-4236-ccc2-3df0183a34c5"
      },
      "execution_count": null,
      "outputs": [
        {
          "output_type": "execute_result",
          "data": {
            "text/plain": [
              "array([nan, 'N390', 'I671', 'I10X', 'R522', 'Z933', 'I255', 'E106',\n",
              "       'G20X', 'N189', 'M170', 'F319', 'R520', 'I698', 'E039', 'M800',\n",
              "       'J449', 'L892', 'I500', 'E119', 'K590', 'N319', 'K295', 'M809',\n",
              "       'E059', 'K291', 'K703', 'Z921', 'N183', 'I872', 'G825', 'N182',\n",
              "       'G809', 'M819', 'R32X', 'N40X', 'M060', 'J440', 'M150', 'U072',\n",
              "       'M500', 'J441', 'I509', 'I694', 'R53X', 'R104', 'F412', 'G408',\n",
              "       'G309', 'F510', 'N185', 'J459', 'G409', 'I499', 'T652', 'R568',\n",
              "       'M810', 'N422', 'E784', 'I519', 'I845', 'F700', 'G470', 'I489',\n",
              "       'N184', 'E785', 'H103', 'R51X', 'F314', 'G632', 'Y841', 'F317',\n",
              "       'I771', 'F018', 'I250', 'F21X', 'F418', 'K746', 'M159', 'A630',\n",
              "       'M45X', 'F413', 'K296', 'H902', 'I490', 'Z111', 'G459', 'I482',\n",
              "       'Z822', 'N418', 'M545', 'Z123', 'E782', 'Z720', 'M179', 'R54X',\n",
              "       'E108', 'F311', 'M751', 'I828', 'Z950', 'R521', 'J304', 'G700',\n",
              "       'F411', 'H259', 'F721', 'M792', 'I219', 'I209', 'N484', 'Z954',\n",
              "       'I679', 'C509', 'N939', 'S065', 'I714', 'I739', 'L88X', 'R001',\n",
              "       'K297', 'G629', 'F03X', 'S008', 'F023', 'E669', 'N180', 'L023',\n",
              "       'E660', 'R15X', 'Q603', 'L299', 'Z940', 'I829', 'Q850', 'G433',\n",
              "       'H408', 'G911', 'L301', 'N181', 'E109', 'F191', 'M353', 'M328',\n",
              "       'L298', 'S241', 'M350', 'I110', 'G474', 'G402', 'I702', 'K573',\n",
              "       'K264', 'G473', 'N393', 'Z966', 'R55X', 'G250', 'K579', 'M321',\n",
              "       'K429', 'Z124', 'M808', 'M658', 'I890', 'M629', 'M059', 'R13X',\n",
              "       'E559', 'F701', 'L570', 'N429', 'R42X', 'I778', 'R268', 'M869',\n",
              "       'M158', 'C819', 'I471', 'F322', 'F009', 'I64X', 'G308', 'M214',\n",
              "       'K294', 'H409', 'Z982', 'I258', 'H919', 'R619', 'N870', 'I269',\n",
              "       'M348', 'Z968', 'Z974', 'N142', 'L80X', 'F323', 'R490', 'N428',\n",
              "       'I259', 'D688', 'J041', 'L239', 'L891', 'M069', 'I678', 'I481',\n",
              "       'S202', 'G718', 'M866', 'I709', 'M940', 'S881', 'M542', 'J448',\n",
              "       'Z630', 'I420', 'R160', 'G821', 'D329', 'K589', 'M791', 'E118',\n",
              "       'J410', 'Q211', 'Z600', 'Z033', 'G479', 'H931', 'L405', 'M183',\n",
              "       'N209', 'Q909', 'S626', 'Q253', 'M201', 'N841', 'M329', 'Z944',\n",
              "       'M818', 'R066', 'N19X', 'Z300', 'R011', 'N310', 'M153', 'L22X',\n",
              "       'L039', 'R101', 'Z601', 'J22X', 'Z952', 'L711', 'G819', 'G439',\n",
              "       'K219', 'K838', 'Z978', 'I516', 'M543', 'I251', 'R730', 'R251',\n",
              "       'M255', 'I270', 'K519', 'R030', 'N318', 'N819', 'N200', 'Z810',\n",
              "       'R411', 'I351', 'K904', 'S422', 'F419', 'R418', 'L930', 'K210',\n",
              "       'K710', 'M181', 'T784', 'N328', 'K252', 'E780', 'M180', 'M859',\n",
              "       'L719', 'Q612', 'K591', 'M130', 'M238', 'I716', 'I498', 'J848',\n",
              "       'G560', 'M541', 'M479', 'M770', 'E107', 'M154', 'I652', 'N394',\n",
              "       'R478', 'M796', 'I442', 'U071', 'Z008', 'M894', 'I719', 'R620',\n",
              "       'Y919', 'R634', 'E116', 'Z659', 'L031', 'Z711', 'I120', 'F209',\n",
              "       'R074', 'J450', 'N358', 'M189', 'E789', 'R222', 'I728', 'S460',\n",
              "       'F711', 'M200', 'M738', 'M340', 'N941', 'K403', 'I48X', 'L400',\n",
              "       'K861', 'J028', 'M169', 'M068', 'J40X', 'T905', 'N359', 'N760',\n",
              "       'I151', 'Q401', 'H813', 'F328', 'M161', 'I480', 'M761', 'H352',\n",
              "       'I080', 'L240', 'H360', 'J310', 'L649', 'M549', 'R34X', 'N814',\n",
              "       'F791', 'F321', 'M058', 'R190', 'M799', 'N411', 'M511', 'R739',\n",
              "       'K501', 'E117', 'J330', 'F318', 'G579', 'S720', 'L408', 'I743',\n",
              "       'Y835', 'Z958', 'N312', 'F069', 'R071', 'K432', 'M331', 'L430',\n",
              "       'M174', 'D649', 'L409', 'N818', 'F001', 'K700', 'I730', 'M501',\n",
              "       'H900', 'R64X', 'I361', 'I715', 'E038', 'E748', 'Q627', 'Z433',\n",
              "       'M906', '104', '81', 'Y471', 'I252', '94', 'S328', '92', '130',\n",
              "       '97', '89', '100', '93', '80', '90', '91', 'G710', '87', '102',\n",
              "       '101', '115', '98', '105', '88', '106', 90.0, 88.0, 106.0, 115.0,\n",
              "       107.0, 87.0, 101.0, 85.0, 89.0, 104.0, 105.0, 114.0, 128.0, 119.0,\n",
              "       91.0, 103.0, 92.0, 102.0, 110.0, 83.0, 100.0, 82.0, 109.0, 81.0,\n",
              "       99.0, 108.0, 98.0, 97.0, 117.0, 95.0, 94.0, 93.0, 84.0, 125.0,\n",
              "       96.0, 124.0, 123.0, 86.0, 134.0, 116.0, 122.0, 113.0, 121.0, 120.0,\n",
              "       112.0, 137.0, 130.0, 80.0, 173.0, 136.0, 133.0, 132.0, 0.0, 129.0,\n",
              "       127.0, 131.0, 158.0, 126.0, 118.0, 135.0, 145.0, 150.0, 152.0,\n",
              "       144.0, 138.0, 143.0, 181.0, 177.0, 148.0, 147.0, 140.0, 111.0,\n",
              "       156.0, 155.0, 162.0, 141.0, 159.0, 157.0, 154.0, 164.0, 153.0,\n",
              "       151.0, 149.0, 142.0, 175.0, 163.0, 161.0, 146.0, 139.0, 176.0,\n",
              "       185.0, 183.0], dtype=object)"
            ]
          },
          "metadata": {},
          "execution_count": 220
        }
      ]
    },
    {
      "cell_type": "code",
      "source": [
        "listaf= (['test findrisc','índice tobillo/brazo', 'observaciones', 'presión arterial registro medico', 'tipo diabetes mellitus','tiempo con el diagnóstico',\n",
        "'¿cuál?', 'fecha ldl', 'fecha colesterol total', 'fecha trigliceridos', 'fecha creatinina1', 'fecha microalbuminuria',\n",
        "'fecha creatinina2', 'basciloscopia', 'úlcera de pie diabético', 'fecha próximo control', 'diagnostico1', 'nombrediagnostico1', 'diagnostico2',\n",
        " 'nombrediagnostico2', 'diagnostico3', 'nombrediagnostico3', 'fecha hdl'])"
      ],
      "metadata": {
        "id": "DEhN3RfZOG44"
      },
      "execution_count": null,
      "outputs": []
    },
    {
      "cell_type": "code",
      "source": [
        "for i in listaf:\n",
        "  cronicospos=cronicospos.drop([i], axis=1)"
      ],
      "metadata": {
        "id": "5imloWZdRDvl"
      },
      "execution_count": null,
      "outputs": []
    },
    {
      "cell_type": "markdown",
      "source": [
        "Al hacer la revisión de cada columna se nota que la mayoria tienen 504 nulos, por lo que se obtara por borrar esas filas y no las columnas debido a que estas no estan aportando al modelo pues todas sus columnas tienen Nulos"
      ],
      "metadata": {
        "id": "JvqZ7zV2SUK8"
      }
    },
    {
      "cell_type": "code",
      "source": [
        "#Se reemplazan los nulos y luego se borran las columnas \n",
        "cronicospos['tiene próximo control']=cronicospos['tiene próximo control'].fillna(0)"
      ],
      "metadata": {
        "id": "Iyu2Se3R5o6o"
      },
      "execution_count": null,
      "outputs": []
    },
    {
      "cell_type": "code",
      "source": [
        "cronicospos = cronicospos.drop(cronicospos[cronicospos['tiene próximo control']==0].index)\n",
        "cronicospos.isnull().sum()"
      ],
      "metadata": {
        "id": "dxw605Xa08qN",
        "colab": {
          "base_uri": "https://localhost:8080/"
        },
        "outputId": "44b64cc8-b0f6-4d29-afe4-44d48fc2742e"
      },
      "execution_count": null,
      "outputs": [
        {
          "output_type": "execute_result",
          "data": {
            "text/plain": [
              "year                                           0\n",
              "mes                                            0\n",
              "nrodoc                                         0\n",
              "peso                                           0\n",
              "talla                                          0\n",
              "clasificación imc                              0\n",
              "saturación de oxígeno (%)                    113\n",
              "sumatoria pliegues                             0\n",
              "presión arterial sistólica                     0\n",
              "presión arterial diastólica                    0\n",
              "frecuencia cardíaca en reposo                  0\n",
              "auto-calificacion nivel de ejercicio           0\n",
              "mets -índice metabólico                        0\n",
              "vo2 - máxima cantidad de oxígeno               0\n",
              "calificación (índice de fragilidad)            0\n",
              "calificación (apoyo monopodal)                 0\n",
              "calificación velocidad                         0\n",
              "diabetes mellitus                              0\n",
              "glicemia                                       0\n",
              "hemoglobina glicada                            0\n",
              "control diabetes                               0\n",
              "tiene hta                                      0\n",
              "control hta                                    0\n",
              "tiene epoc                                     0\n",
              "enfermedad coronaria (en el último año)        0\n",
              "insuficiencia cardíaca                         0\n",
              "valvulopatía                                   0\n",
              "arritmia o paciente con dispositivo            0\n",
              "sufre de alguna enfermedad cardiovascular      0\n",
              "tabaquismo                                     0\n",
              "años de consumo                                0\n",
              "lipoproteina                                   0\n",
              "hdl                                            0\n",
              "colesterol total                               0\n",
              "trigliceridos                                  0\n",
              "clasificación de framinghan                    0\n",
              "creatinina 1 consulta                          0\n",
              "microalbuminuria                               0\n",
              "hormona estimulante de la tiroides (tsh)       0\n",
              "clase funcional                                0\n",
              "tasa de filtración glomerular tfg2             0\n",
              "remisión                                       0\n",
              "diagnóstico principal                          0\n",
              "tiene próximo control                          0\n",
              "requiere cita de morbilidad                    0\n",
              "ambito según el médico                         0\n",
              "dtype: int64"
            ]
          },
          "metadata": {},
          "execution_count": 224
        }
      ]
    },
    {
      "cell_type": "code",
      "source": [
        "#debido al tipo de dato que representa la saturación de oxigeno de la persona, se decide eliminar esta columna pues sus nulos no pueden ser reemplazados\n",
        "cronicospos=cronicospos.drop(['saturación de oxígeno (%)'], axis=1)"
      ],
      "metadata": {
        "id": "dGFFAnUh871d"
      },
      "execution_count": null,
      "outputs": []
    },
    {
      "cell_type": "code",
      "source": [
        "#Se miran si existen varios diagnosticos para una persona\n",
        "df=pd.DataFrame()\n",
        "df['numero_de_diagnosticos']= cronicospos['nrodoc'].value_counts()\n",
        "df['nrodoc']= cronicospos['nrodoc'].value_counts().index\n",
        "df=df.reset_index().drop('index', axis=1)\n",
        "df"
      ],
      "metadata": {
        "id": "_4zSVZuXHynA",
        "colab": {
          "base_uri": "https://localhost:8080/",
          "height": 419
        },
        "outputId": "c3cebbb9-dc72-49fe-ce33-da4a174de238"
      },
      "execution_count": null,
      "outputs": [
        {
          "output_type": "execute_result",
          "data": {
            "text/plain": [
              "      numero_de_diagnosticos  nrodoc\n",
              "0                         17  312214\n",
              "1                         16  311465\n",
              "2                         15  308752\n",
              "3                         15  308578\n",
              "4                         15  313574\n",
              "...                      ...     ...\n",
              "5014                       1  313530\n",
              "5015                       1  313637\n",
              "5016                       1  312525\n",
              "5017                       1  308288\n",
              "5018                       1  314135\n",
              "\n",
              "[5019 rows x 2 columns]"
            ],
            "text/html": [
              "\n",
              "  <div id=\"df-4daf2e45-37c9-4a12-8553-51fddf60a5d2\">\n",
              "    <div class=\"colab-df-container\">\n",
              "      <div>\n",
              "<style scoped>\n",
              "    .dataframe tbody tr th:only-of-type {\n",
              "        vertical-align: middle;\n",
              "    }\n",
              "\n",
              "    .dataframe tbody tr th {\n",
              "        vertical-align: top;\n",
              "    }\n",
              "\n",
              "    .dataframe thead th {\n",
              "        text-align: right;\n",
              "    }\n",
              "</style>\n",
              "<table border=\"1\" class=\"dataframe\">\n",
              "  <thead>\n",
              "    <tr style=\"text-align: right;\">\n",
              "      <th></th>\n",
              "      <th>numero_de_diagnosticos</th>\n",
              "      <th>nrodoc</th>\n",
              "    </tr>\n",
              "  </thead>\n",
              "  <tbody>\n",
              "    <tr>\n",
              "      <th>0</th>\n",
              "      <td>17</td>\n",
              "      <td>312214</td>\n",
              "    </tr>\n",
              "    <tr>\n",
              "      <th>1</th>\n",
              "      <td>16</td>\n",
              "      <td>311465</td>\n",
              "    </tr>\n",
              "    <tr>\n",
              "      <th>2</th>\n",
              "      <td>15</td>\n",
              "      <td>308752</td>\n",
              "    </tr>\n",
              "    <tr>\n",
              "      <th>3</th>\n",
              "      <td>15</td>\n",
              "      <td>308578</td>\n",
              "    </tr>\n",
              "    <tr>\n",
              "      <th>4</th>\n",
              "      <td>15</td>\n",
              "      <td>313574</td>\n",
              "    </tr>\n",
              "    <tr>\n",
              "      <th>...</th>\n",
              "      <td>...</td>\n",
              "      <td>...</td>\n",
              "    </tr>\n",
              "    <tr>\n",
              "      <th>5014</th>\n",
              "      <td>1</td>\n",
              "      <td>313530</td>\n",
              "    </tr>\n",
              "    <tr>\n",
              "      <th>5015</th>\n",
              "      <td>1</td>\n",
              "      <td>313637</td>\n",
              "    </tr>\n",
              "    <tr>\n",
              "      <th>5016</th>\n",
              "      <td>1</td>\n",
              "      <td>312525</td>\n",
              "    </tr>\n",
              "    <tr>\n",
              "      <th>5017</th>\n",
              "      <td>1</td>\n",
              "      <td>308288</td>\n",
              "    </tr>\n",
              "    <tr>\n",
              "      <th>5018</th>\n",
              "      <td>1</td>\n",
              "      <td>314135</td>\n",
              "    </tr>\n",
              "  </tbody>\n",
              "</table>\n",
              "<p>5019 rows × 2 columns</p>\n",
              "</div>\n",
              "      <button class=\"colab-df-convert\" onclick=\"convertToInteractive('df-4daf2e45-37c9-4a12-8553-51fddf60a5d2')\"\n",
              "              title=\"Convert this dataframe to an interactive table.\"\n",
              "              style=\"display:none;\">\n",
              "        \n",
              "  <svg xmlns=\"http://www.w3.org/2000/svg\" height=\"24px\"viewBox=\"0 0 24 24\"\n",
              "       width=\"24px\">\n",
              "    <path d=\"M0 0h24v24H0V0z\" fill=\"none\"/>\n",
              "    <path d=\"M18.56 5.44l.94 2.06.94-2.06 2.06-.94-2.06-.94-.94-2.06-.94 2.06-2.06.94zm-11 1L8.5 8.5l.94-2.06 2.06-.94-2.06-.94L8.5 2.5l-.94 2.06-2.06.94zm10 10l.94 2.06.94-2.06 2.06-.94-2.06-.94-.94-2.06-.94 2.06-2.06.94z\"/><path d=\"M17.41 7.96l-1.37-1.37c-.4-.4-.92-.59-1.43-.59-.52 0-1.04.2-1.43.59L10.3 9.45l-7.72 7.72c-.78.78-.78 2.05 0 2.83L4 21.41c.39.39.9.59 1.41.59.51 0 1.02-.2 1.41-.59l7.78-7.78 2.81-2.81c.8-.78.8-2.07 0-2.86zM5.41 20L4 18.59l7.72-7.72 1.47 1.35L5.41 20z\"/>\n",
              "  </svg>\n",
              "      </button>\n",
              "      \n",
              "  <style>\n",
              "    .colab-df-container {\n",
              "      display:flex;\n",
              "      flex-wrap:wrap;\n",
              "      gap: 12px;\n",
              "    }\n",
              "\n",
              "    .colab-df-convert {\n",
              "      background-color: #E8F0FE;\n",
              "      border: none;\n",
              "      border-radius: 50%;\n",
              "      cursor: pointer;\n",
              "      display: none;\n",
              "      fill: #1967D2;\n",
              "      height: 32px;\n",
              "      padding: 0 0 0 0;\n",
              "      width: 32px;\n",
              "    }\n",
              "\n",
              "    .colab-df-convert:hover {\n",
              "      background-color: #E2EBFA;\n",
              "      box-shadow: 0px 1px 2px rgba(60, 64, 67, 0.3), 0px 1px 3px 1px rgba(60, 64, 67, 0.15);\n",
              "      fill: #174EA6;\n",
              "    }\n",
              "\n",
              "    [theme=dark] .colab-df-convert {\n",
              "      background-color: #3B4455;\n",
              "      fill: #D2E3FC;\n",
              "    }\n",
              "\n",
              "    [theme=dark] .colab-df-convert:hover {\n",
              "      background-color: #434B5C;\n",
              "      box-shadow: 0px 1px 3px 1px rgba(0, 0, 0, 0.15);\n",
              "      filter: drop-shadow(0px 1px 2px rgba(0, 0, 0, 0.3));\n",
              "      fill: #FFFFFF;\n",
              "    }\n",
              "  </style>\n",
              "\n",
              "      <script>\n",
              "        const buttonEl =\n",
              "          document.querySelector('#df-4daf2e45-37c9-4a12-8553-51fddf60a5d2 button.colab-df-convert');\n",
              "        buttonEl.style.display =\n",
              "          google.colab.kernel.accessAllowed ? 'block' : 'none';\n",
              "\n",
              "        async function convertToInteractive(key) {\n",
              "          const element = document.querySelector('#df-4daf2e45-37c9-4a12-8553-51fddf60a5d2');\n",
              "          const dataTable =\n",
              "            await google.colab.kernel.invokeFunction('convertToInteractive',\n",
              "                                                     [key], {});\n",
              "          if (!dataTable) return;\n",
              "\n",
              "          const docLinkHtml = 'Like what you see? Visit the ' +\n",
              "            '<a target=\"_blank\" href=https://colab.research.google.com/notebooks/data_table.ipynb>data table notebook</a>'\n",
              "            + ' to learn more about interactive tables.';\n",
              "          element.innerHTML = '';\n",
              "          dataTable['output_type'] = 'display_data';\n",
              "          await google.colab.output.renderOutput(dataTable, element);\n",
              "          const docLink = document.createElement('div');\n",
              "          docLink.innerHTML = docLinkHtml;\n",
              "          element.appendChild(docLink);\n",
              "        }\n",
              "      </script>\n",
              "    </div>\n",
              "  </div>\n",
              "  "
            ]
          },
          "metadata": {},
          "execution_count": 226
        }
      ]
    },
    {
      "cell_type": "code",
      "source": [
        "#Se eliminan los diagnosticos más antiguos y se deja el más reciente unicamente\n",
        "def funcion_1(base):\n",
        "  dft = base.copy(deep=True)\n",
        "  lista= list(df['nrodoc'])\n",
        "  len(lista)\n",
        "  dft2=pd.DataFrame()\n",
        "  for i in lista:\n",
        "    dft3=dft[dft['nrodoc']==i].reset_index()\n",
        "    if dft3.shape[0] > 1 :\n",
        "      for j in range(0, dft3.shape[0] -1):\n",
        "        dft3.drop(j, axis=0, inplace= True)\n",
        "      dft2= dft2.append(dft3, ignore_index=True)\n",
        "    else:\n",
        "      dft2=dft2.append(dft3, ignore_index=True)\n",
        "  return dft2"
      ],
      "metadata": {
        "id": "lLDj2ErnPawx"
      },
      "execution_count": null,
      "outputs": []
    },
    {
      "cell_type": "code",
      "source": [
        "cronicosposf= funcion_1(cronicospos)"
      ],
      "metadata": {
        "id": "QCQ9Fi5CUFKa"
      },
      "execution_count": null,
      "outputs": []
    },
    {
      "cell_type": "code",
      "source": [
        "#Se rectifica que haya quedado una columna por id\n",
        "df=pd.DataFrame()\n",
        "df['numero_de_diagnosticos']= cronicosposf['nrodoc'].value_counts()\n",
        "df['nrodoc']= cronicosposf['nrodoc'].value_counts().index\n",
        "df=df.reset_index().drop('index', axis=1)\n",
        "df"
      ],
      "metadata": {
        "id": "BRmwHsI7EEY6",
        "colab": {
          "base_uri": "https://localhost:8080/",
          "height": 419
        },
        "outputId": "14c69594-4a1a-47f6-c96b-3cf31f2bc43f"
      },
      "execution_count": null,
      "outputs": [
        {
          "output_type": "execute_result",
          "data": {
            "text/plain": [
              "      numero_de_diagnosticos  nrodoc\n",
              "0                          1  312214\n",
              "1                          1  313888\n",
              "2                          1  313732\n",
              "3                          1  310810\n",
              "4                          1  311170\n",
              "...                      ...     ...\n",
              "5014                       1  307159\n",
              "5015                       1  312147\n",
              "5016                       1  310672\n",
              "5017                       1  308168\n",
              "5018                       1  314135\n",
              "\n",
              "[5019 rows x 2 columns]"
            ],
            "text/html": [
              "\n",
              "  <div id=\"df-0b27809d-4867-4460-a22b-446d8be9abe7\">\n",
              "    <div class=\"colab-df-container\">\n",
              "      <div>\n",
              "<style scoped>\n",
              "    .dataframe tbody tr th:only-of-type {\n",
              "        vertical-align: middle;\n",
              "    }\n",
              "\n",
              "    .dataframe tbody tr th {\n",
              "        vertical-align: top;\n",
              "    }\n",
              "\n",
              "    .dataframe thead th {\n",
              "        text-align: right;\n",
              "    }\n",
              "</style>\n",
              "<table border=\"1\" class=\"dataframe\">\n",
              "  <thead>\n",
              "    <tr style=\"text-align: right;\">\n",
              "      <th></th>\n",
              "      <th>numero_de_diagnosticos</th>\n",
              "      <th>nrodoc</th>\n",
              "    </tr>\n",
              "  </thead>\n",
              "  <tbody>\n",
              "    <tr>\n",
              "      <th>0</th>\n",
              "      <td>1</td>\n",
              "      <td>312214</td>\n",
              "    </tr>\n",
              "    <tr>\n",
              "      <th>1</th>\n",
              "      <td>1</td>\n",
              "      <td>313888</td>\n",
              "    </tr>\n",
              "    <tr>\n",
              "      <th>2</th>\n",
              "      <td>1</td>\n",
              "      <td>313732</td>\n",
              "    </tr>\n",
              "    <tr>\n",
              "      <th>3</th>\n",
              "      <td>1</td>\n",
              "      <td>310810</td>\n",
              "    </tr>\n",
              "    <tr>\n",
              "      <th>4</th>\n",
              "      <td>1</td>\n",
              "      <td>311170</td>\n",
              "    </tr>\n",
              "    <tr>\n",
              "      <th>...</th>\n",
              "      <td>...</td>\n",
              "      <td>...</td>\n",
              "    </tr>\n",
              "    <tr>\n",
              "      <th>5014</th>\n",
              "      <td>1</td>\n",
              "      <td>307159</td>\n",
              "    </tr>\n",
              "    <tr>\n",
              "      <th>5015</th>\n",
              "      <td>1</td>\n",
              "      <td>312147</td>\n",
              "    </tr>\n",
              "    <tr>\n",
              "      <th>5016</th>\n",
              "      <td>1</td>\n",
              "      <td>310672</td>\n",
              "    </tr>\n",
              "    <tr>\n",
              "      <th>5017</th>\n",
              "      <td>1</td>\n",
              "      <td>308168</td>\n",
              "    </tr>\n",
              "    <tr>\n",
              "      <th>5018</th>\n",
              "      <td>1</td>\n",
              "      <td>314135</td>\n",
              "    </tr>\n",
              "  </tbody>\n",
              "</table>\n",
              "<p>5019 rows × 2 columns</p>\n",
              "</div>\n",
              "      <button class=\"colab-df-convert\" onclick=\"convertToInteractive('df-0b27809d-4867-4460-a22b-446d8be9abe7')\"\n",
              "              title=\"Convert this dataframe to an interactive table.\"\n",
              "              style=\"display:none;\">\n",
              "        \n",
              "  <svg xmlns=\"http://www.w3.org/2000/svg\" height=\"24px\"viewBox=\"0 0 24 24\"\n",
              "       width=\"24px\">\n",
              "    <path d=\"M0 0h24v24H0V0z\" fill=\"none\"/>\n",
              "    <path d=\"M18.56 5.44l.94 2.06.94-2.06 2.06-.94-2.06-.94-.94-2.06-.94 2.06-2.06.94zm-11 1L8.5 8.5l.94-2.06 2.06-.94-2.06-.94L8.5 2.5l-.94 2.06-2.06.94zm10 10l.94 2.06.94-2.06 2.06-.94-2.06-.94-.94-2.06-.94 2.06-2.06.94z\"/><path d=\"M17.41 7.96l-1.37-1.37c-.4-.4-.92-.59-1.43-.59-.52 0-1.04.2-1.43.59L10.3 9.45l-7.72 7.72c-.78.78-.78 2.05 0 2.83L4 21.41c.39.39.9.59 1.41.59.51 0 1.02-.2 1.41-.59l7.78-7.78 2.81-2.81c.8-.78.8-2.07 0-2.86zM5.41 20L4 18.59l7.72-7.72 1.47 1.35L5.41 20z\"/>\n",
              "  </svg>\n",
              "      </button>\n",
              "      \n",
              "  <style>\n",
              "    .colab-df-container {\n",
              "      display:flex;\n",
              "      flex-wrap:wrap;\n",
              "      gap: 12px;\n",
              "    }\n",
              "\n",
              "    .colab-df-convert {\n",
              "      background-color: #E8F0FE;\n",
              "      border: none;\n",
              "      border-radius: 50%;\n",
              "      cursor: pointer;\n",
              "      display: none;\n",
              "      fill: #1967D2;\n",
              "      height: 32px;\n",
              "      padding: 0 0 0 0;\n",
              "      width: 32px;\n",
              "    }\n",
              "\n",
              "    .colab-df-convert:hover {\n",
              "      background-color: #E2EBFA;\n",
              "      box-shadow: 0px 1px 2px rgba(60, 64, 67, 0.3), 0px 1px 3px 1px rgba(60, 64, 67, 0.15);\n",
              "      fill: #174EA6;\n",
              "    }\n",
              "\n",
              "    [theme=dark] .colab-df-convert {\n",
              "      background-color: #3B4455;\n",
              "      fill: #D2E3FC;\n",
              "    }\n",
              "\n",
              "    [theme=dark] .colab-df-convert:hover {\n",
              "      background-color: #434B5C;\n",
              "      box-shadow: 0px 1px 3px 1px rgba(0, 0, 0, 0.15);\n",
              "      filter: drop-shadow(0px 1px 2px rgba(0, 0, 0, 0.3));\n",
              "      fill: #FFFFFF;\n",
              "    }\n",
              "  </style>\n",
              "\n",
              "      <script>\n",
              "        const buttonEl =\n",
              "          document.querySelector('#df-0b27809d-4867-4460-a22b-446d8be9abe7 button.colab-df-convert');\n",
              "        buttonEl.style.display =\n",
              "          google.colab.kernel.accessAllowed ? 'block' : 'none';\n",
              "\n",
              "        async function convertToInteractive(key) {\n",
              "          const element = document.querySelector('#df-0b27809d-4867-4460-a22b-446d8be9abe7');\n",
              "          const dataTable =\n",
              "            await google.colab.kernel.invokeFunction('convertToInteractive',\n",
              "                                                     [key], {});\n",
              "          if (!dataTable) return;\n",
              "\n",
              "          const docLinkHtml = 'Like what you see? Visit the ' +\n",
              "            '<a target=\"_blank\" href=https://colab.research.google.com/notebooks/data_table.ipynb>data table notebook</a>'\n",
              "            + ' to learn more about interactive tables.';\n",
              "          element.innerHTML = '';\n",
              "          dataTable['output_type'] = 'display_data';\n",
              "          await google.colab.output.renderOutput(dataTable, element);\n",
              "          const docLink = document.createElement('div');\n",
              "          docLink.innerHTML = docLinkHtml;\n",
              "          element.appendChild(docLink);\n",
              "        }\n",
              "      </script>\n",
              "    </div>\n",
              "  </div>\n",
              "  "
            ]
          },
          "metadata": {},
          "execution_count": 229
        }
      ]
    },
    {
      "cell_type": "code",
      "source": [
        "cronicosposf.head(2)"
      ],
      "metadata": {
        "id": "GwXmnUGNZfGn",
        "colab": {
          "base_uri": "https://localhost:8080/",
          "height": 413
        },
        "outputId": "6214dbf6-1f93-4fed-e529-c2a0c60ee6ee"
      },
      "execution_count": null,
      "outputs": [
        {
          "output_type": "execute_result",
          "data": {
            "text/plain": [
              "   index  year   mes  nrodoc  peso  talla clasificación imc  \\\n",
              "0  37327  2022  MAYO  312214  39.0  155.0              Bajo   \n",
              "1  36974  2022  MAYO  311465  54.0  155.0            Normal   \n",
              "\n",
              "   sumatoria pliegues  presión arterial sistólica  \\\n",
              "0                15.0                          80   \n",
              "1                32.0                          95   \n",
              "\n",
              "   presión arterial diastólica  ...  creatinina 1 consulta  microalbuminuria  \\\n",
              "0                           60  ...                   0.57              0.43   \n",
              "1                           55  ...                   0.79              0.00   \n",
              "\n",
              "   hormona estimulante de la tiroides (tsh)    clase funcional  \\\n",
              "0                                      1.84  Clase funcional 3   \n",
              "1                                      2.41  Clase funcional 4   \n",
              "\n",
              "  tasa de filtración glomerular tfg2  remisión  \\\n",
              "0                             118.24  Grupal 4   \n",
              "1                               0.00  Grupal 4   \n",
              "\n",
              "                               diagnóstico principal tiene próximo control  \\\n",
              "0  R104 - OTROS DOLORES ABDOMINALES Y LOS NO ESPE...                    Si   \n",
              "1  F009 - DEMENCIA EN LA ENFERMEDAD DE ALZHEIMER ...                    Si   \n",
              "\n",
              "   requiere cita de morbilidad  ambito según el médico  \n",
              "0                           No            Domiciliario  \n",
              "1                           No            Domiciliario  \n",
              "\n",
              "[2 rows x 46 columns]"
            ],
            "text/html": [
              "\n",
              "  <div id=\"df-38fedb93-af20-4538-a69f-cb26273b8aa9\">\n",
              "    <div class=\"colab-df-container\">\n",
              "      <div>\n",
              "<style scoped>\n",
              "    .dataframe tbody tr th:only-of-type {\n",
              "        vertical-align: middle;\n",
              "    }\n",
              "\n",
              "    .dataframe tbody tr th {\n",
              "        vertical-align: top;\n",
              "    }\n",
              "\n",
              "    .dataframe thead th {\n",
              "        text-align: right;\n",
              "    }\n",
              "</style>\n",
              "<table border=\"1\" class=\"dataframe\">\n",
              "  <thead>\n",
              "    <tr style=\"text-align: right;\">\n",
              "      <th></th>\n",
              "      <th>index</th>\n",
              "      <th>year</th>\n",
              "      <th>mes</th>\n",
              "      <th>nrodoc</th>\n",
              "      <th>peso</th>\n",
              "      <th>talla</th>\n",
              "      <th>clasificación imc</th>\n",
              "      <th>sumatoria pliegues</th>\n",
              "      <th>presión arterial sistólica</th>\n",
              "      <th>presión arterial diastólica</th>\n",
              "      <th>...</th>\n",
              "      <th>creatinina 1 consulta</th>\n",
              "      <th>microalbuminuria</th>\n",
              "      <th>hormona estimulante de la tiroides (tsh)</th>\n",
              "      <th>clase funcional</th>\n",
              "      <th>tasa de filtración glomerular tfg2</th>\n",
              "      <th>remisión</th>\n",
              "      <th>diagnóstico principal</th>\n",
              "      <th>tiene próximo control</th>\n",
              "      <th>requiere cita de morbilidad</th>\n",
              "      <th>ambito según el médico</th>\n",
              "    </tr>\n",
              "  </thead>\n",
              "  <tbody>\n",
              "    <tr>\n",
              "      <th>0</th>\n",
              "      <td>37327</td>\n",
              "      <td>2022</td>\n",
              "      <td>MAYO</td>\n",
              "      <td>312214</td>\n",
              "      <td>39.0</td>\n",
              "      <td>155.0</td>\n",
              "      <td>Bajo</td>\n",
              "      <td>15.0</td>\n",
              "      <td>80</td>\n",
              "      <td>60</td>\n",
              "      <td>...</td>\n",
              "      <td>0.57</td>\n",
              "      <td>0.43</td>\n",
              "      <td>1.84</td>\n",
              "      <td>Clase funcional 3</td>\n",
              "      <td>118.24</td>\n",
              "      <td>Grupal 4</td>\n",
              "      <td>R104 - OTROS DOLORES ABDOMINALES Y LOS NO ESPE...</td>\n",
              "      <td>Si</td>\n",
              "      <td>No</td>\n",
              "      <td>Domiciliario</td>\n",
              "    </tr>\n",
              "    <tr>\n",
              "      <th>1</th>\n",
              "      <td>36974</td>\n",
              "      <td>2022</td>\n",
              "      <td>MAYO</td>\n",
              "      <td>311465</td>\n",
              "      <td>54.0</td>\n",
              "      <td>155.0</td>\n",
              "      <td>Normal</td>\n",
              "      <td>32.0</td>\n",
              "      <td>95</td>\n",
              "      <td>55</td>\n",
              "      <td>...</td>\n",
              "      <td>0.79</td>\n",
              "      <td>0.00</td>\n",
              "      <td>2.41</td>\n",
              "      <td>Clase funcional 4</td>\n",
              "      <td>0.00</td>\n",
              "      <td>Grupal 4</td>\n",
              "      <td>F009 - DEMENCIA EN LA ENFERMEDAD DE ALZHEIMER ...</td>\n",
              "      <td>Si</td>\n",
              "      <td>No</td>\n",
              "      <td>Domiciliario</td>\n",
              "    </tr>\n",
              "  </tbody>\n",
              "</table>\n",
              "<p>2 rows × 46 columns</p>\n",
              "</div>\n",
              "      <button class=\"colab-df-convert\" onclick=\"convertToInteractive('df-38fedb93-af20-4538-a69f-cb26273b8aa9')\"\n",
              "              title=\"Convert this dataframe to an interactive table.\"\n",
              "              style=\"display:none;\">\n",
              "        \n",
              "  <svg xmlns=\"http://www.w3.org/2000/svg\" height=\"24px\"viewBox=\"0 0 24 24\"\n",
              "       width=\"24px\">\n",
              "    <path d=\"M0 0h24v24H0V0z\" fill=\"none\"/>\n",
              "    <path d=\"M18.56 5.44l.94 2.06.94-2.06 2.06-.94-2.06-.94-.94-2.06-.94 2.06-2.06.94zm-11 1L8.5 8.5l.94-2.06 2.06-.94-2.06-.94L8.5 2.5l-.94 2.06-2.06.94zm10 10l.94 2.06.94-2.06 2.06-.94-2.06-.94-.94-2.06-.94 2.06-2.06.94z\"/><path d=\"M17.41 7.96l-1.37-1.37c-.4-.4-.92-.59-1.43-.59-.52 0-1.04.2-1.43.59L10.3 9.45l-7.72 7.72c-.78.78-.78 2.05 0 2.83L4 21.41c.39.39.9.59 1.41.59.51 0 1.02-.2 1.41-.59l7.78-7.78 2.81-2.81c.8-.78.8-2.07 0-2.86zM5.41 20L4 18.59l7.72-7.72 1.47 1.35L5.41 20z\"/>\n",
              "  </svg>\n",
              "      </button>\n",
              "      \n",
              "  <style>\n",
              "    .colab-df-container {\n",
              "      display:flex;\n",
              "      flex-wrap:wrap;\n",
              "      gap: 12px;\n",
              "    }\n",
              "\n",
              "    .colab-df-convert {\n",
              "      background-color: #E8F0FE;\n",
              "      border: none;\n",
              "      border-radius: 50%;\n",
              "      cursor: pointer;\n",
              "      display: none;\n",
              "      fill: #1967D2;\n",
              "      height: 32px;\n",
              "      padding: 0 0 0 0;\n",
              "      width: 32px;\n",
              "    }\n",
              "\n",
              "    .colab-df-convert:hover {\n",
              "      background-color: #E2EBFA;\n",
              "      box-shadow: 0px 1px 2px rgba(60, 64, 67, 0.3), 0px 1px 3px 1px rgba(60, 64, 67, 0.15);\n",
              "      fill: #174EA6;\n",
              "    }\n",
              "\n",
              "    [theme=dark] .colab-df-convert {\n",
              "      background-color: #3B4455;\n",
              "      fill: #D2E3FC;\n",
              "    }\n",
              "\n",
              "    [theme=dark] .colab-df-convert:hover {\n",
              "      background-color: #434B5C;\n",
              "      box-shadow: 0px 1px 3px 1px rgba(0, 0, 0, 0.15);\n",
              "      filter: drop-shadow(0px 1px 2px rgba(0, 0, 0, 0.3));\n",
              "      fill: #FFFFFF;\n",
              "    }\n",
              "  </style>\n",
              "\n",
              "      <script>\n",
              "        const buttonEl =\n",
              "          document.querySelector('#df-38fedb93-af20-4538-a69f-cb26273b8aa9 button.colab-df-convert');\n",
              "        buttonEl.style.display =\n",
              "          google.colab.kernel.accessAllowed ? 'block' : 'none';\n",
              "\n",
              "        async function convertToInteractive(key) {\n",
              "          const element = document.querySelector('#df-38fedb93-af20-4538-a69f-cb26273b8aa9');\n",
              "          const dataTable =\n",
              "            await google.colab.kernel.invokeFunction('convertToInteractive',\n",
              "                                                     [key], {});\n",
              "          if (!dataTable) return;\n",
              "\n",
              "          const docLinkHtml = 'Like what you see? Visit the ' +\n",
              "            '<a target=\"_blank\" href=https://colab.research.google.com/notebooks/data_table.ipynb>data table notebook</a>'\n",
              "            + ' to learn more about interactive tables.';\n",
              "          element.innerHTML = '';\n",
              "          dataTable['output_type'] = 'display_data';\n",
              "          await google.colab.output.renderOutput(dataTable, element);\n",
              "          const docLink = document.createElement('div');\n",
              "          docLink.innerHTML = docLinkHtml;\n",
              "          element.appendChild(docLink);\n",
              "        }\n",
              "      </script>\n",
              "    </div>\n",
              "  </div>\n",
              "  "
            ]
          },
          "metadata": {},
          "execution_count": 230
        }
      ]
    },
    {
      "cell_type": "code",
      "source": [
        "#se elimina columna adicional\n",
        "cronicosposf=cronicosposf.drop(['index'], axis=1)"
      ],
      "metadata": {
        "id": "BdaBqXpEFIjq"
      },
      "execution_count": null,
      "outputs": []
    },
    {
      "cell_type": "code",
      "source": [
        "#Se pone los datos en un mejor tipo\n",
        "#cronicosposf.convert_dtypes().dtypes\n",
        "cronicosposf = cronicosposf.convert_dtypes()"
      ],
      "metadata": {
        "id": "l9TkvqZyG10r"
      },
      "execution_count": null,
      "outputs": []
    },
    {
      "cell_type": "code",
      "source": [
        "#Se eliminan las columnas que tengan muchos datos string unicos debido a que son dificiles de tratar para modelos de regresión\n",
        "lista=cronicosposf.columns"
      ],
      "metadata": {
        "id": "LfRIMl-yHsJM"
      },
      "execution_count": null,
      "outputs": []
    },
    {
      "cell_type": "code",
      "source": [
        "for i in lista:\n",
        "  print(i)\n",
        "  print(cronicosposf[i].unique())\n",
        "  ('----------------------------------------')"
      ],
      "metadata": {
        "id": "sfmHpnRlI2zx",
        "colab": {
          "base_uri": "https://localhost:8080/"
        },
        "outputId": "2998d92e-f322-4559-b520-94895d1733d9"
      },
      "execution_count": null,
      "outputs": [
        {
          "output_type": "stream",
          "name": "stdout",
          "text": [
            "year\n",
            "<IntegerArray>\n",
            "[2022, 2021]\n",
            "Length: 2, dtype: Int64\n",
            "mes\n",
            "<StringArray>\n",
            "[      'MAYO',      'ABRIL',    'FEBRERO',      'MARZO',      'ENERO',\n",
            "  'NOVIEMBRE',  'DICIEMBRE',    'OCTUBRE', 'SEPTIEMBRE',     'AGOSTO',\n",
            "      'JULIO',      'JUNIO']\n",
            "Length: 12, dtype: string\n",
            "nrodoc\n",
            "<IntegerArray>\n",
            "[312214, 311465, 308752, 308578, 313574, 312459, 311318, 312746, 310618,\n",
            " 310984,\n",
            " ...\n",
            " 313780, 309120, 306776, 306387, 308765, 313530, 313637, 312525, 308288,\n",
            " 314135]\n",
            "Length: 5019, dtype: Int64\n",
            "peso\n",
            "<FloatingArray>\n",
            "[ 39.0,  54.0,  84.0,  55.0,  68.0, 100.0,  63.0,  60.0,  70.0,  58.0,\n",
            " ...\n",
            "  69.7,  98.5,  75.3,  58.4,  91.3,  36.2,  39.5,  41.5,  58.2, 127.0]\n",
            "Length: 230, dtype: Float64\n",
            "talla\n",
            "<IntegerArray>\n",
            "[155, 170, 168, 160, 165, 163, 161, 154, 171, 150, 158, 140, 156, 157, 149,\n",
            " 176, 143, 153, 151, 159, 130, 162, 147, 146, 167, 152, 172, 164, 110, 142,\n",
            " 148, 145, 169, 175, 125, 136, 180, 144, 183, 178, 166, 173, 132, 135, 127,\n",
            " 179, 141, 174, 128, 134, 133, 181, 185, 100, 139, 138, 184, 120, 177, 182,\n",
            " 198, 137, 187, 186, 188]\n",
            "Length: 65, dtype: Int64\n",
            "clasificación imc\n",
            "<StringArray>\n",
            "['Bajo', 'Normal', 'Obesidad Grasa', 'Sobrepeso']\n",
            "Length: 4, dtype: string\n",
            "sumatoria pliegues\n",
            "<FloatingArray>\n",
            "[ 15.0,  32.0,  30.0,  16.0,  47.0, 130.0,  58.0,   9.0,  59.0,  50.0,\n",
            " ...\n",
            " 122.0, 135.0, 138.0, 131.0, 132.0, 145.0, 159.0, 156.0, 147.0, 148.0]\n",
            "Length: 147, dtype: Float64\n",
            "presión arterial sistólica\n",
            "<IntegerArray>\n",
            "[ 80,  95, 110, 100, 120, 140, 108, 130, 115, 135,\n",
            " ...\n",
            " 224, 212, 192, 204, 227, 244, 229, 205, 215, 201]\n",
            "Length: 135, dtype: Int64\n",
            "presión arterial diastólica\n",
            "<IntegerArray>\n",
            "[ 60,  55,  50,  80,  90,  66,  70,  75,  94,  62,  64,  51,  76,  78,  82,\n",
            "  65,  68,  61,  85,  81, 100,  63,  52,  67,  74,  69,  88,  56,  86,  72,\n",
            "  73,  40,  71,  93,  79,  84,  92,  83,  59,  58,  54,  91, 120,  98,  53,\n",
            "  77,  57,  49,  95,  87, 110, 103, 107,  46,  89, 101, 113,  43,  97,  44,\n",
            "  99,  48, 114,  96, 111,  45,  47,  41, 122,  42, 102, 131, 106, 105, 109,\n",
            " 112, 127, 118, 121, 116, 142, 150, 104, 108]\n",
            "Length: 84, dtype: Int64\n",
            "frecuencia cardíaca en reposo\n",
            "<IntegerArray>\n",
            "[ 91,  82,  85,  76,  84,  78,  86,  79,  70,  90,  72,  81,  80,  89,  75,\n",
            "  50,  96,  77,  94,  69, 102,  74,  67,  83,  62,  71,  66,  53,  63,  65,\n",
            "  64,  60,  68,  59,  92,  58,  88, 106,  73,  55,  93, 105,  95, 116,  56,\n",
            " 109,  61, 108,  87, 111, 101,  40,  99, 122,  57,  45, 118,  98,  46, 104,\n",
            "  42,  54, 131,  52, 100,  48,  97, 114, 112, 107, 150,  51, 103, 110, 115,\n",
            " 133, 120, 124, 127, 117, 113, 119,  49,  47, 121,  41, 145, 134]\n",
            "Length: 88, dtype: Int64\n",
            "auto-calificacion nivel de ejercicio\n",
            "<IntegerArray>\n",
            "[1, 5, 4, 3, 2]\n",
            "Length: 5, dtype: Int64\n",
            "mets -índice metabólico\n",
            "<FloatingArray>\n",
            "[ 9.8809,  3.3884,  2.6768,  8.7827,  9.2967,  5.7948,  1.3059,  7.7693,\n",
            "  1.7451,  3.0645,\n",
            " ...\n",
            "  6.0938,  1.8931,  7.1526,  6.7749,   2.871,  5.8573,  6.4419,  7.4673,\n",
            "  3.0669, 12.0537]\n",
            "Length: 4795, dtype: Float64\n",
            "vo2 - máxima cantidad de oxígeno\n",
            "<FloatingArray>\n",
            "[34.5832, 11.8594,  9.3688, 30.7395, 32.5385, 20.2818,  4.5707, 27.1925,\n",
            "  6.1079, 10.7257,\n",
            " ...\n",
            " 21.3283,  6.6259, 25.0341, 23.7121, 10.0485, 20.5005, 22.5467, 26.1355,\n",
            " 10.7342,  42.188]\n",
            "Length: 4835, dtype: Float64\n",
            "calificación (índice de fragilidad)\n",
            "<StringArray>\n",
            "['Frágil', 'Normal']\n",
            "Length: 2, dtype: string\n",
            "calificación (apoyo monopodal)\n",
            "<StringArray>\n",
            "['Malo - Fragil', 'Aceptable', 'Bueno']\n",
            "Length: 3, dtype: string\n",
            "calificación velocidad\n",
            "<StringArray>\n",
            "['Malo - Frágil', 'Deficiente', 'Aceptable', 'Bueno']\n",
            "Length: 4, dtype: string\n",
            "diabetes mellitus\n",
            "<StringArray>\n",
            "['No', 'Si']\n",
            "Length: 2, dtype: string\n",
            "glicemia\n",
            "<IntegerArray>\n",
            "[106,   0,  97,  87,  82, 169,  79, 185,  84,  89,\n",
            " ...\n",
            " 375, 409, 335,  46, 320, 317, 981, 397, 219, 742]\n",
            "Length: 314, dtype: Int64\n",
            "hemoglobina glicada\n",
            "<FloatingArray>\n",
            "[  0.0,  5.42,   6.8,  5.48,  5.21,  9.31,  5.34,  7.32,   6.2,  5.56,\n",
            " ...\n",
            "  9.07,  9.65,  10.1,  12.7, 15.82, 13.27, 13.26,  8.18, 11.18,  11.7]\n",
            "Length: 669, dtype: Float64\n",
            "control diabetes\n",
            "<StringArray>\n",
            "['No aplica', 'controlada', 'No controlada', 'Falta hemoglobina']\n",
            "Length: 4, dtype: string\n",
            "tiene hta\n",
            "<StringArray>\n",
            "['No', 'Si']\n",
            "Length: 2, dtype: string\n",
            "control hta\n",
            "<StringArray>\n",
            "['No aplica', 'Controlada', 'No controlada']\n",
            "Length: 3, dtype: string\n",
            "tiene epoc\n",
            "<StringArray>\n",
            "['No', 'Sospecha', 'Si', 'EPOC no espirometrico']\n",
            "Length: 4, dtype: string\n",
            "enfermedad coronaria (en el último año)\n",
            "<StringArray>\n",
            "['No', 'No aplica', 'IAM', 'Angina estable', 'Angina inestable']\n",
            "Length: 5, dtype: string\n",
            "insuficiencia cardíaca\n",
            "<StringArray>\n",
            "[                       'No',                'Controlada',\n",
            "                 'No aplica', 'Deterioro de c. funcional',\n",
            "             'No controlada',      'Signos de sobrecarga']\n",
            "Length: 6, dtype: string\n",
            "valvulopatía\n",
            "<StringArray>\n",
            "['No', 'Si']\n",
            "Length: 2, dtype: string\n",
            "arritmia o paciente con dispositivo\n",
            "<StringArray>\n",
            "['No', 'Si']\n",
            "Length: 2, dtype: string\n",
            "sufre de alguna enfermedad cardiovascular\n",
            "<StringArray>\n",
            "['No', 'Si']\n",
            "Length: 2, dtype: string\n",
            "tabaquismo\n",
            "<StringArray>\n",
            "['No', 'Si', 'Ex-fumador']\n",
            "Length: 3, dtype: string\n",
            "años de consumo\n",
            "<IntegerArray>\n",
            "[  0,  20,  43,  40,  27,  30,  14,  35,  45,  70,  63,  29,  36,  16,  24,\n",
            "  25,  10,  52,  48,   5,  58,  17,  23,  15,  56,  50,  44,  26,  33,   9,\n",
            "  18,   1,  19,   7,  60,  65,  64,  32,   2,  22,  28,  34,  55,   3,  68,\n",
            "  53,  38,  13,  42,   6,  49,  74,   8,  62,  51,  57,  12,  54,  90,  47,\n",
            "  11,  39,  72, 710,  61,  37,  46,  41,  69,   4,  66,  75,  21]\n",
            "Length: 73, dtype: Int64\n",
            "lipoproteina\n",
            "<FloatingArray>\n",
            "[   0.0,   52.6,  99.55,  51.36,   22.5,   61.1,   34.2,   96.7,  72.36,\n",
            "  52.98,\n",
            " ...\n",
            "  50.28,  87.63,  53.78, 217.62,  54.91, 171.88,   92.4,  70.06,  75.93,\n",
            "  155.7]\n",
            "Length: 1328, dtype: Float64\n",
            "hdl\n",
            "<FloatingArray>\n",
            "[ 39.9,  28.2,  50.6,  31.8, 42.69,  46.2,  58.4,  20.8,  24.8,  43.2,\n",
            " ...\n",
            " 27.79, 35.09, 30.31, 50.03, 72.39, 34.76, 36.57, 36.12, 37.95, 33.69]\n",
            "Length: 1666, dtype: Float64\n",
            "colesterol total\n",
            "<FloatingArray>\n",
            "[117.52,  115.5,  120.2,  137.2,  246.1,  319.8,  141.0,  69.36,  68.44,\n",
            "  146.3,\n",
            " ...\n",
            "  201.9, 105.57, 127.02,   63.4, 129.46,  298.4, 107.25,  167.9,  258.0,\n",
            " 114.59]\n",
            "Length: 2209, dtype: Float64\n",
            "trigliceridos\n",
            "<FloatingArray>\n",
            "[121.04,  135.1,  146.3,   98.6,  113.1, 374.01,  116.8, 202.32,  76.08,\n",
            "  102.3,\n",
            " ...\n",
            " 183.56,  307.4, 128.26,  273.4,  193.8,  98.24,  311.6,  295.0,  87.05,\n",
            "  94.11]\n",
            "Length: 2673, dtype: Float64\n",
            "clasificación de framinghan\n",
            "<StringArray>\n",
            "['Bajo riesgo', 'Alto riesgo']\n",
            "Length: 2, dtype: string\n",
            "creatinina 1 consulta\n",
            "<FloatingArray>\n",
            "[ 0.57,  0.79,  0.55,  0.54,  0.39, 12.71,  1.14,  0.82,  0.75,  0.71,\n",
            " ...\n",
            "   3.8,  4.09,  7.21,  2.56,  6.41,   2.2,  9.34,  5.52,  5.29,  5.75]\n",
            "Length: 336, dtype: Float64\n",
            "microalbuminuria\n",
            "<FloatingArray>\n",
            "[   0.43,     0.0,     0.1,   12.34,    2.28,   51.57,    0.57,    3.74,\n",
            "    1.16,     0.4,\n",
            " ...\n",
            "  109.34,  121.95, 2799.57,   31.77, 1099.91,   182.0,    31.0,    22.0,\n",
            "    3.22,    5.05]\n",
            "Length: 1245, dtype: Float64\n",
            "hormona estimulante de la tiroides (tsh)\n",
            "<FloatingArray>\n",
            "[ 1.84,  2.41,  1.45,  1.78,  3.19,  12.7,  6.25,   0.0,  0.21,  1.42,\n",
            " ...\n",
            " 40.59,  9.39, 13.37, 19.74, 1.725, 10.32,  8.02,  6.87,  7.15,  5.35]\n",
            "Length: 932, dtype: Float64\n",
            "clase funcional\n",
            "<StringArray>\n",
            "[ 'Clase funcional 3',  'Clase funcional 4', 'Clase funcional 2A',\n",
            " 'Clase funcional 2B',  'Clase funcional 1']\n",
            "Length: 5, dtype: string\n",
            "tasa de filtración glomerular tfg2\n",
            "<FloatingArray>\n",
            "[118.24,    0.0, 118.65,  68.44,   8.62,  72.45,  63.91,   53.8,  37.25,\n",
            "  99.47,\n",
            " ...\n",
            "  39.52,  72.65,  10.51,   80.5,  23.91,   33.7,  37.23,  17.23,  35.82,\n",
            "  67.34]\n",
            "Length: 2689, dtype: Float64\n",
            "remisión\n",
            "<StringArray>\n",
            "['Grupal 4', 'Grupal 2', 'Grupal 1', 'Grupal 3']\n",
            "Length: 4, dtype: string\n",
            "diagnóstico principal\n",
            "<StringArray>\n",
            "[                             'R104 - OTROS DOLORES ABDOMINALES Y LOS NO ESPECIFICADOS',\n",
            "                        'F009 - DEMENCIA EN LA ENFERMEDAD DE ALZHEIMER NO ESPECIFICADA',\n",
            "             'E109 - DIABETES MELLITUS INSULINODEPENDIENTE SIN MENCION DE COMPLICACION',\n",
            "                                                 'G934 - ENCEFALOPATIA NO ESPECIFICADA',\n",
            "            'F730 - RETRASO MENTAL PROFUNDO DETERIORO DEL COMPORTAMIENTO NULO O MINIMO',\n",
            "                                      'N189 - ENFERMEDAD RENAL CRONICA NO ESPECIFICADA',\n",
            "                                              'I10X - HIPERTENSION ESENCIAL (PRIMARIA)',\n",
            "         'E117 - DIABETES MELLITUS NO INSULINODEPENDIENTE CON COMPLICACIONES MULTIPLES',\n",
            "                       'J449 - ENFERMEDAD PULMONAR OBSTRUCTIVA CRONICA NO ESPECIFICADA',\n",
            "                   'F000 - DEMENCIA EN LA ENFERMEDAD DE ALZHEIMER DE COMIENZO TEMPRANO',\n",
            " ...\n",
            "                                                      'H269 - CATARATA NO ESPECIFICADA',\n",
            "                                         'C73X - TUMOR MALIGNO DE LA GLANDULA TIROIDES',\n",
            "       'F028 - DEMENCIA EN OTRAS ENFERMEDADES ESPECIFICADAS CLASIFICADAS EN OTRA PARTE',\n",
            "                                     'N189 - ENFERMEDAD RENAL CRONICA, NO ESPECIFICADA',\n",
            "                                                      'Z719 - CONSULTA NO ESPECIFICADA',\n",
            "                                        'Z951 - PRESENCIA DE DERIVACION AORTOCORONARIA',\n",
            "                                                           'Z940 - TRASPLANTE DE RINON',\n",
            "                                                           'E804 - SINDROME DE GILBERT',\n",
            " 'F719 - RETRASO MENTAL MODERADO DETERIORO DEL COMPORTAMIENTO DE GRADO NO ESPECIFICADO',\n",
            "                                             'N185 - Enfermedad renal cronica, etapa 5']\n",
            "Length: 304, dtype: string\n",
            "tiene próximo control\n",
            "<StringArray>\n",
            "['Si', 'No']\n",
            "Length: 2, dtype: string\n",
            "requiere cita de morbilidad\n",
            "<StringArray>\n",
            "['No', 'Si']\n",
            "Length: 2, dtype: string\n",
            "ambito según el médico\n",
            "<StringArray>\n",
            "['Domiciliario', 'Ambulatorio']\n",
            "Length: 2, dtype: string\n"
          ]
        }
      ]
    },
    {
      "cell_type": "markdown",
      "source": [
        "EGRESOSPOS"
      ],
      "metadata": {
        "id": "gmhdP16rqIwe"
      }
    },
    {
      "cell_type": "code",
      "source": [
        "egresospos.columns"
      ],
      "metadata": {
        "id": "9GQQP06Qc5ey",
        "colab": {
          "base_uri": "https://localhost:8080/"
        },
        "outputId": "b0900e7e-34a0-4f23-d355-3d22824194a6"
      },
      "execution_count": null,
      "outputs": [
        {
          "output_type": "execute_result",
          "data": {
            "text/plain": [
              "Index(['YEAR', 'MES', 'NRO ATENCION', 'NRO INGRESO', 'SERVICIO HABILITADO COD',\n",
              "       'SERVICIO HABILITADO', 'TIPO IDENTIFICACION', 'NRODOC',\n",
              "       'FECHA NACIMIENTO', 'REGIMEN AFILIACION', 'EPS VALIDADA',\n",
              "       'MODALIDAD CONTRATO', 'FUENTE FINANCIACION1', 'FUENTE FINANCIACION2',\n",
              "       'SERVICIO ADMITE', 'BLOQUE ANTERIOR', 'PISO ANTERIOR',\n",
              "       'SERVICIO ANTERIOR', 'NRO CAMA ANTERIOR', 'VIA INGRESO', 'BLOQUE',\n",
              "       'UNIDAD ESTRATEGICA', 'PISO', 'NRO CAMA', 'SERVICIO EGRESO',\n",
              "       'TIPO EGRESO', 'FECHA INGRESO CLINICA', 'FECHA INGRESO SERVICIO',\n",
              "       'FECHA POSIBLE ALTA', 'FECHA ALTA MEDICA', 'FECHA RECAUDO',\n",
              "       'FECHA CAMILLERO', 'FECHA ENFERMERIA', 'FECHA FACTURACION AUDIFARMA',\n",
              "       'FECHA FARMACIA', 'FECHA SALIDA', 'FECHA ASEO',\n",
              "       'DEMORA ASIGNACION CAMA', 'DEMORA APLICACION MEDICAMENTO',\n",
              "       'DEMORA SALIDA CLINICA (DIAS)', 'TRANSFUSION SANGRE', 'ANTIBIOTICO',\n",
              "       'ALTA MEDICA', 'POSIBLE ALTA', 'DXPRINCIPAL EGRESO COD',\n",
              "       'DXPRINCIPAL EGRESO', 'DX RELACIONADO1 COD', 'DX RELACIONADO1',\n",
              "       'DX RELACIONADO2 COD', 'DX RELACIONADO2', 'DX RELACIONADO3 COD',\n",
              "       'DX RELACIONADO3', 'TIPO DIAGNOSTICO PRINCIPAL',\n",
              "       'PERTINENCIA DIAGNOSTICA', 'DX PRINCIPAL EGRESO CATEGORIA COD',\n",
              "       'DX PRINCIPAL EGRESO CATEGORIA', 'DX PRINCIPAL EGRESO CAPITULO COD',\n",
              "       'DX PRINCIPAL EGRESO CAPITULO', 'CAUSA BASICA MUERTE COD',\n",
              "       'CAUSA BASICA MUERTE', 'CAUSA BASICA CATEGORIA COD',\n",
              "       'CAUSA BASICA CATEGORIA', 'CAUSA BASICA CAPITULO COD',\n",
              "       'CAUSA BASICA CAPITULO', 'PROFESIONAL ESPECIALIDAD',\n",
              "       'PROFESIONAL ESPECIALIDAD GRD'],\n",
              "      dtype='object')"
            ]
          },
          "metadata": {},
          "execution_count": 235
        }
      ]
    },
    {
      "cell_type": "code",
      "source": [
        "egresospos.info()"
      ],
      "metadata": {
        "id": "JbjPM7o4LRLd",
        "colab": {
          "base_uri": "https://localhost:8080/"
        },
        "outputId": "0e8f128e-8733-425f-ed1f-0b434bf2972d"
      },
      "execution_count": null,
      "outputs": [
        {
          "output_type": "stream",
          "name": "stdout",
          "text": [
            "<class 'pandas.core.frame.DataFrame'>\n",
            "Int64Index: 1601 entries, 11 to 6375\n",
            "Data columns (total 66 columns):\n",
            " #   Column                             Non-Null Count  Dtype  \n",
            "---  ------                             --------------  -----  \n",
            " 0   YEAR                               1601 non-null   int64  \n",
            " 1   MES                                1601 non-null   object \n",
            " 2   NRO ATENCION                       1601 non-null   int64  \n",
            " 3   NRO INGRESO                        1601 non-null   int64  \n",
            " 4   SERVICIO HABILITADO COD            1601 non-null   float64\n",
            " 5   SERVICIO HABILITADO                1601 non-null   object \n",
            " 6   TIPO IDENTIFICACION                1601 non-null   object \n",
            " 7   NRODOC                             1601 non-null   int64  \n",
            " 8   FECHA NACIMIENTO                   1601 non-null   object \n",
            " 9   REGIMEN AFILIACION                 1601 non-null   object \n",
            " 10  EPS VALIDADA                       1601 non-null   object \n",
            " 11  MODALIDAD CONTRATO                 1601 non-null   object \n",
            " 12  FUENTE FINANCIACION1               1601 non-null   object \n",
            " 13  FUENTE FINANCIACION2               1601 non-null   object \n",
            " 14  SERVICIO ADMITE                    1601 non-null   object \n",
            " 15  BLOQUE ANTERIOR                    1601 non-null   object \n",
            " 16  PISO ANTERIOR                      1601 non-null   object \n",
            " 17  SERVICIO ANTERIOR                  1601 non-null   object \n",
            " 18  NRO CAMA ANTERIOR                  1601 non-null   object \n",
            " 19  VIA INGRESO                        1601 non-null   object \n",
            " 20  BLOQUE                             1601 non-null   object \n",
            " 21  UNIDAD ESTRATEGICA                 1601 non-null   object \n",
            " 22  PISO                               1601 non-null   object \n",
            " 23  NRO CAMA                           1601 non-null   object \n",
            " 24  SERVICIO EGRESO                    1601 non-null   object \n",
            " 25  TIPO EGRESO                        1601 non-null   object \n",
            " 26  FECHA INGRESO CLINICA              1601 non-null   object \n",
            " 27  FECHA INGRESO SERVICIO             1601 non-null   object \n",
            " 28  FECHA POSIBLE ALTA                 113 non-null    object \n",
            " 29  FECHA ALTA MEDICA                  1601 non-null   object \n",
            " 30  FECHA RECAUDO                      1599 non-null   object \n",
            " 31  FECHA CAMILLERO                    1268 non-null   object \n",
            " 32  FECHA ENFERMERIA                   1453 non-null   object \n",
            " 33  FECHA FACTURACION AUDIFARMA        1426 non-null   object \n",
            " 34  FECHA FARMACIA                     1489 non-null   object \n",
            " 35  FECHA SALIDA                       1601 non-null   object \n",
            " 36  FECHA ASEO                         1404 non-null   object \n",
            " 37  DEMORA ASIGNACION CAMA             1601 non-null   object \n",
            " 38  DEMORA APLICACION MEDICAMENTO      1601 non-null   object \n",
            " 39  DEMORA SALIDA CLINICA (DIAS)       1601 non-null   float64\n",
            " 40  TRANSFUSION SANGRE                 1601 non-null   object \n",
            " 41  ANTIBIOTICO                        1601 non-null   object \n",
            " 42  ALTA MEDICA                        1601 non-null   object \n",
            " 43  POSIBLE ALTA                       1601 non-null   object \n",
            " 44  DXPRINCIPAL EGRESO COD             1601 non-null   object \n",
            " 45  DXPRINCIPAL EGRESO                 1601 non-null   object \n",
            " 46  DX RELACIONADO1 COD                1591 non-null   object \n",
            " 47  DX RELACIONADO1                    1601 non-null   object \n",
            " 48  DX RELACIONADO2 COD                1580 non-null   object \n",
            " 49  DX RELACIONADO2                    1601 non-null   object \n",
            " 50  DX RELACIONADO3 COD                1568 non-null   object \n",
            " 51  DX RELACIONADO3                    1601 non-null   object \n",
            " 52  TIPO DIAGNOSTICO PRINCIPAL         1601 non-null   object \n",
            " 53  PERTINENCIA DIAGNOSTICA            528 non-null    object \n",
            " 54  DX PRINCIPAL EGRESO CATEGORIA COD  1598 non-null   object \n",
            " 55  DX PRINCIPAL EGRESO CATEGORIA      1601 non-null   object \n",
            " 56  DX PRINCIPAL EGRESO CAPITULO COD   1598 non-null   object \n",
            " 57  DX PRINCIPAL EGRESO CAPITULO       1601 non-null   object \n",
            " 58  CAUSA BASICA MUERTE COD            208 non-null    object \n",
            " 59  CAUSA BASICA MUERTE                1601 non-null   object \n",
            " 60  CAUSA BASICA CATEGORIA COD         208 non-null    object \n",
            " 61  CAUSA BASICA CATEGORIA             1601 non-null   object \n",
            " 62  CAUSA BASICA CAPITULO COD          208 non-null    object \n",
            " 63  CAUSA BASICA CAPITULO              1601 non-null   object \n",
            " 64  PROFESIONAL ESPECIALIDAD           1601 non-null   object \n",
            " 65  PROFESIONAL ESPECIALIDAD GRD       1601 non-null   object \n",
            "dtypes: float64(2), int64(4), object(60)\n",
            "memory usage: 838.0+ KB\n"
          ]
        }
      ]
    },
    {
      "cell_type": "code",
      "source": [
        "#Porcentaje de representación de datos nulos en la base egresospos\n",
        "print(round(egresospos.isnull().sum().sum()/egresospos.size, 2)*100, \"%\")"
      ],
      "metadata": {
        "colab": {
          "base_uri": "https://localhost:8080/"
        },
        "id": "8F3Lfqd2Kol8",
        "outputId": "419631f6-eacc-4fe0-e806-ac8f74f22401"
      },
      "execution_count": null,
      "outputs": [
        {
          "output_type": "stream",
          "name": "stdout",
          "text": [
            "7.000000000000001 %\n"
          ]
        }
      ]
    },
    {
      "cell_type": "code",
      "source": [
        "#Se evalua el porcentaje de nulos por columna\n",
        "((egresospos.isnull().sum() / len(egresospos))*100).sort_values(ascending = False)"
      ],
      "metadata": {
        "id": "yWm6jZUpK1h-",
        "colab": {
          "base_uri": "https://localhost:8080/"
        },
        "outputId": "56d1714c-08d8-4aa0-b948-20f54cd89922"
      },
      "execution_count": null,
      "outputs": [
        {
          "output_type": "execute_result",
          "data": {
            "text/plain": [
              "FECHA POSIBLE ALTA              92.941911\n",
              "CAUSA BASICA CAPITULO COD       87.008120\n",
              "CAUSA BASICA CATEGORIA COD      87.008120\n",
              "CAUSA BASICA MUERTE COD         87.008120\n",
              "PERTINENCIA DIAGNOSTICA         67.020612\n",
              "                                  ...    \n",
              "TIPO EGRESO                      0.000000\n",
              "FECHA INGRESO CLINICA            0.000000\n",
              "FECHA INGRESO SERVICIO           0.000000\n",
              "FECHA ALTA MEDICA                0.000000\n",
              "PROFESIONAL ESPECIALIDAD GRD     0.000000\n",
              "Length: 66, dtype: float64"
            ]
          },
          "metadata": {},
          "execution_count": 238
        }
      ]
    },
    {
      "cell_type": "code",
      "source": [
        "#se eliminan aquellas columnas que tengan más de 60% de sus datos nulos\n",
        "lista=egresospos.columns"
      ],
      "metadata": {
        "id": "pttkYV8TLGxr"
      },
      "execution_count": null,
      "outputs": []
    },
    {
      "cell_type": "code",
      "source": [
        "for i in lista:\n",
        "  if (egresospos[i].isnull().sum() / len(egresospos))*100> 60 :\n",
        "    egresospos=egresospos.drop([i], axis=1)\n"
      ],
      "metadata": {
        "id": "-Os8MpRiLCNb"
      },
      "execution_count": null,
      "outputs": []
    },
    {
      "cell_type": "code",
      "source": [
        "#Variables con nulos\n",
        "lista=egresospos.columns\n",
        "cont=0\n",
        "for i in lista:\n",
        "  if egresospos[i].isnull().sum()>0:\n",
        "    print(i)\n",
        "    (\"--------------------------------------\")"
      ],
      "metadata": {
        "id": "VJ8_kucxbgJp",
        "colab": {
          "base_uri": "https://localhost:8080/"
        },
        "outputId": "63c071ca-9c13-43e3-df8b-71e9b063106a"
      },
      "execution_count": null,
      "outputs": [
        {
          "output_type": "stream",
          "name": "stdout",
          "text": [
            "FECHA RECAUDO\n",
            "FECHA CAMILLERO\n",
            "FECHA ENFERMERIA\n",
            "FECHA FACTURACION AUDIFARMA\n",
            "FECHA FARMACIA\n",
            "FECHA ASEO\n",
            "DX RELACIONADO1 COD\n",
            "DX RELACIONADO2 COD\n",
            "DX RELACIONADO3 COD\n",
            "DX PRINCIPAL EGRESO CATEGORIA COD\n",
            "DX PRINCIPAL EGRESO CAPITULO COD\n"
          ]
        }
      ]
    },
    {
      "cell_type": "code",
      "source": [
        "#validación de valor agregado de los datos\n",
        "egresospos['CAUSA BASICA MUERTE'].unique()"
      ],
      "metadata": {
        "id": "2zAM2XjJc69A",
        "colab": {
          "base_uri": "https://localhost:8080/"
        },
        "outputId": "89075b01-4ddc-458f-ff5b-9f89910360f0"
      },
      "execution_count": null,
      "outputs": [
        {
          "output_type": "execute_result",
          "data": {
            "text/plain": [
              "array(['Sin informacion en base de datos', 'FISTULA DEL INTESTINO',\n",
              "       'COVID-19 VIRUS IDENTIFICADO', 'COLANGITIS',\n",
              "       'CALCULO DE LA VESICULA BILIAR CON COLECISTITIS AGUDA ',\n",
              "       'CARCINOMA DE CELULAS HEPATICAS',\n",
              "       'INFARTO AGUDO DEL MIOCARDIO  SIN OTRA ESPECIFICACION ',\n",
              "       'ENFERMEDAD PULMONAR OBSTRUCTIVA CRONICA CON INFECCION AGUDA DE LAS VIAS RESPIRATORIAS INFERIORES',\n",
              "       'ENFERMEDAD CARDIACA HIPERTENSIVA CON INSUFICIENCIA CARDIACA (CONGESTIVA) ',\n",
              "       'DIABETES MELLITUS NO INSULINODEPENDIENTE  CON COMPLICACIONES MULTIPLES ',\n",
              "       'ENFERMEDAD CARDIORRENAL HIPERTENSIVA CON INSUFICIENCIA CARDIACA Y RENAL (CONGESTIVAS) ',\n",
              "       'OTRAS HEMORRAGIAS INTRAENCEFALICAS ',\n",
              "       'INFLUENZA CON NEUMONIA  DEBIDA A VIRUS DE LA INFLUENZA IDENTIFICADO',\n",
              "       'TUMOR MALIGNO DEL ENDOMETRIO ',\n",
              "       'SECUELAS DE ENFERMEDAD CEREBROVASCULAR  NO ESPECIFICADA COMO HEMORRAGICA U OCLUSIVA ',\n",
              "       'TUMOR MALIGNO DE LA MAMA  PARTE NO ESPECIFICADA',\n",
              "       'OTRAS CIRROSIS DEL HIGADO Y LAS NO ESPECIFICADAS ',\n",
              "       'HEMORRAGIA INTRACEREBRAL EN HEMISFERIO  SUBCORTICAL ',\n",
              "       'ENVENENAMIENTO AUTOINFLIGIDO INTENCIONALMENTE POR  Y EXPOSICION A OTROS PRODUCTOS QUIMICOS Y SUSTANCIAS NOCIVAS Y LOS NO ESPECIFICADOS VIV ',\n",
              "       'OTRAS CAIDAS EN EL MISMO NIVEL  VIVIENDA',\n",
              "       'ENFERMEDAD DE ALZHEIMER  NO ESPECIFICADA ',\n",
              "       'OTRAS OBSTRUCCIONES DEL INTESTINO',\n",
              "       'TUMOR MALIGNO DEL ESTOMAGO  PARTE NO ESPECIFICADA',\n",
              "       'Enfermedad renal cronica, etapa 3',\n",
              "       'DIABETES MELLITUS INSULINODEPENDIENTE  CON COMPLICACIONES MULTIPLES ',\n",
              "       'ENFERMEDAD PULMONAR OBSTRUCTIVA CRONICA CON EXACERBACION AGUDA  NO ESPECIFICADA',\n",
              "       'TUMOR MALIGNO DE LA VESICULA BILIAR',\n",
              "       'INFARTO AGUDO TRANSMURAL DEL MIOCARDIO DE OTROS SITIOS ',\n",
              "       'ENFERMEDAD RENAL HIPERTENSIVA CON INSUFICIENCIA RENAL ',\n",
              "       'HEMORRAGIA INTRAENCEFALICA EN TALLO CEREBRAL ',\n",
              "       'DIABETES MELLITUS NO INSULINODEPENDIENTE  CON COMA ',\n",
              "       'TUMOR MALIGNO DEL CUELLO DEL UTERO  SIN OTRA ESPECIFICACION ',\n",
              "       'OTRAS OBSTRUCCIONES INTESTINALES Y LAS NO ESPECIFICADAS',\n",
              "       'MIOSITIS INFECCIOSA',\n",
              "       'ENFERMEDAD TOXICA DEL HIGADO CON CIRROSIS Y FIBROSIS DEL HIGADO',\n",
              "       'TUMOR MALIGNO DEL HIGADO  NO ESPECIFICADO',\n",
              "       'Tumor maligno, sitio primario no especificado',\n",
              "       'HEMORRAGIA INTRACEREBRAL EN HEMISFERIO  CORTICAL ',\n",
              "       'OTROS TRASTORNOS DE LA VALVULA AORTICA',\n",
              "       'MIELITIS TRANSVERSA AGUDA EN ENFERMEDAD DESMIELINIZANTE DEL SISTEMA NERVIOSO CENTRAL',\n",
              "       'RUPTURA DE ANEURISMA DE LA AORTA TORACICA',\n",
              "       'TRASTORNO VASCULAR AGUDO DE LOS INTESTINOS',\n",
              "       'EPILEPSIA  TIPO NO ESPECIFICADO',\n",
              "       'RUPTURA DE ANEURISMA DE LA AORTA ABDOMINAL',\n",
              "       'OTRAS FORMAS DE ESCLEROSIS SISTEMICA',\n",
              "       'OSTEOPOROSIS POR DESUSO  CON FRACTURA PATOLOGICA ',\n",
              "       'SECUELAS DE INFARTO CEREBRAL ',\n",
              "       'TUMOR MALIGNO DEL RINON  EXCEPTO DE LA PELVIS RENAL',\n",
              "       'ILEO  NO ESPECIFICADO', 'TUMOR MALIGNO DEL CONDUCTO PANCREATICO',\n",
              "       'HEMORRAGIA INTRAENCEFALICA  NO ESPECIFICADA ',\n",
              "       'PERFORACION DEL INTESTINO (NO TRAUMATICA)',\n",
              "       'ENFERMEDAD CEREBROVASCULAR  NO ESPECIFICADA ',\n",
              "       'HEMORRAGIA INTRACEREBRAL EN HEMISFERIO  NO ESPECIFICADA ',\n",
              "       'TUMOR MALIGNO DE LA GLANDULA TIROIDES',\n",
              "       'COVID-19 VIRUS NO IDENTIFICADO',\n",
              "       'DISECCION DE AORTA (CUALQUIER PARTE)',\n",
              "       'SECUELAS DE LESIONES AUTOINFLIGIDAS',\n",
              "       'TUMOR MALIGNO DEL PANCREAS  PARTE NO ESPECIFICADA',\n",
              "       'ULCERA PEPTICA  DE SITIO NO ESPECIFICADO AGUDA CON HEMORRAGIA Y PERFORACION ',\n",
              "       'OTRAS CAIDAS EN EL MISMO NIVEL  OTRO LUGAR ESPECIFICADO',\n",
              "       'TUMOR MALIGNO DE LOS BRONQUIOS O DEL PULMON  PARTE NO ESPECIFICADA',\n",
              "       'TUMOR MALIGNO DE LA CABEZA DEL PANCREAS',\n",
              "       'SECUELAS DE OTROS ACCIDENTES DE TRANSPORTE  Y LOS NO ESPECIFICADOS',\n",
              "       'DIABETES MELLITUS NO INSULINODEPENDIENTE  CON COMPLICACIONES RENALES ',\n",
              "       'INFLUENZA CON OTRAS MANIFESTACIONES RESPIRATORIAS  VIRUS NO IDENTIFICADO',\n",
              "       'TUMOR MALIGNO DE LA PIEL  SITIO NO ESPECIFICADO',\n",
              "       'OTROS INFARTOS CEREBRALES',\n",
              "       'DIABETES MELLITUS INSULINODEPENDIENTE  CON COMA ',\n",
              "       'HEMORRAGIA SUBDURAL (AGUDA) (NO TRAUMATICA) '], dtype=object)"
            ]
          },
          "metadata": {},
          "execution_count": 242
        }
      ]
    },
    {
      "cell_type": "code",
      "source": [
        "lista = (['FECHA RECAUDO', 'FECHA CAMILLERO', 'FECHA ENFERMERIA', 'FECHA FACTURACION AUDIFARMA', 'FECHA FARMACIA', 'FECHA ASEO',\n",
        "'DX RELACIONADO1 COD', 'DX RELACIONADO2 COD', 'DX RELACIONADO3 COD', 'DX PRINCIPAL EGRESO CATEGORIA COD', 'DX PRINCIPAL EGRESO CAPITULO COD'])"
      ],
      "metadata": {
        "id": "ylwdwnt8dy4J"
      },
      "execution_count": null,
      "outputs": []
    },
    {
      "cell_type": "code",
      "source": [
        "for i in lista:\n",
        "\n",
        "  egresospos=egresospos.drop([i], axis=1)"
      ],
      "metadata": {
        "id": "OnAHyefnhV0G"
      },
      "execution_count": null,
      "outputs": []
    },
    {
      "cell_type": "code",
      "source": [
        "egresospos.isnull().sum()"
      ],
      "metadata": {
        "id": "tgeGRnS7irEJ",
        "colab": {
          "base_uri": "https://localhost:8080/"
        },
        "outputId": "25819f97-52c2-41d6-82a2-13975f9da14a"
      },
      "execution_count": null,
      "outputs": [
        {
          "output_type": "execute_result",
          "data": {
            "text/plain": [
              "YEAR                             0\n",
              "MES                              0\n",
              "NRO ATENCION                     0\n",
              "NRO INGRESO                      0\n",
              "SERVICIO HABILITADO COD          0\n",
              "SERVICIO HABILITADO              0\n",
              "TIPO IDENTIFICACION              0\n",
              "NRODOC                           0\n",
              "FECHA NACIMIENTO                 0\n",
              "REGIMEN AFILIACION               0\n",
              "EPS VALIDADA                     0\n",
              "MODALIDAD CONTRATO               0\n",
              "FUENTE FINANCIACION1             0\n",
              "FUENTE FINANCIACION2             0\n",
              "SERVICIO ADMITE                  0\n",
              "BLOQUE ANTERIOR                  0\n",
              "PISO ANTERIOR                    0\n",
              "SERVICIO ANTERIOR                0\n",
              "NRO CAMA ANTERIOR                0\n",
              "VIA INGRESO                      0\n",
              "BLOQUE                           0\n",
              "UNIDAD ESTRATEGICA               0\n",
              "PISO                             0\n",
              "NRO CAMA                         0\n",
              "SERVICIO EGRESO                  0\n",
              "TIPO EGRESO                      0\n",
              "FECHA INGRESO CLINICA            0\n",
              "FECHA INGRESO SERVICIO           0\n",
              "FECHA ALTA MEDICA                0\n",
              "FECHA SALIDA                     0\n",
              "DEMORA ASIGNACION CAMA           0\n",
              "DEMORA APLICACION MEDICAMENTO    0\n",
              "DEMORA SALIDA CLINICA (DIAS)     0\n",
              "TRANSFUSION SANGRE               0\n",
              "ANTIBIOTICO                      0\n",
              "ALTA MEDICA                      0\n",
              "POSIBLE ALTA                     0\n",
              "DXPRINCIPAL EGRESO COD           0\n",
              "DXPRINCIPAL EGRESO               0\n",
              "DX RELACIONADO1                  0\n",
              "DX RELACIONADO2                  0\n",
              "DX RELACIONADO3                  0\n",
              "TIPO DIAGNOSTICO PRINCIPAL       0\n",
              "DX PRINCIPAL EGRESO CATEGORIA    0\n",
              "DX PRINCIPAL EGRESO CAPITULO     0\n",
              "CAUSA BASICA MUERTE              0\n",
              "CAUSA BASICA CATEGORIA           0\n",
              "CAUSA BASICA CAPITULO            0\n",
              "PROFESIONAL ESPECIALIDAD         0\n",
              "PROFESIONAL ESPECIALIDAD GRD     0\n",
              "dtype: int64"
            ]
          },
          "metadata": {},
          "execution_count": 245
        }
      ]
    },
    {
      "cell_type": "code",
      "source": [
        "#Se eliminan aquellos que no agregan valor\n",
        "lista =(['NRO ATENCION', 'NRO INGRESO', 'SERVICIO HABILITADO COD',\n",
        "       'SERVICIO HABILITADO', 'TIPO IDENTIFICACION','FECHA NACIMIENTO','REGIMEN AFILIACION', 'MODALIDAD CONTRATO', 'FUENTE FINANCIACION1', 'FUENTE FINANCIACION2',\n",
        "       'SERVICIO ANTERIOR', 'NRO CAMA ANTERIOR', 'VIA INGRESO', 'BLOQUE','UNIDAD ESTRATEGICA', 'PISO', 'NRO CAMA', 'SERVICIO EGRESO', 'FECHA INGRESO SERVICIO',\n",
        "       'FECHA ALTA MEDICA',  'FECHA SALIDA','DEMORA ASIGNACION CAMA', 'DEMORA APLICACION MEDICAMENTO', 'TRANSFUSION SANGRE', 'ANTIBIOTICO','ALTA MEDICA', 'POSIBLE ALTA', 'DXPRINCIPAL EGRESO COD',\n",
        "       'DXPRINCIPAL EGRESO', 'DX RELACIONADO1', 'DX RELACIONADO2', 'TIPO DIAGNOSTICO PRINCIPAL',\n",
        "       'DX PRINCIPAL EGRESO CATEGORIA', 'DX PRINCIPAL EGRESO CAPITULO',\n",
        "       'CAUSA BASICA CATEGORIA',\n",
        "       'CAUSA BASICA CAPITULO','DEMORA SALIDA CLINICA (DIAS)', 'YEAR', 'MES', 'BLOQUE ANTERIOR', 'PISO ANTERIOR', 'PROFESIONAL ESPECIALIDAD', 'FECHA INGRESO CLINICA'])"
      ],
      "metadata": {
        "id": "rM6ceAuzeSfU"
      },
      "execution_count": null,
      "outputs": []
    },
    {
      "cell_type": "code",
      "source": [
        "for i in lista:\n",
        "  egresospos=egresospos.drop([i], axis=1)"
      ],
      "metadata": {
        "id": "XN3Gs6zAdhqD"
      },
      "execution_count": null,
      "outputs": []
    },
    {
      "cell_type": "code",
      "source": [
        "#se ponen todas las columnas en minusculas\n",
        "egresospos.columns = egresospos.columns.str.lower()"
      ],
      "metadata": {
        "id": "ObeqnIpTzO-2"
      },
      "execution_count": null,
      "outputs": []
    },
    {
      "cell_type": "code",
      "source": [
        "df=pd.DataFrame()\n",
        "df['numero_de_hospitalizaciones']= egresospos['nrodoc'].value_counts()\n",
        "df['nrodoc']= egresospos['nrodoc'].value_counts().index\n",
        "df=df.reset_index().drop('index', axis=1)\n",
        "df"
      ],
      "metadata": {
        "id": "oPvhyymavI80",
        "colab": {
          "base_uri": "https://localhost:8080/",
          "height": 419
        },
        "outputId": "79845669-4752-46bd-adc8-f0ee026d2eb2"
      },
      "execution_count": null,
      "outputs": [
        {
          "output_type": "execute_result",
          "data": {
            "text/plain": [
              "      numero_de_hospitalizaciones  nrodoc\n",
              "0                              10  313240\n",
              "1                               7  312214\n",
              "2                               6  311890\n",
              "3                               6  312704\n",
              "4                               6  306827\n",
              "...                           ...     ...\n",
              "1124                            1  313418\n",
              "1125                            1  312815\n",
              "1126                            1  311775\n",
              "1127                            1  312803\n",
              "1128                            1  313921\n",
              "\n",
              "[1129 rows x 2 columns]"
            ],
            "text/html": [
              "\n",
              "  <div id=\"df-cac86c3b-4949-4352-8cc2-2be4682ca27a\">\n",
              "    <div class=\"colab-df-container\">\n",
              "      <div>\n",
              "<style scoped>\n",
              "    .dataframe tbody tr th:only-of-type {\n",
              "        vertical-align: middle;\n",
              "    }\n",
              "\n",
              "    .dataframe tbody tr th {\n",
              "        vertical-align: top;\n",
              "    }\n",
              "\n",
              "    .dataframe thead th {\n",
              "        text-align: right;\n",
              "    }\n",
              "</style>\n",
              "<table border=\"1\" class=\"dataframe\">\n",
              "  <thead>\n",
              "    <tr style=\"text-align: right;\">\n",
              "      <th></th>\n",
              "      <th>numero_de_hospitalizaciones</th>\n",
              "      <th>nrodoc</th>\n",
              "    </tr>\n",
              "  </thead>\n",
              "  <tbody>\n",
              "    <tr>\n",
              "      <th>0</th>\n",
              "      <td>10</td>\n",
              "      <td>313240</td>\n",
              "    </tr>\n",
              "    <tr>\n",
              "      <th>1</th>\n",
              "      <td>7</td>\n",
              "      <td>312214</td>\n",
              "    </tr>\n",
              "    <tr>\n",
              "      <th>2</th>\n",
              "      <td>6</td>\n",
              "      <td>311890</td>\n",
              "    </tr>\n",
              "    <tr>\n",
              "      <th>3</th>\n",
              "      <td>6</td>\n",
              "      <td>312704</td>\n",
              "    </tr>\n",
              "    <tr>\n",
              "      <th>4</th>\n",
              "      <td>6</td>\n",
              "      <td>306827</td>\n",
              "    </tr>\n",
              "    <tr>\n",
              "      <th>...</th>\n",
              "      <td>...</td>\n",
              "      <td>...</td>\n",
              "    </tr>\n",
              "    <tr>\n",
              "      <th>1124</th>\n",
              "      <td>1</td>\n",
              "      <td>313418</td>\n",
              "    </tr>\n",
              "    <tr>\n",
              "      <th>1125</th>\n",
              "      <td>1</td>\n",
              "      <td>312815</td>\n",
              "    </tr>\n",
              "    <tr>\n",
              "      <th>1126</th>\n",
              "      <td>1</td>\n",
              "      <td>311775</td>\n",
              "    </tr>\n",
              "    <tr>\n",
              "      <th>1127</th>\n",
              "      <td>1</td>\n",
              "      <td>312803</td>\n",
              "    </tr>\n",
              "    <tr>\n",
              "      <th>1128</th>\n",
              "      <td>1</td>\n",
              "      <td>313921</td>\n",
              "    </tr>\n",
              "  </tbody>\n",
              "</table>\n",
              "<p>1129 rows × 2 columns</p>\n",
              "</div>\n",
              "      <button class=\"colab-df-convert\" onclick=\"convertToInteractive('df-cac86c3b-4949-4352-8cc2-2be4682ca27a')\"\n",
              "              title=\"Convert this dataframe to an interactive table.\"\n",
              "              style=\"display:none;\">\n",
              "        \n",
              "  <svg xmlns=\"http://www.w3.org/2000/svg\" height=\"24px\"viewBox=\"0 0 24 24\"\n",
              "       width=\"24px\">\n",
              "    <path d=\"M0 0h24v24H0V0z\" fill=\"none\"/>\n",
              "    <path d=\"M18.56 5.44l.94 2.06.94-2.06 2.06-.94-2.06-.94-.94-2.06-.94 2.06-2.06.94zm-11 1L8.5 8.5l.94-2.06 2.06-.94-2.06-.94L8.5 2.5l-.94 2.06-2.06.94zm10 10l.94 2.06.94-2.06 2.06-.94-2.06-.94-.94-2.06-.94 2.06-2.06.94z\"/><path d=\"M17.41 7.96l-1.37-1.37c-.4-.4-.92-.59-1.43-.59-.52 0-1.04.2-1.43.59L10.3 9.45l-7.72 7.72c-.78.78-.78 2.05 0 2.83L4 21.41c.39.39.9.59 1.41.59.51 0 1.02-.2 1.41-.59l7.78-7.78 2.81-2.81c.8-.78.8-2.07 0-2.86zM5.41 20L4 18.59l7.72-7.72 1.47 1.35L5.41 20z\"/>\n",
              "  </svg>\n",
              "      </button>\n",
              "      \n",
              "  <style>\n",
              "    .colab-df-container {\n",
              "      display:flex;\n",
              "      flex-wrap:wrap;\n",
              "      gap: 12px;\n",
              "    }\n",
              "\n",
              "    .colab-df-convert {\n",
              "      background-color: #E8F0FE;\n",
              "      border: none;\n",
              "      border-radius: 50%;\n",
              "      cursor: pointer;\n",
              "      display: none;\n",
              "      fill: #1967D2;\n",
              "      height: 32px;\n",
              "      padding: 0 0 0 0;\n",
              "      width: 32px;\n",
              "    }\n",
              "\n",
              "    .colab-df-convert:hover {\n",
              "      background-color: #E2EBFA;\n",
              "      box-shadow: 0px 1px 2px rgba(60, 64, 67, 0.3), 0px 1px 3px 1px rgba(60, 64, 67, 0.15);\n",
              "      fill: #174EA6;\n",
              "    }\n",
              "\n",
              "    [theme=dark] .colab-df-convert {\n",
              "      background-color: #3B4455;\n",
              "      fill: #D2E3FC;\n",
              "    }\n",
              "\n",
              "    [theme=dark] .colab-df-convert:hover {\n",
              "      background-color: #434B5C;\n",
              "      box-shadow: 0px 1px 3px 1px rgba(0, 0, 0, 0.15);\n",
              "      filter: drop-shadow(0px 1px 2px rgba(0, 0, 0, 0.3));\n",
              "      fill: #FFFFFF;\n",
              "    }\n",
              "  </style>\n",
              "\n",
              "      <script>\n",
              "        const buttonEl =\n",
              "          document.querySelector('#df-cac86c3b-4949-4352-8cc2-2be4682ca27a button.colab-df-convert');\n",
              "        buttonEl.style.display =\n",
              "          google.colab.kernel.accessAllowed ? 'block' : 'none';\n",
              "\n",
              "        async function convertToInteractive(key) {\n",
              "          const element = document.querySelector('#df-cac86c3b-4949-4352-8cc2-2be4682ca27a');\n",
              "          const dataTable =\n",
              "            await google.colab.kernel.invokeFunction('convertToInteractive',\n",
              "                                                     [key], {});\n",
              "          if (!dataTable) return;\n",
              "\n",
              "          const docLinkHtml = 'Like what you see? Visit the ' +\n",
              "            '<a target=\"_blank\" href=https://colab.research.google.com/notebooks/data_table.ipynb>data table notebook</a>'\n",
              "            + ' to learn more about interactive tables.';\n",
              "          element.innerHTML = '';\n",
              "          dataTable['output_type'] = 'display_data';\n",
              "          await google.colab.output.renderOutput(dataTable, element);\n",
              "          const docLink = document.createElement('div');\n",
              "          docLink.innerHTML = docLinkHtml;\n",
              "          element.appendChild(docLink);\n",
              "        }\n",
              "      </script>\n",
              "    </div>\n",
              "  </div>\n",
              "  "
            ]
          },
          "metadata": {},
          "execution_count": 249
        }
      ]
    },
    {
      "cell_type": "code",
      "source": [
        "egresosposf= funcion_1(egresospos)"
      ],
      "metadata": {
        "id": "vzXU4QVkytV0"
      },
      "execution_count": null,
      "outputs": []
    },
    {
      "cell_type": "code",
      "source": [
        "egresosposf"
      ],
      "metadata": {
        "id": "K2dl7L4oznVD",
        "colab": {
          "base_uri": "https://localhost:8080/",
          "height": 638
        },
        "outputId": "dd1d8d62-62fe-4c4a-cc94-9ea149a4cbc6"
      },
      "execution_count": null,
      "outputs": [
        {
          "output_type": "execute_result",
          "data": {
            "text/plain": [
              "      index  nrodoc        eps validada             servicio admite  \\\n",
              "0      2996  313240  NUEVA EPS S.A. PGP             Hospitalización   \n",
              "1      5208  312214  NUEVA EPS S.A. PGP  Urgencias Generales Sótano   \n",
              "2      1567  311890  NUEVA EPS S.A. PGP  Urgencias Generales Sótano   \n",
              "3      1479  312704  NUEVA EPS S.A. PGP  Urgencias Generales Sótano   \n",
              "4      3685  306827  NUEVA EPS S.A. PGP  Urgencias Generales Sótano   \n",
              "...     ...     ...                 ...                         ...   \n",
              "1124   2974  313418  NUEVA EPS S.A. PGP  Urgencias Generales Sótano   \n",
              "1125   2976  312815  NUEVA EPS S.A. PGP             Hospitalización   \n",
              "1126   2978  311775  NUEVA EPS S.A. PGP  Urgencias Generales Sótano   \n",
              "1127   2979  312803  NUEVA EPS S.A. PGP                     Cirugía   \n",
              "1128   6375  313921  NUEVA EPS S.A. PGP  Urgencias Generales Sótano   \n",
              "\n",
              "                      tipo egreso  \\\n",
              "0                     Alta Médica   \n",
              "1                     Alta Médica   \n",
              "2                     Alta Médica   \n",
              "3                     Alta Médica   \n",
              "4                     Alta Médica   \n",
              "...                           ...   \n",
              "1124                  Alta Médica   \n",
              "1125                  Alta Médica   \n",
              "1126                  Alta Médica   \n",
              "1127                  Alta Médica   \n",
              "1128  Remisión a otra institución   \n",
              "\n",
              "                                        dx relacionado3  \\\n",
              "0     TRASTORNO DE LOS TEJIDOS BLANDOS  NO ESPECIFIC...   \n",
              "1                        BLASTOMICOSIS  NO ESPECIFICADA   \n",
              "2                                          HEMATEMESIS    \n",
              "3                             OBESIDAD  NO ESPECIFICADA   \n",
              "4     Otras gastroenteritis y colitis de origen infe...   \n",
              "...                                                 ...   \n",
              "1124  DIABETES MELLITUS NO INSULINODEPENDIENTE  SIN ...   \n",
              "1125     OTROS TRASTORNOS DEL ALMACENAMIENTO DE LIPIDOS   \n",
              "1126  OTROS TRASTORNOS DEL EQUILIBRIO DE LOS ELECTRO...   \n",
              "1127                                           MIALGIA    \n",
              "1128                 INSUFICIENCIA CARDIACA CONGESTIVA    \n",
              "\n",
              "                   causa basica muerte profesional especialidad grd  \n",
              "0     Sin informacion en base de datos              Cirugia General  \n",
              "1     Sin informacion en base de datos             Medicina Interna  \n",
              "2     Sin informacion en base de datos              Cirugia General  \n",
              "3     Sin informacion en base de datos             Medicina Interna  \n",
              "4     Sin informacion en base de datos             Medicina Interna  \n",
              "...                                ...                          ...  \n",
              "1124  Sin informacion en base de datos             Medicina Interna  \n",
              "1125  Sin informacion en base de datos             Medicina Interna  \n",
              "1126  Sin informacion en base de datos             Medicina Interna  \n",
              "1127  Sin informacion en base de datos                    Ortopedia  \n",
              "1128  Sin informacion en base de datos                   Nefrologia  \n",
              "\n",
              "[1129 rows x 8 columns]"
            ],
            "text/html": [
              "\n",
              "  <div id=\"df-d3b6ccf0-6ac2-4ad3-8250-4296ee3862e6\">\n",
              "    <div class=\"colab-df-container\">\n",
              "      <div>\n",
              "<style scoped>\n",
              "    .dataframe tbody tr th:only-of-type {\n",
              "        vertical-align: middle;\n",
              "    }\n",
              "\n",
              "    .dataframe tbody tr th {\n",
              "        vertical-align: top;\n",
              "    }\n",
              "\n",
              "    .dataframe thead th {\n",
              "        text-align: right;\n",
              "    }\n",
              "</style>\n",
              "<table border=\"1\" class=\"dataframe\">\n",
              "  <thead>\n",
              "    <tr style=\"text-align: right;\">\n",
              "      <th></th>\n",
              "      <th>index</th>\n",
              "      <th>nrodoc</th>\n",
              "      <th>eps validada</th>\n",
              "      <th>servicio admite</th>\n",
              "      <th>tipo egreso</th>\n",
              "      <th>dx relacionado3</th>\n",
              "      <th>causa basica muerte</th>\n",
              "      <th>profesional especialidad grd</th>\n",
              "    </tr>\n",
              "  </thead>\n",
              "  <tbody>\n",
              "    <tr>\n",
              "      <th>0</th>\n",
              "      <td>2996</td>\n",
              "      <td>313240</td>\n",
              "      <td>NUEVA EPS S.A. PGP</td>\n",
              "      <td>Hospitalización</td>\n",
              "      <td>Alta Médica</td>\n",
              "      <td>TRASTORNO DE LOS TEJIDOS BLANDOS  NO ESPECIFIC...</td>\n",
              "      <td>Sin informacion en base de datos</td>\n",
              "      <td>Cirugia General</td>\n",
              "    </tr>\n",
              "    <tr>\n",
              "      <th>1</th>\n",
              "      <td>5208</td>\n",
              "      <td>312214</td>\n",
              "      <td>NUEVA EPS S.A. PGP</td>\n",
              "      <td>Urgencias Generales Sótano</td>\n",
              "      <td>Alta Médica</td>\n",
              "      <td>BLASTOMICOSIS  NO ESPECIFICADA</td>\n",
              "      <td>Sin informacion en base de datos</td>\n",
              "      <td>Medicina Interna</td>\n",
              "    </tr>\n",
              "    <tr>\n",
              "      <th>2</th>\n",
              "      <td>1567</td>\n",
              "      <td>311890</td>\n",
              "      <td>NUEVA EPS S.A. PGP</td>\n",
              "      <td>Urgencias Generales Sótano</td>\n",
              "      <td>Alta Médica</td>\n",
              "      <td>HEMATEMESIS</td>\n",
              "      <td>Sin informacion en base de datos</td>\n",
              "      <td>Cirugia General</td>\n",
              "    </tr>\n",
              "    <tr>\n",
              "      <th>3</th>\n",
              "      <td>1479</td>\n",
              "      <td>312704</td>\n",
              "      <td>NUEVA EPS S.A. PGP</td>\n",
              "      <td>Urgencias Generales Sótano</td>\n",
              "      <td>Alta Médica</td>\n",
              "      <td>OBESIDAD  NO ESPECIFICADA</td>\n",
              "      <td>Sin informacion en base de datos</td>\n",
              "      <td>Medicina Interna</td>\n",
              "    </tr>\n",
              "    <tr>\n",
              "      <th>4</th>\n",
              "      <td>3685</td>\n",
              "      <td>306827</td>\n",
              "      <td>NUEVA EPS S.A. PGP</td>\n",
              "      <td>Urgencias Generales Sótano</td>\n",
              "      <td>Alta Médica</td>\n",
              "      <td>Otras gastroenteritis y colitis de origen infe...</td>\n",
              "      <td>Sin informacion en base de datos</td>\n",
              "      <td>Medicina Interna</td>\n",
              "    </tr>\n",
              "    <tr>\n",
              "      <th>...</th>\n",
              "      <td>...</td>\n",
              "      <td>...</td>\n",
              "      <td>...</td>\n",
              "      <td>...</td>\n",
              "      <td>...</td>\n",
              "      <td>...</td>\n",
              "      <td>...</td>\n",
              "      <td>...</td>\n",
              "    </tr>\n",
              "    <tr>\n",
              "      <th>1124</th>\n",
              "      <td>2974</td>\n",
              "      <td>313418</td>\n",
              "      <td>NUEVA EPS S.A. PGP</td>\n",
              "      <td>Urgencias Generales Sótano</td>\n",
              "      <td>Alta Médica</td>\n",
              "      <td>DIABETES MELLITUS NO INSULINODEPENDIENTE  SIN ...</td>\n",
              "      <td>Sin informacion en base de datos</td>\n",
              "      <td>Medicina Interna</td>\n",
              "    </tr>\n",
              "    <tr>\n",
              "      <th>1125</th>\n",
              "      <td>2976</td>\n",
              "      <td>312815</td>\n",
              "      <td>NUEVA EPS S.A. PGP</td>\n",
              "      <td>Hospitalización</td>\n",
              "      <td>Alta Médica</td>\n",
              "      <td>OTROS TRASTORNOS DEL ALMACENAMIENTO DE LIPIDOS</td>\n",
              "      <td>Sin informacion en base de datos</td>\n",
              "      <td>Medicina Interna</td>\n",
              "    </tr>\n",
              "    <tr>\n",
              "      <th>1126</th>\n",
              "      <td>2978</td>\n",
              "      <td>311775</td>\n",
              "      <td>NUEVA EPS S.A. PGP</td>\n",
              "      <td>Urgencias Generales Sótano</td>\n",
              "      <td>Alta Médica</td>\n",
              "      <td>OTROS TRASTORNOS DEL EQUILIBRIO DE LOS ELECTRO...</td>\n",
              "      <td>Sin informacion en base de datos</td>\n",
              "      <td>Medicina Interna</td>\n",
              "    </tr>\n",
              "    <tr>\n",
              "      <th>1127</th>\n",
              "      <td>2979</td>\n",
              "      <td>312803</td>\n",
              "      <td>NUEVA EPS S.A. PGP</td>\n",
              "      <td>Cirugía</td>\n",
              "      <td>Alta Médica</td>\n",
              "      <td>MIALGIA</td>\n",
              "      <td>Sin informacion en base de datos</td>\n",
              "      <td>Ortopedia</td>\n",
              "    </tr>\n",
              "    <tr>\n",
              "      <th>1128</th>\n",
              "      <td>6375</td>\n",
              "      <td>313921</td>\n",
              "      <td>NUEVA EPS S.A. PGP</td>\n",
              "      <td>Urgencias Generales Sótano</td>\n",
              "      <td>Remisión a otra institución</td>\n",
              "      <td>INSUFICIENCIA CARDIACA CONGESTIVA</td>\n",
              "      <td>Sin informacion en base de datos</td>\n",
              "      <td>Nefrologia</td>\n",
              "    </tr>\n",
              "  </tbody>\n",
              "</table>\n",
              "<p>1129 rows × 8 columns</p>\n",
              "</div>\n",
              "      <button class=\"colab-df-convert\" onclick=\"convertToInteractive('df-d3b6ccf0-6ac2-4ad3-8250-4296ee3862e6')\"\n",
              "              title=\"Convert this dataframe to an interactive table.\"\n",
              "              style=\"display:none;\">\n",
              "        \n",
              "  <svg xmlns=\"http://www.w3.org/2000/svg\" height=\"24px\"viewBox=\"0 0 24 24\"\n",
              "       width=\"24px\">\n",
              "    <path d=\"M0 0h24v24H0V0z\" fill=\"none\"/>\n",
              "    <path d=\"M18.56 5.44l.94 2.06.94-2.06 2.06-.94-2.06-.94-.94-2.06-.94 2.06-2.06.94zm-11 1L8.5 8.5l.94-2.06 2.06-.94-2.06-.94L8.5 2.5l-.94 2.06-2.06.94zm10 10l.94 2.06.94-2.06 2.06-.94-2.06-.94-.94-2.06-.94 2.06-2.06.94z\"/><path d=\"M17.41 7.96l-1.37-1.37c-.4-.4-.92-.59-1.43-.59-.52 0-1.04.2-1.43.59L10.3 9.45l-7.72 7.72c-.78.78-.78 2.05 0 2.83L4 21.41c.39.39.9.59 1.41.59.51 0 1.02-.2 1.41-.59l7.78-7.78 2.81-2.81c.8-.78.8-2.07 0-2.86zM5.41 20L4 18.59l7.72-7.72 1.47 1.35L5.41 20z\"/>\n",
              "  </svg>\n",
              "      </button>\n",
              "      \n",
              "  <style>\n",
              "    .colab-df-container {\n",
              "      display:flex;\n",
              "      flex-wrap:wrap;\n",
              "      gap: 12px;\n",
              "    }\n",
              "\n",
              "    .colab-df-convert {\n",
              "      background-color: #E8F0FE;\n",
              "      border: none;\n",
              "      border-radius: 50%;\n",
              "      cursor: pointer;\n",
              "      display: none;\n",
              "      fill: #1967D2;\n",
              "      height: 32px;\n",
              "      padding: 0 0 0 0;\n",
              "      width: 32px;\n",
              "    }\n",
              "\n",
              "    .colab-df-convert:hover {\n",
              "      background-color: #E2EBFA;\n",
              "      box-shadow: 0px 1px 2px rgba(60, 64, 67, 0.3), 0px 1px 3px 1px rgba(60, 64, 67, 0.15);\n",
              "      fill: #174EA6;\n",
              "    }\n",
              "\n",
              "    [theme=dark] .colab-df-convert {\n",
              "      background-color: #3B4455;\n",
              "      fill: #D2E3FC;\n",
              "    }\n",
              "\n",
              "    [theme=dark] .colab-df-convert:hover {\n",
              "      background-color: #434B5C;\n",
              "      box-shadow: 0px 1px 3px 1px rgba(0, 0, 0, 0.15);\n",
              "      filter: drop-shadow(0px 1px 2px rgba(0, 0, 0, 0.3));\n",
              "      fill: #FFFFFF;\n",
              "    }\n",
              "  </style>\n",
              "\n",
              "      <script>\n",
              "        const buttonEl =\n",
              "          document.querySelector('#df-d3b6ccf0-6ac2-4ad3-8250-4296ee3862e6 button.colab-df-convert');\n",
              "        buttonEl.style.display =\n",
              "          google.colab.kernel.accessAllowed ? 'block' : 'none';\n",
              "\n",
              "        async function convertToInteractive(key) {\n",
              "          const element = document.querySelector('#df-d3b6ccf0-6ac2-4ad3-8250-4296ee3862e6');\n",
              "          const dataTable =\n",
              "            await google.colab.kernel.invokeFunction('convertToInteractive',\n",
              "                                                     [key], {});\n",
              "          if (!dataTable) return;\n",
              "\n",
              "          const docLinkHtml = 'Like what you see? Visit the ' +\n",
              "            '<a target=\"_blank\" href=https://colab.research.google.com/notebooks/data_table.ipynb>data table notebook</a>'\n",
              "            + ' to learn more about interactive tables.';\n",
              "          element.innerHTML = '';\n",
              "          dataTable['output_type'] = 'display_data';\n",
              "          await google.colab.output.renderOutput(dataTable, element);\n",
              "          const docLink = document.createElement('div');\n",
              "          docLink.innerHTML = docLinkHtml;\n",
              "          element.appendChild(docLink);\n",
              "        }\n",
              "      </script>\n",
              "    </div>\n",
              "  </div>\n",
              "  "
            ]
          },
          "metadata": {},
          "execution_count": 251
        }
      ]
    },
    {
      "cell_type": "code",
      "source": [
        "#se une la base de datos egresosposf y el numero de hospitalizaciones\n",
        "egresosposf1=pd.merge(df, egresosposf, on='nrodoc', how='left')"
      ],
      "metadata": {
        "id": "FIuhtVzqzrLZ"
      },
      "execution_count": null,
      "outputs": []
    },
    {
      "cell_type": "code",
      "source": [
        "egresosposf1"
      ],
      "metadata": {
        "id": "15vhrHX1e3XA",
        "colab": {
          "base_uri": "https://localhost:8080/",
          "height": 757
        },
        "outputId": "3c8adffc-bd82-4a90-a6d7-638444a184d0"
      },
      "execution_count": null,
      "outputs": [
        {
          "output_type": "execute_result",
          "data": {
            "text/plain": [
              "      numero_de_hospitalizaciones  nrodoc  index        eps validada  \\\n",
              "0                              10  313240   2996  NUEVA EPS S.A. PGP   \n",
              "1                               7  312214   5208  NUEVA EPS S.A. PGP   \n",
              "2                               6  311890   1567  NUEVA EPS S.A. PGP   \n",
              "3                               6  312704   1479  NUEVA EPS S.A. PGP   \n",
              "4                               6  306827   3685  NUEVA EPS S.A. PGP   \n",
              "...                           ...     ...    ...                 ...   \n",
              "1124                            1  313418   2974  NUEVA EPS S.A. PGP   \n",
              "1125                            1  312815   2976  NUEVA EPS S.A. PGP   \n",
              "1126                            1  311775   2978  NUEVA EPS S.A. PGP   \n",
              "1127                            1  312803   2979  NUEVA EPS S.A. PGP   \n",
              "1128                            1  313921   6375  NUEVA EPS S.A. PGP   \n",
              "\n",
              "                 servicio admite                  tipo egreso  \\\n",
              "0                Hospitalización                  Alta Médica   \n",
              "1     Urgencias Generales Sótano                  Alta Médica   \n",
              "2     Urgencias Generales Sótano                  Alta Médica   \n",
              "3     Urgencias Generales Sótano                  Alta Médica   \n",
              "4     Urgencias Generales Sótano                  Alta Médica   \n",
              "...                          ...                          ...   \n",
              "1124  Urgencias Generales Sótano                  Alta Médica   \n",
              "1125             Hospitalización                  Alta Médica   \n",
              "1126  Urgencias Generales Sótano                  Alta Médica   \n",
              "1127                     Cirugía                  Alta Médica   \n",
              "1128  Urgencias Generales Sótano  Remisión a otra institución   \n",
              "\n",
              "                                        dx relacionado3  \\\n",
              "0     TRASTORNO DE LOS TEJIDOS BLANDOS  NO ESPECIFIC...   \n",
              "1                        BLASTOMICOSIS  NO ESPECIFICADA   \n",
              "2                                          HEMATEMESIS    \n",
              "3                             OBESIDAD  NO ESPECIFICADA   \n",
              "4     Otras gastroenteritis y colitis de origen infe...   \n",
              "...                                                 ...   \n",
              "1124  DIABETES MELLITUS NO INSULINODEPENDIENTE  SIN ...   \n",
              "1125     OTROS TRASTORNOS DEL ALMACENAMIENTO DE LIPIDOS   \n",
              "1126  OTROS TRASTORNOS DEL EQUILIBRIO DE LOS ELECTRO...   \n",
              "1127                                           MIALGIA    \n",
              "1128                 INSUFICIENCIA CARDIACA CONGESTIVA    \n",
              "\n",
              "                   causa basica muerte profesional especialidad grd  \n",
              "0     Sin informacion en base de datos              Cirugia General  \n",
              "1     Sin informacion en base de datos             Medicina Interna  \n",
              "2     Sin informacion en base de datos              Cirugia General  \n",
              "3     Sin informacion en base de datos             Medicina Interna  \n",
              "4     Sin informacion en base de datos             Medicina Interna  \n",
              "...                                ...                          ...  \n",
              "1124  Sin informacion en base de datos             Medicina Interna  \n",
              "1125  Sin informacion en base de datos             Medicina Interna  \n",
              "1126  Sin informacion en base de datos             Medicina Interna  \n",
              "1127  Sin informacion en base de datos                    Ortopedia  \n",
              "1128  Sin informacion en base de datos                   Nefrologia  \n",
              "\n",
              "[1129 rows x 9 columns]"
            ],
            "text/html": [
              "\n",
              "  <div id=\"df-0f05db71-9fc4-4446-8ad8-209b6afa76a6\">\n",
              "    <div class=\"colab-df-container\">\n",
              "      <div>\n",
              "<style scoped>\n",
              "    .dataframe tbody tr th:only-of-type {\n",
              "        vertical-align: middle;\n",
              "    }\n",
              "\n",
              "    .dataframe tbody tr th {\n",
              "        vertical-align: top;\n",
              "    }\n",
              "\n",
              "    .dataframe thead th {\n",
              "        text-align: right;\n",
              "    }\n",
              "</style>\n",
              "<table border=\"1\" class=\"dataframe\">\n",
              "  <thead>\n",
              "    <tr style=\"text-align: right;\">\n",
              "      <th></th>\n",
              "      <th>numero_de_hospitalizaciones</th>\n",
              "      <th>nrodoc</th>\n",
              "      <th>index</th>\n",
              "      <th>eps validada</th>\n",
              "      <th>servicio admite</th>\n",
              "      <th>tipo egreso</th>\n",
              "      <th>dx relacionado3</th>\n",
              "      <th>causa basica muerte</th>\n",
              "      <th>profesional especialidad grd</th>\n",
              "    </tr>\n",
              "  </thead>\n",
              "  <tbody>\n",
              "    <tr>\n",
              "      <th>0</th>\n",
              "      <td>10</td>\n",
              "      <td>313240</td>\n",
              "      <td>2996</td>\n",
              "      <td>NUEVA EPS S.A. PGP</td>\n",
              "      <td>Hospitalización</td>\n",
              "      <td>Alta Médica</td>\n",
              "      <td>TRASTORNO DE LOS TEJIDOS BLANDOS  NO ESPECIFIC...</td>\n",
              "      <td>Sin informacion en base de datos</td>\n",
              "      <td>Cirugia General</td>\n",
              "    </tr>\n",
              "    <tr>\n",
              "      <th>1</th>\n",
              "      <td>7</td>\n",
              "      <td>312214</td>\n",
              "      <td>5208</td>\n",
              "      <td>NUEVA EPS S.A. PGP</td>\n",
              "      <td>Urgencias Generales Sótano</td>\n",
              "      <td>Alta Médica</td>\n",
              "      <td>BLASTOMICOSIS  NO ESPECIFICADA</td>\n",
              "      <td>Sin informacion en base de datos</td>\n",
              "      <td>Medicina Interna</td>\n",
              "    </tr>\n",
              "    <tr>\n",
              "      <th>2</th>\n",
              "      <td>6</td>\n",
              "      <td>311890</td>\n",
              "      <td>1567</td>\n",
              "      <td>NUEVA EPS S.A. PGP</td>\n",
              "      <td>Urgencias Generales Sótano</td>\n",
              "      <td>Alta Médica</td>\n",
              "      <td>HEMATEMESIS</td>\n",
              "      <td>Sin informacion en base de datos</td>\n",
              "      <td>Cirugia General</td>\n",
              "    </tr>\n",
              "    <tr>\n",
              "      <th>3</th>\n",
              "      <td>6</td>\n",
              "      <td>312704</td>\n",
              "      <td>1479</td>\n",
              "      <td>NUEVA EPS S.A. PGP</td>\n",
              "      <td>Urgencias Generales Sótano</td>\n",
              "      <td>Alta Médica</td>\n",
              "      <td>OBESIDAD  NO ESPECIFICADA</td>\n",
              "      <td>Sin informacion en base de datos</td>\n",
              "      <td>Medicina Interna</td>\n",
              "    </tr>\n",
              "    <tr>\n",
              "      <th>4</th>\n",
              "      <td>6</td>\n",
              "      <td>306827</td>\n",
              "      <td>3685</td>\n",
              "      <td>NUEVA EPS S.A. PGP</td>\n",
              "      <td>Urgencias Generales Sótano</td>\n",
              "      <td>Alta Médica</td>\n",
              "      <td>Otras gastroenteritis y colitis de origen infe...</td>\n",
              "      <td>Sin informacion en base de datos</td>\n",
              "      <td>Medicina Interna</td>\n",
              "    </tr>\n",
              "    <tr>\n",
              "      <th>...</th>\n",
              "      <td>...</td>\n",
              "      <td>...</td>\n",
              "      <td>...</td>\n",
              "      <td>...</td>\n",
              "      <td>...</td>\n",
              "      <td>...</td>\n",
              "      <td>...</td>\n",
              "      <td>...</td>\n",
              "      <td>...</td>\n",
              "    </tr>\n",
              "    <tr>\n",
              "      <th>1124</th>\n",
              "      <td>1</td>\n",
              "      <td>313418</td>\n",
              "      <td>2974</td>\n",
              "      <td>NUEVA EPS S.A. PGP</td>\n",
              "      <td>Urgencias Generales Sótano</td>\n",
              "      <td>Alta Médica</td>\n",
              "      <td>DIABETES MELLITUS NO INSULINODEPENDIENTE  SIN ...</td>\n",
              "      <td>Sin informacion en base de datos</td>\n",
              "      <td>Medicina Interna</td>\n",
              "    </tr>\n",
              "    <tr>\n",
              "      <th>1125</th>\n",
              "      <td>1</td>\n",
              "      <td>312815</td>\n",
              "      <td>2976</td>\n",
              "      <td>NUEVA EPS S.A. PGP</td>\n",
              "      <td>Hospitalización</td>\n",
              "      <td>Alta Médica</td>\n",
              "      <td>OTROS TRASTORNOS DEL ALMACENAMIENTO DE LIPIDOS</td>\n",
              "      <td>Sin informacion en base de datos</td>\n",
              "      <td>Medicina Interna</td>\n",
              "    </tr>\n",
              "    <tr>\n",
              "      <th>1126</th>\n",
              "      <td>1</td>\n",
              "      <td>311775</td>\n",
              "      <td>2978</td>\n",
              "      <td>NUEVA EPS S.A. PGP</td>\n",
              "      <td>Urgencias Generales Sótano</td>\n",
              "      <td>Alta Médica</td>\n",
              "      <td>OTROS TRASTORNOS DEL EQUILIBRIO DE LOS ELECTRO...</td>\n",
              "      <td>Sin informacion en base de datos</td>\n",
              "      <td>Medicina Interna</td>\n",
              "    </tr>\n",
              "    <tr>\n",
              "      <th>1127</th>\n",
              "      <td>1</td>\n",
              "      <td>312803</td>\n",
              "      <td>2979</td>\n",
              "      <td>NUEVA EPS S.A. PGP</td>\n",
              "      <td>Cirugía</td>\n",
              "      <td>Alta Médica</td>\n",
              "      <td>MIALGIA</td>\n",
              "      <td>Sin informacion en base de datos</td>\n",
              "      <td>Ortopedia</td>\n",
              "    </tr>\n",
              "    <tr>\n",
              "      <th>1128</th>\n",
              "      <td>1</td>\n",
              "      <td>313921</td>\n",
              "      <td>6375</td>\n",
              "      <td>NUEVA EPS S.A. PGP</td>\n",
              "      <td>Urgencias Generales Sótano</td>\n",
              "      <td>Remisión a otra institución</td>\n",
              "      <td>INSUFICIENCIA CARDIACA CONGESTIVA</td>\n",
              "      <td>Sin informacion en base de datos</td>\n",
              "      <td>Nefrologia</td>\n",
              "    </tr>\n",
              "  </tbody>\n",
              "</table>\n",
              "<p>1129 rows × 9 columns</p>\n",
              "</div>\n",
              "      <button class=\"colab-df-convert\" onclick=\"convertToInteractive('df-0f05db71-9fc4-4446-8ad8-209b6afa76a6')\"\n",
              "              title=\"Convert this dataframe to an interactive table.\"\n",
              "              style=\"display:none;\">\n",
              "        \n",
              "  <svg xmlns=\"http://www.w3.org/2000/svg\" height=\"24px\"viewBox=\"0 0 24 24\"\n",
              "       width=\"24px\">\n",
              "    <path d=\"M0 0h24v24H0V0z\" fill=\"none\"/>\n",
              "    <path d=\"M18.56 5.44l.94 2.06.94-2.06 2.06-.94-2.06-.94-.94-2.06-.94 2.06-2.06.94zm-11 1L8.5 8.5l.94-2.06 2.06-.94-2.06-.94L8.5 2.5l-.94 2.06-2.06.94zm10 10l.94 2.06.94-2.06 2.06-.94-2.06-.94-.94-2.06-.94 2.06-2.06.94z\"/><path d=\"M17.41 7.96l-1.37-1.37c-.4-.4-.92-.59-1.43-.59-.52 0-1.04.2-1.43.59L10.3 9.45l-7.72 7.72c-.78.78-.78 2.05 0 2.83L4 21.41c.39.39.9.59 1.41.59.51 0 1.02-.2 1.41-.59l7.78-7.78 2.81-2.81c.8-.78.8-2.07 0-2.86zM5.41 20L4 18.59l7.72-7.72 1.47 1.35L5.41 20z\"/>\n",
              "  </svg>\n",
              "      </button>\n",
              "      \n",
              "  <style>\n",
              "    .colab-df-container {\n",
              "      display:flex;\n",
              "      flex-wrap:wrap;\n",
              "      gap: 12px;\n",
              "    }\n",
              "\n",
              "    .colab-df-convert {\n",
              "      background-color: #E8F0FE;\n",
              "      border: none;\n",
              "      border-radius: 50%;\n",
              "      cursor: pointer;\n",
              "      display: none;\n",
              "      fill: #1967D2;\n",
              "      height: 32px;\n",
              "      padding: 0 0 0 0;\n",
              "      width: 32px;\n",
              "    }\n",
              "\n",
              "    .colab-df-convert:hover {\n",
              "      background-color: #E2EBFA;\n",
              "      box-shadow: 0px 1px 2px rgba(60, 64, 67, 0.3), 0px 1px 3px 1px rgba(60, 64, 67, 0.15);\n",
              "      fill: #174EA6;\n",
              "    }\n",
              "\n",
              "    [theme=dark] .colab-df-convert {\n",
              "      background-color: #3B4455;\n",
              "      fill: #D2E3FC;\n",
              "    }\n",
              "\n",
              "    [theme=dark] .colab-df-convert:hover {\n",
              "      background-color: #434B5C;\n",
              "      box-shadow: 0px 1px 3px 1px rgba(0, 0, 0, 0.15);\n",
              "      filter: drop-shadow(0px 1px 2px rgba(0, 0, 0, 0.3));\n",
              "      fill: #FFFFFF;\n",
              "    }\n",
              "  </style>\n",
              "\n",
              "      <script>\n",
              "        const buttonEl =\n",
              "          document.querySelector('#df-0f05db71-9fc4-4446-8ad8-209b6afa76a6 button.colab-df-convert');\n",
              "        buttonEl.style.display =\n",
              "          google.colab.kernel.accessAllowed ? 'block' : 'none';\n",
              "\n",
              "        async function convertToInteractive(key) {\n",
              "          const element = document.querySelector('#df-0f05db71-9fc4-4446-8ad8-209b6afa76a6');\n",
              "          const dataTable =\n",
              "            await google.colab.kernel.invokeFunction('convertToInteractive',\n",
              "                                                     [key], {});\n",
              "          if (!dataTable) return;\n",
              "\n",
              "          const docLinkHtml = 'Like what you see? Visit the ' +\n",
              "            '<a target=\"_blank\" href=https://colab.research.google.com/notebooks/data_table.ipynb>data table notebook</a>'\n",
              "            + ' to learn more about interactive tables.';\n",
              "          element.innerHTML = '';\n",
              "          dataTable['output_type'] = 'display_data';\n",
              "          await google.colab.output.renderOutput(dataTable, element);\n",
              "          const docLink = document.createElement('div');\n",
              "          docLink.innerHTML = docLinkHtml;\n",
              "          element.appendChild(docLink);\n",
              "        }\n",
              "      </script>\n",
              "    </div>\n",
              "  </div>\n",
              "  "
            ]
          },
          "metadata": {},
          "execution_count": 253
        }
      ]
    },
    {
      "cell_type": "code",
      "source": [
        "#Se elimina fila extra\n",
        "egresosposf1=egresosposf1.drop(['index'], axis=1)"
      ],
      "metadata": {
        "id": "4sQ_QsD3fU7m"
      },
      "execution_count": null,
      "outputs": []
    },
    {
      "cell_type": "code",
      "source": [],
      "metadata": {
        "id": "GfiPphtNILDA"
      },
      "execution_count": null,
      "outputs": []
    },
    {
      "cell_type": "code",
      "source": [],
      "metadata": {
        "id": "obfqeyTlIMwQ"
      },
      "execution_count": null,
      "outputs": []
    },
    {
      "cell_type": "code",
      "source": [
        "#Se arregla el tipo de datos (#aqui se cambia el tipo de dato pero no se guarda el cambio solo lo muestra)\n",
        "#egresosposf1.convert_dtypes().dtypes\n",
        "egresosposf1 =  egresosposf1.convert_dtypes()"
      ],
      "metadata": {
        "id": "vHt4xPg7xJQn"
      },
      "execution_count": null,
      "outputs": []
    },
    {
      "cell_type": "code",
      "source": [
        "egresosposf1.columns"
      ],
      "metadata": {
        "colab": {
          "base_uri": "https://localhost:8080/"
        },
        "id": "6ixmlvRBfPaP",
        "outputId": "b925ee45-d16c-4a78-eeae-a4d588daea78"
      },
      "execution_count": null,
      "outputs": [
        {
          "output_type": "execute_result",
          "data": {
            "text/plain": [
              "Index(['numero_de_hospitalizaciones', 'nrodoc', 'eps validada',\n",
              "       'servicio admite', 'tipo egreso', 'dx relacionado3',\n",
              "       'causa basica muerte', 'profesional especialidad grd'],\n",
              "      dtype='object')"
            ]
          },
          "metadata": {},
          "execution_count": 256
        }
      ]
    },
    {
      "cell_type": "code",
      "source": [
        "#Se mira que cada columna tenga sus datos escritos correctamente\n",
        "listae=(['eps validada', 'servicio admite',\n",
        "       'tipo egreso', 'dx relacionado3', 'causa basica muerte',\n",
        "       'profesional especialidad grd'])"
      ],
      "metadata": {
        "id": "KBXcHjB_r3CU"
      },
      "execution_count": null,
      "outputs": []
    },
    {
      "cell_type": "code",
      "source": [
        "for i in listae:\n",
        "    print(i)\n",
        "    print(egresosposf1[i].unique())\n",
        "    ('----------------------------------------------')"
      ],
      "metadata": {
        "id": "hAUQiE-YsGPh",
        "colab": {
          "base_uri": "https://localhost:8080/"
        },
        "outputId": "acceddf8-0935-4d92-8415-ef903ebd72d6"
      },
      "execution_count": null,
      "outputs": [
        {
          "output_type": "stream",
          "name": "stdout",
          "text": [
            "eps validada\n",
            "<StringArray>\n",
            "[                'NUEVA EPS S.A. PGP',                     'NUEVA EPS S.A.',\n",
            "          'AXA SEGUROS COLPATRIA S.A', 'SEGUROS GENERALES SURAMERICANA S.A']\n",
            "Length: 4, dtype: string\n",
            "servicio admite\n",
            "<StringArray>\n",
            "[                 'Hospitalización',       'Urgencias Generales Sótano',\n",
            "       'Urgencias Generales Piso 1', 'Sin informacion en Base de datos',\n",
            "                          'Cirugía',             'Ambulatoria Personal',\n",
            "               'Urgencias Maternas']\n",
            "Length: 7, dtype: string\n",
            "tipo egreso\n",
            "<StringArray>\n",
            "['Alta Médica', 'Fallece', 'Remisión a otra institución', 'Alta Voluntaria']\n",
            "Length: 4, dtype: string\n",
            "dx relacionado3\n",
            "<StringArray>\n",
            "[                  'TRASTORNO DE LOS TEJIDOS BLANDOS  NO ESPECIFICADO ',\n",
            "                                       'BLASTOMICOSIS  NO ESPECIFICADA',\n",
            "                                                         'HEMATEMESIS ',\n",
            "                                            'OBESIDAD  NO ESPECIFICADA',\n",
            "                 'Otras gastroenteritis y colitis de origen infeccioso',\n",
            "                                                              'COCAINA',\n",
            "                                   'ENFERMEDAD RENAL CRONICA - ETAPA 5',\n",
            " 'INFECCION AGUDA NO ESPECIFICADA DE LAS VIAS RESPIRATORIAS INFERIORES',\n",
            "                                     'Sin informacion en base de datos',\n",
            "          'HIPERPARATIROIDISMO SECUNDARIO NO CLASIFICADO EN OTRA PARTE',\n",
            " ...\n",
            "                        'DISAUTONOMIA FAMILIAR [SINDROME DE RILEY-DAY]',\n",
            "                                      'ESQUIZOFRENIA  NO ESPECIFICADA ',\n",
            "                             'TRASTORNO FIBROBLASTICO  NO ESPECIFICADO',\n",
            "                                          'PARAPLEJIA  NO ESPECIFICADA',\n",
            "                                    'VARICES ESOFAGICAS SIN HEMORRAGIA',\n",
            "                                                    'CALCULO DEL RINON',\n",
            "                                                      'ANTICOAGULANTES',\n",
            "                                         'BOCIO MULTINODULAR NO TOXICO',\n",
            "                       'OTROS TRASTORNOS DEL ALMACENAMIENTO DE LIPIDOS',\n",
            "                                                             'MIALGIA ']\n",
            "Length: 286, dtype: string\n",
            "causa basica muerte\n",
            "<StringArray>\n",
            "[                                                                                                           'Sin informacion en base de datos',\n",
            "                                                                        'DIABETES MELLITUS INSULINODEPENDIENTE  CON COMPLICACIONES MULTIPLES ',\n",
            "                                                                                       'INFARTO AGUDO DEL MIOCARDIO  SIN OTRA ESPECIFICACION ',\n",
            "                                                      'ENFERMEDAD CARDIORRENAL HIPERTENSIVA CON INSUFICIENCIA CARDIACA Y RENAL (CONGESTIVAS) ',\n",
            "                                                                                                     'TUMOR MALIGNO DE LA CABEZA DEL PANCREAS',\n",
            "                                                                                                       'TUMOR MALIGNO DE LA GLANDULA TIROIDES',\n",
            "                                            'ENFERMEDAD PULMONAR OBSTRUCTIVA CRONICA CON INFECCION AGUDA DE LAS VIAS RESPIRATORIAS INFERIORES',\n",
            "                                                                                           'OTRAS CIRROSIS DEL HIGADO Y LAS NO ESPECIFICADAS ',\n",
            "                                                                   'ENFERMEDAD CARDIACA HIPERTENSIVA CON INSUFICIENCIA CARDIACA (CONGESTIVA) ',\n",
            "                                                             'ENFERMEDAD PULMONAR OBSTRUCTIVA CRONICA CON EXACERBACION AGUDA  NO ESPECIFICADA',\n",
            "                                                                                'TUMOR MALIGNO DEL CUELLO DEL UTERO  SIN OTRA ESPECIFICACION ',\n",
            "                                                                                     'OTRAS OBSTRUCCIONES INTESTINALES Y LAS NO ESPECIFICADAS',\n",
            "                                                                                         'TUMOR MALIGNO DEL RINON  EXCEPTO DE LA PELVIS RENAL',\n",
            "                                                                                                      'TUMOR MALIGNO DEL CONDUCTO PANCREATICO',\n",
            "                                                        'SECUELAS DE ENFERMEDAD CEREBROVASCULAR  NO ESPECIFICADA COMO HEMORRAGICA U OCLUSIVA ',\n",
            "                                                                                                   'ENFERMEDAD DE ALZHEIMER  NO ESPECIFICADA ',\n",
            "                                                                                      'ENFERMEDAD RENAL HIPERTENSIVA CON INSUFICIENCIA RENAL ',\n",
            "                                                                     'DIABETES MELLITUS NO INSULINODEPENDIENTE  CON COMPLICACIONES MULTIPLES ',\n",
            "                                                                                                                 'COVID-19 VIRUS IDENTIFICADO',\n",
            "                                                                                                         'TUMOR MALIGNO DE LA VESICULA BILIAR',\n",
            "                                                                                                                         'MIOSITIS INFECCIOSA',\n",
            "                                                                         'INFLUENZA CON NEUMONIA  DEBIDA A VIRUS DE LA INFLUENZA IDENTIFICADO',\n",
            "                                                                                                         'OTRAS HEMORRAGIAS INTRAENCEFALICAS ',\n",
            "                                                                                                                       'ILEO  NO ESPECIFICADO',\n",
            "                                                                                                               'TUMOR MALIGNO DEL ENDOMETRIO ',\n",
            "                                                                                             'TUMOR MALIGNO DE LA PIEL  SITIO NO ESPECIFICADO',\n",
            "                                                                                           'HEMORRAGIA INTRACEREBRAL EN HEMISFERIO  CORTICAL ',\n",
            "                                                                                            'DIABETES MELLITUS INSULINODEPENDIENTE  CON COMA ',\n",
            "                                                                                                           'OTRAS OBSTRUCCIONES DEL INTESTINO',\n",
            "                                                                                                               'SECUELAS DE INFARTO CEREBRAL ',\n",
            "                                                                                                              'COVID-19 VIRUS NO IDENTIFICADO',\n",
            "                                                                                                'ENFERMEDAD CEREBROVASCULAR  NO ESPECIFICADA ',\n",
            "                                                                                    'HEMORRAGIA INTRACEREBRAL EN HEMISFERIO  NO ESPECIFICADA ',\n",
            "                                                                                                'HEMORRAGIA INTRAENCEFALICA  NO ESPECIFICADA ',\n",
            "                                                                                                   'PERFORACION DEL INTESTINO (NO TRAUMATICA)',\n",
            "                                                                                                             'EPILEPSIA  TIPO NO ESPECIFICADO',\n",
            "                                                                       'DIABETES MELLITUS NO INSULINODEPENDIENTE  CON COMPLICACIONES RENALES ',\n",
            "                                                                          'SECUELAS DE OTROS ACCIDENTES DE TRANSPORTE  Y LOS NO ESPECIFICADOS',\n",
            "                                                                                                'HEMORRAGIA SUBDURAL (AGUDA) (NO TRAUMATICA) ',\n",
            "                                                                    'INFLUENZA CON OTRAS MANIFESTACIONES RESPIRATORIAS  VIRUS NO IDENTIFICADO',\n",
            "                                                                                                                   'OTROS INFARTOS CEREBRALES',\n",
            "                                                                                                        'DISECCION DE AORTA (CUALQUIER PARTE)',\n",
            "                                                                                                         'SECUELAS DE LESIONES AUTOINFLIGIDAS',\n",
            "                                                                                           'TUMOR MALIGNO DEL PANCREAS  PARTE NO ESPECIFICADA',\n",
            "                                                                'ULCERA PEPTICA  DE SITIO NO ESPECIFICADO AGUDA CON HEMORRAGIA Y PERFORACION ',\n",
            "                                                                                                                                  'COLANGITIS',\n",
            "                                                                          'TUMOR MALIGNO DE LOS BRONQUIOS O DEL PULMON  PARTE NO ESPECIFICADA',\n",
            "                                                                                     'OTRAS CAIDAS EN EL MISMO NIVEL  OTRO LUGAR ESPECIFICADO',\n",
            "                                                                                     'INFARTO AGUDO TRANSMURAL DEL MIOCARDIO DE OTROS SITIOS ',\n",
            "                                                                                                           'Enfermedad renal cronica, etapa 3',\n",
            "                                                                                           'TUMOR MALIGNO DEL ESTOMAGO  PARTE NO ESPECIFICADA',\n",
            "                                                                                               'HEMORRAGIA INTRAENCEFALICA EN TALLO CEREBRAL ',\n",
            "                                                                                         'DIABETES MELLITUS NO INSULINODEPENDIENTE  CON COMA ',\n",
            "                                                                                                                       'FISTULA DEL INTESTINO',\n",
            "                                                                                       'CALCULO DE LA VESICULA BILIAR CON COLECISTITIS AGUDA ',\n",
            "                                                                                                              'CARCINOMA DE CELULAS HEPATICAS',\n",
            "                                                                                             'TUMOR MALIGNO DE LA MAMA  PARTE NO ESPECIFICADA',\n",
            "                                                                                                    'OTRAS CAIDAS EN EL MISMO NIVEL  VIVIENDA',\n",
            " 'ENVENENAMIENTO AUTOINFLIGIDO INTENCIONALMENTE POR  Y EXPOSICION A OTROS PRODUCTOS QUIMICOS Y SUSTANCIAS NOCIVAS Y LOS NO ESPECIFICADOS VIV ',\n",
            "                                                                                        'HEMORRAGIA INTRACEREBRAL EN HEMISFERIO  SUBCORTICAL ',\n",
            "                                                                                                  'RUPTURA DE ANEURISMA DE LA AORTA ABDOMINAL',\n",
            "                                                                                                  'TRASTORNO VASCULAR AGUDO DE LOS INTESTINOS',\n",
            "                                                                                                        'OTRAS FORMAS DE ESCLEROSIS SISTEMICA',\n",
            "                                                                                           'OSTEOPOROSIS POR DESUSO  CON FRACTURA PATOLOGICA ',\n",
            "                                                                             'ENFERMEDAD TOXICA DEL HIGADO CON CIRROSIS Y FIBROSIS DEL HIGADO',\n",
            "                                                                                                   'TUMOR MALIGNO DEL HIGADO  NO ESPECIFICADO',\n",
            "                                                                                               'Tumor maligno, sitio primario no especificado',\n",
            "                                                                                                      'OTROS TRASTORNOS DE LA VALVULA AORTICA',\n",
            "                                                        'MIELITIS TRANSVERSA AGUDA EN ENFERMEDAD DESMIELINIZANTE DEL SISTEMA NERVIOSO CENTRAL',\n",
            "                                                                                                   'RUPTURA DE ANEURISMA DE LA AORTA TORACICA']\n",
            "Length: 70, dtype: string\n",
            "profesional especialidad grd\n",
            "<StringArray>\n",
            "[                            'Cirugia General',\n",
            "                            'Medicina Interna',\n",
            "                                    'Urologia',\n",
            "                                  'Neurologia',\n",
            "                                  'Nefrologia',\n",
            "                            'Medicina General',\n",
            "                                 'Psiquiatria',\n",
            "                                'Intensivista',\n",
            "              'Cirugia Hepatobiliopancreatica',\n",
            "                        'Otorrinolaringologia',\n",
            "                            'Cirugia Vascular',\n",
            "                                 'Hematología',\n",
            "                                   'Ortopedia',\n",
            " 'Cirugia Plastica- Maxilofacial y de la Mano',\n",
            "                                 'Hepatología',\n",
            "                  'Cirugia de Cabeza y Cuello',\n",
            "                                'Urgentologia',\n",
            "                                'Infectologia',\n",
            "                               'Cirugia Torax',\n",
            "                                 'Ginecologia',\n",
            "           'Vascular Periferico (Med Interna)',\n",
            "                                'Neurocirugia',\n",
            "                                   'Oncologia',\n",
            "                      'Cirugia Cardiovascular',\n",
            "                        'Cirugia Maxilofacial',\n",
            "                                'Oftalmologia',\n",
            "                            'Gineco Oncologia',\n",
            "                                 'Toxicologia']\n",
            "Length: 28, dtype: string\n"
          ]
        }
      ]
    },
    {
      "cell_type": "code",
      "source": [
        "#base de datos final\n",
        "egresosposf1=egresosposf1.copy(deep = True)"
      ],
      "metadata": {
        "id": "T7B5IiWRqcKF"
      },
      "execution_count": null,
      "outputs": []
    },
    {
      "cell_type": "markdown",
      "source": [
        "Depuración base de datos usuariospos"
      ],
      "metadata": {
        "id": "00iNUQnwuVfV"
      }
    },
    {
      "cell_type": "code",
      "source": [
        "usuariospos.columns"
      ],
      "metadata": {
        "id": "tEDrLTGZudj7",
        "colab": {
          "base_uri": "https://localhost:8080/"
        },
        "outputId": "30cf5fe2-95be-41eb-d1eb-bdcb8455eeb5"
      },
      "execution_count": null,
      "outputs": [
        {
          "output_type": "execute_result",
          "data": {
            "text/plain": [
              "Index(['MES', 'YEAR', 'NRODOC', 'SEXO', 'FECHA NACIMIENTO', 'EDAD',\n",
              "       'DEPARTAMENTO', 'MUNICIPIO', 'BARRIO', 'FECHA INICIO AL PGP',\n",
              "       'FECHA PRIMERA CLASE FUNCIONAL', 'PRIMERA CLASE FUNCIONAL',\n",
              "       'FECHA ÚLTIMA CLASE FUNCIONAL', 'ÚLTIMA CLASE FUNCIONAL', 'CICLO_VITAL',\n",
              "       'QUINQUENIO'],\n",
              "      dtype='object')"
            ]
          },
          "metadata": {},
          "execution_count": 260
        }
      ]
    },
    {
      "cell_type": "code",
      "source": [
        "#se mira el porcentaje de nulos\n",
        "print(round(usuariospos.isnull().sum().sum()/usuariospos.size, 2)*100, \"%\")"
      ],
      "metadata": {
        "colab": {
          "base_uri": "https://localhost:8080/"
        },
        "id": "W-DkIV0OgDGb",
        "outputId": "f32ffe95-bfa9-4896-9e1d-c758a681db92"
      },
      "execution_count": null,
      "outputs": [
        {
          "output_type": "stream",
          "name": "stdout",
          "text": [
            "3.0 %\n"
          ]
        }
      ]
    },
    {
      "cell_type": "code",
      "source": [
        "#se eliminan aquellas columnas que tengan más de 60% de sus datos nulos\n",
        "lista=usuariospos.columns"
      ],
      "metadata": {
        "id": "Lerm7uJJgGZd"
      },
      "execution_count": null,
      "outputs": []
    },
    {
      "cell_type": "code",
      "source": [
        "for i in lista:\n",
        "  if (usuariospos[i].isnull().sum() / len(usuariospos))*100> 60 :\n",
        "    usuariospos=usuariospos.drop([i], axis=1)\n"
      ],
      "metadata": {
        "id": "PZCQn0TqghsH"
      },
      "execution_count": null,
      "outputs": []
    },
    {
      "cell_type": "code",
      "source": [
        "usuariospos.info()"
      ],
      "metadata": {
        "id": "uEVv_fDTgvC9",
        "colab": {
          "base_uri": "https://localhost:8080/"
        },
        "outputId": "31ea672b-fb5e-48d4-e48a-19690d4f6b3e"
      },
      "execution_count": null,
      "outputs": [
        {
          "output_type": "stream",
          "name": "stdout",
          "text": [
            "<class 'pandas.core.frame.DataFrame'>\n",
            "Int64Index: 82421 entries, 101490 to 183910\n",
            "Data columns (total 16 columns):\n",
            " #   Column                         Non-Null Count  Dtype  \n",
            "---  ------                         --------------  -----  \n",
            " 0   MES                            82421 non-null  object \n",
            " 1   YEAR                           82421 non-null  int64  \n",
            " 2   NRODOC                         82421 non-null  int64  \n",
            " 3   SEXO                           82421 non-null  object \n",
            " 4   FECHA NACIMIENTO               82421 non-null  object \n",
            " 5   EDAD                           82421 non-null  float64\n",
            " 6   DEPARTAMENTO                   82284 non-null  object \n",
            " 7   MUNICIPIO                      81397 non-null  object \n",
            " 8   BARRIO                         50906 non-null  object \n",
            " 9   FECHA INICIO AL PGP            82421 non-null  object \n",
            " 10  FECHA PRIMERA CLASE FUNCIONAL  81303 non-null  object \n",
            " 11  PRIMERA CLASE FUNCIONAL        81590 non-null  object \n",
            " 12  FECHA ÚLTIMA CLASE FUNCIONAL   81327 non-null  object \n",
            " 13  ÚLTIMA CLASE FUNCIONAL         81611 non-null  object \n",
            " 14  CICLO_VITAL                    82421 non-null  object \n",
            " 15  QUINQUENIO                     82421 non-null  object \n",
            "dtypes: float64(1), int64(2), object(13)\n",
            "memory usage: 10.7+ MB\n"
          ]
        }
      ]
    },
    {
      "cell_type": "code",
      "source": [
        "# se miran los datos sin nulos que no tengan valor y se los elimina\n",
        "lista=usuariospos.columns\n",
        "cont=0\n",
        "for i in lista:\n",
        "  if usuariospos[i].isnull().sum()<=0:\n",
        "    print(i)\n",
        "    (\"--------------------------------------\")"
      ],
      "metadata": {
        "colab": {
          "base_uri": "https://localhost:8080/"
        },
        "id": "ini6GVI8g1br",
        "outputId": "881ff0ae-00b6-4fb0-ea14-14f67fa7f281"
      },
      "execution_count": null,
      "outputs": [
        {
          "output_type": "stream",
          "name": "stdout",
          "text": [
            "MES\n",
            "YEAR\n",
            "NRODOC\n",
            "SEXO\n",
            "FECHA NACIMIENTO\n",
            "EDAD\n",
            "FECHA INICIO AL PGP\n",
            "CICLO_VITAL\n",
            "QUINQUENIO\n"
          ]
        }
      ]
    },
    {
      "cell_type": "code",
      "source": [
        "#se evaluan cual puede servir en el modelo o ya exista otra columna con la misma información\n",
        "usuariospos['QUINQUENIO'].unique()"
      ],
      "metadata": {
        "id": "Zcz86tnlvJ97",
        "colab": {
          "base_uri": "https://localhost:8080/"
        },
        "outputId": "dc536655-a282-42d6-e07a-2635339088a5"
      },
      "execution_count": null,
      "outputs": [
        {
          "output_type": "execute_result",
          "data": {
            "text/plain": [
              "array(['65-69 ', '75-79 ', '85-89', '70-74', '55-59 ', '25-29 ', '35-39 ',\n",
              "       '30-34', '20-24', '80-84', '>90', '45-49 ', '50-54 ', '60-64',\n",
              "       '40-44', '15-19 '], dtype=object)"
            ]
          },
          "metadata": {},
          "execution_count": 266
        }
      ]
    },
    {
      "cell_type": "code",
      "source": [
        "#se elimina las columnas\n",
        "usuariospos=usuariospos.drop(['MES'], axis=1)\n",
        "usuariospos=usuariospos.drop(['YEAR'], axis=1)\n",
        "usuariospos=usuariospos.drop(['FECHA NACIMIENTO'], axis=1)\n",
        "usuariospos=usuariospos.drop(['FECHA INICIO AL PGP'], axis=1)\n",
        "usuariospos=usuariospos.drop(['QUINQUENIO'], axis=1)"
      ],
      "metadata": {
        "id": "qVsuTo_HhpMi"
      },
      "execution_count": null,
      "outputs": []
    },
    {
      "cell_type": "code",
      "source": [
        "#se miran las variables con nulos\n",
        "lista= usuariospos.columns"
      ],
      "metadata": {
        "id": "1Cb0sY60iRmt"
      },
      "execution_count": null,
      "outputs": []
    },
    {
      "cell_type": "code",
      "source": [
        "for i in lista:\n",
        "  print(i)\n",
        "  print(usuariospos[i].isnull().sum())\n",
        "  print('------------------------------------------------')"
      ],
      "metadata": {
        "id": "6qlBjbOah-QU",
        "colab": {
          "base_uri": "https://localhost:8080/"
        },
        "outputId": "927e1fee-5e2d-407e-d8c8-504a91a683a0"
      },
      "execution_count": null,
      "outputs": [
        {
          "output_type": "stream",
          "name": "stdout",
          "text": [
            "NRODOC\n",
            "0\n",
            "------------------------------------------------\n",
            "SEXO\n",
            "0\n",
            "------------------------------------------------\n",
            "EDAD\n",
            "0\n",
            "------------------------------------------------\n",
            "DEPARTAMENTO\n",
            "137\n",
            "------------------------------------------------\n",
            "MUNICIPIO\n",
            "1024\n",
            "------------------------------------------------\n",
            "BARRIO\n",
            "31515\n",
            "------------------------------------------------\n",
            "FECHA PRIMERA CLASE FUNCIONAL\n",
            "1118\n",
            "------------------------------------------------\n",
            "PRIMERA CLASE FUNCIONAL\n",
            "831\n",
            "------------------------------------------------\n",
            "FECHA ÚLTIMA CLASE FUNCIONAL\n",
            "1094\n",
            "------------------------------------------------\n",
            "ÚLTIMA CLASE FUNCIONAL\n",
            "810\n",
            "------------------------------------------------\n",
            "CICLO_VITAL\n",
            "0\n",
            "------------------------------------------------\n"
          ]
        }
      ]
    },
    {
      "cell_type": "code",
      "source": [
        "usuariospos['PRIMERA CLASE FUNCIONAL'].unique()"
      ],
      "metadata": {
        "id": "VBnO6OhsjR8n",
        "colab": {
          "base_uri": "https://localhost:8080/"
        },
        "outputId": "5fff405f-b8d3-4a22-db5a-27ed04e7848d"
      },
      "execution_count": null,
      "outputs": [
        {
          "output_type": "execute_result",
          "data": {
            "text/plain": [
              "array(['CLASE FUNCIONAL 3', 'CLASE FUNCIONAL 2B', 'CLASE FUNCIONAL 2A',\n",
              "       'Clase funcional 4', 'Clase funcional 2B', 'Clase funcional 2A',\n",
              "       'Sin clasificar', 'Clase funcional 1', 'CLASE FUNCIONAL 1',\n",
              "       'Clase funcional 3', 'CLASE FUNCIONAL 4', 'clase funcional 3',\n",
              "       'clase funcional 2b', 'clase funcional 2a', 'clase funcional 4',\n",
              "       nan, 'clase funcional 1'], dtype=object)"
            ]
          },
          "metadata": {},
          "execution_count": 270
        }
      ]
    },
    {
      "cell_type": "code",
      "source": [
        "#se miran las variables repetidas, que no tengan valor o que sus nulos no puedan ser reemplazados por algun valor logico\n",
        "lista3=(['BARRIO','FECHA PRIMERA CLASE FUNCIONAL', 'FECHA ÚLTIMA CLASE FUNCIONAL', 'ÚLTIMA CLASE FUNCIONAL', \n",
        "         'PRIMERA CLASE FUNCIONAL', 'MUNICIPIO'])"
      ],
      "metadata": {
        "id": "UY1lr9WhumeH"
      },
      "execution_count": null,
      "outputs": []
    },
    {
      "cell_type": "code",
      "source": [
        "for i in lista3:\n",
        "\n",
        "  usuariospos=usuariospos.drop([i], axis=1)"
      ],
      "metadata": {
        "id": "2vCfi5QLv01U"
      },
      "execution_count": null,
      "outputs": []
    },
    {
      "cell_type": "code",
      "source": [
        "usuariospos.head(3)"
      ],
      "metadata": {
        "id": "dzazFQ8-wVGz",
        "colab": {
          "base_uri": "https://localhost:8080/",
          "height": 142
        },
        "outputId": "1ec582ff-85e8-40bb-a242-d626b993e5e0"
      },
      "execution_count": null,
      "outputs": [
        {
          "output_type": "execute_result",
          "data": {
            "text/plain": [
              "        NRODOC SEXO  EDAD DEPARTAMENTO CICLO_VITAL\n",
              "101490  311028    M  69.0    ANTIOQUIA       Vejez\n",
              "101491  310961    M  75.0    ANTIOQUIA       Vejez\n",
              "101492  311235    F  85.0    ANTIOQUIA       Vejez"
            ],
            "text/html": [
              "\n",
              "  <div id=\"df-a7e83dd0-bec1-4c85-96e9-a2c9f6c2f57f\">\n",
              "    <div class=\"colab-df-container\">\n",
              "      <div>\n",
              "<style scoped>\n",
              "    .dataframe tbody tr th:only-of-type {\n",
              "        vertical-align: middle;\n",
              "    }\n",
              "\n",
              "    .dataframe tbody tr th {\n",
              "        vertical-align: top;\n",
              "    }\n",
              "\n",
              "    .dataframe thead th {\n",
              "        text-align: right;\n",
              "    }\n",
              "</style>\n",
              "<table border=\"1\" class=\"dataframe\">\n",
              "  <thead>\n",
              "    <tr style=\"text-align: right;\">\n",
              "      <th></th>\n",
              "      <th>NRODOC</th>\n",
              "      <th>SEXO</th>\n",
              "      <th>EDAD</th>\n",
              "      <th>DEPARTAMENTO</th>\n",
              "      <th>CICLO_VITAL</th>\n",
              "    </tr>\n",
              "  </thead>\n",
              "  <tbody>\n",
              "    <tr>\n",
              "      <th>101490</th>\n",
              "      <td>311028</td>\n",
              "      <td>M</td>\n",
              "      <td>69.0</td>\n",
              "      <td>ANTIOQUIA</td>\n",
              "      <td>Vejez</td>\n",
              "    </tr>\n",
              "    <tr>\n",
              "      <th>101491</th>\n",
              "      <td>310961</td>\n",
              "      <td>M</td>\n",
              "      <td>75.0</td>\n",
              "      <td>ANTIOQUIA</td>\n",
              "      <td>Vejez</td>\n",
              "    </tr>\n",
              "    <tr>\n",
              "      <th>101492</th>\n",
              "      <td>311235</td>\n",
              "      <td>F</td>\n",
              "      <td>85.0</td>\n",
              "      <td>ANTIOQUIA</td>\n",
              "      <td>Vejez</td>\n",
              "    </tr>\n",
              "  </tbody>\n",
              "</table>\n",
              "</div>\n",
              "      <button class=\"colab-df-convert\" onclick=\"convertToInteractive('df-a7e83dd0-bec1-4c85-96e9-a2c9f6c2f57f')\"\n",
              "              title=\"Convert this dataframe to an interactive table.\"\n",
              "              style=\"display:none;\">\n",
              "        \n",
              "  <svg xmlns=\"http://www.w3.org/2000/svg\" height=\"24px\"viewBox=\"0 0 24 24\"\n",
              "       width=\"24px\">\n",
              "    <path d=\"M0 0h24v24H0V0z\" fill=\"none\"/>\n",
              "    <path d=\"M18.56 5.44l.94 2.06.94-2.06 2.06-.94-2.06-.94-.94-2.06-.94 2.06-2.06.94zm-11 1L8.5 8.5l.94-2.06 2.06-.94-2.06-.94L8.5 2.5l-.94 2.06-2.06.94zm10 10l.94 2.06.94-2.06 2.06-.94-2.06-.94-.94-2.06-.94 2.06-2.06.94z\"/><path d=\"M17.41 7.96l-1.37-1.37c-.4-.4-.92-.59-1.43-.59-.52 0-1.04.2-1.43.59L10.3 9.45l-7.72 7.72c-.78.78-.78 2.05 0 2.83L4 21.41c.39.39.9.59 1.41.59.51 0 1.02-.2 1.41-.59l7.78-7.78 2.81-2.81c.8-.78.8-2.07 0-2.86zM5.41 20L4 18.59l7.72-7.72 1.47 1.35L5.41 20z\"/>\n",
              "  </svg>\n",
              "      </button>\n",
              "      \n",
              "  <style>\n",
              "    .colab-df-container {\n",
              "      display:flex;\n",
              "      flex-wrap:wrap;\n",
              "      gap: 12px;\n",
              "    }\n",
              "\n",
              "    .colab-df-convert {\n",
              "      background-color: #E8F0FE;\n",
              "      border: none;\n",
              "      border-radius: 50%;\n",
              "      cursor: pointer;\n",
              "      display: none;\n",
              "      fill: #1967D2;\n",
              "      height: 32px;\n",
              "      padding: 0 0 0 0;\n",
              "      width: 32px;\n",
              "    }\n",
              "\n",
              "    .colab-df-convert:hover {\n",
              "      background-color: #E2EBFA;\n",
              "      box-shadow: 0px 1px 2px rgba(60, 64, 67, 0.3), 0px 1px 3px 1px rgba(60, 64, 67, 0.15);\n",
              "      fill: #174EA6;\n",
              "    }\n",
              "\n",
              "    [theme=dark] .colab-df-convert {\n",
              "      background-color: #3B4455;\n",
              "      fill: #D2E3FC;\n",
              "    }\n",
              "\n",
              "    [theme=dark] .colab-df-convert:hover {\n",
              "      background-color: #434B5C;\n",
              "      box-shadow: 0px 1px 3px 1px rgba(0, 0, 0, 0.15);\n",
              "      filter: drop-shadow(0px 1px 2px rgba(0, 0, 0, 0.3));\n",
              "      fill: #FFFFFF;\n",
              "    }\n",
              "  </style>\n",
              "\n",
              "      <script>\n",
              "        const buttonEl =\n",
              "          document.querySelector('#df-a7e83dd0-bec1-4c85-96e9-a2c9f6c2f57f button.colab-df-convert');\n",
              "        buttonEl.style.display =\n",
              "          google.colab.kernel.accessAllowed ? 'block' : 'none';\n",
              "\n",
              "        async function convertToInteractive(key) {\n",
              "          const element = document.querySelector('#df-a7e83dd0-bec1-4c85-96e9-a2c9f6c2f57f');\n",
              "          const dataTable =\n",
              "            await google.colab.kernel.invokeFunction('convertToInteractive',\n",
              "                                                     [key], {});\n",
              "          if (!dataTable) return;\n",
              "\n",
              "          const docLinkHtml = 'Like what you see? Visit the ' +\n",
              "            '<a target=\"_blank\" href=https://colab.research.google.com/notebooks/data_table.ipynb>data table notebook</a>'\n",
              "            + ' to learn more about interactive tables.';\n",
              "          element.innerHTML = '';\n",
              "          dataTable['output_type'] = 'display_data';\n",
              "          await google.colab.output.renderOutput(dataTable, element);\n",
              "          const docLink = document.createElement('div');\n",
              "          docLink.innerHTML = docLinkHtml;\n",
              "          element.appendChild(docLink);\n",
              "        }\n",
              "      </script>\n",
              "    </div>\n",
              "  </div>\n",
              "  "
            ]
          },
          "metadata": {},
          "execution_count": 273
        }
      ]
    },
    {
      "cell_type": "code",
      "source": [
        "#Se miran los errores en las variables que quedaron\n",
        "usuariospos.columns"
      ],
      "metadata": {
        "id": "TBxAy4NKygy6",
        "colab": {
          "base_uri": "https://localhost:8080/"
        },
        "outputId": "f199da3d-07db-401c-eda4-0f41734e7df8"
      },
      "execution_count": null,
      "outputs": [
        {
          "output_type": "execute_result",
          "data": {
            "text/plain": [
              "Index(['NRODOC', 'SEXO', 'EDAD', 'DEPARTAMENTO', 'CICLO_VITAL'], dtype='object')"
            ]
          },
          "metadata": {},
          "execution_count": 274
        }
      ]
    },
    {
      "cell_type": "code",
      "source": [
        "lista=usuariospos.columns"
      ],
      "metadata": {
        "id": "_juWvEyrk2kz"
      },
      "execution_count": null,
      "outputs": []
    },
    {
      "cell_type": "code",
      "source": [
        "for i in lista:\n",
        "  print(i)\n",
        "  print(usuariospos[i].unique())\n",
        "  ('---------------------------------------')"
      ],
      "metadata": {
        "id": "PFzlVykak5zP",
        "colab": {
          "base_uri": "https://localhost:8080/"
        },
        "outputId": "f89db660-2718-4a25-d196-cba6a84209ec"
      },
      "execution_count": null,
      "outputs": [
        {
          "output_type": "stream",
          "name": "stdout",
          "text": [
            "NRODOC\n",
            "[311028 310961 311235 ... 314286 314287 314288]\n",
            "SEXO\n",
            "['M' 'F']\n",
            "EDAD\n",
            "[ 69.  75.  85.  88.  79.  74.  57.  25.  59.  35.  32.  29.  24.  34.\n",
            "  31.  28.  71.  38.  30.  27.  26.  84.  86.  81.  76.  92.  94.  48.\n",
            "  73.  83.  87.  90.  89.  67.  93.  65. 103.  52.  70.  58.  66.  55.\n",
            "  60.  54.  72.  78.  50.  80.  77.  96.  91.  99.  82. 105.  97.  95.\n",
            "  98. 104.  62.  64.  63.  61.  45. 101. 100.  68.  56.  49. 102.  37.\n",
            "  51.  53.  43.  39.  47.  44.  46.  41.  42.  40.  23.  21.  20.  36.\n",
            "  33.  19.  22. 106.  18.]\n",
            "DEPARTAMENTO\n",
            "['ANTIOQUIA' nan]\n",
            "CICLO_VITAL\n",
            "['Vejez' 'Adultez' 'Juventud']\n"
          ]
        }
      ]
    },
    {
      "cell_type": "code",
      "source": [
        "#se decide eliminar departamento debido a que solo tiene 1 dato que es Antioquia\n",
        "usuariospos=usuariospos.drop(['DEPARTAMENTO'], axis=1)"
      ],
      "metadata": {
        "id": "rXKNUGSSlUCP"
      },
      "execution_count": null,
      "outputs": []
    },
    {
      "cell_type": "code",
      "source": [
        "usuariospos.head(2)"
      ],
      "metadata": {
        "id": "Nw_HTsutON9-",
        "colab": {
          "base_uri": "https://localhost:8080/",
          "height": 111
        },
        "outputId": "08d47571-0605-484b-bf13-f46cb3632c7f"
      },
      "execution_count": null,
      "outputs": [
        {
          "output_type": "execute_result",
          "data": {
            "text/plain": [
              "        NRODOC SEXO  EDAD CICLO_VITAL\n",
              "101490  311028    M  69.0       Vejez\n",
              "101491  310961    M  75.0       Vejez"
            ],
            "text/html": [
              "\n",
              "  <div id=\"df-836b24db-630b-47b4-9b99-cd957de9f03f\">\n",
              "    <div class=\"colab-df-container\">\n",
              "      <div>\n",
              "<style scoped>\n",
              "    .dataframe tbody tr th:only-of-type {\n",
              "        vertical-align: middle;\n",
              "    }\n",
              "\n",
              "    .dataframe tbody tr th {\n",
              "        vertical-align: top;\n",
              "    }\n",
              "\n",
              "    .dataframe thead th {\n",
              "        text-align: right;\n",
              "    }\n",
              "</style>\n",
              "<table border=\"1\" class=\"dataframe\">\n",
              "  <thead>\n",
              "    <tr style=\"text-align: right;\">\n",
              "      <th></th>\n",
              "      <th>NRODOC</th>\n",
              "      <th>SEXO</th>\n",
              "      <th>EDAD</th>\n",
              "      <th>CICLO_VITAL</th>\n",
              "    </tr>\n",
              "  </thead>\n",
              "  <tbody>\n",
              "    <tr>\n",
              "      <th>101490</th>\n",
              "      <td>311028</td>\n",
              "      <td>M</td>\n",
              "      <td>69.0</td>\n",
              "      <td>Vejez</td>\n",
              "    </tr>\n",
              "    <tr>\n",
              "      <th>101491</th>\n",
              "      <td>310961</td>\n",
              "      <td>M</td>\n",
              "      <td>75.0</td>\n",
              "      <td>Vejez</td>\n",
              "    </tr>\n",
              "  </tbody>\n",
              "</table>\n",
              "</div>\n",
              "      <button class=\"colab-df-convert\" onclick=\"convertToInteractive('df-836b24db-630b-47b4-9b99-cd957de9f03f')\"\n",
              "              title=\"Convert this dataframe to an interactive table.\"\n",
              "              style=\"display:none;\">\n",
              "        \n",
              "  <svg xmlns=\"http://www.w3.org/2000/svg\" height=\"24px\"viewBox=\"0 0 24 24\"\n",
              "       width=\"24px\">\n",
              "    <path d=\"M0 0h24v24H0V0z\" fill=\"none\"/>\n",
              "    <path d=\"M18.56 5.44l.94 2.06.94-2.06 2.06-.94-2.06-.94-.94-2.06-.94 2.06-2.06.94zm-11 1L8.5 8.5l.94-2.06 2.06-.94-2.06-.94L8.5 2.5l-.94 2.06-2.06.94zm10 10l.94 2.06.94-2.06 2.06-.94-2.06-.94-.94-2.06-.94 2.06-2.06.94z\"/><path d=\"M17.41 7.96l-1.37-1.37c-.4-.4-.92-.59-1.43-.59-.52 0-1.04.2-1.43.59L10.3 9.45l-7.72 7.72c-.78.78-.78 2.05 0 2.83L4 21.41c.39.39.9.59 1.41.59.51 0 1.02-.2 1.41-.59l7.78-7.78 2.81-2.81c.8-.78.8-2.07 0-2.86zM5.41 20L4 18.59l7.72-7.72 1.47 1.35L5.41 20z\"/>\n",
              "  </svg>\n",
              "      </button>\n",
              "      \n",
              "  <style>\n",
              "    .colab-df-container {\n",
              "      display:flex;\n",
              "      flex-wrap:wrap;\n",
              "      gap: 12px;\n",
              "    }\n",
              "\n",
              "    .colab-df-convert {\n",
              "      background-color: #E8F0FE;\n",
              "      border: none;\n",
              "      border-radius: 50%;\n",
              "      cursor: pointer;\n",
              "      display: none;\n",
              "      fill: #1967D2;\n",
              "      height: 32px;\n",
              "      padding: 0 0 0 0;\n",
              "      width: 32px;\n",
              "    }\n",
              "\n",
              "    .colab-df-convert:hover {\n",
              "      background-color: #E2EBFA;\n",
              "      box-shadow: 0px 1px 2px rgba(60, 64, 67, 0.3), 0px 1px 3px 1px rgba(60, 64, 67, 0.15);\n",
              "      fill: #174EA6;\n",
              "    }\n",
              "\n",
              "    [theme=dark] .colab-df-convert {\n",
              "      background-color: #3B4455;\n",
              "      fill: #D2E3FC;\n",
              "    }\n",
              "\n",
              "    [theme=dark] .colab-df-convert:hover {\n",
              "      background-color: #434B5C;\n",
              "      box-shadow: 0px 1px 3px 1px rgba(0, 0, 0, 0.15);\n",
              "      filter: drop-shadow(0px 1px 2px rgba(0, 0, 0, 0.3));\n",
              "      fill: #FFFFFF;\n",
              "    }\n",
              "  </style>\n",
              "\n",
              "      <script>\n",
              "        const buttonEl =\n",
              "          document.querySelector('#df-836b24db-630b-47b4-9b99-cd957de9f03f button.colab-df-convert');\n",
              "        buttonEl.style.display =\n",
              "          google.colab.kernel.accessAllowed ? 'block' : 'none';\n",
              "\n",
              "        async function convertToInteractive(key) {\n",
              "          const element = document.querySelector('#df-836b24db-630b-47b4-9b99-cd957de9f03f');\n",
              "          const dataTable =\n",
              "            await google.colab.kernel.invokeFunction('convertToInteractive',\n",
              "                                                     [key], {});\n",
              "          if (!dataTable) return;\n",
              "\n",
              "          const docLinkHtml = 'Like what you see? Visit the ' +\n",
              "            '<a target=\"_blank\" href=https://colab.research.google.com/notebooks/data_table.ipynb>data table notebook</a>'\n",
              "            + ' to learn more about interactive tables.';\n",
              "          element.innerHTML = '';\n",
              "          dataTable['output_type'] = 'display_data';\n",
              "          await google.colab.output.renderOutput(dataTable, element);\n",
              "          const docLink = document.createElement('div');\n",
              "          docLink.innerHTML = docLinkHtml;\n",
              "          element.appendChild(docLink);\n",
              "        }\n",
              "      </script>\n",
              "    </div>\n",
              "  </div>\n",
              "  "
            ]
          },
          "metadata": {},
          "execution_count": 278
        }
      ]
    },
    {
      "cell_type": "code",
      "source": [
        "#se arregla el tipo de dato\n",
        "#usuariospos.convert_dtypes().dtypes\n",
        "usuariospos = usuariospos.convert_dtypes()"
      ],
      "metadata": {
        "id": "fn-vJemTymdu"
      },
      "execution_count": null,
      "outputs": []
    },
    {
      "cell_type": "code",
      "source": [
        "#se ponene las variables en minusculas\n",
        "usuariospos.columns = usuariospos.columns.str.lower()"
      ],
      "metadata": {
        "id": "9q-uTeYgl_M_"
      },
      "execution_count": null,
      "outputs": []
    },
    {
      "cell_type": "code",
      "source": [
        "#se miran los registros repetidos\n",
        "df=pd.DataFrame()\n",
        "df['numero_de_usuarios']= usuariospos['nrodoc'].value_counts()\n",
        "df['nrodoc']= usuariospos['nrodoc'].value_counts().index\n",
        "df=df.reset_index().drop('index', axis=1)\n",
        "df"
      ],
      "metadata": {
        "id": "EAQh3QogsIGI",
        "colab": {
          "base_uri": "https://localhost:8080/",
          "height": 419
        },
        "outputId": "d22ce4ab-e834-4d84-8a74-c3a9df7308a7"
      },
      "execution_count": null,
      "outputs": [
        {
          "output_type": "execute_result",
          "data": {
            "text/plain": [
              "      numero_de_usuarios  nrodoc\n",
              "0                     18  311028\n",
              "1                     18  310165\n",
              "2                     18  306372\n",
              "3                     18  308971\n",
              "4                     18  308972\n",
              "...                  ...     ...\n",
              "5475                   1  314282\n",
              "5476                   1  314232\n",
              "5477                   1  314205\n",
              "5478                   1  314281\n",
              "5479                   1  314288\n",
              "\n",
              "[5480 rows x 2 columns]"
            ],
            "text/html": [
              "\n",
              "  <div id=\"df-84065374-1bba-42dd-ad6b-6b2a4a213093\">\n",
              "    <div class=\"colab-df-container\">\n",
              "      <div>\n",
              "<style scoped>\n",
              "    .dataframe tbody tr th:only-of-type {\n",
              "        vertical-align: middle;\n",
              "    }\n",
              "\n",
              "    .dataframe tbody tr th {\n",
              "        vertical-align: top;\n",
              "    }\n",
              "\n",
              "    .dataframe thead th {\n",
              "        text-align: right;\n",
              "    }\n",
              "</style>\n",
              "<table border=\"1\" class=\"dataframe\">\n",
              "  <thead>\n",
              "    <tr style=\"text-align: right;\">\n",
              "      <th></th>\n",
              "      <th>numero_de_usuarios</th>\n",
              "      <th>nrodoc</th>\n",
              "    </tr>\n",
              "  </thead>\n",
              "  <tbody>\n",
              "    <tr>\n",
              "      <th>0</th>\n",
              "      <td>18</td>\n",
              "      <td>311028</td>\n",
              "    </tr>\n",
              "    <tr>\n",
              "      <th>1</th>\n",
              "      <td>18</td>\n",
              "      <td>310165</td>\n",
              "    </tr>\n",
              "    <tr>\n",
              "      <th>2</th>\n",
              "      <td>18</td>\n",
              "      <td>306372</td>\n",
              "    </tr>\n",
              "    <tr>\n",
              "      <th>3</th>\n",
              "      <td>18</td>\n",
              "      <td>308971</td>\n",
              "    </tr>\n",
              "    <tr>\n",
              "      <th>4</th>\n",
              "      <td>18</td>\n",
              "      <td>308972</td>\n",
              "    </tr>\n",
              "    <tr>\n",
              "      <th>...</th>\n",
              "      <td>...</td>\n",
              "      <td>...</td>\n",
              "    </tr>\n",
              "    <tr>\n",
              "      <th>5475</th>\n",
              "      <td>1</td>\n",
              "      <td>314282</td>\n",
              "    </tr>\n",
              "    <tr>\n",
              "      <th>5476</th>\n",
              "      <td>1</td>\n",
              "      <td>314232</td>\n",
              "    </tr>\n",
              "    <tr>\n",
              "      <th>5477</th>\n",
              "      <td>1</td>\n",
              "      <td>314205</td>\n",
              "    </tr>\n",
              "    <tr>\n",
              "      <th>5478</th>\n",
              "      <td>1</td>\n",
              "      <td>314281</td>\n",
              "    </tr>\n",
              "    <tr>\n",
              "      <th>5479</th>\n",
              "      <td>1</td>\n",
              "      <td>314288</td>\n",
              "    </tr>\n",
              "  </tbody>\n",
              "</table>\n",
              "<p>5480 rows × 2 columns</p>\n",
              "</div>\n",
              "      <button class=\"colab-df-convert\" onclick=\"convertToInteractive('df-84065374-1bba-42dd-ad6b-6b2a4a213093')\"\n",
              "              title=\"Convert this dataframe to an interactive table.\"\n",
              "              style=\"display:none;\">\n",
              "        \n",
              "  <svg xmlns=\"http://www.w3.org/2000/svg\" height=\"24px\"viewBox=\"0 0 24 24\"\n",
              "       width=\"24px\">\n",
              "    <path d=\"M0 0h24v24H0V0z\" fill=\"none\"/>\n",
              "    <path d=\"M18.56 5.44l.94 2.06.94-2.06 2.06-.94-2.06-.94-.94-2.06-.94 2.06-2.06.94zm-11 1L8.5 8.5l.94-2.06 2.06-.94-2.06-.94L8.5 2.5l-.94 2.06-2.06.94zm10 10l.94 2.06.94-2.06 2.06-.94-2.06-.94-.94-2.06-.94 2.06-2.06.94z\"/><path d=\"M17.41 7.96l-1.37-1.37c-.4-.4-.92-.59-1.43-.59-.52 0-1.04.2-1.43.59L10.3 9.45l-7.72 7.72c-.78.78-.78 2.05 0 2.83L4 21.41c.39.39.9.59 1.41.59.51 0 1.02-.2 1.41-.59l7.78-7.78 2.81-2.81c.8-.78.8-2.07 0-2.86zM5.41 20L4 18.59l7.72-7.72 1.47 1.35L5.41 20z\"/>\n",
              "  </svg>\n",
              "      </button>\n",
              "      \n",
              "  <style>\n",
              "    .colab-df-container {\n",
              "      display:flex;\n",
              "      flex-wrap:wrap;\n",
              "      gap: 12px;\n",
              "    }\n",
              "\n",
              "    .colab-df-convert {\n",
              "      background-color: #E8F0FE;\n",
              "      border: none;\n",
              "      border-radius: 50%;\n",
              "      cursor: pointer;\n",
              "      display: none;\n",
              "      fill: #1967D2;\n",
              "      height: 32px;\n",
              "      padding: 0 0 0 0;\n",
              "      width: 32px;\n",
              "    }\n",
              "\n",
              "    .colab-df-convert:hover {\n",
              "      background-color: #E2EBFA;\n",
              "      box-shadow: 0px 1px 2px rgba(60, 64, 67, 0.3), 0px 1px 3px 1px rgba(60, 64, 67, 0.15);\n",
              "      fill: #174EA6;\n",
              "    }\n",
              "\n",
              "    [theme=dark] .colab-df-convert {\n",
              "      background-color: #3B4455;\n",
              "      fill: #D2E3FC;\n",
              "    }\n",
              "\n",
              "    [theme=dark] .colab-df-convert:hover {\n",
              "      background-color: #434B5C;\n",
              "      box-shadow: 0px 1px 3px 1px rgba(0, 0, 0, 0.15);\n",
              "      filter: drop-shadow(0px 1px 2px rgba(0, 0, 0, 0.3));\n",
              "      fill: #FFFFFF;\n",
              "    }\n",
              "  </style>\n",
              "\n",
              "      <script>\n",
              "        const buttonEl =\n",
              "          document.querySelector('#df-84065374-1bba-42dd-ad6b-6b2a4a213093 button.colab-df-convert');\n",
              "        buttonEl.style.display =\n",
              "          google.colab.kernel.accessAllowed ? 'block' : 'none';\n",
              "\n",
              "        async function convertToInteractive(key) {\n",
              "          const element = document.querySelector('#df-84065374-1bba-42dd-ad6b-6b2a4a213093');\n",
              "          const dataTable =\n",
              "            await google.colab.kernel.invokeFunction('convertToInteractive',\n",
              "                                                     [key], {});\n",
              "          if (!dataTable) return;\n",
              "\n",
              "          const docLinkHtml = 'Like what you see? Visit the ' +\n",
              "            '<a target=\"_blank\" href=https://colab.research.google.com/notebooks/data_table.ipynb>data table notebook</a>'\n",
              "            + ' to learn more about interactive tables.';\n",
              "          element.innerHTML = '';\n",
              "          dataTable['output_type'] = 'display_data';\n",
              "          await google.colab.output.renderOutput(dataTable, element);\n",
              "          const docLink = document.createElement('div');\n",
              "          docLink.innerHTML = docLinkHtml;\n",
              "          element.appendChild(docLink);\n",
              "        }\n",
              "      </script>\n",
              "    </div>\n",
              "  </div>\n",
              "  "
            ]
          },
          "metadata": {},
          "execution_count": 281
        }
      ]
    },
    {
      "cell_type": "code",
      "source": [
        "#se eliminan los registros repetidos\n",
        "usuariosposf= funcion_1(usuariospos)"
      ],
      "metadata": {
        "id": "0iD9hPP9r1c0"
      },
      "execution_count": null,
      "outputs": []
    },
    {
      "cell_type": "code",
      "source": [
        "#se elimina columna extra\n",
        "usuariosposf=usuariosposf.drop(['index'], axis=1)"
      ],
      "metadata": {
        "id": "je6Befmbsic1"
      },
      "execution_count": null,
      "outputs": []
    },
    {
      "cell_type": "code",
      "source": [
        "usuariosposf1=usuariospos.copy(deep = True)"
      ],
      "metadata": {
        "id": "4eU-iEglWT4k"
      },
      "execution_count": null,
      "outputs": []
    },
    {
      "cell_type": "markdown",
      "source": [
        "BD GENERAL"
      ],
      "metadata": {
        "id": "TlR_ppLJqmjw"
      }
    },
    {
      "cell_type": "code",
      "source": [
        "union_usuarios_egresos = usuariosposf1.join(egresosposf1.set_index('nrodoc'), on='nrodoc')\n",
        "union_all = union_usuarios_egresos.join(cronicosposf.set_index('nrodoc'), on='nrodoc')\n",
        "union_all_column_type = union_all.dtypes.astype(str)"
      ],
      "metadata": {
        "id": "3LtRfMgVL33P"
      },
      "execution_count": null,
      "outputs": []
    },
    {
      "cell_type": "code",
      "source": [
        "for i in union_all_column_type.index:  \n",
        "  if union_all_column_type[i] == 'string':    \n",
        "    union_all[i].fillna('N/A', inplace = True)\n",
        "  elif union_all_column_type[i] == 'Float64':\n",
        "    union_all[i].fillna(0.0, inplace = True)\n",
        "  elif union_all_column_type[i] == 'Int64':\n",
        "    union_all[i].fillna(0, inplace = True)"
      ],
      "metadata": {
        "id": "yWgfvBYSY4B8"
      },
      "execution_count": null,
      "outputs": []
    },
    {
      "cell_type": "code",
      "source": [
        "union_all_string_columns = list(union_all_column_type.loc[union_all_column_type == 'string'].index)"
      ],
      "metadata": {
        "id": "qTDaEe7YcP1z"
      },
      "execution_count": null,
      "outputs": []
    },
    {
      "cell_type": "code",
      "source": [
        "union_all_factorize = union_all.drop(union_all_string_columns, axis=1)"
      ],
      "metadata": {
        "id": "GzZwxadGdC1t"
      },
      "execution_count": null,
      "outputs": []
    },
    {
      "cell_type": "code",
      "source": [
        "from pandas import factorize\n",
        "for i in union_all_string_columns:  \n",
        "  union_all_factorize[i] = pd.factorize(union_all[i])[0]\n"
      ],
      "metadata": {
        "id": "onPGIstncL0-"
      },
      "execution_count": null,
      "outputs": []
    },
    {
      "cell_type": "code",
      "source": [
        "union_all_string_columns"
      ],
      "metadata": {
        "colab": {
          "base_uri": "https://localhost:8080/"
        },
        "id": "xb8LWUT6nEUw",
        "outputId": "39941136-93fe-4a2c-cc7e-e2b862b2dc1d"
      },
      "execution_count": null,
      "outputs": [
        {
          "output_type": "execute_result",
          "data": {
            "text/plain": [
              "['sexo',\n",
              " 'ciclo_vital',\n",
              " 'eps validada',\n",
              " 'servicio admite',\n",
              " 'tipo egreso',\n",
              " 'dx relacionado3',\n",
              " 'causa basica muerte',\n",
              " 'profesional especialidad grd',\n",
              " 'mes',\n",
              " 'clasificación imc',\n",
              " 'calificación (índice de fragilidad)',\n",
              " 'calificación (apoyo monopodal)',\n",
              " 'calificación velocidad',\n",
              " 'diabetes mellitus',\n",
              " 'control diabetes',\n",
              " 'tiene hta',\n",
              " 'control hta',\n",
              " 'tiene epoc',\n",
              " 'enfermedad coronaria (en el último año)',\n",
              " 'insuficiencia cardíaca',\n",
              " 'valvulopatía',\n",
              " 'arritmia o paciente con dispositivo',\n",
              " 'sufre de alguna enfermedad cardiovascular',\n",
              " 'tabaquismo',\n",
              " 'clasificación de framinghan',\n",
              " 'clase funcional',\n",
              " 'remisión',\n",
              " 'diagnóstico principal',\n",
              " 'tiene próximo control',\n",
              " 'requiere cita de morbilidad',\n",
              " 'ambito según el médico']"
            ]
          },
          "metadata": {},
          "execution_count": 290
        }
      ]
    },
    {
      "cell_type": "code",
      "source": [
        "union_all_factorize.drop(['diagnóstico principal','dx relacionado3'], axis=1, inplace=True)\n",
        "union_all_string_columns.remove('diagnóstico principal')\n",
        "union_all_string_columns.remove('dx relacionado3')\n",
        "union_all_string_columns.remove('causa basica muerte')\n",
        "union_all_string_columns.remove('profesional especialidad grd')\n",
        "union_all_string_columns.remove('mes')\n",
        "union_all_factorize[union_all_string_columns].nunique()"
      ],
      "metadata": {
        "colab": {
          "base_uri": "https://localhost:8080/"
        },
        "id": "_aViZgP2mkj2",
        "outputId": "832cc0dd-847b-4602-ecec-48068d9fd3c4"
      },
      "execution_count": null,
      "outputs": [
        {
          "output_type": "execute_result",
          "data": {
            "text/plain": [
              "sexo                                         2\n",
              "ciclo_vital                                  3\n",
              "eps validada                                 5\n",
              "servicio admite                              8\n",
              "tipo egreso                                  5\n",
              "clasificación imc                            5\n",
              "calificación (índice de fragilidad)          3\n",
              "calificación (apoyo monopodal)               4\n",
              "calificación velocidad                       5\n",
              "diabetes mellitus                            3\n",
              "control diabetes                             5\n",
              "tiene hta                                    3\n",
              "control hta                                  4\n",
              "tiene epoc                                   5\n",
              "enfermedad coronaria (en el último año)      6\n",
              "insuficiencia cardíaca                       7\n",
              "valvulopatía                                 3\n",
              "arritmia o paciente con dispositivo          3\n",
              "sufre de alguna enfermedad cardiovascular    3\n",
              "tabaquismo                                   4\n",
              "clasificación de framinghan                  3\n",
              "clase funcional                              6\n",
              "remisión                                     5\n",
              "tiene próximo control                        3\n",
              "requiere cita de morbilidad                  3\n",
              "ambito según el médico                       3\n",
              "dtype: int64"
            ]
          },
          "metadata": {},
          "execution_count": 291
        }
      ]
    },
    {
      "cell_type": "code",
      "source": [
        "union_all_factorize = union_all.drop(union_all_string_columns, axis=1)"
      ],
      "metadata": {
        "id": "TAsR--uClbpl"
      },
      "execution_count": null,
      "outputs": []
    },
    {
      "cell_type": "code",
      "source": [
        "columna_a_revisar = 'ambito según el médico'\n",
        "lables, categories = pd.factorize(union_all[columna_a_revisar])\n",
        "print(f\"las categorias son: {list(categories)}\")"
      ],
      "metadata": {
        "colab": {
          "base_uri": "https://localhost:8080/"
        },
        "id": "UYe3BGuTix4m",
        "outputId": "5f3f65f0-7370-449e-cbcc-088330acc3c0"
      },
      "execution_count": null,
      "outputs": [
        {
          "output_type": "stream",
          "name": "stdout",
          "text": [
            "las categorias son: ['Domiciliario', 'Ambulatorio', 'N/A']\n"
          ]
        }
      ]
    },
    {
      "cell_type": "code",
      "source": [
        "cor = union_all_factorize.corr()\n",
        "cor_target = abs(cor[\"numero_de_hospitalizaciones\"])\n",
        "relevant_features = cor_target[cor_target>0] ## DEFINIR ESTA VARIABLE\n",
        "relevant_features_columns = list(relevant_features.index)\n",
        "\n",
        "cor_relevante_features = union_all_factorize[relevant_features_columns].corr()\n",
        "union_all_factorized_features = union_all_factorize[relevant_features_columns]\n",
        "relevant_features"
      ],
      "metadata": {
        "colab": {
          "base_uri": "https://localhost:8080/"
        },
        "id": "AVa3gKNUVET4",
        "outputId": "d70eb593-cfe2-4d63-fb71-c6e49fc157a1"
      },
      "execution_count": null,
      "outputs": [
        {
          "output_type": "execute_result",
          "data": {
            "text/plain": [
              "edad                                        0.000947\n",
              "numero_de_hospitalizaciones                 1.000000\n",
              "year                                        0.008080\n",
              "peso                                        0.013117\n",
              "talla                                       0.019348\n",
              "sumatoria pliegues                          0.088876\n",
              "presión arterial sistólica                  0.045528\n",
              "presión arterial diastólica                 0.029629\n",
              "frecuencia cardíaca en reposo               0.006337\n",
              "auto-calificacion nivel de ejercicio        0.030442\n",
              "mets -índice metabólico                     0.043723\n",
              "vo2 - máxima cantidad de oxígeno            0.043723\n",
              "glicemia                                    0.036908\n",
              "hemoglobina glicada                         0.001085\n",
              "años de consumo                             0.010051\n",
              "lipoproteina                                0.035665\n",
              "hdl                                         0.042942\n",
              "colesterol total                            0.008490\n",
              "trigliceridos                               0.001826\n",
              "creatinina 1 consulta                       0.136264\n",
              "microalbuminuria                            0.065800\n",
              "hormona estimulante de la tiroides (tsh)    0.005594\n",
              "tasa de filtración glomerular tfg2          0.018849\n",
              "Name: numero_de_hospitalizaciones, dtype: float64"
            ]
          },
          "metadata": {},
          "execution_count": 294
        }
      ]
    },
    {
      "cell_type": "code",
      "source": [
        "import matplotlib.pyplot as plt\n",
        "import seaborn as sns\n",
        "plt.figure(figsize=(12,10))\n",
        "sns.heatmap(cor_relevante_features, annot=False, cmap=plt.cm.Reds)\n",
        "plt.show()"
      ],
      "metadata": {
        "colab": {
          "base_uri": "https://localhost:8080/",
          "height": 787
        },
        "id": "ilpoN-44HNBK",
        "outputId": "ca917806-8ea2-4d09-dc9c-767d93a0838e"
      },
      "execution_count": null,
      "outputs": [
        {
          "output_type": "display_data",
          "data": {
            "text/plain": [
              "<Figure size 864x720 with 2 Axes>"
            ],
            "image/png": "[encoded data removed]"
          },
          "metadata": {
            "needs_background": "light"
          }
        }
      ]
    },
    {
      "cell_type": "code",
      "source": [
        "fig, axs = plt.subplots(5, 5, figsize=(20, 20))\n",
        "\n",
        "cols = list(union_all_factorized_features.columns)\n",
        "count = len(union_all_factorized_features.columns)\n",
        "c = 0 \n",
        "for i in range(0,5):\n",
        "  for j in range(0,5):\n",
        "    if c < count: \n",
        "      #axs[i, j].plot(list(union_all_factorized_features[cols[c]].values) , list(union_all_factorized_features['numero_de_hospitalizaciones'].values) )\n",
        "      sns.histplot(data=union_all_factorized_features, x=cols[c], kde=True, color=\"skyblue\", ax=axs[i, j]).set(title=cols[c]) \n",
        "      axs[i, j].get_xaxis().set_visible(False)\n",
        "      c = c + 1\n",
        "plt.show()"
      ],
      "metadata": {
        "colab": {
          "base_uri": "https://localhost:8080/",
          "height": 1000
        },
        "id": "4sB1MNrtsut2",
        "outputId": "ba5c1059-ddde-49ef-ee0d-0f4a4576d64d"
      },
      "execution_count": null,
      "outputs": [
        {
          "output_type": "display_data",
          "data": {
            "text/plain": [
              "<Figure size 1440x1440 with 25 Axes>"
            ],
            "image/png": "[encoded data removed]"
          },
          "metadata": {
            "needs_background": "light"
          }
        }
      ]
    },
    {
      "cell_type": "markdown",
      "source": [
        "ANÁLISIS EXPLORATORIO"
      ],
      "metadata": {
        "id": "ItEi7GGVWGzN"
      }
    },
    {
      "cell_type": "code",
      "source": [
        "union_all_factorized_features.columns"
      ],
      "metadata": {
        "colab": {
          "base_uri": "https://localhost:8080/"
        },
        "id": "_CyoGu7XV1uN",
        "outputId": "12aff6a7-cc6f-435c-e215-4a74a6fab483"
      },
      "execution_count": null,
      "outputs": [
        {
          "output_type": "execute_result",
          "data": {
            "text/plain": [
              "Index(['edad', 'numero_de_hospitalizaciones', 'year', 'peso', 'talla',\n",
              "       'sumatoria pliegues', 'presión arterial sistólica',\n",
              "       'presión arterial diastólica', 'frecuencia cardíaca en reposo',\n",
              "       'auto-calificacion nivel de ejercicio', 'mets -índice metabólico',\n",
              "       'vo2 - máxima cantidad de oxígeno', 'glicemia', 'hemoglobina glicada',\n",
              "       'años de consumo', 'lipoproteina', 'hdl', 'colesterol total',\n",
              "       'trigliceridos', 'creatinina 1 consulta', 'microalbuminuria',\n",
              "       'hormona estimulante de la tiroides (tsh)',\n",
              "       'tasa de filtración glomerular tfg2'],\n",
              "      dtype='object')"
            ]
          },
          "metadata": {},
          "execution_count": 297
        }
      ]
    },
    {
      "cell_type": "code",
      "source": [
        "union_all_factorized_features.dtypes"
      ],
      "metadata": {
        "colab": {
          "base_uri": "https://localhost:8080/"
        },
        "id": "rKsaqhQzbA97",
        "outputId": "476410ef-3642-4303-e00a-0f2c5aab6fbc"
      },
      "execution_count": null,
      "outputs": [
        {
          "output_type": "execute_result",
          "data": {
            "text/plain": [
              "edad                                          Int64\n",
              "numero_de_hospitalizaciones                   Int64\n",
              "year                                          Int64\n",
              "peso                                        Float64\n",
              "talla                                         Int64\n",
              "sumatoria pliegues                          Float64\n",
              "presión arterial sistólica                    Int64\n",
              "presión arterial diastólica                   Int64\n",
              "frecuencia cardíaca en reposo                 Int64\n",
              "auto-calificacion nivel de ejercicio          Int64\n",
              "mets -índice metabólico                     Float64\n",
              "vo2 - máxima cantidad de oxígeno            Float64\n",
              "glicemia                                      Int64\n",
              "hemoglobina glicada                         Float64\n",
              "años de consumo                               Int64\n",
              "lipoproteina                                Float64\n",
              "hdl                                         Float64\n",
              "colesterol total                            Float64\n",
              "trigliceridos                               Float64\n",
              "creatinina 1 consulta                       Float64\n",
              "microalbuminuria                            Float64\n",
              "hormona estimulante de la tiroides (tsh)    Float64\n",
              "tasa de filtración glomerular tfg2          Float64\n",
              "dtype: object"
            ]
          },
          "metadata": {},
          "execution_count": 298
        }
      ]
    },
    {
      "cell_type": "code",
      "source": [
        " #Paquetes\n",
        "import plotly.express as  px\n",
        "import numpy as np\n",
        "import datetime"
      ],
      "metadata": {
        "id": "7XFxC6kCYnv6"
      },
      "execution_count": null,
      "outputs": []
    },
    {
      "cell_type": "markdown",
      "source": [
        "Número de hospitaizaciones por edad"
      ],
      "metadata": {
        "id": "nH3G9LxDY0UC"
      }
    },
    {
      "cell_type": "code",
      "source": [
        "G1= union_all_factorized_features.groupby(['edad'], sort=True)[['numero_de_hospitalizaciones']].count().reset_index()\n",
        "G1_1= G1.rename(columns={'numero_de_hospitalizaciones':'Frecuencia'})"
      ],
      "metadata": {
        "id": "ztLUyjUDWWHK"
      },
      "execution_count": null,
      "outputs": []
    },
    {
      "cell_type": "code",
      "source": [
        "#Gráfico\n",
        "fig  =  px . bar ( G1_1,  x = 'edad' ,  y = 'Frecuencia', title='numero_de_hospitalizaciones por edad') \n",
        "fig.update_layout(\n",
        "    title_x = 0.5)\n",
        "fig . show ()"
      ],
      "metadata": {
        "colab": {
          "base_uri": "https://localhost:8080/",
          "height": 542
        },
        "id": "7Nlxyd_DWqaN",
        "outputId": "670119b5-8c95-4f91-b794-400352c18bb1"
      },
      "execution_count": null,
      "outputs": [
        {
          "output_type": "display_data",
          "data": {
            "text/html": [
              "<html>\n",
              "<head><meta charset=\"utf-8\" /></head>\n",
              "<body>\n",
              "    <div>            <script src=\"https://cdnjs.cloudflare.com/ajax/libs/mathjax/2.7.5/MathJax.js?config=TeX-AMS-MML_SVG\"></script><script type=\"text/javascript\">if (window.MathJax) {MathJax.Hub.Config({SVG: {font: \"STIX-Web\"}});}</script>                <script type=\"text/javascript\">window.PlotlyConfig = {MathJaxConfig: 'local'};</script>\n",
              "        <script src=\"https://cdn.plot.ly/plotly-2.8.3.min.js\"></script>                <div id=\"5c206a5b-a42c-44c3-a0d5-ae31023d7d8d\" class=\"plotly-graph-div\" style=\"height:525px; width:100%;\"></div>            <script type=\"text/javascript\">                                    window.PLOTLYENV=window.PLOTLYENV || {};                                    if (document.getElementById(\"5c206a5b-a42c-44c3-a0d5-ae31023d7d8d\")) {                    Plotly.newPlot(                        \"5c206a5b-a42c-44c3-a0d5-ae31023d7d8d\",                        [{\"alignmentgroup\":\"True\",\"hovertemplate\":\"edad=%{x}<br>Frecuencia=%{y}<extra></extra>\",\"legendgroup\":\"\",\"marker\":{\"color\":\"#636efa\",\"pattern\":{\"shape\":\"\"}},\"name\":\"\",\"offsetgroup\":\"\",\"orientation\":\"v\",\"showlegend\":false,\"textposition\":\"auto\",\"x\":[18,19,20,21,22,23,24,25,26,27,28,29,30,31,32,33,34,35,36,37,38,39,40,41,42,43,44,45,46,47,48,49,50,51,52,53,54,55,56,57,58,59,60,61,62,63,64,65,66,67,68,69,70,71,72,73,74,75,76,77,78,79,80,81,82,83,84,85,86,87,88,89,90,91,92,93,94,95,96,97,98,99,100,101,102,103,104,105,106],\"xaxis\":\"x\",\"y\":[9,10,55,63,43,48,89,148,151,131,79,155,172,79,98,109,54,122,61,80,171,176,182,139,104,116,105,143,177,215,229,272,367,450,502,495,601,807,872,941,943,915,1261,1422,1425,1714,1725,1891,2004,2274,2389,2447,2399,2721,2687,2933,3216,3385,3174,2415,2065,1880,2170,2280,2295,2387,2337,1902,1857,1719,1515,1344,1068,1055,916,744,683,508,395,265,260,216,117,94,50,57,46,24,12],\"yaxis\":\"y\",\"type\":\"bar\"}],                        {\"template\":{\"data\":{\"bar\":[{\"error_x\":{\"color\":\"#2a3f5f\"},\"error_y\":{\"color\":\"#2a3f5f\"},\"marker\":{\"line\":{\"color\":\"#E5ECF6\",\"width\":0.5},\"pattern\":{\"fillmode\":\"overlay\",\"size\":10,\"solidity\":0.2}},\"type\":\"bar\"}],\"barpolar\":[{\"marker\":{\"line\":{\"color\":\"#E5ECF6\",\"width\":0.5},\"pattern\":{\"fillmode\":\"overlay\",\"size\":10,\"solidity\":0.2}},\"type\":\"barpolar\"}],\"carpet\":[{\"aaxis\":{\"endlinecolor\":\"#2a3f5f\",\"gridcolor\":\"white\",\"linecolor\":\"white\",\"minorgridcolor\":\"white\",\"startlinecolor\":\"#2a3f5f\"},\"baxis\":{\"endlinecolor\":\"#2a3f5f\",\"gridcolor\":\"white\",\"linecolor\":\"white\",\"minorgridcolor\":\"white\",\"startlinecolor\":\"#2a3f5f\"},\"type\":\"carpet\"}],\"choropleth\":[{\"colorbar\":{\"outlinewidth\":0,\"ticks\":\"\"},\"type\":\"choropleth\"}],\"contour\":[{\"colorbar\":{\"outlinewidth\":0,\"ticks\":\"\"},\"colorscale\":[[0.0,\"#0d0887\"],[0.1111111111111111,\"#46039f\"],[0.2222222222222222,\"#7201a8\"],[0.3333333333333333,\"#9c179e\"],[0.4444444444444444,\"#bd3786\"],[0.5555555555555556,\"#d8576b\"],[0.6666666666666666,\"#ed7953\"],[0.7777777777777778,\"#fb9f3a\"],[0.8888888888888888,\"#fdca26\"],[1.0,\"#f0f921\"]],\"type\":\"contour\"}],\"contourcarpet\":[{\"colorbar\":{\"outlinewidth\":0,\"ticks\":\"\"},\"type\":\"contourcarpet\"}],\"heatmap\":[{\"colorbar\":{\"outlinewidth\":0,\"ticks\":\"\"},\"colorscale\":[[0.0,\"#0d0887\"],[0.1111111111111111,\"#46039f\"],[0.2222222222222222,\"#7201a8\"],[0.3333333333333333,\"#9c179e\"],[0.4444444444444444,\"#bd3786\"],[0.5555555555555556,\"#d8576b\"],[0.6666666666666666,\"#ed7953\"],[0.7777777777777778,\"#fb9f3a\"],[0.8888888888888888,\"#fdca26\"],[1.0,\"#f0f921\"]],\"type\":\"heatmap\"}],\"heatmapgl\":[{\"colorbar\":{\"outlinewidth\":0,\"ticks\":\"\"},\"colorscale\":[[0.0,\"#0d0887\"],[0.1111111111111111,\"#46039f\"],[0.2222222222222222,\"#7201a8\"],[0.3333333333333333,\"#9c179e\"],[0.4444444444444444,\"#bd3786\"],[0.5555555555555556,\"#d8576b\"],[0.6666666666666666,\"#ed7953\"],[0.7777777777777778,\"#fb9f3a\"],[0.8888888888888888,\"#fdca26\"],[1.0,\"#f0f921\"]],\"type\":\"heatmapgl\"}],\"histogram\":[{\"marker\":{\"pattern\":{\"fillmode\":\"overlay\",\"size\":10,\"solidity\":0.2}},\"type\":\"histogram\"}],\"histogram2d\":[{\"colorbar\":{\"outlinewidth\":0,\"ticks\":\"\"},\"colorscale\":[[0.0,\"#0d0887\"],[0.1111111111111111,\"#46039f\"],[0.2222222222222222,\"#7201a8\"],[0.3333333333333333,\"#9c179e\"],[0.4444444444444444,\"#bd3786\"],[0.5555555555555556,\"#d8576b\"],[0.6666666666666666,\"#ed7953\"],[0.7777777777777778,\"#fb9f3a\"],[0.8888888888888888,\"#fdca26\"],[1.0,\"#f0f921\"]],\"type\":\"histogram2d\"}],\"histogram2dcontour\":[{\"colorbar\":{\"outlinewidth\":0,\"ticks\":\"\"},\"colorscale\":[[0.0,\"#0d0887\"],[0.1111111111111111,\"#46039f\"],[0.2222222222222222,\"#7201a8\"],[0.3333333333333333,\"#9c179e\"],[0.4444444444444444,\"#bd3786\"],[0.5555555555555556,\"#d8576b\"],[0.6666666666666666,\"#ed7953\"],[0.7777777777777778,\"#fb9f3a\"],[0.8888888888888888,\"#fdca26\"],[1.0,\"#f0f921\"]],\"type\":\"histogram2dcontour\"}],\"mesh3d\":[{\"colorbar\":{\"outlinewidth\":0,\"ticks\":\"\"},\"type\":\"mesh3d\"}],\"parcoords\":[{\"line\":{\"colorbar\":{\"outlinewidth\":0,\"ticks\":\"\"}},\"type\":\"parcoords\"}],\"pie\":[{\"automargin\":true,\"type\":\"pie\"}],\"scatter\":[{\"marker\":{\"colorbar\":{\"outlinewidth\":0,\"ticks\":\"\"}},\"type\":\"scatter\"}],\"scatter3d\":[{\"line\":{\"colorbar\":{\"outlinewidth\":0,\"ticks\":\"\"}},\"marker\":{\"colorbar\":{\"outlinewidth\":0,\"ticks\":\"\"}},\"type\":\"scatter3d\"}],\"scattercarpet\":[{\"marker\":{\"colorbar\":{\"outlinewidth\":0,\"ticks\":\"\"}},\"type\":\"scattercarpet\"}],\"scattergeo\":[{\"marker\":{\"colorbar\":{\"outlinewidth\":0,\"ticks\":\"\"}},\"type\":\"scattergeo\"}],\"scattergl\":[{\"marker\":{\"colorbar\":{\"outlinewidth\":0,\"ticks\":\"\"}},\"type\":\"scattergl\"}],\"scattermapbox\":[{\"marker\":{\"colorbar\":{\"outlinewidth\":0,\"ticks\":\"\"}},\"type\":\"scattermapbox\"}],\"scatterpolar\":[{\"marker\":{\"colorbar\":{\"outlinewidth\":0,\"ticks\":\"\"}},\"type\":\"scatterpolar\"}],\"scatterpolargl\":[{\"marker\":{\"colorbar\":{\"outlinewidth\":0,\"ticks\":\"\"}},\"type\":\"scatterpolargl\"}],\"scatterternary\":[{\"marker\":{\"colorbar\":{\"outlinewidth\":0,\"ticks\":\"\"}},\"type\":\"scatterternary\"}],\"surface\":[{\"colorbar\":{\"outlinewidth\":0,\"ticks\":\"\"},\"colorscale\":[[0.0,\"#0d0887\"],[0.1111111111111111,\"#46039f\"],[0.2222222222222222,\"#7201a8\"],[0.3333333333333333,\"#9c179e\"],[0.4444444444444444,\"#bd3786\"],[0.5555555555555556,\"#d8576b\"],[0.6666666666666666,\"#ed7953\"],[0.7777777777777778,\"#fb9f3a\"],[0.8888888888888888,\"#fdca26\"],[1.0,\"#f0f921\"]],\"type\":\"surface\"}],\"table\":[{\"cells\":{\"fill\":{\"color\":\"#EBF0F8\"},\"line\":{\"color\":\"white\"}},\"header\":{\"fill\":{\"color\":\"#C8D4E3\"},\"line\":{\"color\":\"white\"}},\"type\":\"table\"}]},\"layout\":{\"annotationdefaults\":{\"arrowcolor\":\"#2a3f5f\",\"arrowhead\":0,\"arrowwidth\":1},\"autotypenumbers\":\"strict\",\"coloraxis\":{\"colorbar\":{\"outlinewidth\":0,\"ticks\":\"\"}},\"colorscale\":{\"diverging\":[[0,\"#8e0152\"],[0.1,\"#c51b7d\"],[0.2,\"#de77ae\"],[0.3,\"#f1b6da\"],[0.4,\"#fde0ef\"],[0.5,\"#f7f7f7\"],[0.6,\"#e6f5d0\"],[0.7,\"#b8e186\"],[0.8,\"#7fbc41\"],[0.9,\"#4d9221\"],[1,\"#276419\"]],\"sequential\":[[0.0,\"#0d0887\"],[0.1111111111111111,\"#46039f\"],[0.2222222222222222,\"#7201a8\"],[0.3333333333333333,\"#9c179e\"],[0.4444444444444444,\"#bd3786\"],[0.5555555555555556,\"#d8576b\"],[0.6666666666666666,\"#ed7953\"],[0.7777777777777778,\"#fb9f3a\"],[0.8888888888888888,\"#fdca26\"],[1.0,\"#f0f921\"]],\"sequentialminus\":[[0.0,\"#0d0887\"],[0.1111111111111111,\"#46039f\"],[0.2222222222222222,\"#7201a8\"],[0.3333333333333333,\"#9c179e\"],[0.4444444444444444,\"#bd3786\"],[0.5555555555555556,\"#d8576b\"],[0.6666666666666666,\"#ed7953\"],[0.7777777777777778,\"#fb9f3a\"],[0.8888888888888888,\"#fdca26\"],[1.0,\"#f0f921\"]]},\"colorway\":[\"#636efa\",\"#EF553B\",\"#00cc96\",\"#ab63fa\",\"#FFA15A\",\"#19d3f3\",\"#FF6692\",\"#B6E880\",\"#FF97FF\",\"#FECB52\"],\"font\":{\"color\":\"#2a3f5f\"},\"geo\":{\"bgcolor\":\"white\",\"lakecolor\":\"white\",\"landcolor\":\"#E5ECF6\",\"showlakes\":true,\"showland\":true,\"subunitcolor\":\"white\"},\"hoverlabel\":{\"align\":\"left\"},\"hovermode\":\"closest\",\"mapbox\":{\"style\":\"light\"},\"paper_bgcolor\":\"white\",\"plot_bgcolor\":\"#E5ECF6\",\"polar\":{\"angularaxis\":{\"gridcolor\":\"white\",\"linecolor\":\"white\",\"ticks\":\"\"},\"bgcolor\":\"#E5ECF6\",\"radialaxis\":{\"gridcolor\":\"white\",\"linecolor\":\"white\",\"ticks\":\"\"}},\"scene\":{\"xaxis\":{\"backgroundcolor\":\"#E5ECF6\",\"gridcolor\":\"white\",\"gridwidth\":2,\"linecolor\":\"white\",\"showbackground\":true,\"ticks\":\"\",\"zerolinecolor\":\"white\"},\"yaxis\":{\"backgroundcolor\":\"#E5ECF6\",\"gridcolor\":\"white\",\"gridwidth\":2,\"linecolor\":\"white\",\"showbackground\":true,\"ticks\":\"\",\"zerolinecolor\":\"white\"},\"zaxis\":{\"backgroundcolor\":\"#E5ECF6\",\"gridcolor\":\"white\",\"gridwidth\":2,\"linecolor\":\"white\",\"showbackground\":true,\"ticks\":\"\",\"zerolinecolor\":\"white\"}},\"shapedefaults\":{\"line\":{\"color\":\"#2a3f5f\"}},\"ternary\":{\"aaxis\":{\"gridcolor\":\"white\",\"linecolor\":\"white\",\"ticks\":\"\"},\"baxis\":{\"gridcolor\":\"white\",\"linecolor\":\"white\",\"ticks\":\"\"},\"bgcolor\":\"#E5ECF6\",\"caxis\":{\"gridcolor\":\"white\",\"linecolor\":\"white\",\"ticks\":\"\"}},\"title\":{\"x\":0.05},\"xaxis\":{\"automargin\":true,\"gridcolor\":\"white\",\"linecolor\":\"white\",\"ticks\":\"\",\"title\":{\"standoff\":15},\"zerolinecolor\":\"white\",\"zerolinewidth\":2},\"yaxis\":{\"automargin\":true,\"gridcolor\":\"white\",\"linecolor\":\"white\",\"ticks\":\"\",\"title\":{\"standoff\":15},\"zerolinecolor\":\"white\",\"zerolinewidth\":2}}},\"xaxis\":{\"anchor\":\"y\",\"domain\":[0.0,1.0],\"title\":{\"text\":\"edad\"}},\"yaxis\":{\"anchor\":\"x\",\"domain\":[0.0,1.0],\"title\":{\"text\":\"Frecuencia\"}},\"legend\":{\"tracegroupgap\":0},\"title\":{\"text\":\"numero_de_hospitalizaciones por edad\",\"x\":0.5},\"barmode\":\"relative\"},                        {\"responsive\": true}                    ).then(function(){\n",
              "                            \n",
              "var gd = document.getElementById('5c206a5b-a42c-44c3-a0d5-ae31023d7d8d');\n",
              "var x = new MutationObserver(function (mutations, observer) {{\n",
              "        var display = window.getComputedStyle(gd).display;\n",
              "        if (!display || display === 'none') {{\n",
              "            console.log([gd, 'removed!']);\n",
              "            Plotly.purge(gd);\n",
              "            observer.disconnect();\n",
              "        }}\n",
              "}});\n",
              "\n",
              "// Listen for the removal of the full notebook cells\n",
              "var notebookContainer = gd.closest('#notebook-container');\n",
              "if (notebookContainer) {{\n",
              "    x.observe(notebookContainer, {childList: true});\n",
              "}}\n",
              "\n",
              "// Listen for the clearing of the current output cell\n",
              "var outputEl = gd.closest('.output');\n",
              "if (outputEl) {{\n",
              "    x.observe(outputEl, {childList: true});\n",
              "}}\n",
              "\n",
              "                        })                };                            </script>        </div>\n",
              "</body>\n",
              "</html>"
            ]
          },
          "metadata": {}
        }
      ]
    },
    {
      "cell_type": "markdown",
      "source": [
        "Número de hospitalizaciones presión arterial diastólica"
      ],
      "metadata": {
        "id": "jlld4IckegB2"
      }
    },
    {
      "cell_type": "code",
      "source": [
        "G2= union_all_factorized_features.groupby(['presión arterial diastólica'], sort=True)[['numero_de_hospitalizaciones']].count().reset_index()\n",
        "G2_2= G2.rename(columns={'numero_de_hospitalizaciones':'Frecuencia'})"
      ],
      "metadata": {
        "id": "2oM-2HfDdoal"
      },
      "execution_count": null,
      "outputs": []
    },
    {
      "cell_type": "code",
      "source": [
        "#Gráfico\n",
        "fig  =  px . bar ( G2_2,  x = 'presión arterial diastólica' ,  y = 'Frecuencia', title='presión arterial diastólica') \n",
        "fig.update_layout(\n",
        "    title_x = 0.5)\n",
        "fig . show ()"
      ],
      "metadata": {
        "colab": {
          "base_uri": "https://localhost:8080/",
          "height": 542
        },
        "id": "OCBMdNGQduv9",
        "outputId": "a5b04b58-701f-417a-e821-7522dac7afe2"
      },
      "execution_count": null,
      "outputs": [
        {
          "output_type": "display_data",
          "data": {
            "text/html": [
              "<html>\n",
              "<head><meta charset=\"utf-8\" /></head>\n",
              "<body>\n",
              "    <div>            <script src=\"https://cdnjs.cloudflare.com/ajax/libs/mathjax/2.7.5/MathJax.js?config=TeX-AMS-MML_SVG\"></script><script type=\"text/javascript\">if (window.MathJax) {MathJax.Hub.Config({SVG: {font: \"STIX-Web\"}});}</script>                <script type=\"text/javascript\">window.PlotlyConfig = {MathJaxConfig: 'local'};</script>\n",
              "        <script src=\"https://cdn.plot.ly/plotly-2.8.3.min.js\"></script>                <div id=\"294604e8-5cf8-4bd7-a960-9593977adc21\" class=\"plotly-graph-div\" style=\"height:525px; width:100%;\"></div>            <script type=\"text/javascript\">                                    window.PLOTLYENV=window.PLOTLYENV || {};                                    if (document.getElementById(\"294604e8-5cf8-4bd7-a960-9593977adc21\")) {                    Plotly.newPlot(                        \"294604e8-5cf8-4bd7-a960-9593977adc21\",                        [{\"alignmentgroup\":\"True\",\"hovertemplate\":\"presi\\u00f3n arterial diast\\u00f3lica=%{x}<br>Frecuencia=%{y}<extra></extra>\",\"legendgroup\":\"\",\"marker\":{\"color\":\"#636efa\",\"pattern\":{\"shape\":\"\"}},\"name\":\"\",\"offsetgroup\":\"\",\"orientation\":\"v\",\"showlegend\":false,\"textposition\":\"auto\",\"x\":[0,40,41,42,43,44,45,46,47,48,49,50,51,52,53,54,55,56,57,58,59,60,61,62,63,64,65,66,67,68,69,70,71,72,73,74,75,76,77,78,79,80,81,82,83,84,85,86,87,88,89,90,91,92,93,94,95,96,97,98,99,100,101,102,103,104,105,106,107,108,109,110,111,112,113,114,116,118,120,121,122,127,131,142,150],\"xaxis\":\"x\",\"y\":[2100,127,18,28,54,54,66,97,150,81,138,773,252,106,463,278,769,605,588,585,724,5092,1266,1983,1495,2164,2294,1601,1445,2283,1542,10742,1728,2535,1518,2267,3743,2084,1311,2070,1606,10651,1209,1701,899,1165,1309,728,608,628,373,1145,203,342,267,231,267,168,121,312,108,461,72,70,95,48,28,9,54,7,27,32,29,34,41,18,18,18,18,9,18,18,18,6,13],\"yaxis\":\"y\",\"type\":\"bar\"}],                        {\"template\":{\"data\":{\"bar\":[{\"error_x\":{\"color\":\"#2a3f5f\"},\"error_y\":{\"color\":\"#2a3f5f\"},\"marker\":{\"line\":{\"color\":\"#E5ECF6\",\"width\":0.5},\"pattern\":{\"fillmode\":\"overlay\",\"size\":10,\"solidity\":0.2}},\"type\":\"bar\"}],\"barpolar\":[{\"marker\":{\"line\":{\"color\":\"#E5ECF6\",\"width\":0.5},\"pattern\":{\"fillmode\":\"overlay\",\"size\":10,\"solidity\":0.2}},\"type\":\"barpolar\"}],\"carpet\":[{\"aaxis\":{\"endlinecolor\":\"#2a3f5f\",\"gridcolor\":\"white\",\"linecolor\":\"white\",\"minorgridcolor\":\"white\",\"startlinecolor\":\"#2a3f5f\"},\"baxis\":{\"endlinecolor\":\"#2a3f5f\",\"gridcolor\":\"white\",\"linecolor\":\"white\",\"minorgridcolor\":\"white\",\"startlinecolor\":\"#2a3f5f\"},\"type\":\"carpet\"}],\"choropleth\":[{\"colorbar\":{\"outlinewidth\":0,\"ticks\":\"\"},\"type\":\"choropleth\"}],\"contour\":[{\"colorbar\":{\"outlinewidth\":0,\"ticks\":\"\"},\"colorscale\":[[0.0,\"#0d0887\"],[0.1111111111111111,\"#46039f\"],[0.2222222222222222,\"#7201a8\"],[0.3333333333333333,\"#9c179e\"],[0.4444444444444444,\"#bd3786\"],[0.5555555555555556,\"#d8576b\"],[0.6666666666666666,\"#ed7953\"],[0.7777777777777778,\"#fb9f3a\"],[0.8888888888888888,\"#fdca26\"],[1.0,\"#f0f921\"]],\"type\":\"contour\"}],\"contourcarpet\":[{\"colorbar\":{\"outlinewidth\":0,\"ticks\":\"\"},\"type\":\"contourcarpet\"}],\"heatmap\":[{\"colorbar\":{\"outlinewidth\":0,\"ticks\":\"\"},\"colorscale\":[[0.0,\"#0d0887\"],[0.1111111111111111,\"#46039f\"],[0.2222222222222222,\"#7201a8\"],[0.3333333333333333,\"#9c179e\"],[0.4444444444444444,\"#bd3786\"],[0.5555555555555556,\"#d8576b\"],[0.6666666666666666,\"#ed7953\"],[0.7777777777777778,\"#fb9f3a\"],[0.8888888888888888,\"#fdca26\"],[1.0,\"#f0f921\"]],\"type\":\"heatmap\"}],\"heatmapgl\":[{\"colorbar\":{\"outlinewidth\":0,\"ticks\":\"\"},\"colorscale\":[[0.0,\"#0d0887\"],[0.1111111111111111,\"#46039f\"],[0.2222222222222222,\"#7201a8\"],[0.3333333333333333,\"#9c179e\"],[0.4444444444444444,\"#bd3786\"],[0.5555555555555556,\"#d8576b\"],[0.6666666666666666,\"#ed7953\"],[0.7777777777777778,\"#fb9f3a\"],[0.8888888888888888,\"#fdca26\"],[1.0,\"#f0f921\"]],\"type\":\"heatmapgl\"}],\"histogram\":[{\"marker\":{\"pattern\":{\"fillmode\":\"overlay\",\"size\":10,\"solidity\":0.2}},\"type\":\"histogram\"}],\"histogram2d\":[{\"colorbar\":{\"outlinewidth\":0,\"ticks\":\"\"},\"colorscale\":[[0.0,\"#0d0887\"],[0.1111111111111111,\"#46039f\"],[0.2222222222222222,\"#7201a8\"],[0.3333333333333333,\"#9c179e\"],[0.4444444444444444,\"#bd3786\"],[0.5555555555555556,\"#d8576b\"],[0.6666666666666666,\"#ed7953\"],[0.7777777777777778,\"#fb9f3a\"],[0.8888888888888888,\"#fdca26\"],[1.0,\"#f0f921\"]],\"type\":\"histogram2d\"}],\"histogram2dcontour\":[{\"colorbar\":{\"outlinewidth\":0,\"ticks\":\"\"},\"colorscale\":[[0.0,\"#0d0887\"],[0.1111111111111111,\"#46039f\"],[0.2222222222222222,\"#7201a8\"],[0.3333333333333333,\"#9c179e\"],[0.4444444444444444,\"#bd3786\"],[0.5555555555555556,\"#d8576b\"],[0.6666666666666666,\"#ed7953\"],[0.7777777777777778,\"#fb9f3a\"],[0.8888888888888888,\"#fdca26\"],[1.0,\"#f0f921\"]],\"type\":\"histogram2dcontour\"}],\"mesh3d\":[{\"colorbar\":{\"outlinewidth\":0,\"ticks\":\"\"},\"type\":\"mesh3d\"}],\"parcoords\":[{\"line\":{\"colorbar\":{\"outlinewidth\":0,\"ticks\":\"\"}},\"type\":\"parcoords\"}],\"pie\":[{\"automargin\":true,\"type\":\"pie\"}],\"scatter\":[{\"marker\":{\"colorbar\":{\"outlinewidth\":0,\"ticks\":\"\"}},\"type\":\"scatter\"}],\"scatter3d\":[{\"line\":{\"colorbar\":{\"outlinewidth\":0,\"ticks\":\"\"}},\"marker\":{\"colorbar\":{\"outlinewidth\":0,\"ticks\":\"\"}},\"type\":\"scatter3d\"}],\"scattercarpet\":[{\"marker\":{\"colorbar\":{\"outlinewidth\":0,\"ticks\":\"\"}},\"type\":\"scattercarpet\"}],\"scattergeo\":[{\"marker\":{\"colorbar\":{\"outlinewidth\":0,\"ticks\":\"\"}},\"type\":\"scattergeo\"}],\"scattergl\":[{\"marker\":{\"colorbar\":{\"outlinewidth\":0,\"ticks\":\"\"}},\"type\":\"scattergl\"}],\"scattermapbox\":[{\"marker\":{\"colorbar\":{\"outlinewidth\":0,\"ticks\":\"\"}},\"type\":\"scattermapbox\"}],\"scatterpolar\":[{\"marker\":{\"colorbar\":{\"outlinewidth\":0,\"ticks\":\"\"}},\"type\":\"scatterpolar\"}],\"scatterpolargl\":[{\"marker\":{\"colorbar\":{\"outlinewidth\":0,\"ticks\":\"\"}},\"type\":\"scatterpolargl\"}],\"scatterternary\":[{\"marker\":{\"colorbar\":{\"outlinewidth\":0,\"ticks\":\"\"}},\"type\":\"scatterternary\"}],\"surface\":[{\"colorbar\":{\"outlinewidth\":0,\"ticks\":\"\"},\"colorscale\":[[0.0,\"#0d0887\"],[0.1111111111111111,\"#46039f\"],[0.2222222222222222,\"#7201a8\"],[0.3333333333333333,\"#9c179e\"],[0.4444444444444444,\"#bd3786\"],[0.5555555555555556,\"#d8576b\"],[0.6666666666666666,\"#ed7953\"],[0.7777777777777778,\"#fb9f3a\"],[0.8888888888888888,\"#fdca26\"],[1.0,\"#f0f921\"]],\"type\":\"surface\"}],\"table\":[{\"cells\":{\"fill\":{\"color\":\"#EBF0F8\"},\"line\":{\"color\":\"white\"}},\"header\":{\"fill\":{\"color\":\"#C8D4E3\"},\"line\":{\"color\":\"white\"}},\"type\":\"table\"}]},\"layout\":{\"annotationdefaults\":{\"arrowcolor\":\"#2a3f5f\",\"arrowhead\":0,\"arrowwidth\":1},\"autotypenumbers\":\"strict\",\"coloraxis\":{\"colorbar\":{\"outlinewidth\":0,\"ticks\":\"\"}},\"colorscale\":{\"diverging\":[[0,\"#8e0152\"],[0.1,\"#c51b7d\"],[0.2,\"#de77ae\"],[0.3,\"#f1b6da\"],[0.4,\"#fde0ef\"],[0.5,\"#f7f7f7\"],[0.6,\"#e6f5d0\"],[0.7,\"#b8e186\"],[0.8,\"#7fbc41\"],[0.9,\"#4d9221\"],[1,\"#276419\"]],\"sequential\":[[0.0,\"#0d0887\"],[0.1111111111111111,\"#46039f\"],[0.2222222222222222,\"#7201a8\"],[0.3333333333333333,\"#9c179e\"],[0.4444444444444444,\"#bd3786\"],[0.5555555555555556,\"#d8576b\"],[0.6666666666666666,\"#ed7953\"],[0.7777777777777778,\"#fb9f3a\"],[0.8888888888888888,\"#fdca26\"],[1.0,\"#f0f921\"]],\"sequentialminus\":[[0.0,\"#0d0887\"],[0.1111111111111111,\"#46039f\"],[0.2222222222222222,\"#7201a8\"],[0.3333333333333333,\"#9c179e\"],[0.4444444444444444,\"#bd3786\"],[0.5555555555555556,\"#d8576b\"],[0.6666666666666666,\"#ed7953\"],[0.7777777777777778,\"#fb9f3a\"],[0.8888888888888888,\"#fdca26\"],[1.0,\"#f0f921\"]]},\"colorway\":[\"#636efa\",\"#EF553B\",\"#00cc96\",\"#ab63fa\",\"#FFA15A\",\"#19d3f3\",\"#FF6692\",\"#B6E880\",\"#FF97FF\",\"#FECB52\"],\"font\":{\"color\":\"#2a3f5f\"},\"geo\":{\"bgcolor\":\"white\",\"lakecolor\":\"white\",\"landcolor\":\"#E5ECF6\",\"showlakes\":true,\"showland\":true,\"subunitcolor\":\"white\"},\"hoverlabel\":{\"align\":\"left\"},\"hovermode\":\"closest\",\"mapbox\":{\"style\":\"light\"},\"paper_bgcolor\":\"white\",\"plot_bgcolor\":\"#E5ECF6\",\"polar\":{\"angularaxis\":{\"gridcolor\":\"white\",\"linecolor\":\"white\",\"ticks\":\"\"},\"bgcolor\":\"#E5ECF6\",\"radialaxis\":{\"gridcolor\":\"white\",\"linecolor\":\"white\",\"ticks\":\"\"}},\"scene\":{\"xaxis\":{\"backgroundcolor\":\"#E5ECF6\",\"gridcolor\":\"white\",\"gridwidth\":2,\"linecolor\":\"white\",\"showbackground\":true,\"ticks\":\"\",\"zerolinecolor\":\"white\"},\"yaxis\":{\"backgroundcolor\":\"#E5ECF6\",\"gridcolor\":\"white\",\"gridwidth\":2,\"linecolor\":\"white\",\"showbackground\":true,\"ticks\":\"\",\"zerolinecolor\":\"white\"},\"zaxis\":{\"backgroundcolor\":\"#E5ECF6\",\"gridcolor\":\"white\",\"gridwidth\":2,\"linecolor\":\"white\",\"showbackground\":true,\"ticks\":\"\",\"zerolinecolor\":\"white\"}},\"shapedefaults\":{\"line\":{\"color\":\"#2a3f5f\"}},\"ternary\":{\"aaxis\":{\"gridcolor\":\"white\",\"linecolor\":\"white\",\"ticks\":\"\"},\"baxis\":{\"gridcolor\":\"white\",\"linecolor\":\"white\",\"ticks\":\"\"},\"bgcolor\":\"#E5ECF6\",\"caxis\":{\"gridcolor\":\"white\",\"linecolor\":\"white\",\"ticks\":\"\"}},\"title\":{\"x\":0.05},\"xaxis\":{\"automargin\":true,\"gridcolor\":\"white\",\"linecolor\":\"white\",\"ticks\":\"\",\"title\":{\"standoff\":15},\"zerolinecolor\":\"white\",\"zerolinewidth\":2},\"yaxis\":{\"automargin\":true,\"gridcolor\":\"white\",\"linecolor\":\"white\",\"ticks\":\"\",\"title\":{\"standoff\":15},\"zerolinecolor\":\"white\",\"zerolinewidth\":2}}},\"xaxis\":{\"anchor\":\"y\",\"domain\":[0.0,1.0],\"title\":{\"text\":\"presi\\u00f3n arterial diast\\u00f3lica\"}},\"yaxis\":{\"anchor\":\"x\",\"domain\":[0.0,1.0],\"title\":{\"text\":\"Frecuencia\"}},\"legend\":{\"tracegroupgap\":0},\"title\":{\"text\":\"presi\\u00f3n arterial diast\\u00f3lica\",\"x\":0.5},\"barmode\":\"relative\"},                        {\"responsive\": true}                    ).then(function(){\n",
              "                            \n",
              "var gd = document.getElementById('294604e8-5cf8-4bd7-a960-9593977adc21');\n",
              "var x = new MutationObserver(function (mutations, observer) {{\n",
              "        var display = window.getComputedStyle(gd).display;\n",
              "        if (!display || display === 'none') {{\n",
              "            console.log([gd, 'removed!']);\n",
              "            Plotly.purge(gd);\n",
              "            observer.disconnect();\n",
              "        }}\n",
              "}});\n",
              "\n",
              "// Listen for the removal of the full notebook cells\n",
              "var notebookContainer = gd.closest('#notebook-container');\n",
              "if (notebookContainer) {{\n",
              "    x.observe(notebookContainer, {childList: true});\n",
              "}}\n",
              "\n",
              "// Listen for the clearing of the current output cell\n",
              "var outputEl = gd.closest('.output');\n",
              "if (outputEl) {{\n",
              "    x.observe(outputEl, {childList: true});\n",
              "}}\n",
              "\n",
              "                        })                };                            </script>        </div>\n",
              "</body>\n",
              "</html>"
            ]
          },
          "metadata": {}
        }
      ]
    },
    {
      "cell_type": "code",
      "source": [
        "G3= union_all_factorized_features.groupby(['auto-calificacion nivel de ejercicio'], sort=True)[['numero_de_hospitalizaciones']].count().reset_index()\n",
        "G3_3= G3.rename(columns={'numero_de_hospitalizaciones':'Frecuencia'})"
      ],
      "metadata": {
        "id": "rLQlqHTdeak-"
      },
      "execution_count": null,
      "outputs": []
    },
    {
      "cell_type": "code",
      "source": [
        "#Gráfico\n",
        "fig  =  px . bar ( G3_3,  x = 'auto-calificacion nivel de ejercicio' ,  y = 'Frecuencia', title='Autocalificación de nivel de ejercicio de las personas hospitalizadas') \n",
        "fig.update_layout(\n",
        "    title_x = 0.5)\n",
        "fig . show ()"
      ],
      "metadata": {
        "colab": {
          "base_uri": "https://localhost:8080/",
          "height": 542
        },
        "id": "PcczU9sqfBJd",
        "outputId": "fe8ed0a8-65e5-4ffd-aef6-e19b776468a3"
      },
      "execution_count": null,
      "outputs": [
        {
          "output_type": "display_data",
          "data": {
            "text/html": [
              "<html>\n",
              "<head><meta charset=\"utf-8\" /></head>\n",
              "<body>\n",
              "    <div>            <script src=\"https://cdnjs.cloudflare.com/ajax/libs/mathjax/2.7.5/MathJax.js?config=TeX-AMS-MML_SVG\"></script><script type=\"text/javascript\">if (window.MathJax) {MathJax.Hub.Config({SVG: {font: \"STIX-Web\"}});}</script>                <script type=\"text/javascript\">window.PlotlyConfig = {MathJaxConfig: 'local'};</script>\n",
              "        <script src=\"https://cdn.plot.ly/plotly-2.8.3.min.js\"></script>                <div id=\"3c11beb1-e5c3-45cb-aecc-22decd92a734\" class=\"plotly-graph-div\" style=\"height:525px; width:100%;\"></div>            <script type=\"text/javascript\">                                    window.PLOTLYENV=window.PLOTLYENV || {};                                    if (document.getElementById(\"3c11beb1-e5c3-45cb-aecc-22decd92a734\")) {                    Plotly.newPlot(                        \"3c11beb1-e5c3-45cb-aecc-22decd92a734\",                        [{\"alignmentgroup\":\"True\",\"hovertemplate\":\"auto-calificacion nivel de ejercicio=%{x}<br>Frecuencia=%{y}<extra></extra>\",\"legendgroup\":\"\",\"marker\":{\"color\":\"#636efa\",\"pattern\":{\"shape\":\"\"}},\"name\":\"\",\"offsetgroup\":\"\",\"orientation\":\"v\",\"showlegend\":false,\"textposition\":\"auto\",\"x\":[0,1,2,3,4,5],\"xaxis\":\"x\",\"y\":[2100,77760,479,725,632,725],\"yaxis\":\"y\",\"type\":\"bar\"}],                        {\"template\":{\"data\":{\"bar\":[{\"error_x\":{\"color\":\"#2a3f5f\"},\"error_y\":{\"color\":\"#2a3f5f\"},\"marker\":{\"line\":{\"color\":\"#E5ECF6\",\"width\":0.5},\"pattern\":{\"fillmode\":\"overlay\",\"size\":10,\"solidity\":0.2}},\"type\":\"bar\"}],\"barpolar\":[{\"marker\":{\"line\":{\"color\":\"#E5ECF6\",\"width\":0.5},\"pattern\":{\"fillmode\":\"overlay\",\"size\":10,\"solidity\":0.2}},\"type\":\"barpolar\"}],\"carpet\":[{\"aaxis\":{\"endlinecolor\":\"#2a3f5f\",\"gridcolor\":\"white\",\"linecolor\":\"white\",\"minorgridcolor\":\"white\",\"startlinecolor\":\"#2a3f5f\"},\"baxis\":{\"endlinecolor\":\"#2a3f5f\",\"gridcolor\":\"white\",\"linecolor\":\"white\",\"minorgridcolor\":\"white\",\"startlinecolor\":\"#2a3f5f\"},\"type\":\"carpet\"}],\"choropleth\":[{\"colorbar\":{\"outlinewidth\":0,\"ticks\":\"\"},\"type\":\"choropleth\"}],\"contour\":[{\"colorbar\":{\"outlinewidth\":0,\"ticks\":\"\"},\"colorscale\":[[0.0,\"#0d0887\"],[0.1111111111111111,\"#46039f\"],[0.2222222222222222,\"#7201a8\"],[0.3333333333333333,\"#9c179e\"],[0.4444444444444444,\"#bd3786\"],[0.5555555555555556,\"#d8576b\"],[0.6666666666666666,\"#ed7953\"],[0.7777777777777778,\"#fb9f3a\"],[0.8888888888888888,\"#fdca26\"],[1.0,\"#f0f921\"]],\"type\":\"contour\"}],\"contourcarpet\":[{\"colorbar\":{\"outlinewidth\":0,\"ticks\":\"\"},\"type\":\"contourcarpet\"}],\"heatmap\":[{\"colorbar\":{\"outlinewidth\":0,\"ticks\":\"\"},\"colorscale\":[[0.0,\"#0d0887\"],[0.1111111111111111,\"#46039f\"],[0.2222222222222222,\"#7201a8\"],[0.3333333333333333,\"#9c179e\"],[0.4444444444444444,\"#bd3786\"],[0.5555555555555556,\"#d8576b\"],[0.6666666666666666,\"#ed7953\"],[0.7777777777777778,\"#fb9f3a\"],[0.8888888888888888,\"#fdca26\"],[1.0,\"#f0f921\"]],\"type\":\"heatmap\"}],\"heatmapgl\":[{\"colorbar\":{\"outlinewidth\":0,\"ticks\":\"\"},\"colorscale\":[[0.0,\"#0d0887\"],[0.1111111111111111,\"#46039f\"],[0.2222222222222222,\"#7201a8\"],[0.3333333333333333,\"#9c179e\"],[0.4444444444444444,\"#bd3786\"],[0.5555555555555556,\"#d8576b\"],[0.6666666666666666,\"#ed7953\"],[0.7777777777777778,\"#fb9f3a\"],[0.8888888888888888,\"#fdca26\"],[1.0,\"#f0f921\"]],\"type\":\"heatmapgl\"}],\"histogram\":[{\"marker\":{\"pattern\":{\"fillmode\":\"overlay\",\"size\":10,\"solidity\":0.2}},\"type\":\"histogram\"}],\"histogram2d\":[{\"colorbar\":{\"outlinewidth\":0,\"ticks\":\"\"},\"colorscale\":[[0.0,\"#0d0887\"],[0.1111111111111111,\"#46039f\"],[0.2222222222222222,\"#7201a8\"],[0.3333333333333333,\"#9c179e\"],[0.4444444444444444,\"#bd3786\"],[0.5555555555555556,\"#d8576b\"],[0.6666666666666666,\"#ed7953\"],[0.7777777777777778,\"#fb9f3a\"],[0.8888888888888888,\"#fdca26\"],[1.0,\"#f0f921\"]],\"type\":\"histogram2d\"}],\"histogram2dcontour\":[{\"colorbar\":{\"outlinewidth\":0,\"ticks\":\"\"},\"colorscale\":[[0.0,\"#0d0887\"],[0.1111111111111111,\"#46039f\"],[0.2222222222222222,\"#7201a8\"],[0.3333333333333333,\"#9c179e\"],[0.4444444444444444,\"#bd3786\"],[0.5555555555555556,\"#d8576b\"],[0.6666666666666666,\"#ed7953\"],[0.7777777777777778,\"#fb9f3a\"],[0.8888888888888888,\"#fdca26\"],[1.0,\"#f0f921\"]],\"type\":\"histogram2dcontour\"}],\"mesh3d\":[{\"colorbar\":{\"outlinewidth\":0,\"ticks\":\"\"},\"type\":\"mesh3d\"}],\"parcoords\":[{\"line\":{\"colorbar\":{\"outlinewidth\":0,\"ticks\":\"\"}},\"type\":\"parcoords\"}],\"pie\":[{\"automargin\":true,\"type\":\"pie\"}],\"scatter\":[{\"marker\":{\"colorbar\":{\"outlinewidth\":0,\"ticks\":\"\"}},\"type\":\"scatter\"}],\"scatter3d\":[{\"line\":{\"colorbar\":{\"outlinewidth\":0,\"ticks\":\"\"}},\"marker\":{\"colorbar\":{\"outlinewidth\":0,\"ticks\":\"\"}},\"type\":\"scatter3d\"}],\"scattercarpet\":[{\"marker\":{\"colorbar\":{\"outlinewidth\":0,\"ticks\":\"\"}},\"type\":\"scattercarpet\"}],\"scattergeo\":[{\"marker\":{\"colorbar\":{\"outlinewidth\":0,\"ticks\":\"\"}},\"type\":\"scattergeo\"}],\"scattergl\":[{\"marker\":{\"colorbar\":{\"outlinewidth\":0,\"ticks\":\"\"}},\"type\":\"scattergl\"}],\"scattermapbox\":[{\"marker\":{\"colorbar\":{\"outlinewidth\":0,\"ticks\":\"\"}},\"type\":\"scattermapbox\"}],\"scatterpolar\":[{\"marker\":{\"colorbar\":{\"outlinewidth\":0,\"ticks\":\"\"}},\"type\":\"scatterpolar\"}],\"scatterpolargl\":[{\"marker\":{\"colorbar\":{\"outlinewidth\":0,\"ticks\":\"\"}},\"type\":\"scatterpolargl\"}],\"scatterternary\":[{\"marker\":{\"colorbar\":{\"outlinewidth\":0,\"ticks\":\"\"}},\"type\":\"scatterternary\"}],\"surface\":[{\"colorbar\":{\"outlinewidth\":0,\"ticks\":\"\"},\"colorscale\":[[0.0,\"#0d0887\"],[0.1111111111111111,\"#46039f\"],[0.2222222222222222,\"#7201a8\"],[0.3333333333333333,\"#9c179e\"],[0.4444444444444444,\"#bd3786\"],[0.5555555555555556,\"#d8576b\"],[0.6666666666666666,\"#ed7953\"],[0.7777777777777778,\"#fb9f3a\"],[0.8888888888888888,\"#fdca26\"],[1.0,\"#f0f921\"]],\"type\":\"surface\"}],\"table\":[{\"cells\":{\"fill\":{\"color\":\"#EBF0F8\"},\"line\":{\"color\":\"white\"}},\"header\":{\"fill\":{\"color\":\"#C8D4E3\"},\"line\":{\"color\":\"white\"}},\"type\":\"table\"}]},\"layout\":{\"annotationdefaults\":{\"arrowcolor\":\"#2a3f5f\",\"arrowhead\":0,\"arrowwidth\":1},\"autotypenumbers\":\"strict\",\"coloraxis\":{\"colorbar\":{\"outlinewidth\":0,\"ticks\":\"\"}},\"colorscale\":{\"diverging\":[[0,\"#8e0152\"],[0.1,\"#c51b7d\"],[0.2,\"#de77ae\"],[0.3,\"#f1b6da\"],[0.4,\"#fde0ef\"],[0.5,\"#f7f7f7\"],[0.6,\"#e6f5d0\"],[0.7,\"#b8e186\"],[0.8,\"#7fbc41\"],[0.9,\"#4d9221\"],[1,\"#276419\"]],\"sequential\":[[0.0,\"#0d0887\"],[0.1111111111111111,\"#46039f\"],[0.2222222222222222,\"#7201a8\"],[0.3333333333333333,\"#9c179e\"],[0.4444444444444444,\"#bd3786\"],[0.5555555555555556,\"#d8576b\"],[0.6666666666666666,\"#ed7953\"],[0.7777777777777778,\"#fb9f3a\"],[0.8888888888888888,\"#fdca26\"],[1.0,\"#f0f921\"]],\"sequentialminus\":[[0.0,\"#0d0887\"],[0.1111111111111111,\"#46039f\"],[0.2222222222222222,\"#7201a8\"],[0.3333333333333333,\"#9c179e\"],[0.4444444444444444,\"#bd3786\"],[0.5555555555555556,\"#d8576b\"],[0.6666666666666666,\"#ed7953\"],[0.7777777777777778,\"#fb9f3a\"],[0.8888888888888888,\"#fdca26\"],[1.0,\"#f0f921\"]]},\"colorway\":[\"#636efa\",\"#EF553B\",\"#00cc96\",\"#ab63fa\",\"#FFA15A\",\"#19d3f3\",\"#FF6692\",\"#B6E880\",\"#FF97FF\",\"#FECB52\"],\"font\":{\"color\":\"#2a3f5f\"},\"geo\":{\"bgcolor\":\"white\",\"lakecolor\":\"white\",\"landcolor\":\"#E5ECF6\",\"showlakes\":true,\"showland\":true,\"subunitcolor\":\"white\"},\"hoverlabel\":{\"align\":\"left\"},\"hovermode\":\"closest\",\"mapbox\":{\"style\":\"light\"},\"paper_bgcolor\":\"white\",\"plot_bgcolor\":\"#E5ECF6\",\"polar\":{\"angularaxis\":{\"gridcolor\":\"white\",\"linecolor\":\"white\",\"ticks\":\"\"},\"bgcolor\":\"#E5ECF6\",\"radialaxis\":{\"gridcolor\":\"white\",\"linecolor\":\"white\",\"ticks\":\"\"}},\"scene\":{\"xaxis\":{\"backgroundcolor\":\"#E5ECF6\",\"gridcolor\":\"white\",\"gridwidth\":2,\"linecolor\":\"white\",\"showbackground\":true,\"ticks\":\"\",\"zerolinecolor\":\"white\"},\"yaxis\":{\"backgroundcolor\":\"#E5ECF6\",\"gridcolor\":\"white\",\"gridwidth\":2,\"linecolor\":\"white\",\"showbackground\":true,\"ticks\":\"\",\"zerolinecolor\":\"white\"},\"zaxis\":{\"backgroundcolor\":\"#E5ECF6\",\"gridcolor\":\"white\",\"gridwidth\":2,\"linecolor\":\"white\",\"showbackground\":true,\"ticks\":\"\",\"zerolinecolor\":\"white\"}},\"shapedefaults\":{\"line\":{\"color\":\"#2a3f5f\"}},\"ternary\":{\"aaxis\":{\"gridcolor\":\"white\",\"linecolor\":\"white\",\"ticks\":\"\"},\"baxis\":{\"gridcolor\":\"white\",\"linecolor\":\"white\",\"ticks\":\"\"},\"bgcolor\":\"#E5ECF6\",\"caxis\":{\"gridcolor\":\"white\",\"linecolor\":\"white\",\"ticks\":\"\"}},\"title\":{\"x\":0.05},\"xaxis\":{\"automargin\":true,\"gridcolor\":\"white\",\"linecolor\":\"white\",\"ticks\":\"\",\"title\":{\"standoff\":15},\"zerolinecolor\":\"white\",\"zerolinewidth\":2},\"yaxis\":{\"automargin\":true,\"gridcolor\":\"white\",\"linecolor\":\"white\",\"ticks\":\"\",\"title\":{\"standoff\":15},\"zerolinecolor\":\"white\",\"zerolinewidth\":2}}},\"xaxis\":{\"anchor\":\"y\",\"domain\":[0.0,1.0],\"title\":{\"text\":\"auto-calificacion nivel de ejercicio\"}},\"yaxis\":{\"anchor\":\"x\",\"domain\":[0.0,1.0],\"title\":{\"text\":\"Frecuencia\"}},\"legend\":{\"tracegroupgap\":0},\"title\":{\"text\":\"Autocalificaci\\u00f3n de nivel de ejercicio de las personas hospitalizadas\",\"x\":0.5},\"barmode\":\"relative\"},                        {\"responsive\": true}                    ).then(function(){\n",
              "                            \n",
              "var gd = document.getElementById('3c11beb1-e5c3-45cb-aecc-22decd92a734');\n",
              "var x = new MutationObserver(function (mutations, observer) {{\n",
              "        var display = window.getComputedStyle(gd).display;\n",
              "        if (!display || display === 'none') {{\n",
              "            console.log([gd, 'removed!']);\n",
              "            Plotly.purge(gd);\n",
              "            observer.disconnect();\n",
              "        }}\n",
              "}});\n",
              "\n",
              "// Listen for the removal of the full notebook cells\n",
              "var notebookContainer = gd.closest('#notebook-container');\n",
              "if (notebookContainer) {{\n",
              "    x.observe(notebookContainer, {childList: true});\n",
              "}}\n",
              "\n",
              "// Listen for the clearing of the current output cell\n",
              "var outputEl = gd.closest('.output');\n",
              "if (outputEl) {{\n",
              "    x.observe(outputEl, {childList: true});\n",
              "}}\n",
              "\n",
              "                        })                };                            </script>        </div>\n",
              "</body>\n",
              "</html>"
            ]
          },
          "metadata": {}
        }
      ]
    },
    {
      "cell_type": "markdown",
      "source": [
        "SELECCIÓN DE FEATURES"
      ],
      "metadata": {
        "id": "3N1_PRWRAV7i"
      }
    },
    {
      "cell_type": "code",
      "source": [
        "union_all.nunique()"
      ],
      "metadata": {
        "colab": {
          "base_uri": "https://localhost:8080/"
        },
        "id": "njVa862v7VMR",
        "outputId": "c1664f20-7ec7-487f-8a4e-21d3f19ef952"
      },
      "execution_count": null,
      "outputs": [
        {
          "output_type": "execute_result",
          "data": {
            "text/plain": [
              "nrodoc                                       5480\n",
              "sexo                                            2\n",
              "edad                                           89\n",
              "ciclo_vital                                     3\n",
              "numero_de_hospitalizaciones                     9\n",
              "eps validada                                    5\n",
              "servicio admite                                 8\n",
              "tipo egreso                                     5\n",
              "dx relacionado3                               287\n",
              "causa basica muerte                            71\n",
              "profesional especialidad grd                   29\n",
              "year                                            3\n",
              "mes                                            13\n",
              "peso                                          231\n",
              "talla                                          66\n",
              "clasificación imc                               5\n",
              "sumatoria pliegues                            148\n",
              "presión arterial sistólica                    136\n",
              "presión arterial diastólica                    85\n",
              "frecuencia cardíaca en reposo                  89\n",
              "auto-calificacion nivel de ejercicio            6\n",
              "mets -índice metabólico                      4796\n",
              "vo2 - máxima cantidad de oxígeno             4836\n",
              "calificación (índice de fragilidad)             3\n",
              "calificación (apoyo monopodal)                  4\n",
              "calificación velocidad                          5\n",
              "diabetes mellitus                               3\n",
              "glicemia                                      314\n",
              "hemoglobina glicada                           669\n",
              "control diabetes                                5\n",
              "tiene hta                                       3\n",
              "control hta                                     4\n",
              "tiene epoc                                      5\n",
              "enfermedad coronaria (en el último año)         6\n",
              "insuficiencia cardíaca                          7\n",
              "valvulopatía                                    3\n",
              "arritmia o paciente con dispositivo             3\n",
              "sufre de alguna enfermedad cardiovascular       3\n",
              "tabaquismo                                      4\n",
              "años de consumo                                73\n",
              "lipoproteina                                 1328\n",
              "hdl                                          1666\n",
              "colesterol total                             2209\n",
              "trigliceridos                                2673\n",
              "clasificación de framinghan                     3\n",
              "creatinina 1 consulta                         336\n",
              "microalbuminuria                             1245\n",
              "hormona estimulante de la tiroides (tsh)      932\n",
              "clase funcional                                 6\n",
              "tasa de filtración glomerular tfg2           2689\n",
              "remisión                                        5\n",
              "diagnóstico principal                         305\n",
              "tiene próximo control                           3\n",
              "requiere cita de morbilidad                     3\n",
              "ambito según el médico                          3\n",
              "dtype: int64"
            ]
          },
          "metadata": {},
          "execution_count": 306
        }
      ]
    },
    {
      "cell_type": "code",
      "source": [
        "import sklearn.feature_selection as sf\n",
        "\n",
        "#y = list(union_all_factorized_features['numero_de_hospitalizaciones'].values)\n",
        "#x = list(union_all_factorized_features.drop(['numero_de_hospitalizaciones'],axis=1).values)\n",
        "union_all.drop(['diagnóstico principal','dx relacionado3','causa basica muerte','profesional especialidad grd','mes'], axis=1, inplace = True)\n",
        "union_all_pd = pd.get_dummies(union_all, columns=union_all_string_columns, drop_first = True)\n",
        "x = union_all_pd.drop(['nrodoc','numero_de_hospitalizaciones'], axis=1)\n",
        "y = union_all_pd['numero_de_hospitalizaciones'].astype('int')"
      ],
      "metadata": {
        "id": "V5LtJP_o0iDe"
      },
      "execution_count": null,
      "outputs": []
    },
    {
      "cell_type": "code",
      "source": [
        "union_all.columns"
      ],
      "metadata": {
        "colab": {
          "base_uri": "https://localhost:8080/"
        },
        "id": "8NKUtkIT7giP",
        "outputId": "eb2a5482-c93d-4c67-a2ba-492f9cf2293d"
      },
      "execution_count": null,
      "outputs": [
        {
          "output_type": "execute_result",
          "data": {
            "text/plain": [
              "Index(['nrodoc', 'sexo', 'edad', 'ciclo_vital', 'numero_de_hospitalizaciones',\n",
              "       'eps validada', 'servicio admite', 'tipo egreso', 'year', 'peso',\n",
              "       'talla', 'clasificación imc', 'sumatoria pliegues',\n",
              "       'presión arterial sistólica', 'presión arterial diastólica',\n",
              "       'frecuencia cardíaca en reposo', 'auto-calificacion nivel de ejercicio',\n",
              "       'mets -índice metabólico', 'vo2 - máxima cantidad de oxígeno',\n",
              "       'calificación (índice de fragilidad)', 'calificación (apoyo monopodal)',\n",
              "       'calificación velocidad', 'diabetes mellitus', 'glicemia',\n",
              "       'hemoglobina glicada', 'control diabetes', 'tiene hta', 'control hta',\n",
              "       'tiene epoc', 'enfermedad coronaria (en el último año)',\n",
              "       'insuficiencia cardíaca', 'valvulopatía',\n",
              "       'arritmia o paciente con dispositivo',\n",
              "       'sufre de alguna enfermedad cardiovascular', 'tabaquismo',\n",
              "       'años de consumo', 'lipoproteina', 'hdl', 'colesterol total',\n",
              "       'trigliceridos', 'clasificación de framinghan', 'creatinina 1 consulta',\n",
              "       'microalbuminuria', 'hormona estimulante de la tiroides (tsh)',\n",
              "       'clase funcional', 'tasa de filtración glomerular tfg2', 'remisión',\n",
              "       'tiene próximo control', 'requiere cita de morbilidad',\n",
              "       'ambito según el médico'],\n",
              "      dtype='object')"
            ]
          },
          "metadata": {},
          "execution_count": 308
        }
      ]
    },
    {
      "cell_type": "markdown",
      "source": [
        "**Evaluacion del desempeño**"
      ],
      "metadata": {
        "id": "6jd0mCwYNqaQ"
      }
    },
    {
      "cell_type": "code",
      "source": [
        "#Separar conjuntos de entrenamiento y prueba\n",
        "import sklearn.model_selection as skm\n",
        "p= 0.33\n",
        "semilla = 6"
      ],
      "metadata": {
        "id": "lVA39vHaNziX"
      },
      "execution_count": null,
      "outputs": []
    },
    {
      "cell_type": "code",
      "source": [
        "#Kfold validation\n",
        "model2 = sl.LinearRegression()\n",
        "kfold = skm.KFold(n_splits=10, random_state=7, shuffle=True)\n",
        "test= skm.cross_val_score(model2,x,y,cv=kfold)\n",
        "\n",
        "test.mean()\n"
      ],
      "metadata": {
        "id": "Md4tEBJNOYTC",
        "colab": {
          "base_uri": "https://localhost:8080/"
        },
        "outputId": "047a276d-9783-41b5-f2be-35477189d8a1"
      },
      "execution_count": null,
      "outputs": [
        {
          "output_type": "execute_result",
          "data": {
            "text/plain": [
              "0.700541564928278"
            ]
          },
          "metadata": {},
          "execution_count": 310
        }
      ]
    },
    {
      "cell_type": "markdown",
      "source": [
        "**Métricas de precisión**"
      ],
      "metadata": {
        "id": "OKwSogv7OeGH"
      }
    },
    {
      "cell_type": "code",
      "source": [
        "# Mean Absolute Error\n",
        "kfold = skm.KFold(n_splits=10, random_state=7, shuffle=True)\n",
        "score = 'neg_mean_absolute_error'\n",
        "model5 = sl.LinearRegression()\n",
        "resultado_mae = skm.cross_val_score(model5,x,y,cv=kfold,scoring=score)\n"
      ],
      "metadata": {
        "id": "ZThrZsFoOkAg"
      },
      "execution_count": null,
      "outputs": []
    },
    {
      "cell_type": "code",
      "source": [
        "# Mean Squared Error\n",
        "kfold = skm.KFold(n_splits=10, random_state=7, shuffle=True)\n",
        "score = 'neg_mean_squared_error'\n",
        "model6 = sl.LinearRegression()\n",
        "resultado_mse = skm.cross_val_score(model6,x,y,cv=kfold,scoring=score)\n"
      ],
      "metadata": {
        "id": "IYOfBsSSOoFH"
      },
      "execution_count": null,
      "outputs": []
    },
    {
      "cell_type": "code",
      "source": [
        "# R2\n",
        "kfold = skm.KFold(n_splits=10, random_state=7, shuffle=True)\n",
        "score = 'r2'\n",
        "model6 = sl.LinearRegression()\n",
        "resultado = skm.cross_val_score(model6,x,y,cv=kfold,scoring=score)\n",
        "print(\"R2: \",resultado.mean())\n",
        "print(\"MAE: \",resultado_mae.mean()*-1)\n",
        "print(\"MSE: \",resultado_mse.mean()*-1)"
      ],
      "metadata": {
        "id": "EO0DnBQyOsy7",
        "colab": {
          "base_uri": "https://localhost:8080/"
        },
        "outputId": "0d659e95-40d7-42a9-da43-3fc85197a5e4"
      },
      "execution_count": null,
      "outputs": [
        {
          "output_type": "stream",
          "name": "stdout",
          "text": [
            "R2:  0.700541564928278\n",
            "MAE:  0.15074114254270693\n",
            "MSE:  0.14373659667157074\n"
          ]
        }
      ]
    },
    {
      "cell_type": "markdown",
      "source": [
        "**Seleccion de modelos Lasso - Elastic Net - red neuronal**"
      ],
      "metadata": {
        "id": "wzMmN4ydQhkh"
      }
    },
    {
      "cell_type": "markdown",
      "source": [
        "Lasso"
      ],
      "metadata": {
        "id": "LFvMbRrZQpAk"
      }
    },
    {
      "cell_type": "code",
      "source": [
        "#Evaluacion de desempeño\n",
        "\n",
        "#Separar conjuntos de entrenamiento y prueba\n",
        "import sklearn.model_selection as skm\n",
        "p= 0.33\n",
        "semilla = 6\n",
        "\n",
        "Xentrena, Xprueba, Yentrena, Yprueba = skm.train_test_split(x,y,test_size=p, random_state=semilla)\n",
        "\n",
        "#Crear modelo\n",
        "model = sl.Lasso()\n",
        "\n",
        "#Entrenamiento de modelo\n",
        "model.fit(Xentrena, Yentrena)\n",
        "\n",
        "#Pruebas del modelo\n",
        "\n",
        "model.score(Xprueba, Yprueba)"
      ],
      "metadata": {
        "id": "cRKeq66UQx7H",
        "colab": {
          "base_uri": "https://localhost:8080/"
        },
        "outputId": "0eb7fc87-5d3c-45ef-92d5-24eb901d8d98"
      },
      "execution_count": null,
      "outputs": [
        {
          "output_type": "execute_result",
          "data": {
            "text/plain": [
              "0.010388693770769897"
            ]
          },
          "metadata": {},
          "execution_count": 314
        }
      ]
    },
    {
      "cell_type": "code",
      "source": [
        "#Kfold validation\n",
        "model2 = sl.Lasso()\n",
        "kfold = skm.KFold(n_splits=10, random_state=7, shuffle=True)\n",
        "test= skm.cross_val_score(model2,x,y,cv=kfold)"
      ],
      "metadata": {
        "id": "V42VX1UgRTtQ"
      },
      "execution_count": null,
      "outputs": []
    },
    {
      "cell_type": "code",
      "source": [
        "#Repeated Random Test-Train Splits\n",
        "kfold = skm.ShuffleSplit(n_splits=10, test_size=p, random_state=semilla)\n",
        "model4 = sl.Lasso()\n",
        "test = skm.cross_val_score(model4, x,y,cv=kfold)\n",
        "\n",
        "test.mean()"
      ],
      "metadata": {
        "id": "QzL1VEkcRX0N",
        "colab": {
          "base_uri": "https://localhost:8080/"
        },
        "outputId": "ca2a014d-1768-48d4-fcf5-e5501432f522"
      },
      "execution_count": null,
      "outputs": [
        {
          "output_type": "execute_result",
          "data": {
            "text/plain": [
              "0.011044804240067796"
            ]
          },
          "metadata": {},
          "execution_count": 316
        }
      ]
    },
    {
      "cell_type": "code",
      "source": [
        "#Metricas de precision\n",
        "\n",
        "# Mean Absolute Error\n",
        "kfold = skm.KFold(n_splits=10, random_state=7, shuffle=True)\n",
        "score = 'neg_mean_absolute_error'\n",
        "model5 = sl.Lasso()\n",
        "resultado = skm.cross_val_score(model5,x,y,cv=kfold,scoring=score)\n",
        "print(\"MAE: \",resultado.mean()*-1)\n",
        "\n",
        "# Mean Squared Error\n",
        "kfold = skm.KFold(n_splits=10, random_state=7, shuffle=True)\n",
        "score = 'neg_mean_squared_error'\n",
        "model6 = sl.Lasso()\n",
        "resultado = skm.cross_val_score(model6,x,y,cv=kfold,scoring=score)\n",
        "print(\"MSE: \",resultado.mean()*-1)\n",
        "\n",
        "# R2\n",
        "kfold = skm.KFold(n_splits=10, random_state=7, shuffle=True)\n",
        "score = 'r2'\n",
        "model6 = sl.Lasso()\n",
        "resultado = skm.cross_val_score(model6,x,y,cv=kfold,scoring=score)\n",
        "print(\"R2: \",resultado.mean()*100)"
      ],
      "metadata": {
        "id": "o383qxb3RbKs",
        "colab": {
          "base_uri": "https://localhost:8080/"
        },
        "outputId": "fe21d3ee-bd94-45a7-a972-6794de1f88a3"
      },
      "execution_count": null,
      "outputs": [
        {
          "output_type": "stream",
          "name": "stdout",
          "text": [
            "MAE:  0.4537523443485788\n",
            "MSE:  0.47413119565286943\n",
            "R2:  1.1017818231962795\n"
          ]
        }
      ]
    },
    {
      "cell_type": "markdown",
      "source": [
        "**ElasticNet**"
      ],
      "metadata": {
        "id": "zna3T-p6Rk6o"
      }
    },
    {
      "cell_type": "code",
      "source": [
        "#Separar conjuntos de entrenamiento y prueba\n",
        "import sklearn.model_selection as skm\n",
        "p= 0.33\n",
        "semilla = 6\n",
        "\n",
        "Xentrena, Xprueba, Yentrena, Yprueba = skm.train_test_split(x,y,test_size=p, random_state=semilla)\n",
        "\n",
        "#Crear modelo\n",
        "model = sl.ElasticNet()\n",
        "\n",
        "#Entrenamiento de modelo\n",
        "model.fit(Xentrena, Yentrena)\n",
        "\n",
        "#Pruebas del modelo\n",
        "\n",
        "model.score(Xprueba, Yprueba)"
      ],
      "metadata": {
        "id": "b4N0e0NLRu2j",
        "colab": {
          "base_uri": "https://localhost:8080/"
        },
        "outputId": "afa17f92-680a-48ad-cd6f-b7f4628ccce0"
      },
      "execution_count": null,
      "outputs": [
        {
          "output_type": "execute_result",
          "data": {
            "text/plain": [
              "0.01255935256038443"
            ]
          },
          "metadata": {},
          "execution_count": 318
        }
      ]
    },
    {
      "cell_type": "code",
      "source": [
        "#Kfold validation\n",
        "model2 = sl.ElasticNet()\n",
        "kfold = skm.KFold(n_splits=10, random_state=7, shuffle=True)\n",
        "test= skm.cross_val_score(model2,x,y,cv=kfold)\n",
        "\n",
        "test.mean()"
      ],
      "metadata": {
        "id": "9mw20MlRR3Bt",
        "colab": {
          "base_uri": "https://localhost:8080/"
        },
        "outputId": "7882af21-d582-4969-ce42-23684d74d639"
      },
      "execution_count": null,
      "outputs": [
        {
          "output_type": "execute_result",
          "data": {
            "text/plain": [
              "0.013800643263666302"
            ]
          },
          "metadata": {},
          "execution_count": 319
        }
      ]
    },
    {
      "cell_type": "code",
      "source": [
        "#Repeated Random Test-Train Splits\n",
        "kfold = skm.ShuffleSplit(n_splits=10, test_size=p, random_state=semilla)\n",
        "model4 = sl.ElasticNet()\n",
        "test = skm.cross_val_score(model4, x,y,cv=kfold)\n",
        "\n",
        "test.mean()"
      ],
      "metadata": {
        "id": "LST6VW4FR8Nt",
        "colab": {
          "base_uri": "https://localhost:8080/"
        },
        "outputId": "88411837-7df4-4058-dd20-3b8ebe491936"
      },
      "execution_count": null,
      "outputs": [
        {
          "output_type": "execute_result",
          "data": {
            "text/plain": [
              "0.013947067984460538"
            ]
          },
          "metadata": {},
          "execution_count": 320
        }
      ]
    },
    {
      "cell_type": "code",
      "source": [
        "#Metricas de precision\n",
        "\n",
        "# Mean Absolute Error\n",
        "kfold = skm.KFold(n_splits=10, random_state=7, shuffle=True)\n",
        "score = 'neg_mean_absolute_error'\n",
        "model5 = sl.ElasticNet()\n",
        "resultado = skm.cross_val_score(model5,x,y,cv=kfold,scoring=score)\n",
        "print(\"MAE: \",resultado.mean()*-1)\n",
        "\n",
        "# Mean Squared Error\n",
        "kfold = skm.KFold(n_splits=10, random_state=7, shuffle=True)\n",
        "score = 'neg_mean_squared_error'\n",
        "model6 = sl.ElasticNet()\n",
        "resultado = skm.cross_val_score(model6,x,y,cv=kfold,scoring=score)\n",
        "print(\"MSE: \",resultado.mean()*-1)\n",
        "\n",
        "# R2\n",
        "kfold = skm.KFold(n_splits=10, random_state=7, shuffle=True)\n",
        "score = 'r2'\n",
        "model6 = sl.ElasticNet()\n",
        "resultado = skm.cross_val_score(model6,x,y,cv=kfold,scoring=score)\n",
        "print(\"R2: \",resultado.mean()*100)"
      ],
      "metadata": {
        "id": "t4dgcdciR-4P",
        "colab": {
          "base_uri": "https://localhost:8080/"
        },
        "outputId": "68160b3a-a52a-4627-eaa9-54c54166d6c1"
      },
      "execution_count": null,
      "outputs": [
        {
          "output_type": "stream",
          "name": "stdout",
          "text": [
            "MAE:  0.4520063043168186\n",
            "MSE:  0.47279489729522306\n",
            "R2:  1.3800643263666301\n"
          ]
        }
      ]
    },
    {
      "cell_type": "markdown",
      "source": [
        "Red Neuroanl"
      ],
      "metadata": {
        "id": "5oWPGyYKSfkK"
      }
    },
    {
      "cell_type": "code",
      "source": [
        "#Separar conjuntos de entrenamiento y prueba\n",
        "\n",
        "#Separar conjuntos de entrenamiento y prueba\n",
        "import sklearn.model_selection as skm\n",
        "p= 0.33\n",
        "semilla = 6\n",
        "\n",
        "Xentrena, Xprueba, Yentrena, Yprueba = skm.train_test_split(x,y,test_size=p, random_state=semilla)\n",
        "\n",
        "#Crear modelo\n",
        "\n",
        "model = MLPRegressor(activation=\"logistic\", solver='sgd', random_state=1, max_iter=500)\n",
        "\n",
        "#Entrenamiento de modelo\n",
        "model.fit(Xentrena, Yentrena)\n",
        "\n",
        "#Pruebas del modelo\n",
        "\n",
        "model.score(Xprueba, Yprueba)\n"
      ],
      "metadata": {
        "id": "bdQkFWyqSliS",
        "colab": {
          "base_uri": "https://localhost:8080/"
        },
        "outputId": "d7bbb512-0a31-4537-fd91-eacbc7d83634"
      },
      "execution_count": null,
      "outputs": [
        {
          "output_type": "execute_result",
          "data": {
            "text/plain": [
              "0.0045983485772853605"
            ]
          },
          "metadata": {},
          "execution_count": 322
        }
      ]
    },
    {
      "cell_type": "code",
      "source": [
        "#Kfold validation\n",
        "model2 = MLPRegressor(activation=\"logistic\", solver='sgd', random_state=1, max_iter=2000)\n",
        "kfold = skm.KFold(n_splits=10, random_state=7, shuffle=True)\n",
        "test= skm.cross_val_score(model2,x,y,cv=kfold)\n"
      ],
      "metadata": {
        "id": "2CO3SwIOSqWL"
      },
      "execution_count": null,
      "outputs": []
    },
    {
      "cell_type": "code",
      "source": [
        "#Repeated Random Test-Train Splits\n",
        "kfold = skm.ShuffleSplit(n_splits=10, test_size=p, random_state=semilla)\n",
        "model4 = MLPRegressor(activation=\"logistic\", solver='sgd', random_state=1, max_iter=2000)\n",
        "test = skm.cross_val_score(model4, x,y,cv=kfold)\n",
        "\n",
        "test.mean()"
      ],
      "metadata": {
        "id": "9xzsahQeS5LQ",
        "colab": {
          "base_uri": "https://localhost:8080/"
        },
        "outputId": "96d51140-d457-418f-bd63-c2f57b36fd23"
      },
      "execution_count": null,
      "outputs": [
        {
          "output_type": "execute_result",
          "data": {
            "text/plain": [
              "0.004498096813585761"
            ]
          },
          "metadata": {},
          "execution_count": 323
        }
      ]
    },
    {
      "cell_type": "code",
      "source": [
        "#Metricas de precisión\n",
        "\n",
        "# Mean Absolute Error\n",
        "kfold = skm.KFold(n_splits=10, random_state=7, shuffle=True)\n",
        "score = 'neg_mean_absolute_error'\n",
        "model5 = MLPRegressor(activation=\"logistic\", solver='sgd', random_state=1, max_iter=2000)\n",
        "resultado = skm.cross_val_score(model5,x,y,cv=kfold,scoring=score)\n",
        "print(\"MAE: \",resultado.mean()*-1)\n",
        "\n",
        "# Mean Squared Error\n",
        "kfold = skm.KFold(n_splits=10, random_state=7, shuffle=True)\n",
        "score = 'neg_mean_squared_error'\n",
        "model6 = MLPRegressor(activation=\"logistic\", solver='sgd', random_state=1, max_iter=2000)\n",
        "resultado = skm.cross_val_score(model6,x,y,cv=kfold,scoring=score)\n",
        "print(\"MSE: \",resultado.mean()*-1)\n",
        "\n",
        "# R2\n",
        "kfold = skm.KFold(n_splits=10, random_state=7, shuffle=True)\n",
        "score = 'r2'\n",
        "model6 = MLPRegressor(activation=\"logistic\", solver='sgd', random_state=1, max_iter=2000)\n",
        "resultado = skm.cross_val_score(model6,x,y,cv=kfold,scoring=score)\n",
        "print(\"R2: \",resultado.mean()*100)"
      ],
      "metadata": {
        "id": "4GwIWE1iS8gP",
        "colab": {
          "base_uri": "https://localhost:8080/"
        },
        "outputId": "5566951a-e1aa-436c-a867-c18ec764463b"
      },
      "execution_count": null,
      "outputs": [
        {
          "output_type": "stream",
          "name": "stdout",
          "text": [
            "MAE:  0.4507791985079283\n",
            "MSE:  0.47601827515987594\n"
          ]
        }
      ]
    },
    {
      "cell_type": "code",
      "source": [
        "##LOGISTIC REGRESSION\n",
        "\n",
        "from sklearn.model_selection import train_test_split\n",
        "from sklearn.linear_model import LogisticRegression\n",
        "from sklearn.model_selection import cross_val_score\n",
        "from sklearn.metrics import accuracy_score, precision_score, recall_score\n",
        "\n",
        "\n",
        "X_train, X_test, y_train, y_test = train_test_split(x, y, test_size=0.20, random_state=0)\n",
        "logit = LogisticRegression(fit_intercept=True, penalty='l2')\n",
        "logit.fit(X_train, y_train)\n",
        "\n",
        "logit_pred = logit.predict(X_test)\n",
        "print(\"Accuracy is {0:.2f}\".format(accuracy_score(y_test, logit_pred)))\n",
        "print(\"Precision is {0:.2f}\".format(precision_score(y_test, logit_pred,average='weighted')))\n",
        "print(\"Recall is {0:.2f}\".format(recall_score(y_test, logit_pred,average='weighted')))"
      ],
      "metadata": {
        "id": "YwsnCqwa1Gmb"
      },
      "execution_count": null,
      "outputs": []
    }
  ]
}